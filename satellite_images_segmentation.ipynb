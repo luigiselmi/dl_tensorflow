{
  "cells": [
    {
      "cell_type": "markdown",
      "metadata": {
        "id": "view-in-github",
        "colab_type": "text"
      },
      "source": [
        "<a href=\"https://colab.research.google.com/github/luigiselmi/dl_tensorflow/blob/main/satellite_images_segmentation.ipynb\" target=\"_parent\"><img src=\"https://colab.research.google.com/assets/colab-badge.svg\" alt=\"Open In Colab\"/></a>"
      ]
    },
    {
      "cell_type": "markdown",
      "id": "93fbada2-6417-4fa8-9b85-93a393efd934",
      "metadata": {
        "id": "93fbada2-6417-4fa8-9b85-93a393efd934"
      },
      "source": [
        "# Satellite images segmentation"
      ]
    },
    {
      "cell_type": "code",
      "execution_count": 1,
      "id": "ea4ffe8d-6cad-487a-8e8b-ef502d6e5140",
      "metadata": {
        "colab": {
          "base_uri": "https://localhost:8080/"
        },
        "id": "ea4ffe8d-6cad-487a-8e8b-ef502d6e5140",
        "outputId": "5d411a0b-b918-4ca2-f7c3-b27f4c90f56b"
      },
      "outputs": [
        {
          "output_type": "stream",
          "name": "stdout",
          "text": [
            "NumPy version: 1.26.4\n",
            "Tensorflow version: 2.17.1\n",
            "Keras version. 3.5.0\n"
          ]
        }
      ],
      "source": [
        "import os\n",
        "from pathlib import Path\n",
        "import shutil\n",
        "import numpy as np\n",
        "import tensorflow as tf\n",
        "import matplotlib.pyplot as plt\n",
        "import keras\n",
        "from keras import layers\n",
        "from skimage import io\n",
        "from skimage import exposure\n",
        "from skimage.io import imsave, imread\n",
        "from sklearn.metrics import confusion_matrix\n",
        "from sklearn.metrics import ConfusionMatrixDisplay\n",
        "import time\n",
        "import warnings\n",
        "warnings.filterwarnings('ignore')\n",
        "print(\"NumPy version: %s\"%np.__version__)\n",
        "print('Tensorflow version: {:s}'.format(tf.__version__))\n",
        "print('Keras version. {}'.format(keras.__version__))"
      ]
    },
    {
      "cell_type": "code",
      "source": [
        "!wget 'https://seafile.projekt.uni-hannover.de/f/fc62f9c20a8c4a34aea1/?dl=1'\n",
        "#!unzip -q data.zip"
      ],
      "metadata": {
        "colab": {
          "base_uri": "https://localhost:8080/"
        },
        "id": "uk2bRLbNojXJ",
        "outputId": "b5df8b59-61b8-4db3-9f4d-5d38648c9919"
      },
      "id": "uk2bRLbNojXJ",
      "execution_count": 6,
      "outputs": [
        {
          "output_type": "stream",
          "name": "stdout",
          "text": [
            "--2024-12-16 13:28:35--  https://seafile.projekt.uni-hannover.de/f/fc62f9c20a8c4a34aea1/?dl=1\n",
            "Resolving seafile.projekt.uni-hannover.de (seafile.projekt.uni-hannover.de)... 130.75.6.229\n",
            "Connecting to seafile.projekt.uni-hannover.de (seafile.projekt.uni-hannover.de)|130.75.6.229|:443... connected.\n",
            "HTTP request sent, awaiting response... 200 OK\n",
            "Length: 9850 (9.6K) [text/html]\n",
            "Saving to: ‘index.html?dl=1.1’\n",
            "\n",
            "index.html?dl=1.1   100%[===================>]   9.62K  --.-KB/s    in 0s      \n",
            "\n",
            "2024-12-16 13:28:36 (193 MB/s) - ‘index.html?dl=1.1’ saved [9850/9850]\n",
            "\n"
          ]
        }
      ]
    },
    {
      "cell_type": "code",
      "source": [
        "!pip install boto3\n"
      ],
      "metadata": {
        "colab": {
          "base_uri": "https://localhost:8080/"
        },
        "id": "PBpkZtlypE94",
        "outputId": "9d8b299c-494b-416e-e340-1514690a437a"
      },
      "id": "PBpkZtlypE94",
      "execution_count": 8,
      "outputs": [
        {
          "output_type": "stream",
          "name": "stdout",
          "text": [
            "Collecting boto3\n",
            "  Downloading boto3-1.35.81-py3-none-any.whl.metadata (6.7 kB)\n",
            "Collecting botocore<1.36.0,>=1.35.81 (from boto3)\n",
            "  Downloading botocore-1.35.81-py3-none-any.whl.metadata (5.7 kB)\n",
            "Collecting jmespath<2.0.0,>=0.7.1 (from boto3)\n",
            "  Downloading jmespath-1.0.1-py3-none-any.whl.metadata (7.6 kB)\n",
            "Collecting s3transfer<0.11.0,>=0.10.0 (from boto3)\n",
            "  Downloading s3transfer-0.10.4-py3-none-any.whl.metadata (1.7 kB)\n",
            "Requirement already satisfied: python-dateutil<3.0.0,>=2.1 in /usr/local/lib/python3.10/dist-packages (from botocore<1.36.0,>=1.35.81->boto3) (2.8.2)\n",
            "Requirement already satisfied: urllib3!=2.2.0,<3,>=1.25.4 in /usr/local/lib/python3.10/dist-packages (from botocore<1.36.0,>=1.35.81->boto3) (2.2.3)\n",
            "Requirement already satisfied: six>=1.5 in /usr/local/lib/python3.10/dist-packages (from python-dateutil<3.0.0,>=2.1->botocore<1.36.0,>=1.35.81->boto3) (1.17.0)\n",
            "Downloading boto3-1.35.81-py3-none-any.whl (139 kB)\n",
            "\u001b[2K   \u001b[90m━━━━━━━━━━━━━━━━━━━━━━━━━━━━━━━━━━━━━━━━\u001b[0m \u001b[32m139.2/139.2 kB\u001b[0m \u001b[31m2.9 MB/s\u001b[0m eta \u001b[36m0:00:00\u001b[0m\n",
            "\u001b[?25hDownloading botocore-1.35.81-py3-none-any.whl (13.3 MB)\n",
            "\u001b[2K   \u001b[90m━━━━━━━━━━━━━━━━━━━━━━━━━━━━━━━━━━━━━━━━\u001b[0m \u001b[32m13.3/13.3 MB\u001b[0m \u001b[31m84.2 MB/s\u001b[0m eta \u001b[36m0:00:00\u001b[0m\n",
            "\u001b[?25hDownloading jmespath-1.0.1-py3-none-any.whl (20 kB)\n",
            "Downloading s3transfer-0.10.4-py3-none-any.whl (83 kB)\n",
            "\u001b[2K   \u001b[90m━━━━━━━━━━━━━━━━━━━━━━━━━━━━━━━━━━━━━━━━\u001b[0m \u001b[32m83.2/83.2 kB\u001b[0m \u001b[31m8.6 MB/s\u001b[0m eta \u001b[36m0:00:00\u001b[0m\n",
            "\u001b[?25hInstalling collected packages: jmespath, botocore, s3transfer, boto3\n",
            "Successfully installed boto3-1.35.81 botocore-1.35.81 jmespath-1.0.1 s3transfer-0.10.4\n"
          ]
        }
      ]
    },
    {
      "cell_type": "code",
      "source": [
        "!aws"
      ],
      "metadata": {
        "colab": {
          "base_uri": "https://localhost:8080/"
        },
        "id": "1f20AdD0smSZ",
        "outputId": "7432e8ce-399a-435d-b84d-b9362a1e7546"
      },
      "id": "1f20AdD0smSZ",
      "execution_count": 10,
      "outputs": [
        {
          "output_type": "stream",
          "name": "stdout",
          "text": [
            "/bin/bash: line 1: aws: command not found\n"
          ]
        }
      ]
    },
    {
      "cell_type": "code",
      "source": [
        "!wget http://gpcv.whu.edu.cn/data/WHU_Building_Dataset/whu_coco_1024/train.zip"
      ],
      "metadata": {
        "colab": {
          "base_uri": "https://localhost:8080/"
        },
        "id": "llF1kGYes7PR",
        "outputId": "65a194d7-0891-464e-c98f-f3780f832e7f"
      },
      "id": "llF1kGYes7PR",
      "execution_count": 11,
      "outputs": [
        {
          "output_type": "stream",
          "name": "stdout",
          "text": [
            "--2024-12-16 14:14:17--  http://gpcv.whu.edu.cn/data/WHU_Building_Dataset/whu_coco_1024/train.zip\n",
            "Resolving gpcv.whu.edu.cn (gpcv.whu.edu.cn)... 202.114.121.43\n",
            "Connecting to gpcv.whu.edu.cn (gpcv.whu.edu.cn)|202.114.121.43|:80... connected.\n",
            "HTTP request sent, awaiting response... 200 OK\n",
            "Length: 8249745683 (7.7G) [application/zip]\n",
            "Saving to: ‘train.zip’\n",
            "\n",
            "train.zip             2%[                    ] 190.44M   285KB/s    eta 7h 44m ^C\n"
          ]
        }
      ]
    },
    {
      "cell_type": "code",
      "source": [],
      "metadata": {
        "id": "FihDvY6G0dtS"
      },
      "id": "FihDvY6G0dtS",
      "execution_count": null,
      "outputs": []
    }
  ],
  "metadata": {
    "kernelspec": {
      "display_name": "Python 3 (ipykernel)",
      "language": "python",
      "name": "python3"
    },
    "language_info": {
      "codemirror_mode": {
        "name": "ipython",
        "version": 3
      },
      "file_extension": ".py",
      "mimetype": "text/x-python",
      "name": "python",
      "nbconvert_exporter": "python",
      "pygments_lexer": "ipython3",
      "version": "3.12.5"
    },
    "colab": {
      "provenance": [],
      "include_colab_link": true
    }
  },
  "nbformat": 4,
  "nbformat_minor": 5
}