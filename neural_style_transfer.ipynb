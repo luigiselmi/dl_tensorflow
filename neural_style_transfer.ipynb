{
 "cells": [
  {
   "cell_type": "markdown",
   "id": "dd5553b3-ed8e-46df-910c-3e749c3d2fb8",
   "metadata": {},
   "source": [
    "# Generative deep learning: neural style transfer"
   ]
  },
  {
   "cell_type": "code",
   "execution_count": null,
   "id": "75206894-9e0e-45f1-b256-e07e5dc12f14",
   "metadata": {},
   "outputs": [],
   "source": []
  }
 ],
 "metadata": {
  "kernelspec": {
   "display_name": "Python 3 (ipykernel)",
   "language": "python",
   "name": "python3"
  },
  "language_info": {
   "codemirror_mode": {
    "name": "ipython",
    "version": 3
   },
   "file_extension": ".py",
   "mimetype": "text/x-python",
   "name": "python",
   "nbconvert_exporter": "python",
   "pygments_lexer": "ipython3",
   "version": "3.12.5"
  }
 },
 "nbformat": 4,
 "nbformat_minor": 5
}
