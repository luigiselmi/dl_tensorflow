{
 "cells": [
  {
   "cell_type": "markdown",
   "id": "219186b1-4b2f-4448-9b5d-e8f8c5e01a3d",
   "metadata": {},
   "source": [
    "# Generative deep learning: generative adversial networks"
   ]
  },
  {
   "cell_type": "code",
   "execution_count": null,
   "id": "853aae37-9b88-4c85-b7d8-2c9783cc9ec8",
   "metadata": {},
   "outputs": [],
   "source": []
  }
 ],
 "metadata": {
  "kernelspec": {
   "display_name": "Python 3 (ipykernel)",
   "language": "python",
   "name": "python3"
  },
  "language_info": {
   "codemirror_mode": {
    "name": "ipython",
    "version": 3
   },
   "file_extension": ".py",
   "mimetype": "text/x-python",
   "name": "python",
   "nbconvert_exporter": "python",
   "pygments_lexer": "ipython3",
   "version": "3.12.5"
  }
 },
 "nbformat": 4,
 "nbformat_minor": 5
}
