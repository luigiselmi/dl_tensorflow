{
  "nbformat": 4,
  "nbformat_minor": 0,
  "metadata": {
    "colab": {
      "provenance": [],
      "authorship_tag": "ABX9TyOEixjsRs2bYsqYe2hvcZc4",
      "include_colab_link": true
    },
    "kernelspec": {
      "name": "python3",
      "display_name": "Python 3"
    },
    "language_info": {
      "name": "python"
    }
  },
  "cells": [
    {
      "cell_type": "markdown",
      "metadata": {
        "id": "view-in-github",
        "colab_type": "text"
      },
      "source": [
        "<a href=\"https://colab.research.google.com/github/luigiselmi/dl_tensorflow/blob/main/ml_fundamentals.ipynb\" target=\"_parent\"><img src=\"https://colab.research.google.com/assets/colab-badge.svg\" alt=\"Open In Colab\"/></a>"
      ]
    },
    {
      "cell_type": "markdown",
      "source": [
        "# Machine learning fundamentals\n",
        "One fundamental issue in machine learning is overfitting. One has to find the best trade-off between training a model, using the data available, that should also work well with unseen data. the trade-off is between optimization and generalization. The usual behavior while training a model is that the model improves, that is the validation error decreases, till a minimum after a certain number of epochs and after that the error starts to increase again. One source of overfitting is noisy training data, when in the training set there are examples that are outliers or that are mislabeled. We can see what happens when we add white noise images or black images to the MNIST dataset, a set of 60k 28x28 pixels images of digits from 0 to 9."
      ],
      "metadata": {
        "id": "WPO1J7lF7TJv"
      }
    },
    {
      "cell_type": "code",
      "source": [
        "from tensorflow import keras\n",
        "from tensorflow.keras import layers\n",
        "import numpy as np\n",
        "import matplotlib.pyplot as plt"
      ],
      "metadata": {
        "id": "RMESOJAWGTu4"
      },
      "execution_count": 12,
      "outputs": []
    },
    {
      "cell_type": "code",
      "execution_count": 9,
      "metadata": {
        "colab": {
          "base_uri": "https://localhost:8080/"
        },
        "id": "Hh8gWkcf7RoA",
        "outputId": "d95bf5e1-02b5-4a32-f8f7-114f38fe7bbd"
      },
      "outputs": [
        {
          "output_type": "execute_result",
          "data": {
            "text/plain": [
              "(60000, 28, 28)"
            ]
          },
          "metadata": {},
          "execution_count": 9
        }
      ],
      "source": [
        "from tensorflow.keras.datasets import mnist\n",
        "(train_images, train_labels), _ = mnist.load_data()\n",
        "train_images.shape"
      ]
    },
    {
      "cell_type": "markdown",
      "source": [
        "We reshape and normalize the MNIST data"
      ],
      "metadata": {
        "id": "nFlMbgHnEC1G"
      }
    },
    {
      "cell_type": "code",
      "source": [
        "train_images = train_images.reshape((60000, 28 * 28))\n",
        "train_images = train_images.astype(\"float32\") / 255\n",
        "train_images.shape"
      ],
      "metadata": {
        "colab": {
          "base_uri": "https://localhost:8080/"
        },
        "id": "4gPRiHN7DmIT",
        "outputId": "d7276b76-5357-44cf-929c-3a9af9202a32"
      },
      "execution_count": 2,
      "outputs": [
        {
          "output_type": "execute_result",
          "data": {
            "text/plain": [
              "(60000, 784)"
            ]
          },
          "metadata": {},
          "execution_count": 2
        }
      ]
    },
    {
      "cell_type": "markdown",
      "source": [
        "We create two new datasets by adding an equal number of white noise and black images to the MNIST dataset"
      ],
      "metadata": {
        "id": "8Zpc7nHREbT0"
      }
    },
    {
      "cell_type": "code",
      "source": [
        "train_images_with_noise_channels = np.concatenate([train_images, np.random.random((len(train_images), 784))], axis=1)\n",
        "train_images_with_zeros_channels = np.concatenate([train_images, np.zeros((len(train_images), 784))], axis=1)"
      ],
      "metadata": {
        "id": "9zRwgPrnDysq"
      },
      "execution_count": 3,
      "outputs": []
    },
    {
      "cell_type": "markdown",
      "source": [
        "We create a model of with single layer of 512 units and an output softmax layer to classify the images among 10 classes"
      ],
      "metadata": {
        "id": "jEhCJamyFGXK"
      }
    },
    {
      "cell_type": "code",
      "source": [
        "def get_model():\n",
        "    model = keras.Sequential([\n",
        "        layers.Dense(512, activation='relu'),\n",
        "        layers.Dense(10, activation='softmax')\n",
        "    ])\n",
        "    model.compile(optimizer='rmsprop', loss='sparse_categorical_crossentropy', metrics=['accuracy'])\n",
        "    return model"
      ],
      "metadata": {
        "id": "7xVIHzf1EpC2"
      },
      "execution_count": 6,
      "outputs": []
    },
    {
      "cell_type": "markdown",
      "source": [
        "Now we use the model to create two instances using the noisy and the black datasets"
      ],
      "metadata": {
        "id": "neosgusBGwEi"
      }
    },
    {
      "cell_type": "code",
      "source": [
        "model = get_model()\n",
        "history_noise = model.fit(train_images_with_noise_channels, train_labels, epochs=10, batch_size=128, validation_split=0.2)"
      ],
      "metadata": {
        "colab": {
          "base_uri": "https://localhost:8080/"
        },
        "id": "bMLHCtg0FFM1",
        "outputId": "de4f8350-e108-4c47-ccf1-7732ddf03b53"
      },
      "execution_count": 10,
      "outputs": [
        {
          "output_type": "stream",
          "name": "stdout",
          "text": [
            "Epoch 1/10\n",
            "375/375 [==============================] - 14s 36ms/step - loss: 0.6294 - accuracy: 0.8119 - val_loss: 0.2883 - val_accuracy: 0.9126\n",
            "Epoch 2/10\n",
            "375/375 [==============================] - 8s 22ms/step - loss: 0.2617 - accuracy: 0.9184 - val_loss: 0.2341 - val_accuracy: 0.9238\n",
            "Epoch 3/10\n",
            "375/375 [==============================] - 9s 23ms/step - loss: 0.1714 - accuracy: 0.9473 - val_loss: 0.1784 - val_accuracy: 0.9461\n",
            "Epoch 4/10\n",
            "375/375 [==============================] - 9s 25ms/step - loss: 0.1232 - accuracy: 0.9610 - val_loss: 0.1444 - val_accuracy: 0.9564\n",
            "Epoch 5/10\n",
            "375/375 [==============================] - 7s 20ms/step - loss: 0.0909 - accuracy: 0.9714 - val_loss: 0.1578 - val_accuracy: 0.9532\n",
            "Epoch 6/10\n",
            "375/375 [==============================] - 8s 22ms/step - loss: 0.0673 - accuracy: 0.9790 - val_loss: 0.1238 - val_accuracy: 0.9629\n",
            "Epoch 7/10\n",
            "375/375 [==============================] - 8s 21ms/step - loss: 0.0477 - accuracy: 0.9846 - val_loss: 0.1429 - val_accuracy: 0.9603\n",
            "Epoch 8/10\n",
            "375/375 [==============================] - 8s 20ms/step - loss: 0.0376 - accuracy: 0.9880 - val_loss: 0.1451 - val_accuracy: 0.9614\n",
            "Epoch 9/10\n",
            "375/375 [==============================] - 8s 23ms/step - loss: 0.0269 - accuracy: 0.9916 - val_loss: 0.1262 - val_accuracy: 0.9669\n",
            "Epoch 10/10\n",
            "375/375 [==============================] - 7s 18ms/step - loss: 0.0191 - accuracy: 0.9943 - val_loss: 0.1212 - val_accuracy: 0.9684\n"
          ]
        }
      ]
    },
    {
      "cell_type": "code",
      "source": [
        "model = get_model()\n",
        "history_zeros = model.fit(train_images_with_zeros_channels, train_labels, epochs=10, batch_size=128, validation_split=0.2)"
      ],
      "metadata": {
        "colab": {
          "base_uri": "https://localhost:8080/"
        },
        "id": "9yskwbJ5G-ae",
        "outputId": "0a8ef6b0-f3c7-4c50-a4e2-426500cac6af"
      },
      "execution_count": 11,
      "outputs": [
        {
          "output_type": "stream",
          "name": "stdout",
          "text": [
            "Epoch 1/10\n",
            "375/375 [==============================] - 9s 23ms/step - loss: 0.2995 - accuracy: 0.9140 - val_loss: 0.1482 - val_accuracy: 0.9578\n",
            "Epoch 2/10\n",
            "375/375 [==============================] - 7s 18ms/step - loss: 0.1260 - accuracy: 0.9627 - val_loss: 0.1096 - val_accuracy: 0.9670\n",
            "Epoch 3/10\n",
            "375/375 [==============================] - 9s 24ms/step - loss: 0.0833 - accuracy: 0.9753 - val_loss: 0.0943 - val_accuracy: 0.9722\n",
            "Epoch 4/10\n",
            "375/375 [==============================] - 7s 18ms/step - loss: 0.0605 - accuracy: 0.9819 - val_loss: 0.0860 - val_accuracy: 0.9743\n",
            "Epoch 5/10\n",
            "375/375 [==============================] - 8s 22ms/step - loss: 0.0451 - accuracy: 0.9865 - val_loss: 0.0840 - val_accuracy: 0.9761\n",
            "Epoch 6/10\n",
            "375/375 [==============================] - 12s 31ms/step - loss: 0.0352 - accuracy: 0.9899 - val_loss: 0.0784 - val_accuracy: 0.9772\n",
            "Epoch 7/10\n",
            "375/375 [==============================] - 9s 24ms/step - loss: 0.0262 - accuracy: 0.9924 - val_loss: 0.0742 - val_accuracy: 0.9786\n",
            "Epoch 8/10\n",
            "375/375 [==============================] - 13s 36ms/step - loss: 0.0195 - accuracy: 0.9945 - val_loss: 0.0810 - val_accuracy: 0.9772\n",
            "Epoch 9/10\n",
            "375/375 [==============================] - 9s 25ms/step - loss: 0.0149 - accuracy: 0.9964 - val_loss: 0.0769 - val_accuracy: 0.9792\n",
            "Epoch 10/10\n",
            "375/375 [==============================] - 7s 18ms/step - loss: 0.0103 - accuracy: 0.9978 - val_loss: 0.0739 - val_accuracy: 0.9803\n"
          ]
        }
      ]
    },
    {
      "cell_type": "markdown",
      "source": [
        "We plot the validation accuracy for the two datasets. We can see that adding noise to the training data reduces the accuracy of the model. Noisy data lead to overfitting because the model learns non informative or misleading information. One way to reduce the problem is feature selection, that is removing outliers or ambiguous information from the training data. When the data is noisy the model will end up memorizing the training data and reducing its ability to generalize with unseen data. In this situation the model is overfitting.    "
      ],
      "metadata": {
        "id": "9wpcRjhyJ7hB"
      }
    },
    {
      "cell_type": "code",
      "source": [
        "val_acc_noise = history_noise.history['val_accuracy']\n",
        "val_acc_zeros = history_zeros.history['val_accuracy']\n",
        "epochs = range(1, 11)\n",
        "plt.plot(epochs, val_acc_noise, 'b-', label='Validation accuracy with noise channels')\n",
        "plt.plot(epochs, val_acc_zeros, 'b--', label='Validation accuracy with zeros channels')\n",
        "plt.title('Effect of noise channels on validation accuracy')\n",
        "plt.xlabel('Epochs')\n",
        "plt.ylabel('Accuracy')\n",
        "plt.legend()"
      ],
      "metadata": {
        "colab": {
          "base_uri": "https://localhost:8080/",
          "height": 489
        },
        "id": "0WGf0k90IsMT",
        "outputId": "33ecabb6-0735-4864-a134-7120f737c867"
      },
      "execution_count": 13,
      "outputs": [
        {
          "output_type": "execute_result",
          "data": {
            "text/plain": [
              "<matplotlib.legend.Legend at 0x7d2a5fdf25f0>"
            ]
          },
          "metadata": {},
          "execution_count": 13
        },
        {
          "output_type": "display_data",
          "data": {
            "text/plain": [
              "<Figure size 640x480 with 1 Axes>"
            ],
            "image/png": "[encoded data removed]"
          },
          "metadata": {}
        }
      ]
    },
    {
      "cell_type": "code",
      "source": [],
      "metadata": {
        "id": "m6VUa2uPJ2tr"
      },
      "execution_count": null,
      "outputs": []
    }
  ]
}