{
  "nbformat": 4,
  "nbformat_minor": 0,
  "metadata": {
    "colab": {
      "provenance": [],
      "authorship_tag": "ABX9TyP5miJS/NqBOc0cJlV0PiWq",
      "include_colab_link": true
    },
    "kernelspec": {
      "name": "python3",
      "display_name": "Python 3"
    },
    "language_info": {
      "name": "python"
    }
  },
  "cells": [
    {
      "cell_type": "markdown",
      "metadata": {
        "id": "view-in-github",
        "colab_type": "text"
      },
      "source": [
        "<a href=\"https://colab.research.google.com/github/luigiselmi/dl_tensorflow/blob/main/ml_fundamentals.ipynb\" target=\"_parent\"><img src=\"https://colab.research.google.com/assets/colab-badge.svg\" alt=\"Open In Colab\"/></a>"
      ]
    },
    {
      "cell_type": "markdown",
      "source": [
        "# Machine learning fundamentals\n",
        "One fundamental issue in machine learning is overfitting. One has to find the best trade-off between training a model, using the data available, that should also work well with unseen data. the trade-off is between optimization and generalization. The usual behavior while training a model is that the model improves, that is the validation error decreases, till a minimum after a certain number of epochs and after that the error starts to increase again. One source of overfitting is noisy training data, when in the training set there are examples that are outliers or that are mislabeled. We can see what happens when we add white noise images or black images to the MNIST dataset, a set of 60k 28x28 pixels images of digits from 0 to 9."
      ],
      "metadata": {
        "id": "WPO1J7lF7TJv"
      }
    },
    {
      "cell_type": "code",
      "source": [
        "from tensorflow import keras\n",
        "from tensorflow.keras import layers\n",
        "import numpy as np\n",
        "import matplotlib.pyplot as plt"
      ],
      "metadata": {
        "id": "RMESOJAWGTu4"
      },
      "execution_count": 1,
      "outputs": []
    },
    {
      "cell_type": "code",
      "execution_count": 2,
      "metadata": {
        "colab": {
          "base_uri": "https://localhost:8080/"
        },
        "id": "Hh8gWkcf7RoA",
        "outputId": "bfa9e35d-31ff-48dc-c78d-2f402a183f2e"
      },
      "outputs": [
        {
          "output_type": "stream",
          "name": "stdout",
          "text": [
            "Downloading data from https://storage.googleapis.com/tensorflow/tf-keras-datasets/mnist.npz\n",
            "11490434/11490434 [==============================] - 0s 0us/step\n"
          ]
        },
        {
          "output_type": "execute_result",
          "data": {
            "text/plain": [
              "(60000, 28, 28)"
            ]
          },
          "metadata": {},
          "execution_count": 2
        }
      ],
      "source": [
        "from tensorflow.keras.datasets import mnist\n",
        "(train_images, train_labels), _ = mnist.load_data()\n",
        "train_images.shape"
      ]
    },
    {
      "cell_type": "markdown",
      "source": [
        "We reshape and normalize the MNIST data"
      ],
      "metadata": {
        "id": "nFlMbgHnEC1G"
      }
    },
    {
      "cell_type": "code",
      "source": [
        "train_images = train_images.reshape((60000, 28 * 28))\n",
        "train_images = train_images.astype(\"float32\") / 255\n",
        "train_images.shape"
      ],
      "metadata": {
        "colab": {
          "base_uri": "https://localhost:8080/"
        },
        "id": "4gPRiHN7DmIT",
        "outputId": "ec720748-93b8-4fda-d956-b28ce2a0609d"
      },
      "execution_count": 3,
      "outputs": [
        {
          "output_type": "execute_result",
          "data": {
            "text/plain": [
              "(60000, 784)"
            ]
          },
          "metadata": {},
          "execution_count": 3
        }
      ]
    },
    {
      "cell_type": "markdown",
      "source": [
        "We create two new datasets by adding an equal number of white noise and black images to the MNIST dataset"
      ],
      "metadata": {
        "id": "8Zpc7nHREbT0"
      }
    },
    {
      "cell_type": "code",
      "source": [
        "train_images_with_noise_channels = np.concatenate([train_images, np.random.random((len(train_images), 784))], axis=1)\n",
        "train_images_with_zeros_channels = np.concatenate([train_images, np.zeros((len(train_images), 784))], axis=1)"
      ],
      "metadata": {
        "id": "9zRwgPrnDysq"
      },
      "execution_count": 4,
      "outputs": []
    },
    {
      "cell_type": "markdown",
      "source": [
        "We create a model of with single layer of 512 units and an output softmax layer to classify the images among 10 classes"
      ],
      "metadata": {
        "id": "jEhCJamyFGXK"
      }
    },
    {
      "cell_type": "code",
      "source": [
        "def get_model():\n",
        "    model = keras.Sequential([\n",
        "        layers.Dense(512, activation='relu'),\n",
        "        layers.Dense(10, activation='softmax')\n",
        "    ])\n",
        "    model.compile(optimizer='rmsprop', loss='sparse_categorical_crossentropy', metrics=['accuracy'])\n",
        "    return model"
      ],
      "metadata": {
        "id": "7xVIHzf1EpC2"
      },
      "execution_count": 5,
      "outputs": []
    },
    {
      "cell_type": "markdown",
      "source": [
        "Now we use the model to create two instances using the noisy and the black datasets"
      ],
      "metadata": {
        "id": "neosgusBGwEi"
      }
    },
    {
      "cell_type": "code",
      "source": [
        "model = get_model()\n",
        "history_noise = model.fit(train_images_with_noise_channels, train_labels, epochs=10, batch_size=128, validation_split=0.2)"
      ],
      "metadata": {
        "colab": {
          "base_uri": "https://localhost:8080/"
        },
        "id": "bMLHCtg0FFM1",
        "outputId": "7e16745f-92c6-4e58-dae0-11f1775146e7"
      },
      "execution_count": 6,
      "outputs": [
        {
          "output_type": "stream",
          "name": "stdout",
          "text": [
            "Epoch 1/10\n",
            "375/375 [==============================] - 9s 23ms/step - loss: 0.6247 - accuracy: 0.8129 - val_loss: 0.2748 - val_accuracy: 0.9195\n",
            "Epoch 2/10\n",
            "375/375 [==============================] - 7s 18ms/step - loss: 0.2558 - accuracy: 0.9212 - val_loss: 0.2096 - val_accuracy: 0.9393\n",
            "Epoch 3/10\n",
            "375/375 [==============================] - 8s 21ms/step - loss: 0.1681 - accuracy: 0.9477 - val_loss: 0.1602 - val_accuracy: 0.9526\n",
            "Epoch 4/10\n",
            "375/375 [==============================] - 9s 23ms/step - loss: 0.1202 - accuracy: 0.9622 - val_loss: 0.1399 - val_accuracy: 0.9603\n",
            "Epoch 5/10\n",
            "375/375 [==============================] - 7s 18ms/step - loss: 0.0885 - accuracy: 0.9719 - val_loss: 0.1541 - val_accuracy: 0.9558\n",
            "Epoch 6/10\n",
            "375/375 [==============================] - 9s 23ms/step - loss: 0.0659 - accuracy: 0.9793 - val_loss: 0.1318 - val_accuracy: 0.9629\n",
            "Epoch 7/10\n",
            "375/375 [==============================] - 7s 18ms/step - loss: 0.0486 - accuracy: 0.9851 - val_loss: 0.1404 - val_accuracy: 0.9590\n",
            "Epoch 8/10\n",
            "375/375 [==============================] - 8s 21ms/step - loss: 0.0364 - accuracy: 0.9889 - val_loss: 0.1514 - val_accuracy: 0.9572\n",
            "Epoch 9/10\n",
            "375/375 [==============================] - 7s 18ms/step - loss: 0.0262 - accuracy: 0.9918 - val_loss: 0.1216 - val_accuracy: 0.9698\n",
            "Epoch 10/10\n",
            "375/375 [==============================] - 8s 21ms/step - loss: 0.0191 - accuracy: 0.9941 - val_loss: 0.1257 - val_accuracy: 0.9689\n"
          ]
        }
      ]
    },
    {
      "cell_type": "code",
      "source": [
        "model = get_model()\n",
        "history_zeros = model.fit(train_images_with_zeros_channels, train_labels, epochs=10, batch_size=128, validation_split=0.2)"
      ],
      "metadata": {
        "colab": {
          "base_uri": "https://localhost:8080/"
        },
        "id": "9yskwbJ5G-ae",
        "outputId": "6d434f76-4e69-4070-c13f-482485478f51"
      },
      "execution_count": 7,
      "outputs": [
        {
          "output_type": "stream",
          "name": "stdout",
          "text": [
            "Epoch 1/10\n",
            "375/375 [==============================] - 9s 22ms/step - loss: 0.2960 - accuracy: 0.9136 - val_loss: 0.1426 - val_accuracy: 0.9588\n",
            "Epoch 2/10\n",
            "375/375 [==============================] - 7s 18ms/step - loss: 0.1244 - accuracy: 0.9642 - val_loss: 0.1041 - val_accuracy: 0.9688\n",
            "Epoch 3/10\n",
            "375/375 [==============================] - 8s 21ms/step - loss: 0.0814 - accuracy: 0.9752 - val_loss: 0.0916 - val_accuracy: 0.9707\n",
            "Epoch 4/10\n",
            "375/375 [==============================] - 7s 18ms/step - loss: 0.0590 - accuracy: 0.9825 - val_loss: 0.0794 - val_accuracy: 0.9768\n",
            "Epoch 5/10\n",
            "375/375 [==============================] - 8s 21ms/step - loss: 0.0435 - accuracy: 0.9872 - val_loss: 0.0982 - val_accuracy: 0.9701\n",
            "Epoch 6/10\n",
            "375/375 [==============================] - 7s 18ms/step - loss: 0.0332 - accuracy: 0.9903 - val_loss: 0.0789 - val_accuracy: 0.9762\n",
            "Epoch 7/10\n",
            "375/375 [==============================] - 8s 21ms/step - loss: 0.0244 - accuracy: 0.9933 - val_loss: 0.0734 - val_accuracy: 0.9786\n",
            "Epoch 8/10\n",
            "375/375 [==============================] - 7s 17ms/step - loss: 0.0188 - accuracy: 0.9950 - val_loss: 0.0764 - val_accuracy: 0.9784\n",
            "Epoch 9/10\n",
            "375/375 [==============================] - 8s 21ms/step - loss: 0.0147 - accuracy: 0.9963 - val_loss: 0.0774 - val_accuracy: 0.9772\n",
            "Epoch 10/10\n",
            "375/375 [==============================] - 6s 17ms/step - loss: 0.0110 - accuracy: 0.9973 - val_loss: 0.0750 - val_accuracy: 0.9795\n"
          ]
        }
      ]
    },
    {
      "cell_type": "markdown",
      "source": [
        "We plot the validation accuracy for the two datasets. We can see that adding noise to the training data reduces the accuracy of the model. Noisy data lead to overfitting because the model learns non informative or misleading information. One way to reduce the problem is feature selection, that is removing outliers or ambiguous information from the training data. When the data is noisy the model will end up memorizing the training data and reducing its ability to generalize with unseen data. In this situation the model is overfitting.    "
      ],
      "metadata": {
        "id": "9wpcRjhyJ7hB"
      }
    },
    {
      "cell_type": "code",
      "source": [
        "val_acc_noise = history_noise.history['val_accuracy']\n",
        "val_acc_zeros = history_zeros.history['val_accuracy']\n",
        "epochs = range(1, 11)\n",
        "plt.plot(epochs, val_acc_noise, 'b-', label='Validation accuracy with noise channels')\n",
        "plt.plot(epochs, val_acc_zeros, 'b--', label='Validation accuracy with zeros channels')\n",
        "plt.title('Effect of noise channels on validation accuracy')\n",
        "plt.xlabel('Epochs')\n",
        "plt.ylabel('Accuracy')\n",
        "plt.legend()"
      ],
      "metadata": {
        "colab": {
          "base_uri": "https://localhost:8080/",
          "height": 489
        },
        "id": "0WGf0k90IsMT",
        "outputId": "ab9f0262-85d5-4225-804e-432c6b4a880f"
      },
      "execution_count": 8,
      "outputs": [
        {
          "output_type": "execute_result",
          "data": {
            "text/plain": [
              "<matplotlib.legend.Legend at 0x7fd5964b4a90>"
            ]
          },
          "metadata": {},
          "execution_count": 8
        },
        {
          "output_type": "display_data",
          "data": {
            "text/plain": [
              "<Figure size 640x480 with 1 Axes>"
            ],
            "image/png": "[encoded data removed]"
          },
          "metadata": {}
        }
      ]
    },
    {
      "cell_type": "markdown",
      "source": [
        "## The manifold hypothesis\n",
        "The hypothesis space from which we can sample the MNIST images, or in other words, the number of different such images that could be expected with each pixel represented in gray color with 8 bits, or $2^8 = 256$ values, and any value in that range of the 28x28=784 pixels independent from any other is ${2^8}^{784}$, or more simply $256^{784}$, a number bigger than the number of atoms in the universe. Since the real world is not completely random and there is always some correlation between neighboring pixels, the dimension of the hypothesis space is much smaller than that, and in the case of the problem at hand, the possible images representing digit numbers, is even smaller. The probability of a sample (or image in our case) can be computed by taking the derivative of the multidimensional hypothesis space in one point, we can think of it like a plane in a multidimensional space that is tangent to the hypothesis space. The derivative is called (differential) manifold, and the assumption is that in the real world that manifold can be represented by smooth functions.  \n",
        "\n",
        "## Model's performance evaluation\n",
        "A neural network model is a function that fits an unknown function that maps the input space to the output space. The quality of the fitting depends on the data points that have been used for the training: the more and closer they are in the sample space, the better is the fit between the model and the true but analytically unknown function. In order to assess the performance of a model we need to split our dataset into a training set and a test set so that we train the model with the training data set and we test its generalization performance on the test dataset. Since the evaluation is performed iteratively the most common way to train a model is to split the data into three subsets: a training data set, a validation dataset, to be used during the training iteration, and the test set. The test set should never be used more than once after the model has been trained and the validation error has been reduced to a minimum value. This technique is called **hold-out validation**. When the size of the dataset is small a better approach is to use [k-fold validation](regression.ipynb#K-fold validation)  "
      ],
      "metadata": {
        "id": "vL30cttVU-Bb"
      }
    },
    {
      "cell_type": "code",
      "source": [],
      "metadata": {
        "id": "hly12gOMLeiN"
      },
      "execution_count": null,
      "outputs": []
    }
  ]
}