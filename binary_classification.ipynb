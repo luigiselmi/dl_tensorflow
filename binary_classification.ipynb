{
  "nbformat": 4,
  "nbformat_minor": 0,
  "metadata": {
    "colab": {
      "provenance": [],
      "authorship_tag": "ABX9TyPWhfR6SX/J2XsM4KFxuJuM",
      "include_colab_link": true
    },
    "kernelspec": {
      "name": "python3",
      "display_name": "Python 3"
    },
    "language_info": {
      "name": "python"
    }
  },
  "cells": [
    {
      "cell_type": "markdown",
      "metadata": {
        "id": "view-in-github",
        "colab_type": "text"
      },
      "source": [
        "<a href=\"https://colab.research.google.com/github/luigiselmi/dl_tensorflow/blob/main/binary_classification.ipynb\" target=\"_parent\"><img src=\"https://colab.research.google.com/assets/colab-badge.svg\" alt=\"Open In Colab\"/></a>"
      ]
    },
    {
      "cell_type": "markdown",
      "source": [
        "# Binary classification\n",
        "Classification, that is deciding the class membership of a datapoint depending on its attributes, is one of the main application of neural networks. As an example we will build a binary classifier to determine the type of review of movies based on the content: positive or negative. For this exercise we'll use the [IMDB dataset](https://ai.stanford.edu/~amaas/data/sentiment/), a set of 50k reviews divided in 25k for training and 25k for validation. Each dataset, train and validation, is split in 50% positive and 50% negative reviews. Each word in the reviews has been mapped into an integer value so that each review is represented by an array of integers in a vector space. The The dataset can be dowloaded directly through Tensorflow. We will use only the first 10k more frequent words. This allows us represent each review as a vector in a space of dimensionality 10k.\n"
      ],
      "metadata": {
        "id": "xBf3bmJm1php"
      }
    },
    {
      "cell_type": "code",
      "execution_count": 5,
      "metadata": {
        "id": "gkp4lnFf1iTa"
      },
      "outputs": [],
      "source": [
        "from tensorflow.keras.datasets import imdb\n",
        "(train_data, train_labels), (test_data, test_labels) = imdb.load_data(num_words=10000)"
      ]
    },
    {
      "cell_type": "markdown",
      "source": [
        "Each review is represented as an array of integers from 0 to 9999."
      ],
      "metadata": {
        "id": "mHAC3FyRBEoz"
      }
    },
    {
      "cell_type": "code",
      "source": [
        "print(train_data[0][0:20])"
      ],
      "metadata": {
        "colab": {
          "base_uri": "https://localhost:8080/"
        },
        "id": "zGboMYLo7VyA",
        "outputId": "42e113dc-ac1d-4ad4-9c9c-85656b374860"
      },
      "execution_count": 6,
      "outputs": [
        {
          "output_type": "stream",
          "name": "stdout",
          "text": [
            "[1, 14, 22, 16, 43, 530, 973, 1622, 1385, 65, 458, 4468, 66, 3941, 4, 173, 36, 256, 5, 25]\n"
          ]
        }
      ]
    },
    {
      "cell_type": "markdown",
      "source": [
        "We can revert the representation of a review from an array of integers back to a sequence of words using the dictionary"
      ],
      "metadata": {
        "id": "fTUviBUGDTzR"
      }
    },
    {
      "cell_type": "code",
      "source": [
        "word_index = imdb.get_word_index()\n",
        "reverse_word_index = dict([(value, key) for (key, value) in word_index.items()])\n",
        "decoded_review_0 = \" \".join([reverse_word_index.get(i - 3, \"?\") for i in train_data[0]])"
      ],
      "metadata": {
        "id": "rIwKan-JBlRl"
      },
      "execution_count": 7,
      "outputs": []
    },
    {
      "cell_type": "code",
      "source": [
        "len(decoded_review_0.split())"
      ],
      "metadata": {
        "colab": {
          "base_uri": "https://localhost:8080/"
        },
        "id": "pQZ8VEC_Cq3c",
        "outputId": "303030ec-41ab-4d7d-c2f5-5d12d7469c90"
      },
      "execution_count": 8,
      "outputs": [
        {
          "output_type": "execute_result",
          "data": {
            "text/plain": [
              "218"
            ]
          },
          "metadata": {},
          "execution_count": 8
        }
      ]
    },
    {
      "cell_type": "markdown",
      "source": [
        "The lenght of the array depends on the number of words in the review"
      ],
      "metadata": {
        "id": "K8KprFy8Bf4v"
      }
    },
    {
      "cell_type": "code",
      "source": [
        "len(train_data[0])"
      ],
      "metadata": {
        "colab": {
          "base_uri": "https://localhost:8080/"
        },
        "id": "6Tw2ThNSACGZ",
        "outputId": "1fba6429-9d66-4ddb-c900-5b2c37f5bdcb"
      },
      "execution_count": 9,
      "outputs": [
        {
          "output_type": "execute_result",
          "data": {
            "text/plain": [
              "218"
            ]
          },
          "metadata": {},
          "execution_count": 9
        }
      ]
    },
    {
      "cell_type": "markdown",
      "source": [
        "## Multi-hot encode\n",
        "The network accepts a batch of reviews all of the same size. One way to represent a review is to use the multi-hot encode for which each review is represented by the unique words in the dictionary that have been used at least once. For example if a review is represented by the array [2, 100, 564] we will use a multi-hot representation of dimensionality 10k setting the values at index 2, 100, and 564 to 1 and the rest left to its default value 0. The space of dimensionality 10k is called embedding space. We define a function to multi-hot encode the reviews  "
      ],
      "metadata": {
        "id": "V5wdyh9UE8C8"
      }
    },
    {
      "cell_type": "code",
      "source": [
        "import numpy as np\n",
        "def vectorize_sequences(sequences, dimension=10000):\n",
        "    results = np.zeros((len(sequences), dimension))\n",
        "    for i, sequence in enumerate(sequences):\n",
        "        for j in sequence:\n",
        "            results[i, j] = 1.\n",
        "    return results"
      ],
      "metadata": {
        "id": "QptNwwrYCznE"
      },
      "execution_count": 10,
      "outputs": []
    },
    {
      "cell_type": "code",
      "source": [
        "x_train = vectorize_sequences(train_data)\n",
        "x_test = vectorize_sequences(test_data)\n",
        "x_train.shape, x_test.shape"
      ],
      "metadata": {
        "colab": {
          "base_uri": "https://localhost:8080/"
        },
        "id": "h6cTAqtTKgwF",
        "outputId": "44897b56-34d7-422a-db21-7ca3732cc0d8"
      },
      "execution_count": 11,
      "outputs": [
        {
          "output_type": "execute_result",
          "data": {
            "text/plain": [
              "((25000, 10000), (25000, 10000))"
            ]
          },
          "metadata": {},
          "execution_count": 11
        }
      ]
    },
    {
      "cell_type": "code",
      "source": [
        "y_train = np.asarray(train_labels).astype('float32')\n",
        "y_test = np.asarray(test_labels).astype('float32')\n",
        "y_train.shape, y_test.shape"
      ],
      "metadata": {
        "colab": {
          "base_uri": "https://localhost:8080/"
        },
        "id": "HxtTKGk8KiP7",
        "outputId": "f3a1824e-4702-47ee-dff3-86abec119f6a"
      },
      "execution_count": 12,
      "outputs": [
        {
          "output_type": "execute_result",
          "data": {
            "text/plain": [
              "((25000,), (25000,))"
            ]
          },
          "metadata": {},
          "execution_count": 12
        }
      ]
    },
    {
      "cell_type": "markdown",
      "source": [
        "## A binary classifier\n",
        "Learning how to classify an array between two classes can be solved using a stack of fully connected layers whose output will be 1 or 0. The question is how many layers and how many units in each layer. We can start with a network of three layers. The first two layers with 16 units and the [Rectified Linear Unit](https://en.wikipedia.org/wiki/Rectifier_(neural_networks)) (ReLU) activation function, and the last one with only one unit with the [sigmoid](https://en.wikipedia.org/wiki/Sigmoid_function) activation function. The layers with the ReLU activation function implement the function\n",
        "\n",
        "$$o = ReLU(Wx + b)$$\n",
        "\n",
        "where W represents the weights of the layer, that is a matrix of (10000 x 16) elements. The weight matrix W projects a vector from the input space into the representation space of dimensionality 16, much smaller than the input space. The sigmoid function maps an input value into an interval [0, 1] so that it can be interpreted as a probability for 0 or 1."
      ],
      "metadata": {
        "id": "4C9fCBrIP17Z"
      }
    },
    {
      "cell_type": "code",
      "source": [
        "from tensorflow import keras\n",
        "from tensorflow.keras import layers\n",
        "model = keras.Sequential([\n",
        "  layers.Dense(16, activation='relu'),\n",
        "  layers.Dense(16, activation='relu'),\n",
        "  layers.Dense(1, activation='sigmoid')\n",
        "])"
      ],
      "metadata": {
        "id": "ojUget8LPWw5"
      },
      "execution_count": 13,
      "outputs": []
    },
    {
      "cell_type": "markdown",
      "source": [
        "We have to choose the loss function and the optimizer. Since we are dealing with a binary classification we use the [binary crossentropy](https://en.wikipedia.org/wiki/Cross-entropy) loss function. In few words, we want to minimize the distance between the probability distributions of words in the input space and in the target space. For the optimizer we use [RMSprop](https://keras.io/api/optimizers/rmsprop/), similar to gradient descent."
      ],
      "metadata": {
        "id": "1K0b8JnEV50e"
      }
    },
    {
      "cell_type": "code",
      "source": [
        "model.compile(optimizer='rmsprop',\n",
        "              loss='binary_crossentropy',\n",
        "              metrics=['accuracy'])"
      ],
      "metadata": {
        "id": "rCUcvZ5wRL4H"
      },
      "execution_count": 14,
      "outputs": []
    },
    {
      "cell_type": "markdown",
      "source": [
        "We use 10k reviews for validation and the remaining 15k for training"
      ],
      "metadata": {
        "id": "OYK3inSdYvGr"
      }
    },
    {
      "cell_type": "code",
      "source": [
        "x_val = x_train[:10000]\n",
        "partial_x_train = x_train[10000:]\n",
        "y_val = y_train[:10000]\n",
        "partial_y_train = y_train[10000:]"
      ],
      "metadata": {
        "id": "Oej_y7O9YkvT"
      },
      "execution_count": 15,
      "outputs": []
    },
    {
      "cell_type": "markdown",
      "source": [
        "We train the model for 20 epochs"
      ],
      "metadata": {
        "id": "3mEU-ZbJZFne"
      }
    },
    {
      "cell_type": "code",
      "source": [
        "history = model.fit(partial_x_train,\n",
        "                    partial_y_train,\n",
        "                    epochs=20,\n",
        "                    batch_size=512,\n",
        "                    validation_data=(x_val, y_val))"
      ],
      "metadata": {
        "colab": {
          "base_uri": "https://localhost:8080/"
        },
        "id": "cRyASi85Y0MS",
        "outputId": "227c39a9-c1aa-4397-ab24-63d29bfe1b3c"
      },
      "execution_count": 12,
      "outputs": [
        {
          "output_type": "stream",
          "name": "stdout",
          "text": [
            "Epoch 1/20\n",
            "30/30 [==============================] - 3s 84ms/step - loss: 0.5540 - accuracy: 0.7668 - val_loss: 0.4261 - val_accuracy: 0.8662\n",
            "Epoch 2/20\n",
            "30/30 [==============================] - 2s 52ms/step - loss: 0.3486 - accuracy: 0.8889 - val_loss: 0.3321 - val_accuracy: 0.8812\n",
            "Epoch 3/20\n",
            "30/30 [==============================] - 1s 38ms/step - loss: 0.2599 - accuracy: 0.9151 - val_loss: 0.2956 - val_accuracy: 0.8853\n",
            "Epoch 4/20\n",
            "30/30 [==============================] - 1s 33ms/step - loss: 0.2082 - accuracy: 0.9317 - val_loss: 0.2913 - val_accuracy: 0.8842\n",
            "Epoch 5/20\n",
            "30/30 [==============================] - 1s 33ms/step - loss: 0.1744 - accuracy: 0.9435 - val_loss: 0.2980 - val_accuracy: 0.8812\n",
            "Epoch 6/20\n",
            "30/30 [==============================] - 1s 33ms/step - loss: 0.1481 - accuracy: 0.9519 - val_loss: 0.2840 - val_accuracy: 0.8858\n",
            "Epoch 7/20\n",
            "30/30 [==============================] - 1s 34ms/step - loss: 0.1276 - accuracy: 0.9589 - val_loss: 0.3095 - val_accuracy: 0.8781\n",
            "Epoch 8/20\n",
            "30/30 [==============================] - 1s 35ms/step - loss: 0.1105 - accuracy: 0.9676 - val_loss: 0.3212 - val_accuracy: 0.8819\n",
            "Epoch 9/20\n",
            "30/30 [==============================] - 1s 33ms/step - loss: 0.0962 - accuracy: 0.9728 - val_loss: 0.3391 - val_accuracy: 0.8725\n",
            "Epoch 10/20\n",
            "30/30 [==============================] - 1s 33ms/step - loss: 0.0857 - accuracy: 0.9756 - val_loss: 0.3333 - val_accuracy: 0.8808\n",
            "Epoch 11/20\n",
            "30/30 [==============================] - 1s 34ms/step - loss: 0.0706 - accuracy: 0.9820 - val_loss: 0.4002 - val_accuracy: 0.8653\n",
            "Epoch 12/20\n",
            "30/30 [==============================] - 1s 33ms/step - loss: 0.0615 - accuracy: 0.9851 - val_loss: 0.3692 - val_accuracy: 0.8777\n",
            "Epoch 13/20\n",
            "30/30 [==============================] - 2s 52ms/step - loss: 0.0524 - accuracy: 0.9887 - val_loss: 0.3901 - val_accuracy: 0.8764\n",
            "Epoch 14/20\n",
            "30/30 [==============================] - 1s 49ms/step - loss: 0.0458 - accuracy: 0.9907 - val_loss: 0.4213 - val_accuracy: 0.8708\n",
            "Epoch 15/20\n",
            "30/30 [==============================] - 1s 39ms/step - loss: 0.0383 - accuracy: 0.9923 - val_loss: 0.4478 - val_accuracy: 0.8691\n",
            "Epoch 16/20\n",
            "30/30 [==============================] - 1s 32ms/step - loss: 0.0304 - accuracy: 0.9955 - val_loss: 0.4644 - val_accuracy: 0.8742\n",
            "Epoch 17/20\n",
            "30/30 [==============================] - 1s 33ms/step - loss: 0.0264 - accuracy: 0.9959 - val_loss: 0.4810 - val_accuracy: 0.8722\n",
            "Epoch 18/20\n",
            "30/30 [==============================] - 1s 33ms/step - loss: 0.0236 - accuracy: 0.9965 - val_loss: 0.5073 - val_accuracy: 0.8712\n",
            "Epoch 19/20\n",
            "30/30 [==============================] - 1s 39ms/step - loss: 0.0178 - accuracy: 0.9977 - val_loss: 0.5254 - val_accuracy: 0.8714\n",
            "Epoch 20/20\n",
            "30/30 [==============================] - 2s 56ms/step - loss: 0.0157 - accuracy: 0.9981 - val_loss: 0.5489 - val_accuracy: 0.8694\n"
          ]
        }
      ]
    },
    {
      "cell_type": "code",
      "source": [
        "history_dict = history.history\n",
        "history_dict.keys()"
      ],
      "metadata": {
        "colab": {
          "base_uri": "https://localhost:8080/"
        },
        "id": "ncjj7tFqZO_S",
        "outputId": "c6aef333-8881-463d-a45a-5bdb39fe65b7"
      },
      "execution_count": 13,
      "outputs": [
        {
          "output_type": "execute_result",
          "data": {
            "text/plain": [
              "dict_keys(['loss', 'accuracy', 'val_loss', 'val_accuracy'])"
            ]
          },
          "metadata": {},
          "execution_count": 13
        }
      ]
    },
    {
      "cell_type": "markdown",
      "source": [
        "## Model performance\n",
        "We can visualize the loss and the accuracy for the training and validation datasets. What we care about is the performance on the validation set that measures the generalization skill of the model. As we can see, there is a minimum loss at the 6th epoch and after it increases again while on the training set it continues to fall, a clear sign of overfitting. One option to avoid overfitting is to stop the training at the 6th epoch."
      ],
      "metadata": {
        "id": "jhO_S6K6lpAb"
      }
    },
    {
      "cell_type": "code",
      "source": [
        "import matplotlib.pyplot as plt\n",
        "history_dict = history.history\n",
        "loss_values = history_dict[\"loss\"]\n",
        "val_loss_values = history_dict[\"val_loss\"]\n",
        "epochs = range(1, len(loss_values) + 1)\n",
        "plt.plot(epochs, loss_values, \"bo\", label=\"Training loss\")\n",
        "plt.plot(epochs, val_loss_values, \"b\", label=\"Validation loss\")\n",
        "plt.title(\"Training and validation loss\")\n",
        "plt.xlabel(\"Epochs\")\n",
        "plt.ylabel(\"Loss\")\n",
        "plt.legend()\n",
        "plt.show()"
      ],
      "metadata": {
        "colab": {
          "base_uri": "https://localhost:8080/",
          "height": 472
        },
        "id": "2hsLwhXUZnsx",
        "outputId": "2811400f-b860-4c1a-e3a4-2314e25c3173"
      },
      "execution_count": 14,
      "outputs": [
        {
          "output_type": "display_data",
          "data": {
            "text/plain": [
              "<Figure size 640x480 with 1 Axes>"
            ],
            "image/png": "[encoded data removed]"
          },
          "metadata": {}
        }
      ]
    },
    {
      "cell_type": "code",
      "source": [
        "plt.clf()\n",
        "acc = history_dict[\"accuracy\"]\n",
        "val_acc = history_dict[\"val_accuracy\"]\n",
        "plt.plot(epochs, acc, \"bo\", label=\"Training acc\")\n",
        "plt.plot(epochs, val_acc, \"b\", label=\"Validation acc\")\n",
        "plt.title(\"Training and validation accuracy\")\n",
        "plt.xlabel(\"Epochs\")\n",
        "plt.ylabel(\"Accuracy\")\n",
        "plt.legend()\n",
        "plt.show()"
      ],
      "metadata": {
        "colab": {
          "base_uri": "https://localhost:8080/",
          "height": 472
        },
        "id": "bHTxtyd2akw1",
        "outputId": "054f7135-9834-40c8-cba2-afb9baa3807e"
      },
      "execution_count": 15,
      "outputs": [
        {
          "output_type": "display_data",
          "data": {
            "text/plain": [
              "<Figure size 640x480 with 1 Axes>"
            ],
            "image/png": "[encoded data removed]"
          },
          "metadata": {}
        }
      ]
    },
    {
      "cell_type": "code",
      "source": [
        "model.predict(x_test)"
      ],
      "metadata": {
        "id": "34fBXmFTauMc",
        "outputId": "089f4889-83bb-40b0-c603-7f3310ace72c",
        "colab": {
          "base_uri": "https://localhost:8080/"
        }
      },
      "execution_count": 16,
      "outputs": [
        {
          "output_type": "stream",
          "name": "stdout",
          "text": [
            "782/782 [==============================] - 4s 4ms/step\n"
          ]
        },
        {
          "output_type": "execute_result",
          "data": {
            "text/plain": [
              "array([[0.02081073],\n",
              "       [1.        ],\n",
              "       [0.7353399 ],\n",
              "       ...,\n",
              "       [0.00570623],\n",
              "       [0.01523276],\n",
              "       [0.95202506]], dtype=float32)"
            ]
          },
          "metadata": {},
          "execution_count": 16
        }
      ]
    },
    {
      "cell_type": "markdown",
      "source": [
        "We train the same model for 6 epochs"
      ],
      "metadata": {
        "id": "JA0VvC4BuSGq"
      }
    },
    {
      "cell_type": "markdown",
      "source": [],
      "metadata": {
        "id": "F-cCDHrhuSDl"
      }
    },
    {
      "cell_type": "code",
      "source": [
        "model.compile(optimizer='rmsprop',\n",
        "              loss='binary_crossentropy',\n",
        "              metrics=['accuracy'])\n",
        "\n",
        "history = model.fit(partial_x_train,\n",
        "                    partial_y_train,\n",
        "                    epochs=6,\n",
        "                    batch_size=512,\n",
        "                    validation_data=(x_val, y_val))"
      ],
      "metadata": {
        "id": "57aPVw0EtqZf",
        "outputId": "860ebd95-a909-4508-f4ce-dc60f1316e43",
        "colab": {
          "base_uri": "https://localhost:8080/"
        }
      },
      "execution_count": 16,
      "outputs": [
        {
          "output_type": "stream",
          "name": "stdout",
          "text": [
            "Epoch 1/6\n",
            "30/30 [==============================] - 4s 94ms/step - loss: 0.5247 - accuracy: 0.7582 - val_loss: 0.3742 - val_accuracy: 0.8710\n",
            "Epoch 2/6\n",
            "30/30 [==============================] - 1s 36ms/step - loss: 0.3062 - accuracy: 0.8977 - val_loss: 0.3018 - val_accuracy: 0.8861\n",
            "Epoch 3/6\n",
            "30/30 [==============================] - 1s 36ms/step - loss: 0.2217 - accuracy: 0.9282 - val_loss: 0.2790 - val_accuracy: 0.8868\n",
            "Epoch 4/6\n",
            "30/30 [==============================] - 1s 34ms/step - loss: 0.1848 - accuracy: 0.9373 - val_loss: 0.2759 - val_accuracy: 0.8881\n",
            "Epoch 5/6\n",
            "30/30 [==============================] - 1s 34ms/step - loss: 0.1462 - accuracy: 0.9527 - val_loss: 0.2826 - val_accuracy: 0.8849\n",
            "Epoch 6/6\n",
            "30/30 [==============================] - 1s 36ms/step - loss: 0.1254 - accuracy: 0.9583 - val_loss: 0.2966 - val_accuracy: 0.8841\n"
          ]
        }
      ]
    },
    {
      "cell_type": "code",
      "source": [
        "predictions = model.predict(x_test)"
      ],
      "metadata": {
        "id": "gmkKF1nAtwvr",
        "outputId": "bdf38aed-823c-4ef8-969f-183d3a54b2bf",
        "colab": {
          "base_uri": "https://localhost:8080/"
        }
      },
      "execution_count": 17,
      "outputs": [
        {
          "output_type": "stream",
          "name": "stdout",
          "text": [
            "782/782 [==============================] - 2s 2ms/step\n"
          ]
        }
      ]
    },
    {
      "cell_type": "code",
      "source": [
        "predictions.max()"
      ],
      "metadata": {
        "id": "RTjPZJ21viHN",
        "outputId": "43e6fc76-db1b-4d0b-baf6-fa02918af96e",
        "colab": {
          "base_uri": "https://localhost:8080/"
        }
      },
      "execution_count": 19,
      "outputs": [
        {
          "output_type": "execute_result",
          "data": {
            "text/plain": [
              "0.9999999"
            ]
          },
          "metadata": {},
          "execution_count": 19
        }
      ]
    },
    {
      "cell_type": "code",
      "source": [],
      "metadata": {
        "id": "03_sQ31AwjU6"
      },
      "execution_count": null,
      "outputs": []
    }
  ]
}