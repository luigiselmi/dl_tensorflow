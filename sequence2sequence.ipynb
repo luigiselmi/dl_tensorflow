{
 "cells": [
  {
   "cell_type": "markdown",
   "id": "4fcff35b-a2da-4e70-81e1-cb0b2b01fd88",
   "metadata": {},
   "source": [
    "# Deep Learning for text: sequence-to-sequence learning\n",
    "In this notebook we will implement a sequence-to-sequence model. This model takes an input sequence and returns another sequence. A sequence-to-sequence model is behind many machine learning tasks beyond classification such as: machine translation, text summarization, question answering, chatbots, and text generation. The sequence-to-sequence model has two components: an encoder and a decoder. The encoder learns from the training set a representation that is useful for the task at hand. In machine translation the encoder maps equivalent terms found in a text in two vocabularies and the correct position in the target sequence. The decoder maps the representation into text in the target language."
   ]
  },
  {
   "cell_type": "code",
   "execution_count": null,
   "id": "b75ba025-69b9-4d80-b119-16ae46d961cc",
   "metadata": {},
   "outputs": [],
   "source": [
    "!pip install tensorflow==2.8"
   ]
  }
 ],
 "metadata": {
  "kernelspec": {
   "display_name": "Python 3 (ipykernel)",
   "language": "python",
   "name": "python3"
  },
  "language_info": {
   "codemirror_mode": {
    "name": "ipython",
    "version": 3
   },
   "file_extension": ".py",
   "mimetype": "text/x-python",
   "name": "python",
   "nbconvert_exporter": "python",
   "pygments_lexer": "ipython3",
   "version": "3.12.5"
  }
 },
 "nbformat": 4,
 "nbformat_minor": 5
}
