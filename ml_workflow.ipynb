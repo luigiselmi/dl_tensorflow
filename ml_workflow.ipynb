{
  "nbformat": 4,
  "nbformat_minor": 0,
  "metadata": {
    "colab": {
      "provenance": [],
      "authorship_tag": "ABX9TyMNNHpnUC39DdpmXEGKdKUE",
      "include_colab_link": true
    },
    "kernelspec": {
      "name": "python3",
      "display_name": "Python 3"
    },
    "language_info": {
      "name": "python"
    }
  },
  "cells": [
    {
      "cell_type": "markdown",
      "metadata": {
        "id": "view-in-github",
        "colab_type": "text"
      },
      "source": [
        "<a href=\"https://colab.research.google.com/github/luigiselmi/dl_tensorflow/blob/main/ml_workflow.ipynb\" target=\"_parent\"><img src=\"https://colab.research.google.com/assets/colab-badge.svg\" alt=\"Open In Colab\"/></a>"
      ]
    },
    {
      "cell_type": "markdown",
      "source": [
        "# Machine learning workflow\n",
        "This notebook does not contains code. Its purpose is to define the steps of a ML project.\n",
        "\n",
        "## 1. Task definition\n",
        "\n",
        "## 2. Data collection\n",
        "\n",
        "## 3. Model development\n",
        "\n",
        "## 5. Data preparation\n",
        "\n",
        "## 6. Model compilation\n",
        "\n",
        "## 7. Model evaluation\n",
        "\n",
        "## 8. Model tuning\n",
        "\n",
        "## 9. Model deployment"
      ],
      "metadata": {
        "id": "bCPZwl41VqjD"
      }
    },
    {
      "cell_type": "code",
      "execution_count": null,
      "metadata": {
        "id": "z_XA6xGnRbjz"
      },
      "outputs": [],
      "source": []
    }
  ]
}