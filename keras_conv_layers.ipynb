{
 "cells": [
  {
   "cell_type": "markdown",
   "id": "468e191d-29a6-40fa-a005-e8a1dfe7ad7c",
   "metadata": {},
   "source": [
    "# Keras convolutional layers\n",
    "Keras provides different types of convolutional layers. In this section we provide a short description of each of them and how they are used in a convolutional network."
   ]
  },
  {
   "cell_type": "markdown",
   "id": "fedb7be6-b7e0-45ae-a013-917118c88e71",
   "metadata": {},
   "source": [
    "## Conv2D \n",
    "The basic one is [Conv2D](https://keras.io/api/layers/convolution_layers/convolution2d/) that can be used to create a convolutional layer to extract the features from both the spatial dimensions (height and width) and the channel dimension in the same step. This layer is used in convolutional networks for image classification tasks."
   ]
  },
  {
   "cell_type": "markdown",
   "id": "562eff93-4c0a-410f-bf96-e16442cac68f",
   "metadata": {},
   "source": [
    "### Transposed convolution\n",
    "The same layer can be used to upsample the data, to increase the spatial resolution, by setting the dilation_rate default value from (1,1) to (2,2) or other higher values. The dilation rate is used to transform a downsampling convolutional layer into an upsampling dilated convolution (aka **atrous convolution** or **dilated convolution**). This configuration of the Conv2D layer is used in the decoder part of an encoder-decoder network for semantic segmentation tasks."
   ]
  },
  {
   "cell_type": "markdown",
   "id": "e89433d3-70e2-4faf-80d3-20b59e9e3c2f",
   "metadata": {},
   "source": [
    "## Depthwise convolution\n",
    "In several papers (e.g. [Xception](https://arxiv.org/abs/1610.02357)) it has been shown that performing the convolution operation on the spatial dimensions (height and width) separately from the channel dimensions increases the performance and reduces the number of parameters of the network. Kears provides the [DepthwiseConv2D](https://keras.io/api/layers/convolution_layers/depthwise_convolution2d/) layer in which the convolution is computed separately for each channel"
   ]
  },
  {
   "cell_type": "markdown",
   "id": "af7d61b0-5284-4ff6-809a-05284d196a86",
   "metadata": {},
   "source": [
    "## Depthwise separable convolution\n",
    "Usually a depthwise convolution is followed by a 1x1 convolution, aka **pointwise convolution**, to reduce the number of feature maps. Keras provides the [SeparableConv2D](https://keras.io/api/layers/convolution_layers/separable_convolution2d/) layer that implements a depthwise convolution followed by a pointwise convolution."
   ]
  },
  {
   "cell_type": "code",
   "execution_count": null,
   "id": "5f4c6488-dfe9-4c06-bb3b-4885ada71d84",
   "metadata": {},
   "outputs": [],
   "source": []
  }
 ],
 "metadata": {
  "kernelspec": {
   "display_name": "Python 3 (ipykernel)",
   "language": "python",
   "name": "python3"
  },
  "language_info": {
   "codemirror_mode": {
    "name": "ipython",
    "version": 3
   },
   "file_extension": ".py",
   "mimetype": "text/x-python",
   "name": "python",
   "nbconvert_exporter": "python",
   "pygments_lexer": "ipython3",
   "version": "3.12.5"
  }
 },
 "nbformat": 4,
 "nbformat_minor": 5
}
