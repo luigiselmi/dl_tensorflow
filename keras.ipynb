{
  "nbformat": 4,
  "nbformat_minor": 0,
  "metadata": {
    "colab": {
      "provenance": [],
      "authorship_tag": "ABX9TyNp7vqndejkVvntj2JSETqE",
      "include_colab_link": true
    },
    "kernelspec": {
      "name": "python3",
      "display_name": "Python 3"
    },
    "language_info": {
      "name": "python"
    }
  },
  "cells": [
    {
      "cell_type": "markdown",
      "metadata": {
        "id": "view-in-github",
        "colab_type": "text"
      },
      "source": [
        "<a href=\"https://colab.research.google.com/github/luigiselmi/dl_tensorflow/blob/main/keras.ipynb\" target=\"_parent\"><img src=\"https://colab.research.google.com/assets/colab-badge.svg\" alt=\"Open In Colab\"/></a>"
      ]
    },
    {
      "cell_type": "markdown",
      "source": [
        "# Keras\n",
        "Keras is a high level API on top of Tensorflow. It allows us to\n",
        "\n",
        "1. Design the architecture of a neural network using layers as building blocks\n",
        "2. Choose or define a cost function\n",
        "3. Choose an optimizer\n",
        "4. Choose a metrics to measure the performances of the network\n"
      ],
      "metadata": {
        "id": "triexj5vyPW_"
      }
    },
    {
      "cell_type": "code",
      "source": [
        "import tensorflow as tf"
      ],
      "metadata": {
        "id": "FmcBAshGyUuz"
      },
      "execution_count": 1,
      "outputs": []
    },
    {
      "cell_type": "markdown",
      "source": [
        "## Layer: the building block of neural networks\n",
        "A deep neural network is a graph of layers. The most simple topology is a stack of layers. There are many different types of layers. Layers differ mainly for the algorithms that is applied to the input tensors to produce its output tensor. Other settings of a layer are the number of units and the actvation function. The number of weights depends on the number of units of the layer and on the number of inputs. We can define a Python class to instantiate a layer. In a dense layer all the inputs are connected to all the layer's units. The build() method in the example define the weights matrix and the bias vector with random initialization. The call() method computes the vector product between the weights matrix and the inputs and then applies the activation function passed as argument to the class constructor.  "
      ],
      "metadata": {
        "id": "0lhFUhFbs-zj"
      }
    },
    {
      "cell_type": "code",
      "execution_count": 2,
      "metadata": {
        "id": "TqwQ-pU9s8z-"
      },
      "outputs": [],
      "source": [
        "from tensorflow import keras\n",
        "\n",
        "class SimpleDense(keras.layers.Layer):\n",
        "\n",
        "    def __init__(self, units, activation=None):\n",
        "        super().__init__()\n",
        "        self.units = units\n",
        "        self.activation = activation\n",
        "\n",
        "    def build(self, input_shape):\n",
        "        input_dim = input_shape[-1]\n",
        "        self.W = self.add_weight(shape=(input_dim, self.units),\n",
        "                                 initializer='random_normal')\n",
        "        self.b = self.add_weight(shape=(self.units,),\n",
        "                                 initializer='zeros')\n",
        "\n",
        "    def call(self, inputs):\n",
        "        y = tf.matmul(inputs, self.W) + self.b\n",
        "        if self.activation is not None:\n",
        "            y = self.activation(y)\n",
        "        return y"
      ]
    },
    {
      "cell_type": "markdown",
      "source": [
        "We can instantiate a layer, for example with 32 units without specifying the number of outputs since it can be inferred from the number of inputs of the next layer. A sequence of two layers are used like two matrices to be multiplied so if the shape of the first layer is (n x m) the shape of the second one must be (m x p) and so on."
      ],
      "metadata": {
        "id": "DHAUfNRV0JYS"
      }
    },
    {
      "cell_type": "code",
      "source": [
        "\n",
        "from tensorflow.keras import layers\n",
        "mydense_layer = SimpleDense(units=32, activation=tf.nn.relu)\n",
        "input_tensor = tf.ones(shape=(1, 784))\n",
        "output_tensor = mydense_layer(input_tensor)\n",
        "print(output_tensor.shape)"
      ],
      "metadata": {
        "colab": {
          "base_uri": "https://localhost:8080/"
        },
        "id": "8Ji-W84jv8_F",
        "outputId": "9baaf97e-c865-4d47-ae7d-7c347cf6b4de"
      },
      "execution_count": 3,
      "outputs": [
        {
          "output_type": "stream",
          "name": "stdout",
          "text": [
            "(1, 32)\n"
          ]
        }
      ]
    },
    {
      "cell_type": "code",
      "source": [
        "output_tensor.shape"
      ],
      "metadata": {
        "colab": {
          "base_uri": "https://localhost:8080/"
        },
        "id": "cLgy6cb1xpJz",
        "outputId": "ea3db29a-aea7-4dd9-eb05-546f3e3771ce"
      },
      "execution_count": 6,
      "outputs": [
        {
          "output_type": "execute_result",
          "data": {
            "text/plain": [
              "TensorShape([1, 32])"
            ]
          },
          "metadata": {},
          "execution_count": 6
        }
      ]
    },
    {
      "cell_type": "markdown",
      "source": [
        "## Inputs and targets\n",
        "For the following code examples we create two synthetic 2D datasets of (input, target) pairs, as NumPy arrays, using a NumPy function that samples the datapoints from a two-dimensional Gaussian distribution.\n",
        "\n",
        "$$y_{neg} = f_{neg}(x_1, x_2)$$\n",
        "\n",
        "$$y_{pos} = f_{pos}(x_1, x_2)$$\n",
        "\n",
        "The inputs are normaly distributed around the two components of the mean vector. The two components of a datapoint are related through the covariance matrix, for instance\n",
        "\n",
        "$$\\begin{pmatrix} 1 & 0.5 \\\\ 0.5 & 1 \\end{pmatrix}$$"
      ],
      "metadata": {
        "id": "jmREw8yG5Yib"
      }
    },
    {
      "cell_type": "code",
      "source": [
        "import numpy as np\n",
        "num_samples_per_class = 1000\n",
        "negative_samples = np.random.multivariate_normal(\n",
        "    mean=[0, 3],\n",
        "    cov=[[1, 0.5],[0.5, 1]],\n",
        "    size=num_samples_per_class)\n",
        "negative_samples.shape"
      ],
      "metadata": {
        "id": "TuOepGqf7ZNU",
        "outputId": "c911b6a5-ade2-4797-9395-1fe5a650004b",
        "colab": {
          "base_uri": "https://localhost:8080/"
        }
      },
      "execution_count": 38,
      "outputs": [
        {
          "output_type": "execute_result",
          "data": {
            "text/plain": [
              "(1000, 2)"
            ]
          },
          "metadata": {},
          "execution_count": 38
        }
      ]
    },
    {
      "cell_type": "code",
      "source": [
        "import matplotlib.pyplot as plt\n",
        "x = negative_samples[:, 0]\n",
        "y = negative_samples[:, 1]\n",
        "plt.plot(x, y, 'x', color='orange')\n",
        "plt.axis('equal')\n",
        "plt.show()"
      ],
      "metadata": {
        "id": "r8mnfRnq70LN",
        "outputId": "d8955c53-7226-4d10-d87e-13ef38bf93bd",
        "colab": {
          "base_uri": "https://localhost:8080/",
          "height": 435
        }
      },
      "execution_count": 35,
      "outputs": [
        {
          "output_type": "display_data",
          "data": {
            "text/plain": [
              "<Figure size 640x480 with 1 Axes>"
            ],
            "image/png": "[encoded data removed]"
          },
          "metadata": {}
        }
      ]
    },
    {
      "cell_type": "markdown",
      "source": [
        "We create the targets as well"
      ],
      "metadata": {
        "id": "oYcqcfmgC7x4"
      }
    },
    {
      "cell_type": "code",
      "source": [
        "negative_targets = np.zeros((num_samples_per_class, 1), dtype='float32')"
      ],
      "metadata": {
        "id": "t7efbA3hCcAB"
      },
      "execution_count": 41,
      "outputs": []
    },
    {
      "cell_type": "code",
      "source": [
        "positive_samples = np.random.multivariate_normal(\n",
        "    mean=[3, 0],\n",
        "    cov=[[1, 0.5],[0.5, 1]],\n",
        "    size=num_samples_per_class)\n",
        "positive_samples.shape"
      ],
      "metadata": {
        "id": "iMR2eY7D4wvp",
        "outputId": "5e8d060d-3f26-4bb8-987b-827fca478d73",
        "colab": {
          "base_uri": "https://localhost:8080/"
        }
      },
      "execution_count": 39,
      "outputs": [
        {
          "output_type": "execute_result",
          "data": {
            "text/plain": [
              "(1000, 2)"
            ]
          },
          "metadata": {},
          "execution_count": 39
        }
      ]
    },
    {
      "cell_type": "code",
      "source": [
        "x = positive_samples[:, 0]\n",
        "y = positive_samples[:, 1]\n",
        "plt.plot(x, y, 'x')\n",
        "plt.axis('equal')\n",
        "plt.show()\n"
      ],
      "metadata": {
        "id": "KJRgebU79CCn",
        "outputId": "e6f00f98-1a86-4039-a791-c95f90df13c9",
        "colab": {
          "base_uri": "https://localhost:8080/",
          "height": 430
        }
      },
      "execution_count": 37,
      "outputs": [
        {
          "output_type": "display_data",
          "data": {
            "text/plain": [
              "<Figure size 640x480 with 1 Axes>"
            ],
            "image/png": "[encoded data removed]"
          },
          "metadata": {}
        }
      ]
    },
    {
      "cell_type": "code",
      "source": [
        "positive_targets = np.zeros((num_samples_per_class, 1), dtype='float32')"
      ],
      "metadata": {
        "id": "kTeRI_fcDMG2"
      },
      "execution_count": 42,
      "outputs": []
    },
    {
      "cell_type": "markdown",
      "source": [
        "We stack the two 2D datasets into a single 2D array"
      ],
      "metadata": {
        "id": "B3EewFNQBi3G"
      }
    },
    {
      "cell_type": "code",
      "source": [
        "inputs = np.vstack((negative_samples, positive_samples)).astype(np.float32)\n",
        "targets = targets = np.vstack((negative_targets, positive_targets)).astype(np.float32)\n",
        "inputs.shape, targets.shape"
      ],
      "metadata": {
        "id": "ZvJ5yAnZB7U7",
        "outputId": "ed171f24-94c2-4d30-fd16-9b459df21f7b",
        "colab": {
          "base_uri": "https://localhost:8080/"
        }
      },
      "execution_count": 44,
      "outputs": [
        {
          "output_type": "execute_result",
          "data": {
            "text/plain": [
              "((2000, 2), (2000, 1))"
            ]
          },
          "metadata": {},
          "execution_count": 44
        }
      ]
    },
    {
      "cell_type": "markdown",
      "source": [
        "## Model compilation\n",
        "Once the loss function, the optimizer, and the metric have been chosen we can call the compile() method to connect these components to the network and start the training procedure.  "
      ],
      "metadata": {
        "id": "VXKcqF_HncNU"
      }
    },
    {
      "cell_type": "code",
      "source": [
        "model = keras.Sequential([keras.layers.Dense(1)])\n",
        "model.compile(optimizer=keras.optimizers.RMSprop(),\n",
        "              loss=keras.losses.MeanSquaredError(),\n",
        "              metrics=[keras.metrics.BinaryAccuracy()])"
      ],
      "metadata": {
        "id": "S9WWoYocylal"
      },
      "execution_count": 45,
      "outputs": []
    },
    {
      "cell_type": "markdown",
      "source": [
        "## Model fit\n",
        "After the network topology is defined and the loss function with the optimization method and the performance metrics have been selected for the task at hand we have to tell provide the dataset to use for the training with the set of examples, i.e. inputs and target values, the size of the batch to use for each parameters update, and the number of epochs, that is, the number of times the full dataset has to be used for the training."
      ],
      "metadata": {
        "id": "3i6Oy37nzvBQ"
      }
    },
    {
      "cell_type": "code",
      "source": [
        "history = model.fit(\n",
        "  inputs,\n",
        "  targets,\n",
        "  epochs=5,\n",
        "  batch_size=128\n",
        ")\n"
      ],
      "metadata": {
        "id": "uucosVmUrvMz",
        "outputId": "1ecfced0-d863-4e06-bc93-5cd9d3f6f69f",
        "colab": {
          "base_uri": "https://localhost:8080/"
        }
      },
      "execution_count": 46,
      "outputs": [
        {
          "output_type": "stream",
          "name": "stdout",
          "text": [
            "Epoch 1/5\n",
            "16/16 [==============================] - 1s 2ms/step - loss: 3.1153 - binary_accuracy: 0.5005\n",
            "Epoch 2/5\n",
            "16/16 [==============================] - 0s 2ms/step - loss: 2.9058 - binary_accuracy: 0.5015\n",
            "Epoch 3/5\n",
            "16/16 [==============================] - 0s 2ms/step - loss: 2.7309 - binary_accuracy: 0.5015\n",
            "Epoch 4/5\n",
            "16/16 [==============================] - 0s 2ms/step - loss: 2.5658 - binary_accuracy: 0.5020\n",
            "Epoch 5/5\n",
            "16/16 [==============================] - 0s 2ms/step - loss: 2.4058 - binary_accuracy: 0.5020\n"
          ]
        }
      ]
    },
    {
      "cell_type": "code",
      "source": [
        "history.params"
      ],
      "metadata": {
        "id": "mirsGmHhs0DX",
        "outputId": "0a5c53fb-2f6f-45aa-ab9d-83b76c3faf98",
        "colab": {
          "base_uri": "https://localhost:8080/"
        }
      },
      "execution_count": 49,
      "outputs": [
        {
          "output_type": "execute_result",
          "data": {
            "text/plain": [
              "{'verbose': 1, 'epochs': 5, 'steps': 16}"
            ]
          },
          "metadata": {},
          "execution_count": 49
        }
      ]
    },
    {
      "cell_type": "markdown",
      "source": [
        "We create a simple model of one layer, then we set the loss function, the optimizer, and the performance metrics"
      ],
      "metadata": {
        "id": "aizmQwhStgfu"
      }
    },
    {
      "cell_type": "code",
      "source": [
        "model = keras.Sequential([keras.layers.Dense(1)])\n",
        "model.compile(optimizer=keras.optimizers.RMSprop(learning_rate=0.1),\n",
        "loss=keras.losses.MeanSquaredError(),\n",
        "metrics=[keras.metrics.BinaryAccuracy()])"
      ],
      "metadata": {
        "id": "PzVAPYEM1XGT"
      },
      "execution_count": 50,
      "outputs": []
    },
    {
      "cell_type": "markdown",
      "source": [
        "Our model is ready for training. Before we start we shuffle the dataset"
      ],
      "metadata": {
        "id": "i9lUMzZxtxve"
      }
    },
    {
      "cell_type": "code",
      "source": [
        "indices_permutation = np.random.permutation(len(inputs))\n",
        "shuffled_inputs = inputs[indices_permutation]\n",
        "shuffled_targets = targets[indices_permutation]"
      ],
      "metadata": {
        "id": "pPuqvCFm3r2P"
      },
      "execution_count": 52,
      "outputs": []
    },
    {
      "cell_type": "markdown",
      "source": [
        "## Training and validation set\n",
        "We split the dataset into a training set and a validation set"
      ],
      "metadata": {
        "id": "NP0GXQdhuC69"
      }
    },
    {
      "cell_type": "code",
      "source": [
        "num_validation_samples = int(0.3 * len(inputs))\n",
        "val_inputs = shuffled_inputs[:num_validation_samples]\n",
        "val_targets = shuffled_targets[:num_validation_samples]\n",
        "training_inputs = shuffled_inputs[num_validation_samples:]\n",
        "training_targets = shuffled_targets[num_validation_samples:]"
      ],
      "metadata": {
        "id": "YOuApbCetSXy"
      },
      "execution_count": 53,
      "outputs": []
    },
    {
      "cell_type": "markdown",
      "source": [
        "We fit the model using the training set. The validation set is used to track the performance of the network during the training  "
      ],
      "metadata": {
        "id": "GJw78Bd4uWQP"
      }
    },
    {
      "cell_type": "code",
      "source": [
        "model.fit(\n",
        "  training_inputs,\n",
        "  training_targets,\n",
        "  epochs=5,\n",
        "  batch_size=16,\n",
        "  validation_data=(val_inputs, val_targets)\n",
        ")"
      ],
      "metadata": {
        "id": "SKhfolYTuK-e",
        "outputId": "7aedf381-c710-4513-b9d0-43f679da6372",
        "colab": {
          "base_uri": "https://localhost:8080/"
        }
      },
      "execution_count": 54,
      "outputs": [
        {
          "output_type": "stream",
          "name": "stdout",
          "text": [
            "Epoch 1/5\n",
            "88/88 [==============================] - 1s 9ms/step - loss: 0.1507 - binary_accuracy: 0.9600 - val_loss: 3.0285e-04 - val_binary_accuracy: 1.0000\n",
            "Epoch 2/5\n",
            "88/88 [==============================] - 1s 7ms/step - loss: 0.0436 - binary_accuracy: 0.9850 - val_loss: 1.4429e-06 - val_binary_accuracy: 1.0000\n",
            "Epoch 3/5\n",
            "88/88 [==============================] - 0s 4ms/step - loss: 0.0469 - binary_accuracy: 0.9679 - val_loss: 1.7664e-04 - val_binary_accuracy: 1.0000\n",
            "Epoch 4/5\n",
            "88/88 [==============================] - 0s 2ms/step - loss: 0.0459 - binary_accuracy: 0.9714 - val_loss: 0.0126 - val_binary_accuracy: 1.0000\n",
            "Epoch 5/5\n",
            "88/88 [==============================] - 0s 2ms/step - loss: 0.0518 - binary_accuracy: 0.9729 - val_loss: 0.0361 - val_binary_accuracy: 1.0000\n"
          ]
        },
        {
          "output_type": "execute_result",
          "data": {
            "text/plain": [
              "<keras.src.callbacks.History at 0x7fa938495ab0>"
            ]
          },
          "metadata": {},
          "execution_count": 54
        }
      ]
    },
    {
      "cell_type": "code",
      "source": [
        "loss_and_metrics = model.evaluate(val_inputs, val_targets, batch_size=128)"
      ],
      "metadata": {
        "id": "7_AeZVx2utWV",
        "outputId": "810c511c-f0f1-4f2c-8772-cf12fec79110",
        "colab": {
          "base_uri": "https://localhost:8080/"
        }
      },
      "execution_count": 55,
      "outputs": [
        {
          "output_type": "stream",
          "name": "stdout",
          "text": [
            "5/5 [==============================] - 0s 4ms/step - loss: 0.0361 - binary_accuracy: 1.0000\n"
          ]
        }
      ]
    },
    {
      "cell_type": "markdown",
      "source": [
        "## Inference\n",
        "Once the model is trained it can be used for inference. For instance we can make predictions using the validation set"
      ],
      "metadata": {
        "id": "yooHpzXvw_be"
      }
    },
    {
      "cell_type": "code",
      "source": [
        "predictions = model.predict(val_inputs, batch_size=128)\n",
        "print(predictions[:10])"
      ],
      "metadata": {
        "id": "7KbdDNm8vDbO",
        "outputId": "bbe323eb-7f53-4724-94e3-8091a3b6c9fe",
        "colab": {
          "base_uri": "https://localhost:8080/"
        }
      },
      "execution_count": 56,
      "outputs": [
        {
          "output_type": "stream",
          "name": "stdout",
          "text": [
            "5/5 [==============================] - 0s 3ms/step\n",
            "[[-0.11680844]\n",
            " [-0.2179299 ]\n",
            " [-0.21180232]\n",
            " [-0.27385187]\n",
            " [-0.13171664]\n",
            " [-0.21666421]\n",
            " [-0.20281276]\n",
            " [-0.37584326]\n",
            " [-0.08811986]\n",
            " [-0.15790421]]\n"
          ]
        }
      ]
    },
    {
      "cell_type": "code",
      "source": [],
      "metadata": {
        "id": "a_kGywGNymXM"
      },
      "execution_count": null,
      "outputs": []
    }
  ]
}