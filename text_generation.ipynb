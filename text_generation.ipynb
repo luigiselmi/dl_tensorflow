{
 "cells": [
  {
   "cell_type": "markdown",
   "id": "b70fac23-1999-4633-b5fa-30ca62b115d7",
   "metadata": {},
   "source": [
    "# Generative deep learning: text generation\n",
    "We have seen in the sequence-to-sequence model that the model samples the next token of a sequence from a softmax distribution. The next token will be the one with the highest probability. The problem with this model is that it might not be random enough. We can change the randomness of the distribution, or its entropy, by changing its *temperature* $\\tau$. \n",
    "\n",
    "$$p(y,x) = \\frac{exp(-\\frac{E(y,x)}{\\tau})}{Z}$$\n",
    "\n",
    "where Z is the partition funcion."
   ]
  },
  {
   "cell_type": "code",
   "execution_count": null,
   "id": "07607eb7-af57-4fbd-a18a-bfe80e04b193",
   "metadata": {},
   "outputs": [],
   "source": [
    "!pip install tensorflow==2.8"
   ]
  },
  {
   "cell_type": "code",
   "execution_count": null,
   "id": "e7922392-bfe2-4811-9d05-e83b0d2f9ec7",
   "metadata": {},
   "outputs": [],
   "source": [
    "import tensorflow as tf\n",
    "import keras\n",
    "print('Tensorflow version: {}'.format(tf.__version__))\n",
    "print('Keras version: {}'.format(keras.__version__))"
   ]
  },
  {
   "cell_type": "code",
   "execution_count": null,
   "id": "8a57f4a8-4080-4116-8e31-2a358c1d5e0b",
   "metadata": {},
   "outputs": [],
   "source": [
    "!wget -nv 'https://ai.stanford.edu/~amaas/data/sentiment/aclImdb_v1.tar.gz' -P './data'"
   ]
  },
  {
   "cell_type": "code",
   "execution_count": null,
   "id": "54802dc3-7d5c-4a04-90cb-835f963939b3",
   "metadata": {},
   "outputs": [],
   "source": [
    "!tar -xf data/aclImdb_v1.tar.gz -C data/"
   ]
  },
  {
   "cell_type": "code",
   "execution_count": null,
   "id": "7f03dca8-2744-4c72-b452-5889caa4a292",
   "metadata": {},
   "outputs": [],
   "source": [
    "!rm -r data/aclImdb/train/unsup"
   ]
  }
 ],
 "metadata": {
  "kernelspec": {
   "display_name": "Python 3 (ipykernel)",
   "language": "python",
   "name": "python3"
  },
  "language_info": {
   "codemirror_mode": {
    "name": "ipython",
    "version": 3
   },
   "file_extension": ".py",
   "mimetype": "text/x-python",
   "name": "python",
   "nbconvert_exporter": "python",
   "pygments_lexer": "ipython3",
   "version": "3.12.5"
  }
 },
 "nbformat": 4,
 "nbformat_minor": 5
}
