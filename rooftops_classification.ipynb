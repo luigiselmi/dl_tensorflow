{
 "cells": [
  {
   "cell_type": "markdown",
   "id": "307a11d3-47bb-479f-bcbe-728ed7b8a1f6",
   "metadata": {},
   "source": [
    "# Rooftops classification"
   ]
  },
  {
   "cell_type": "code",
   "execution_count": null,
   "id": "e367eb43-5cd0-4993-9024-665e84d218c5",
   "metadata": {},
   "outputs": [],
   "source": [
    "import os\n",
    "from pathlib import Path\n",
    "import shutil\n",
    "import numpy as np\n",
    "import tensorflow as tf\n",
    "import matplotlib.pyplot as plt\n",
    "import keras\n",
    "from keras import layers\n",
    "from skimage import io\n",
    "from skimage import exposure\n",
    "from skimage.io import imsave, imread\n",
    "from sklearn.metrics import confusion_matrix\n",
    "from sklearn.metrics import ConfusionMatrixDisplay\n",
    "import time\n",
    "import warnings\n",
    "warnings.filterwarnings('ignore')\n",
    "print(\"NumPy version: %s\"%np.__version__)\n",
    "print('Tensorflow version: {:s}'.format(tf.__version__))\n",
    "print('Keras version. {}'.format(keras.__version__)) "
   ]
  }
 ],
 "metadata": {
  "kernelspec": {
   "display_name": "Python 3 (ipykernel)",
   "language": "python",
   "name": "python3"
  },
  "language_info": {
   "codemirror_mode": {
    "name": "ipython",
    "version": 3
   },
   "file_extension": ".py",
   "mimetype": "text/x-python",
   "name": "python",
   "nbconvert_exporter": "python",
   "pygments_lexer": "ipython3",
   "version": "3.12.3"
  }
 },
 "nbformat": 4,
 "nbformat_minor": 5
}
