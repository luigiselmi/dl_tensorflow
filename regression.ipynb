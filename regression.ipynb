{
  "nbformat": 4,
  "nbformat_minor": 0,
  "metadata": {
    "colab": {
      "provenance": [],
      "authorship_tag": "ABX9TyNsbHo9g2xJU2BauKtOVff2",
      "include_colab_link": true
    },
    "kernelspec": {
      "name": "python3",
      "display_name": "Python 3"
    },
    "language_info": {
      "name": "python"
    }
  },
  "cells": [
    {
      "cell_type": "markdown",
      "metadata": {
        "id": "view-in-github",
        "colab_type": "text"
      },
      "source": [
        "<a href=\"https://colab.research.google.com/github/luigiselmi/dl_tensorflow/blob/main/regression.ipynb\" target=\"_parent\"><img src=\"https://colab.research.google.com/assets/colab-badge.svg\" alt=\"Open In Colab\"/></a>"
      ]
    },
    {
      "cell_type": "markdown",
      "source": [
        "# Regression\n",
        "The goal of a regression algorithm is to find out the relationship between two or more continuous variables. In this notebook we will try to compute the price of houses in Boston from a set of numerical features. The [Boston Housing](https://www.cs.toronto.edu/~delve/data/boston/bostonDetail.html) dataset is characterized by the small size of the dataset and by the different ranges of values of each feature. The dataset can be downloaded from Tensorflow. The features of the dataset are\n",
        "\n",
        "1. CRIM - per capita crime rate by town\n",
        "2. ZN - proportion of residential land zoned for lots over 25,000 sq.ft.\n",
        "3. INDUS - proportion of non-retail business acres per town.\n",
        "4. CHAS - Charles River dummy variable (1 if tract bounds river; 0 otherwise)\n",
        "5. NOX - nitric oxides concentration (parts per 10 million)\n",
        "6. RM - average number of rooms per dwelling\n",
        "7. AGE - proportion of owner-occupied units built prior to 1940\n",
        "8. DIS - weighted distances to five Boston employment centres\n",
        "9. RAD - index of accessibility to radial highways\n",
        "10. TAX - full-value property-tax rate per 10000 dollars\n",
        "11. PTRATIO - pupil-teacher ratio by town\n",
        "12. B - 1000(Bk - 0.63)^2 where Bk is the proportion of blacks by town\n",
        "13. LSTAT - % lower status of the population\n",
        "14. MEDV - Median value of owner-occupied homes in $1000's\n",
        "\n",
        "The target feauture is MEDV, the median value of owner-occupied homes"
      ],
      "metadata": {
        "id": "zKvC9Q6oQS6c"
      }
    },
    {
      "cell_type": "code",
      "source": [
        "import numpy as np\n",
        "import tensorflow as tf\n",
        "from tensorflow import keras\n",
        "from tensorflow.keras import layers\n",
        "import matplotlib.pyplot as plt"
      ],
      "metadata": {
        "id": "Nk1QqKB2SZqO"
      },
      "execution_count": 1,
      "outputs": []
    },
    {
      "cell_type": "code",
      "source": [
        "from tensorflow.keras.datasets import boston_housing\n",
        "(train_data, train_targets), (test_data, test_targets) = (boston_housing.load_data())"
      ],
      "metadata": {
        "colab": {
          "base_uri": "https://localhost:8080/"
        },
        "id": "VJyHYeuAQSGE",
        "outputId": "320bfa28-1a9d-4547-be13-d30e445143cd"
      },
      "execution_count": 2,
      "outputs": [
        {
          "output_type": "stream",
          "name": "stdout",
          "text": [
            "Downloading data from https://storage.googleapis.com/tensorflow/tf-keras-datasets/boston_housing.npz\n",
            "57026/57026 [==============================] - 0s 0us/step\n"
          ]
        }
      ]
    },
    {
      "cell_type": "code",
      "execution_count": 3,
      "metadata": {
        "colab": {
          "base_uri": "https://localhost:8080/"
        },
        "id": "gY1hjITeQQ0a",
        "outputId": "eaf4e05b-8f82-4fac-976a-c4d072d93c9e"
      },
      "outputs": [
        {
          "output_type": "execute_result",
          "data": {
            "text/plain": [
              "((404, 13), (102, 13))"
            ]
          },
          "metadata": {},
          "execution_count": 3
        }
      ],
      "source": [
        "train_data.shape, test_data.shape"
      ]
    },
    {
      "cell_type": "markdown",
      "source": [
        "## Data normalization\n",
        "It might be difficult for the model to deal with feautures with different ranges of values. A simple technique to avoid such problem is to standardize each feature by subtracting itm mean value and dividing by its standard deviation. We use only the training data to compute the normalization parameters."
      ],
      "metadata": {
        "id": "GnsWG_nvcPa7"
      }
    },
    {
      "cell_type": "code",
      "source": [
        "mean = train_data.mean(axis=0) # compute the mean\n",
        "train_data -= mean # subtract the mean\n",
        "std = train_data.std(axis=0) # compute the standard deviation\n",
        "train_data /= std # resize\n",
        "test_data -= mean\n",
        "test_data /= std"
      ],
      "metadata": {
        "id": "oV89udfcSH-w"
      },
      "execution_count": 4,
      "outputs": []
    },
    {
      "cell_type": "code",
      "source": [
        "print('Minimum price: {0:.1f}$\\nMaximum price: {1:.1f}$'.format(train_targets.min() * 1000, train_targets.max() * 1000))"
      ],
      "metadata": {
        "id": "shYN7VskdnZ4",
        "outputId": "225b5f91-ed93-4ec3-8f9c-c7172e2b7476",
        "colab": {
          "base_uri": "https://localhost:8080/"
        }
      },
      "execution_count": 5,
      "outputs": [
        {
          "output_type": "stream",
          "name": "stdout",
          "text": [
            "Minimum price: 5000.0$\n",
            "Maximum price: 50000.0$\n"
          ]
        }
      ]
    },
    {
      "cell_type": "markdown",
      "source": [
        "## The regression model\n",
        "We use only two fully connected layers with 64 units each and an output layer with one unit, without activation function, to build our regression model. Since the dataset is small keeping the model as small as possible will help to avoid the overfitting problem. We use the mean squared error ([MSE](https://en.wikipedia.org/wiki/Mean_squared_error)) loss function, the [RMSprop optimizer](https://keras.io/api/optimizers/rmsprop/), and the mean absolute error ([MAE](https://en.wikipedia.org/wiki/Mean_absolute_error)) as a metrics to estimate the performance of the model."
      ],
      "metadata": {
        "id": "uMTXLXE2CXJg"
      }
    },
    {
      "cell_type": "code",
      "source": [
        "def build_model():\n",
        "    model = keras.Sequential([\n",
        "        layers.Dense(64, activation=\"relu\"),\n",
        "        layers.Dense(64, activation=\"relu\"),\n",
        "        layers.Dense(1)\n",
        "    ])\n",
        "    model.compile(optimizer='rmsprop', loss='mse', metrics=['mae'])\n",
        "    return model"
      ],
      "metadata": {
        "id": "qBdlVPA0AGg8"
      },
      "execution_count": 6,
      "outputs": []
    },
    {
      "cell_type": "markdown",
      "source": [
        "## K-fold validation\n",
        "Since the dataset is small, the performance might be different depending on what datapoints we use for validation. A better approach to train and validate a model with small datasets is to use k-fold validation. With this technique we split the dataset, after is has been shuffled, into k subsets, then we select the first subset for validation and the rest k-1 subsets are used for training. We train the model a certain number of epochs. Then we select the second subset and the previous one is put back into the k-1 subsets and then we train a new instance of the model for the same number of epochs like before. We proceed till all the k subsets have been used."
      ],
      "metadata": {
        "id": "6G8O9bHyHpmi"
      }
    },
    {
      "cell_type": "code",
      "source": [
        "k = 4\n",
        "num_val_samples = len(train_data) // k\n",
        "num_epochs = 100\n",
        "all_scores = []\n",
        "for fold in range(k):\n",
        "    print(f\"Processing fold #{fold}\")\n",
        "    val_data = train_data[fold * num_val_samples: (fold + 1) * num_val_samples]\n",
        "    val_targets = train_targets[fold * num_val_samples: (fold + 1) * num_val_samples]\n",
        "    partial_train_data = np.concatenate([train_data[:fold * num_val_samples], train_data[(fold + 1) * num_val_samples:]], axis=0)\n",
        "    partial_train_targets = np.concatenate([train_targets[:fold * num_val_samples], train_targets[(fold + 1) * num_val_samples:]], axis=0)\n",
        "    model = build_model()\n",
        "    model.fit(partial_train_data, partial_train_targets, epochs=num_epochs, batch_size=16, verbose=0)\n",
        "    val_mse, val_mae = model.evaluate(val_data, val_targets, verbose=0)\n",
        "    all_scores.append(val_mae)"
      ],
      "metadata": {
        "id": "HKePsz2jDHtm",
        "outputId": "2e7ec42e-4656-486f-9c3a-f36c21d4fc9d",
        "colab": {
          "base_uri": "https://localhost:8080/"
        }
      },
      "execution_count": 7,
      "outputs": [
        {
          "output_type": "stream",
          "name": "stdout",
          "text": [
            "Processing fold #0\n",
            "Processing fold #1\n",
            "Processing fold #2\n",
            "Processing fold #3\n"
          ]
        }
      ]
    },
    {
      "cell_type": "code",
      "source": [
        "all_scores"
      ],
      "metadata": {
        "id": "UH_JJFW3Ml_u",
        "outputId": "ced683a4-0948-4712-9f99-abd906c02061",
        "colab": {
          "base_uri": "https://localhost:8080/"
        }
      },
      "execution_count": 8,
      "outputs": [
        {
          "output_type": "execute_result",
          "data": {
            "text/plain": [
              "[1.9521507024765015,\n",
              " 2.3998167514801025,\n",
              " 2.3905208110809326,\n",
              " 2.4391560554504395]"
            ]
          },
          "metadata": {},
          "execution_count": 8
        }
      ]
    },
    {
      "cell_type": "code",
      "source": [
        "print('Mean prediction error: {:.0f}$'.format(np.mean(all_scores) * 1000))"
      ],
      "metadata": {
        "id": "Z9jv0K9DP-Hv",
        "outputId": "5dfb4a52-7b7b-4ab5-99a2-542eb61fdbdc",
        "colab": {
          "base_uri": "https://localhost:8080/"
        }
      },
      "execution_count": 9,
      "outputs": [
        {
          "output_type": "stream",
          "name": "stdout",
          "text": [
            "Mean prediction error: 2295$\n"
          ]
        }
      ]
    },
    {
      "cell_type": "markdown",
      "source": [
        "We run the model for 500 epochs. We save the validation score for each epoch"
      ],
      "metadata": {
        "id": "JEcB_H2oMbRc"
      }
    },
    {
      "cell_type": "code",
      "source": [
        "num_epochs = 500\n",
        "all_mae_histories = []\n",
        "for fold in range(k):\n",
        "    print(f\"Processing fold #{fold}\")\n",
        "    val_data = train_data[fold * num_val_samples: (fold + 1) * num_val_samples]\n",
        "    val_targets = train_targets[fold * num_val_samples: (fold + 1) * num_val_samples]\n",
        "    partial_train_data = np.concatenate([train_data[:fold * num_val_samples], train_data[(fold + 1) * num_val_samples:]], axis=0)\n",
        "    partial_train_targets = np.concatenate([train_targets[:fold * num_val_samples], train_targets[(fold + 1) * num_val_samples:]], axis=0)\n",
        "    model = build_model()\n",
        "    history = model.fit(partial_train_data, partial_train_targets, validation_data=(val_data, val_targets), epochs=num_epochs, batch_size=16, verbose=0)\n",
        "    mae_history = history.history[\"val_mae\"]\n",
        "    all_mae_histories.append(mae_history)"
      ],
      "metadata": {
        "id": "zU08JWCDQDMF",
        "outputId": "33f610e7-83e0-4d5a-ec17-c1fcb0ee5f09",
        "colab": {
          "base_uri": "https://localhost:8080/"
        }
      },
      "execution_count": 13,
      "outputs": [
        {
          "output_type": "stream",
          "name": "stdout",
          "text": [
            "Processing fold #0\n",
            "Processing fold #1\n",
            "Processing fold #2\n",
            "Processing fold #3\n"
          ]
        }
      ]
    },
    {
      "cell_type": "markdown",
      "source": [
        "We compute the average validation score per epoch over the four fold"
      ],
      "metadata": {
        "id": "bIyPYEhFOK4X"
      }
    },
    {
      "cell_type": "code",
      "source": [
        "average_mae_history = [np.mean([x[i] for x in all_mae_histories]) for i in range(num_epochs)]"
      ],
      "metadata": {
        "id": "jgbggANpRgJL"
      },
      "execution_count": 14,
      "outputs": []
    },
    {
      "cell_type": "markdown",
      "source": [
        "Then we plot the average validation score per epoch"
      ],
      "metadata": {
        "id": "FL_qlC2oPEjt"
      }
    },
    {
      "cell_type": "code",
      "source": [
        "plt.plot(range(1, len(average_mae_history) + 1), average_mae_history)\n",
        "plt.xlabel(\"Epochs\")\n",
        "plt.ylabel(\"Validation MAE\")\n",
        "plt.show()"
      ],
      "metadata": {
        "id": "uDnkb3svSJa8",
        "outputId": "08d8695f-fe15-472d-b7c7-150b0eb83488",
        "colab": {
          "base_uri": "https://localhost:8080/",
          "height": 449
        }
      },
      "execution_count": 15,
      "outputs": [
        {
          "output_type": "display_data",
          "data": {
            "text/plain": [
              "<Figure size 640x480 with 1 Axes>"
            ],
            "image/png": "[encoded data removed]"
          },
          "metadata": {}
        }
      ]
    },
    {
      "cell_type": "markdown",
      "source": [
        "The validation score is much higher in the first 10 epochs than in the following ones, so we remove those 10 epochs. After the truncation we can see that the lowest validation error is achieved after 130 epoch, then the error start to increase again."
      ],
      "metadata": {
        "id": "532-yAFRPaVM"
      }
    },
    {
      "cell_type": "code",
      "source": [
        "truncated_mae_history = average_mae_history[10:]\n",
        "plt.plot(range(1, len(truncated_mae_history) + 1), truncated_mae_history)\n",
        "plt.xlabel(\"Epochs\")\n",
        "plt.ylabel(\"Validation MAE\")\n",
        "plt.show()"
      ],
      "metadata": {
        "id": "e79OyaiASdaO",
        "outputId": "3e39f167-d9b6-4c94-fdf4-cfaea6a71b15",
        "colab": {
          "base_uri": "https://localhost:8080/",
          "height": 449
        }
      },
      "execution_count": 16,
      "outputs": [
        {
          "output_type": "display_data",
          "data": {
            "text/plain": [
              "<Figure size 640x480 with 1 Axes>"
            ],
            "image/png": "[encoded data removed]"
          },
          "metadata": {}
        }
      ]
    },
    {
      "cell_type": "markdown",
      "source": [
        "We create a new instance of the same model to be trained for 130 epochs"
      ],
      "metadata": {
        "id": "68JQSWzmPNeb"
      }
    },
    {
      "cell_type": "code",
      "source": [
        "model = build_model()\n",
        "model.fit(train_data, train_targets, epochs=130, batch_size=16, verbose=0)\n",
        "test_mse_score, test_mae_score = model.evaluate(test_data, test_targets)"
      ],
      "metadata": {
        "id": "s3-4rMVnSxWM",
        "outputId": "d367a179-61fa-4960-aee0-f9411a50740c",
        "colab": {
          "base_uri": "https://localhost:8080/"
        }
      },
      "execution_count": 17,
      "outputs": [
        {
          "output_type": "stream",
          "name": "stdout",
          "text": [
            "4/4 [==============================] - 0s 4ms/step - loss: 15.8912 - mae: 2.5307\n"
          ]
        }
      ]
    },
    {
      "cell_type": "code",
      "source": [
        "print('Mean absolute error on the test set: {:.0f}$'.format(test_mae_score * 1000))"
      ],
      "metadata": {
        "id": "tII8i6NXTIMW",
        "outputId": "9c7a6773-785d-4e1a-ad9e-644a0e29845a",
        "colab": {
          "base_uri": "https://localhost:8080/"
        }
      },
      "execution_count": 18,
      "outputs": [
        {
          "output_type": "stream",
          "name": "stdout",
          "text": [
            "Mean absolute error on the test set: 2531$\n"
          ]
        }
      ]
    },
    {
      "cell_type": "markdown",
      "source": [
        "We can use the model to make prediction, for example using the test data."
      ],
      "metadata": {
        "id": "EMbBPkfMQM2d"
      }
    },
    {
      "cell_type": "code",
      "source": [
        "predictions = model.predict(test_data)"
      ],
      "metadata": {
        "id": "LEJcO3iqTSZy",
        "outputId": "c7cf8cc9-37cf-4bab-b941-4e6208b21a99",
        "colab": {
          "base_uri": "https://localhost:8080/"
        }
      },
      "execution_count": 19,
      "outputs": [
        {
          "output_type": "stream",
          "name": "stdout",
          "text": [
            "4/4 [==============================] - 0s 4ms/step\n"
          ]
        }
      ]
    },
    {
      "cell_type": "code",
      "source": [
        "predictions[0] * 1000"
      ],
      "metadata": {
        "id": "4VWUvqEWTpoF",
        "outputId": "ead2c107-92a9-40d6-ac3d-49622404add3",
        "colab": {
          "base_uri": "https://localhost:8080/"
        }
      },
      "execution_count": 20,
      "outputs": [
        {
          "output_type": "execute_result",
          "data": {
            "text/plain": [
              "array([7630.2227], dtype=float32)"
            ]
          },
          "metadata": {},
          "execution_count": 20
        }
      ]
    },
    {
      "cell_type": "code",
      "source": [],
      "metadata": {
        "id": "inFZwmYITubW"
      },
      "execution_count": null,
      "outputs": []
    }
  ]
}