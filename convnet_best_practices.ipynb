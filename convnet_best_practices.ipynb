{
  "nbformat": 4,
  "nbformat_minor": 0,
  "metadata": {
    "colab": {
      "provenance": [],
      "gpuType": "T4",
      "authorship_tag": "ABX9TyOA86K8Rw/U+E9MsBhXYusV",
      "include_colab_link": true
    },
    "kernelspec": {
      "name": "python3",
      "display_name": "Python 3"
    },
    "language_info": {
      "name": "python"
    },
    "accelerator": "GPU"
  },
  "cells": [
    {
      "cell_type": "markdown",
      "metadata": {
        "id": "view-in-github",
        "colab_type": "text"
      },
      "source": [
        "<a href=\"https://colab.research.google.com/github/luigiselmi/dl_tensorflow/blob/main/convnet_best_practices.ipynb\" target=\"_parent\"><img src=\"https://colab.research.google.com/assets/colab-badge.svg\" alt=\"Open In Colab\"/></a>"
      ]
    },
    {
      "cell_type": "markdown",
      "source": [
        "# Advanced Deep Learning for Computer Vision - ConvNet Architecture Best Practices\n",
        "In this notebook we present three architectural changes for convolutional layers that can improve the efficiency and the results of standard convolutional networks. The main changes are\n",
        "\n",
        "1. Residual blocks\n",
        "2. Batch normalization\n",
        "3. Separable convolution\n",
        "\n",
        "Finally we will implement all thse changes in a small version of the Xception architecture and will use the model on the cat and dogs dataset to compare its performance with the standard convolutional network model used in the notebook [*Deep Learning for Computer Vision*](computer_vision.ipynb)"
      ],
      "metadata": {
        "id": "ONo-_D12pRgt"
      }
    },
    {
      "cell_type": "markdown",
      "source": [
        "## Residual connections\n",
        "Deep neural networks are affected by the *vanishing gradients* problem for which the parameters become increasingly smaller. One solution to avoid such problem is to use a shortcut, that is to add the input to the output of a block of one or more layers. Residual connections have been introduced in the paper \"[Deep Residual Learning for Image Recognition](https://arxiv.org/abs/1512.03385)\" by He et al.\n",
        "![residual connection](https://github.com/luigiselmi/dl_tensorflow/blob/main/images/residual_connection.jpg?raw=1)"
      ],
      "metadata": {
        "id": "dTpBqI4ZpGf6"
      }
    },
    {
      "cell_type": "code",
      "source": [
        "from tensorflow import keras\n",
        "from tensorflow.keras import layers\n",
        "import matplotlib.pyplot as plt"
      ],
      "metadata": {
        "id": "4UcdtJ1Nr0OG"
      },
      "execution_count": 33,
      "outputs": []
    },
    {
      "cell_type": "markdown",
      "source": [
        "The shape of the output of a block of convolutional layers can change. For instance, more filters can be added while the height and width of the filters can shrink if a MaxPooling layer is added to a convolutional layer. In order to add the input tensor to the output they have to have the same shape."
      ],
      "metadata": {
        "id": "dkGeyJ1XrdrB"
      }
    },
    {
      "cell_type": "code",
      "source": [
        "inputs = keras.Input(shape=(32, 32, 3))\n",
        "x = layers.Conv2D(filters=32, kernel_size=3, activation=\"relu\")(inputs)\n",
        "residual = x\n",
        "residual.shape"
      ],
      "metadata": {
        "colab": {
          "base_uri": "https://localhost:8080/"
        },
        "id": "JPaQSaPDsGCm",
        "outputId": "2c0f4f63-e449-4781-b65e-1eed845ee1b6"
      },
      "execution_count": 4,
      "outputs": [
        {
          "output_type": "execute_result",
          "data": {
            "text/plain": [
              "TensorShape([None, 30, 30, 32])"
            ]
          },
          "metadata": {},
          "execution_count": 4
        }
      ]
    },
    {
      "cell_type": "markdown",
      "source": [
        "Let's say we add a block to the model that doubles the number of filters"
      ],
      "metadata": {
        "id": "-vnMSN6SsMvk"
      }
    },
    {
      "cell_type": "code",
      "source": [
        "x = layers.Conv2D(64, 3, activation=\"relu\", padding=\"same\")(x)\n",
        "x.shape"
      ],
      "metadata": {
        "colab": {
          "base_uri": "https://localhost:8080/"
        },
        "id": "AHFO7AM3sUkV",
        "outputId": "90d39c86-8acf-4f55-ad56-9eca568562dc"
      },
      "execution_count": 5,
      "outputs": [
        {
          "output_type": "execute_result",
          "data": {
            "text/plain": [
              "TensorShape([None, 30, 30, 64])"
            ]
          },
          "metadata": {},
          "execution_count": 5
        }
      ]
    },
    {
      "cell_type": "markdown",
      "source": [
        "In this case we can use a 1x1 convolutional layer without activation function that will simply project the input to the same number of 2D arrays"
      ],
      "metadata": {
        "id": "rtlXND0osaoy"
      }
    },
    {
      "cell_type": "code",
      "source": [
        "residual = layers.Conv2D(64, 1)(residual)\n",
        "residual.shape"
      ],
      "metadata": {
        "colab": {
          "base_uri": "https://localhost:8080/"
        },
        "id": "6kbvghalsjBk",
        "outputId": "243f8a78-d607-425b-a5f1-f8fb97d5a34d"
      },
      "execution_count": 6,
      "outputs": [
        {
          "output_type": "execute_result",
          "data": {
            "text/plain": [
              "TensorShape([None, 30, 30, 64])"
            ]
          },
          "metadata": {},
          "execution_count": 6
        }
      ]
    },
    {
      "cell_type": "markdown",
      "source": [
        "Now the input can be added to each filter"
      ],
      "metadata": {
        "id": "k6wV742zsyOG"
      }
    },
    {
      "cell_type": "code",
      "source": [
        "x = layers.add([x, residual])\n",
        "x.shape"
      ],
      "metadata": {
        "colab": {
          "base_uri": "https://localhost:8080/"
        },
        "id": "s4W-4yFls4u5",
        "outputId": "69cb34f5-5c98-4d9b-b99e-17c469afd8a4"
      },
      "execution_count": 7,
      "outputs": [
        {
          "output_type": "execute_result",
          "data": {
            "text/plain": [
              "TensorShape([None, 30, 30, 64])"
            ]
          },
          "metadata": {},
          "execution_count": 7
        }
      ]
    },
    {
      "cell_type": "markdown",
      "source": [
        "Now we see the case for which also the height and width of the filters changes"
      ],
      "metadata": {
        "id": "FcUyKLOgtAyB"
      }
    },
    {
      "cell_type": "code",
      "source": [
        "inputs = keras.Input(shape=(32, 32, 3))\n",
        "x = layers.Conv2D(filters=32, kernel_size=3, activation=\"relu\")(inputs)\n",
        "residual = x\n",
        "residual.shape"
      ],
      "metadata": {
        "colab": {
          "base_uri": "https://localhost:8080/"
        },
        "id": "XOJ2ORTdtH6e",
        "outputId": "ad716b2d-df6f-4a4c-c604-75c9fd8acaab"
      },
      "execution_count": 8,
      "outputs": [
        {
          "output_type": "execute_result",
          "data": {
            "text/plain": [
              "TensorShape([None, 30, 30, 32])"
            ]
          },
          "metadata": {},
          "execution_count": 8
        }
      ]
    },
    {
      "cell_type": "markdown",
      "source": [
        "For instance we double the number of filters like before and we also reduce the size of each filter"
      ],
      "metadata": {
        "id": "5ued6YhQtMRa"
      }
    },
    {
      "cell_type": "code",
      "source": [
        "x = layers.Conv2D(64, 3, activation=\"relu\", padding=\"same\")(x)\n",
        "x = layers.MaxPooling2D(2, padding=\"same\")(x)\n",
        "x.shape"
      ],
      "metadata": {
        "colab": {
          "base_uri": "https://localhost:8080/"
        },
        "id": "foOtxM25tSI8",
        "outputId": "06f876cd-6c01-49ef-ec94-3a5c73ccd405"
      },
      "execution_count": 9,
      "outputs": [
        {
          "output_type": "execute_result",
          "data": {
            "text/plain": [
              "TensorShape([None, 15, 15, 64])"
            ]
          },
          "metadata": {},
          "execution_count": 9
        }
      ]
    },
    {
      "cell_type": "markdown",
      "source": [
        "In this case we use again a 1x1 convolutional layer without activation function and with stride = 2 to match the size of the filters."
      ],
      "metadata": {
        "id": "hDKNi6MRtYCG"
      }
    },
    {
      "cell_type": "code",
      "source": [
        "residual = layers.Conv2D(64, 1, strides=2)(residual)\n",
        "residual.shape"
      ],
      "metadata": {
        "colab": {
          "base_uri": "https://localhost:8080/"
        },
        "id": "yV3Uv3oxte5n",
        "outputId": "34e8ce87-4a15-4f17-c71e-decbd99308ff"
      },
      "execution_count": 10,
      "outputs": [
        {
          "output_type": "execute_result",
          "data": {
            "text/plain": [
              "TensorShape([None, 15, 15, 64])"
            ]
          },
          "metadata": {},
          "execution_count": 10
        }
      ]
    },
    {
      "cell_type": "markdown",
      "source": [
        "Now we can add the input tensor to the output."
      ],
      "metadata": {
        "id": "In6JosNQtmdO"
      }
    },
    {
      "cell_type": "code",
      "source": [
        "x = layers.add([x, residual])\n",
        "x.shape"
      ],
      "metadata": {
        "colab": {
          "base_uri": "https://localhost:8080/"
        },
        "id": "MajUZe86trBD",
        "outputId": "794a4c90-b51e-4dc6-865f-ae3b5357a4ae"
      },
      "execution_count": 11,
      "outputs": [
        {
          "output_type": "execute_result",
          "data": {
            "text/plain": [
              "TensorShape([None, 15, 15, 64])"
            ]
          },
          "metadata": {},
          "execution_count": 11
        }
      ]
    },
    {
      "cell_type": "markdown",
      "source": [
        "### An example of ConvNet with residual blocks\n",
        "We build a simple convolutional network using three residual blocks, each containing two convolutional layers.   "
      ],
      "metadata": {
        "id": "7u8-LAxJtwry"
      }
    },
    {
      "cell_type": "code",
      "source": [
        "def residual_block(x, filters, pooling=False):\n",
        "    residual = x\n",
        "    x = layers.Conv2D(filters, 3, activation=\"relu\", padding=\"same\")(x)\n",
        "    x = layers.Conv2D(filters, 3, activation=\"relu\", padding=\"same\")(x)\n",
        "    if pooling:\n",
        "        x = layers.MaxPooling2D(2, padding=\"same\")(x)\n",
        "        residual = layers.Conv2D(filters, 1, strides=2)(residual)\n",
        "    elif filters != residual.shape[-1]:\n",
        "        residual = layers.Conv2D(filters, 1)(residual)\n",
        "    x = layers.add([x, residual])\n",
        "    return x"
      ],
      "metadata": {
        "id": "m-4cu-czt4_v"
      },
      "execution_count": 12,
      "outputs": []
    },
    {
      "cell_type": "markdown",
      "source": [
        "We double the number of filters of each block, that is of each convolutional layer inside the block, and change their size in two blocks."
      ],
      "metadata": {
        "id": "epQ5F4fet9BS"
      }
    },
    {
      "cell_type": "code",
      "source": [
        "inputs = keras.Input(shape=(32, 32, 3))\n",
        "x = layers.Rescaling(1./255)(inputs)\n",
        "x = residual_block(x, filters=32, pooling=True)\n",
        "x = residual_block(x, filters=64, pooling=True)\n",
        "x = residual_block(x, filters=128, pooling=False)\n",
        "x = layers.GlobalAveragePooling2D()(x)\n",
        "outputs = layers.Dense(1, activation=\"sigmoid\")(x)\n",
        "model = keras.Model(inputs=inputs, outputs=outputs)\n",
        "model.summary()"
      ],
      "metadata": {
        "colab": {
          "base_uri": "https://localhost:8080/"
        },
        "id": "1hy6zkJ7uCE8",
        "outputId": "7a59072a-2ddc-48c0-b700-21ba211696de"
      },
      "execution_count": 13,
      "outputs": [
        {
          "output_type": "stream",
          "name": "stdout",
          "text": [
            "Model: \"model\"\n",
            "__________________________________________________________________________________________________\n",
            " Layer (type)                Output Shape                 Param #   Connected to                  \n",
            "==================================================================================================\n",
            " input_3 (InputLayer)        [(None, 32, 32, 3)]          0         []                            \n",
            "                                                                                                  \n",
            " rescaling (Rescaling)       (None, 32, 32, 3)            0         ['input_3[0][0]']             \n",
            "                                                                                                  \n",
            " conv2d_6 (Conv2D)           (None, 32, 32, 32)           896       ['rescaling[0][0]']           \n",
            "                                                                                                  \n",
            " conv2d_7 (Conv2D)           (None, 32, 32, 32)           9248      ['conv2d_6[0][0]']            \n",
            "                                                                                                  \n",
            " max_pooling2d_1 (MaxPoolin  (None, 16, 16, 32)           0         ['conv2d_7[0][0]']            \n",
            " g2D)                                                                                             \n",
            "                                                                                                  \n",
            " conv2d_8 (Conv2D)           (None, 16, 16, 32)           128       ['rescaling[0][0]']           \n",
            "                                                                                                  \n",
            " add_2 (Add)                 (None, 16, 16, 32)           0         ['max_pooling2d_1[0][0]',     \n",
            "                                                                     'conv2d_8[0][0]']            \n",
            "                                                                                                  \n",
            " conv2d_9 (Conv2D)           (None, 16, 16, 64)           18496     ['add_2[0][0]']               \n",
            "                                                                                                  \n",
            " conv2d_10 (Conv2D)          (None, 16, 16, 64)           36928     ['conv2d_9[0][0]']            \n",
            "                                                                                                  \n",
            " max_pooling2d_2 (MaxPoolin  (None, 8, 8, 64)             0         ['conv2d_10[0][0]']           \n",
            " g2D)                                                                                             \n",
            "                                                                                                  \n",
            " conv2d_11 (Conv2D)          (None, 8, 8, 64)             2112      ['add_2[0][0]']               \n",
            "                                                                                                  \n",
            " add_3 (Add)                 (None, 8, 8, 64)             0         ['max_pooling2d_2[0][0]',     \n",
            "                                                                     'conv2d_11[0][0]']           \n",
            "                                                                                                  \n",
            " conv2d_12 (Conv2D)          (None, 8, 8, 128)            73856     ['add_3[0][0]']               \n",
            "                                                                                                  \n",
            " conv2d_13 (Conv2D)          (None, 8, 8, 128)            147584    ['conv2d_12[0][0]']           \n",
            "                                                                                                  \n",
            " conv2d_14 (Conv2D)          (None, 8, 8, 128)            8320      ['add_3[0][0]']               \n",
            "                                                                                                  \n",
            " add_4 (Add)                 (None, 8, 8, 128)            0         ['conv2d_13[0][0]',           \n",
            "                                                                     'conv2d_14[0][0]']           \n",
            "                                                                                                  \n",
            " global_average_pooling2d (  (None, 128)                  0         ['add_4[0][0]']               \n",
            " GlobalAveragePooling2D)                                                                          \n",
            "                                                                                                  \n",
            " dense (Dense)               (None, 1)                    129       ['global_average_pooling2d[0][\n",
            "                                                                    0]']                          \n",
            "                                                                                                  \n",
            "==================================================================================================\n",
            "Total params: 297697 (1.14 MB)\n",
            "Trainable params: 297697 (1.14 MB)\n",
            "Non-trainable params: 0 (0.00 Byte)\n",
            "__________________________________________________________________________________________________\n"
          ]
        }
      ]
    },
    {
      "cell_type": "markdown",
      "source": [
        "## Batch normalization\n",
        "Data normalization is usually applied in machine learning algorithms where the input feautures have values of different order of magnitude, generally speaking, when their distribution is very different. Usually we subtract the mean to the input data and divide the result by the standard deviation. In classic machine learning algorithms is assumed that such transformation is enough to avoid problems. In deep neural networks where the data may pass through several layers with nonlinear activation functions we cannot assume that the output values, or distribution, of a layer or block of layers will stay within a certain range. A batch normalization layer, e.g. *BatchNormalization* in Keras, is a layer that can be added after a layer or block to normalize the data during training and inference time. The type of normalization is the same as discussed above. During the training phase the normalization is based on the current batch of data. At inference time the input data is normalized according to the exponential moving average and to the standard deviation of the batches seen during training. Batch normalization improves the gradient propagation and therefore deeper networks as the residual connections. A BatchNormalization layer can be added before the activation function as shown in the following code snippet. Another improvement is to remove the bias since the batch normalization will move the values around a zero mean distribution.    "
      ],
      "metadata": {
        "id": "zELiSlVrmoWk"
      }
    },
    {
      "cell_type": "code",
      "source": [
        "from tensorflow import keras\n",
        "from tensorflow.keras import layers"
      ],
      "metadata": {
        "id": "h0XZkruCrkIg"
      },
      "execution_count": 2,
      "outputs": []
    },
    {
      "cell_type": "code",
      "execution_count": 4,
      "metadata": {
        "id": "y6ZRDKKCmTnf"
      },
      "outputs": [],
      "source": [
        "from tensorflow import keras\n",
        "from tensorflow.keras import layers\n",
        "\n",
        "inputs = keras.Input(shape=(32, 32, 3))\n",
        "x = layers.Conv2D(32, 3, activation=\"relu\")(inputs)\n",
        "\n",
        "x = layers.Conv2D(32, 3, use_bias=False)(x) # the bias can be removed since the normalization will remove it anyway\n",
        "x = layers.BatchNormalization()(x)\n",
        "x = layers.Activation(\"relu\")(x) # apply the activation function after the nbatch normalization"
      ]
    },
    {
      "cell_type": "markdown",
      "source": [
        "Batch normalization is used in many deep learning architectures such as ResNet, EfficientNet, Xception."
      ],
      "metadata": {
        "id": "-wKzRHEqLjM3"
      }
    },
    {
      "cell_type": "markdown",
      "source": [
        "## Separable convolutions\n",
        "In a standard convolutional layer the filters are applied to each input feature map. The number of learnable parameters, without the bias, is given by\n",
        "\n",
        "$$p_l = f_{l-1} \\times k_l \\times k_l \\times f_l $$\n",
        "\n",
        "so e.g. for a $3 \\times 3$ kernel size, 64 input feature maps and 64 filters the number of parameters is 36864. if we assume that the feature maps are independent, that is there is no correlation between them, we might apply each filter to only one feature map and add them together. In this case the number of learnable parameters is\n",
        "\n",
        "$$p_{l} = f_{l-1} \\times k_l \\times k_l + f_{l-1} \\times f_l$$\n",
        "\n",
        "So for the exampe above the number of paameters would be 4672, a reduction of almost a factor 8 in the number of parameters."
      ],
      "metadata": {
        "id": "YQbmkgIYZAcY"
      }
    },
    {
      "cell_type": "markdown",
      "source": [
        "## The Xception architecture\n",
        "We implement a small version of the Xception architecture that uses the improvement discussed so far: residual blocks, batch normalization, and separable convolutions. We use the model with the cats and dogs dataset. Since these are RGB images where each channel is higly correlated with the others, the architecture start with a standard depth-wise convolutional layer followed by blocks containning separable convolutional layers (*SeparableConv2D* layer in Keras).  "
      ],
      "metadata": {
        "id": "o7WXr6BHfAfl"
      }
    },
    {
      "cell_type": "markdown",
      "source": [
        "We download the dataset from Kaggle as in the [*Deep Learning for Computer Vision*](computer_vision.ipynb) notebook. We need to upload our token in order to access the dataset."
      ],
      "metadata": {
        "id": "6JzCJVwXjXHN"
      }
    },
    {
      "cell_type": "code",
      "source": [
        "from google.colab import files\n",
        "files.upload()"
      ],
      "metadata": {
        "colab": {
          "base_uri": "https://localhost:8080/",
          "height": 90
        },
        "id": "8tZnA_MujVZ4",
        "outputId": "d0524188-a7af-41e0-a69c-98bb5d74fa96"
      },
      "execution_count": 14,
      "outputs": [
        {
          "output_type": "display_data",
          "data": {
            "text/plain": [
              "<IPython.core.display.HTML object>"
            ],
            "text/html": [
              "\n",
              "     <input type=\"file\" id=\"files-f56714aa-a51a-4572-9f18-6d74bbe8ac1b\" name=\"files[]\" multiple disabled\n",
              "        style=\"border:none\" />\n",
              "     <output id=\"result-f56714aa-a51a-4572-9f18-6d74bbe8ac1b\">\n",
              "      Upload widget is only available when the cell has been executed in the\n",
              "      current browser session. Please rerun this cell to enable.\n",
              "      </output>\n",
              "      <script>// Copyright 2017 Google LLC\n",
              "//\n",
              "// Licensed under the Apache License, Version 2.0 (the \"License\");\n",
              "// you may not use this file except in compliance with the License.\n",
              "// You may obtain a copy of the License at\n",
              "//\n",
              "//      http://www.apache.org/licenses/LICENSE-2.0\n",
              "//\n",
              "// Unless required by applicable law or agreed to in writing, software\n",
              "// distributed under the License is distributed on an \"AS IS\" BASIS,\n",
              "// WITHOUT WARRANTIES OR CONDITIONS OF ANY KIND, either express or implied.\n",
              "// See the License for the specific language governing permissions and\n",
              "// limitations under the License.\n",
              "\n",
              "/**\n",
              " * @fileoverview Helpers for google.colab Python module.\n",
              " */\n",
              "(function(scope) {\n",
              "function span(text, styleAttributes = {}) {\n",
              "  const element = document.createElement('span');\n",
              "  element.textContent = text;\n",
              "  for (const key of Object.keys(styleAttributes)) {\n",
              "    element.style[key] = styleAttributes[key];\n",
              "  }\n",
              "  return element;\n",
              "}\n",
              "\n",
              "// Max number of bytes which will be uploaded at a time.\n",
              "const MAX_PAYLOAD_SIZE = 100 * 1024;\n",
              "\n",
              "function _uploadFiles(inputId, outputId) {\n",
              "  const steps = uploadFilesStep(inputId, outputId);\n",
              "  const outputElement = document.getElementById(outputId);\n",
              "  // Cache steps on the outputElement to make it available for the next call\n",
              "  // to uploadFilesContinue from Python.\n",
              "  outputElement.steps = steps;\n",
              "\n",
              "  return _uploadFilesContinue(outputId);\n",
              "}\n",
              "\n",
              "// This is roughly an async generator (not supported in the browser yet),\n",
              "// where there are multiple asynchronous steps and the Python side is going\n",
              "// to poll for completion of each step.\n",
              "// This uses a Promise to block the python side on completion of each step,\n",
              "// then passes the result of the previous step as the input to the next step.\n",
              "function _uploadFilesContinue(outputId) {\n",
              "  const outputElement = document.getElementById(outputId);\n",
              "  const steps = outputElement.steps;\n",
              "\n",
              "  const next = steps.next(outputElement.lastPromiseValue);\n",
              "  return Promise.resolve(next.value.promise).then((value) => {\n",
              "    // Cache the last promise value to make it available to the next\n",
              "    // step of the generator.\n",
              "    outputElement.lastPromiseValue = value;\n",
              "    return next.value.response;\n",
              "  });\n",
              "}\n",
              "\n",
              "/**\n",
              " * Generator function which is called between each async step of the upload\n",
              " * process.\n",
              " * @param {string} inputId Element ID of the input file picker element.\n",
              " * @param {string} outputId Element ID of the output display.\n",
              " * @return {!Iterable<!Object>} Iterable of next steps.\n",
              " */\n",
              "function* uploadFilesStep(inputId, outputId) {\n",
              "  const inputElement = document.getElementById(inputId);\n",
              "  inputElement.disabled = false;\n",
              "\n",
              "  const outputElement = document.getElementById(outputId);\n",
              "  outputElement.innerHTML = '';\n",
              "\n",
              "  const pickedPromise = new Promise((resolve) => {\n",
              "    inputElement.addEventListener('change', (e) => {\n",
              "      resolve(e.target.files);\n",
              "    });\n",
              "  });\n",
              "\n",
              "  const cancel = document.createElement('button');\n",
              "  inputElement.parentElement.appendChild(cancel);\n",
              "  cancel.textContent = 'Cancel upload';\n",
              "  const cancelPromise = new Promise((resolve) => {\n",
              "    cancel.onclick = () => {\n",
              "      resolve(null);\n",
              "    };\n",
              "  });\n",
              "\n",
              "  // Wait for the user to pick the files.\n",
              "  const files = yield {\n",
              "    promise: Promise.race([pickedPromise, cancelPromise]),\n",
              "    response: {\n",
              "      action: 'starting',\n",
              "    }\n",
              "  };\n",
              "\n",
              "  cancel.remove();\n",
              "\n",
              "  // Disable the input element since further picks are not allowed.\n",
              "  inputElement.disabled = true;\n",
              "\n",
              "  if (!files) {\n",
              "    return {\n",
              "      response: {\n",
              "        action: 'complete',\n",
              "      }\n",
              "    };\n",
              "  }\n",
              "\n",
              "  for (const file of files) {\n",
              "    const li = document.createElement('li');\n",
              "    li.append(span(file.name, {fontWeight: 'bold'}));\n",
              "    li.append(span(\n",
              "        `(${file.type || 'n/a'}) - ${file.size} bytes, ` +\n",
              "        `last modified: ${\n",
              "            file.lastModifiedDate ? file.lastModifiedDate.toLocaleDateString() :\n",
              "                                    'n/a'} - `));\n",
              "    const percent = span('0% done');\n",
              "    li.appendChild(percent);\n",
              "\n",
              "    outputElement.appendChild(li);\n",
              "\n",
              "    const fileDataPromise = new Promise((resolve) => {\n",
              "      const reader = new FileReader();\n",
              "      reader.onload = (e) => {\n",
              "        resolve(e.target.result);\n",
              "      };\n",
              "      reader.readAsArrayBuffer(file);\n",
              "    });\n",
              "    // Wait for the data to be ready.\n",
              "    let fileData = yield {\n",
              "      promise: fileDataPromise,\n",
              "      response: {\n",
              "        action: 'continue',\n",
              "      }\n",
              "    };\n",
              "\n",
              "    // Use a chunked sending to avoid message size limits. See b/62115660.\n",
              "    let position = 0;\n",
              "    do {\n",
              "      const length = Math.min(fileData.byteLength - position, MAX_PAYLOAD_SIZE);\n",
              "      const chunk = new Uint8Array(fileData, position, length);\n",
              "      position += length;\n",
              "\n",
              "      const base64 = btoa(String.fromCharCode.apply(null, chunk));\n",
              "      yield {\n",
              "        response: {\n",
              "          action: 'append',\n",
              "          file: file.name,\n",
              "          data: base64,\n",
              "        },\n",
              "      };\n",
              "\n",
              "      let percentDone = fileData.byteLength === 0 ?\n",
              "          100 :\n",
              "          Math.round((position / fileData.byteLength) * 100);\n",
              "      percent.textContent = `${percentDone}% done`;\n",
              "\n",
              "    } while (position < fileData.byteLength);\n",
              "  }\n",
              "\n",
              "  // All done.\n",
              "  yield {\n",
              "    response: {\n",
              "      action: 'complete',\n",
              "    }\n",
              "  };\n",
              "}\n",
              "\n",
              "scope.google = scope.google || {};\n",
              "scope.google.colab = scope.google.colab || {};\n",
              "scope.google.colab._files = {\n",
              "  _uploadFiles,\n",
              "  _uploadFilesContinue,\n",
              "};\n",
              "})(self);\n",
              "</script> "
            ]
          },
          "metadata": {}
        },
        {
          "output_type": "stream",
          "name": "stdout",
          "text": [
            "Saving kaggle.json to kaggle.json\n"
          ]
        },
        {
          "output_type": "execute_result",
          "data": {
            "text/plain": [
              "{'kaggle.json': b'{\"username\":\"lselmi\",\"key\":\"c8a6ca5d3e0efc3c981490a3cbb4bb98\"}'}"
            ]
          },
          "metadata": {},
          "execution_count": 14
        }
      ]
    },
    {
      "cell_type": "code",
      "source": [
        "mkdir /root/.kaggle"
      ],
      "metadata": {
        "id": "ha8IsTkPkL25"
      },
      "execution_count": 15,
      "outputs": []
    },
    {
      "cell_type": "code",
      "source": [
        "mv kaggle.json /root/.kaggle/"
      ],
      "metadata": {
        "id": "3pW2oGLTkRc_"
      },
      "execution_count": 16,
      "outputs": []
    },
    {
      "cell_type": "code",
      "source": [
        "!kaggle competitions download -c dogs-vs-cats"
      ],
      "metadata": {
        "colab": {
          "base_uri": "https://localhost:8080/"
        },
        "id": "K4zfEHKQkYSJ",
        "outputId": "e341825b-47f6-40c5-d1fc-2fc4d4e23727"
      },
      "execution_count": 17,
      "outputs": [
        {
          "output_type": "stream",
          "name": "stdout",
          "text": [
            "Warning: Your Kaggle API key is readable by other users on this system! To fix this, you can run 'chmod 600 /root/.kaggle/kaggle.json'\n",
            "Downloading dogs-vs-cats.zip to /content\n",
            "100% 811M/812M [00:03<00:00, 246MB/s]\n",
            "100% 812M/812M [00:03<00:00, 221MB/s]\n"
          ]
        }
      ]
    },
    {
      "cell_type": "code",
      "source": [
        "!unzip -qq /content/dogs-vs-cats.zip"
      ],
      "metadata": {
        "id": "czAHsj0hkflj"
      },
      "execution_count": 18,
      "outputs": []
    },
    {
      "cell_type": "code",
      "source": [
        "!unzip -qq /content/train.zip"
      ],
      "metadata": {
        "id": "o2wIMLzlkk13"
      },
      "execution_count": 19,
      "outputs": []
    },
    {
      "cell_type": "code",
      "source": [
        "!find /content/train/ -type f | grep cat |wc -l"
      ],
      "metadata": {
        "colab": {
          "base_uri": "https://localhost:8080/"
        },
        "id": "CSgPY0D9kuzw",
        "outputId": "793b531a-42f9-44dc-fe0f-0c22058e2979"
      },
      "execution_count": 20,
      "outputs": [
        {
          "output_type": "stream",
          "name": "stdout",
          "text": [
            "12500\n"
          ]
        }
      ]
    },
    {
      "cell_type": "code",
      "source": [
        "!find /content/train/ -type f | grep dog |wc -l"
      ],
      "metadata": {
        "colab": {
          "base_uri": "https://localhost:8080/"
        },
        "id": "S08vuIUTky_J",
        "outputId": "75412117-52ed-4fa1-a5c8-dcf5f667d3e9"
      },
      "execution_count": 21,
      "outputs": [
        {
          "output_type": "stream",
          "name": "stdout",
          "text": [
            "12500\n"
          ]
        }
      ]
    },
    {
      "cell_type": "code",
      "source": [
        "import os, shutil, pathlib\n",
        "original_dir = pathlib.Path(\"/content/train/\")\n",
        "new_base_dir = pathlib.Path(\"/content/cats_vs_dogs_small\")"
      ],
      "metadata": {
        "id": "5hXNYSuym1T8"
      },
      "execution_count": 22,
      "outputs": []
    },
    {
      "cell_type": "code",
      "source": [
        "def make_subset(subset_name, start_index, end_index):\n",
        "    for category in (\"cat\", \"dog\"):\n",
        "        dir = new_base_dir / subset_name / category\n",
        "        os.makedirs(dir)\n",
        "        fnames = [f\"{category}.{i}.jpg\"\n",
        "            for i in range(start_index, end_index)]\n",
        "        for fname in fnames:\n",
        "            shutil.copyfile(src=original_dir / fname, dst=dir / fname)"
      ],
      "metadata": {
        "id": "NqRMmQ38m8oG"
      },
      "execution_count": 23,
      "outputs": []
    },
    {
      "cell_type": "code",
      "source": [
        "make_subset(\"train\", start_index=0, end_index=1000)\n",
        "make_subset(\"validation\", start_index=1000, end_index=1500)\n",
        "make_subset(\"test\", start_index=1500, end_index=2500)"
      ],
      "metadata": {
        "id": "6lCVC3ytnBdS"
      },
      "execution_count": 24,
      "outputs": []
    },
    {
      "cell_type": "markdown",
      "source": [
        "Finally we create three datasets for training, validation, and test"
      ],
      "metadata": {
        "id": "YU2_dQ5yoPht"
      }
    },
    {
      "cell_type": "code",
      "source": [
        "from tensorflow.keras.utils import image_dataset_from_directory\n",
        "train_dataset = image_dataset_from_directory(new_base_dir / \"train\", image_size=(180, 180), batch_size=32)\n",
        "validation_dataset = image_dataset_from_directory(new_base_dir / \"validation\", image_size=(180, 180), batch_size=32)\n",
        "test_dataset = image_dataset_from_directory(new_base_dir / \"test\", image_size=(180, 180), batch_size=32)"
      ],
      "metadata": {
        "colab": {
          "base_uri": "https://localhost:8080/"
        },
        "id": "XD4TYNvcoXm5",
        "outputId": "38d82a90-133c-44a4-e25c-ccc179f87f26"
      },
      "execution_count": 25,
      "outputs": [
        {
          "output_type": "stream",
          "name": "stdout",
          "text": [
            "Found 2000 files belonging to 2 classes.\n",
            "Found 1000 files belonging to 2 classes.\n",
            "Found 2000 files belonging to 2 classes.\n"
          ]
        }
      ]
    },
    {
      "cell_type": "code",
      "source": [
        "data_augmentation = keras.Sequential([\n",
        "    layers.RandomFlip(\"horizontal\"),\n",
        "    layers.RandomRotation(0.1),\n",
        "    layers.RandomZoom(0.2),\n",
        "])"
      ],
      "metadata": {
        "id": "v2-uYhxWgptE"
      },
      "execution_count": 26,
      "outputs": []
    },
    {
      "cell_type": "code",
      "source": [
        "inputs = keras.Input(shape=(180, 180, 3))\n",
        "x = data_augmentation(inputs)\n",
        "x = layers.Rescaling(1./255)(x)\n",
        "x = layers.Conv2D(filters=32, kernel_size=5, use_bias=False)(x)\n",
        "\n",
        "for size in [32, 64, 128, 256, 512]:\n",
        "    residual = x\n",
        "    x = layers.BatchNormalization()(x)\n",
        "    x = layers.Activation(\"relu\")(x)\n",
        "    x = layers.SeparableConv2D(size, 3, padding=\"same\", use_bias=False)(x)\n",
        "    x = layers.BatchNormalization()(x)\n",
        "    x = layers.Activation(\"relu\")(x)\n",
        "    x = layers.SeparableConv2D(size, 3, padding=\"same\", use_bias=False)(x)\n",
        "    x = layers.MaxPooling2D(3, strides=2, padding=\"same\")(x)\n",
        "    residual = layers.Conv2D(size, 1, strides=2, padding=\"same\", use_bias=False)(residual)\n",
        "    x = layers.add([x, residual])\n",
        "\n",
        "x = layers.GlobalAveragePooling2D()(x)\n",
        "x = layers.Dropout(0.5)(x)\n",
        "outputs = layers.Dense(1, activation=\"sigmoid\")(x)\n",
        "model = keras.Model(inputs=inputs, outputs=outputs)\n",
        "model.summary()"
      ],
      "metadata": {
        "colab": {
          "base_uri": "https://localhost:8080/"
        },
        "id": "7RLs8ivwI1WW",
        "outputId": "5c1c5956-03e9-4c21-91db-759ef9fbd11a"
      },
      "execution_count": 27,
      "outputs": [
        {
          "output_type": "stream",
          "name": "stdout",
          "text": [
            "Model: \"model_1\"\n",
            "__________________________________________________________________________________________________\n",
            " Layer (type)                Output Shape                 Param #   Connected to                  \n",
            "==================================================================================================\n",
            " input_4 (InputLayer)        [(None, 180, 180, 3)]        0         []                            \n",
            "                                                                                                  \n",
            " sequential (Sequential)     (None, 180, 180, 3)          0         ['input_4[0][0]']             \n",
            "                                                                                                  \n",
            " rescaling_1 (Rescaling)     (None, 180, 180, 3)          0         ['sequential[0][0]']          \n",
            "                                                                                                  \n",
            " conv2d_15 (Conv2D)          (None, 176, 176, 32)         2400      ['rescaling_1[0][0]']         \n",
            "                                                                                                  \n",
            " batch_normalization (Batch  (None, 176, 176, 32)         128       ['conv2d_15[0][0]']           \n",
            " Normalization)                                                                                   \n",
            "                                                                                                  \n",
            " activation (Activation)     (None, 176, 176, 32)         0         ['batch_normalization[0][0]'] \n",
            "                                                                                                  \n",
            " separable_conv2d (Separabl  (None, 176, 176, 32)         1312      ['activation[0][0]']          \n",
            " eConv2D)                                                                                         \n",
            "                                                                                                  \n",
            " batch_normalization_1 (Bat  (None, 176, 176, 32)         128       ['separable_conv2d[0][0]']    \n",
            " chNormalization)                                                                                 \n",
            "                                                                                                  \n",
            " activation_1 (Activation)   (None, 176, 176, 32)         0         ['batch_normalization_1[0][0]'\n",
            "                                                                    ]                             \n",
            "                                                                                                  \n",
            " separable_conv2d_1 (Separa  (None, 176, 176, 32)         1312      ['activation_1[0][0]']        \n",
            " bleConv2D)                                                                                       \n",
            "                                                                                                  \n",
            " max_pooling2d_3 (MaxPoolin  (None, 88, 88, 32)           0         ['separable_conv2d_1[0][0]']  \n",
            " g2D)                                                                                             \n",
            "                                                                                                  \n",
            " conv2d_16 (Conv2D)          (None, 88, 88, 32)           1024      ['conv2d_15[0][0]']           \n",
            "                                                                                                  \n",
            " add_5 (Add)                 (None, 88, 88, 32)           0         ['max_pooling2d_3[0][0]',     \n",
            "                                                                     'conv2d_16[0][0]']           \n",
            "                                                                                                  \n",
            " batch_normalization_2 (Bat  (None, 88, 88, 32)           128       ['add_5[0][0]']               \n",
            " chNormalization)                                                                                 \n",
            "                                                                                                  \n",
            " activation_2 (Activation)   (None, 88, 88, 32)           0         ['batch_normalization_2[0][0]'\n",
            "                                                                    ]                             \n",
            "                                                                                                  \n",
            " separable_conv2d_2 (Separa  (None, 88, 88, 64)           2336      ['activation_2[0][0]']        \n",
            " bleConv2D)                                                                                       \n",
            "                                                                                                  \n",
            " batch_normalization_3 (Bat  (None, 88, 88, 64)           256       ['separable_conv2d_2[0][0]']  \n",
            " chNormalization)                                                                                 \n",
            "                                                                                                  \n",
            " activation_3 (Activation)   (None, 88, 88, 64)           0         ['batch_normalization_3[0][0]'\n",
            "                                                                    ]                             \n",
            "                                                                                                  \n",
            " separable_conv2d_3 (Separa  (None, 88, 88, 64)           4672      ['activation_3[0][0]']        \n",
            " bleConv2D)                                                                                       \n",
            "                                                                                                  \n",
            " max_pooling2d_4 (MaxPoolin  (None, 44, 44, 64)           0         ['separable_conv2d_3[0][0]']  \n",
            " g2D)                                                                                             \n",
            "                                                                                                  \n",
            " conv2d_17 (Conv2D)          (None, 44, 44, 64)           2048      ['add_5[0][0]']               \n",
            "                                                                                                  \n",
            " add_6 (Add)                 (None, 44, 44, 64)           0         ['max_pooling2d_4[0][0]',     \n",
            "                                                                     'conv2d_17[0][0]']           \n",
            "                                                                                                  \n",
            " batch_normalization_4 (Bat  (None, 44, 44, 64)           256       ['add_6[0][0]']               \n",
            " chNormalization)                                                                                 \n",
            "                                                                                                  \n",
            " activation_4 (Activation)   (None, 44, 44, 64)           0         ['batch_normalization_4[0][0]'\n",
            "                                                                    ]                             \n",
            "                                                                                                  \n",
            " separable_conv2d_4 (Separa  (None, 44, 44, 128)          8768      ['activation_4[0][0]']        \n",
            " bleConv2D)                                                                                       \n",
            "                                                                                                  \n",
            " batch_normalization_5 (Bat  (None, 44, 44, 128)          512       ['separable_conv2d_4[0][0]']  \n",
            " chNormalization)                                                                                 \n",
            "                                                                                                  \n",
            " activation_5 (Activation)   (None, 44, 44, 128)          0         ['batch_normalization_5[0][0]'\n",
            "                                                                    ]                             \n",
            "                                                                                                  \n",
            " separable_conv2d_5 (Separa  (None, 44, 44, 128)          17536     ['activation_5[0][0]']        \n",
            " bleConv2D)                                                                                       \n",
            "                                                                                                  \n",
            " max_pooling2d_5 (MaxPoolin  (None, 22, 22, 128)          0         ['separable_conv2d_5[0][0]']  \n",
            " g2D)                                                                                             \n",
            "                                                                                                  \n",
            " conv2d_18 (Conv2D)          (None, 22, 22, 128)          8192      ['add_6[0][0]']               \n",
            "                                                                                                  \n",
            " add_7 (Add)                 (None, 22, 22, 128)          0         ['max_pooling2d_5[0][0]',     \n",
            "                                                                     'conv2d_18[0][0]']           \n",
            "                                                                                                  \n",
            " batch_normalization_6 (Bat  (None, 22, 22, 128)          512       ['add_7[0][0]']               \n",
            " chNormalization)                                                                                 \n",
            "                                                                                                  \n",
            " activation_6 (Activation)   (None, 22, 22, 128)          0         ['batch_normalization_6[0][0]'\n",
            "                                                                    ]                             \n",
            "                                                                                                  \n",
            " separable_conv2d_6 (Separa  (None, 22, 22, 256)          33920     ['activation_6[0][0]']        \n",
            " bleConv2D)                                                                                       \n",
            "                                                                                                  \n",
            " batch_normalization_7 (Bat  (None, 22, 22, 256)          1024      ['separable_conv2d_6[0][0]']  \n",
            " chNormalization)                                                                                 \n",
            "                                                                                                  \n",
            " activation_7 (Activation)   (None, 22, 22, 256)          0         ['batch_normalization_7[0][0]'\n",
            "                                                                    ]                             \n",
            "                                                                                                  \n",
            " separable_conv2d_7 (Separa  (None, 22, 22, 256)          67840     ['activation_7[0][0]']        \n",
            " bleConv2D)                                                                                       \n",
            "                                                                                                  \n",
            " max_pooling2d_6 (MaxPoolin  (None, 11, 11, 256)          0         ['separable_conv2d_7[0][0]']  \n",
            " g2D)                                                                                             \n",
            "                                                                                                  \n",
            " conv2d_19 (Conv2D)          (None, 11, 11, 256)          32768     ['add_7[0][0]']               \n",
            "                                                                                                  \n",
            " add_8 (Add)                 (None, 11, 11, 256)          0         ['max_pooling2d_6[0][0]',     \n",
            "                                                                     'conv2d_19[0][0]']           \n",
            "                                                                                                  \n",
            " batch_normalization_8 (Bat  (None, 11, 11, 256)          1024      ['add_8[0][0]']               \n",
            " chNormalization)                                                                                 \n",
            "                                                                                                  \n",
            " activation_8 (Activation)   (None, 11, 11, 256)          0         ['batch_normalization_8[0][0]'\n",
            "                                                                    ]                             \n",
            "                                                                                                  \n",
            " separable_conv2d_8 (Separa  (None, 11, 11, 512)          133376    ['activation_8[0][0]']        \n",
            " bleConv2D)                                                                                       \n",
            "                                                                                                  \n",
            " batch_normalization_9 (Bat  (None, 11, 11, 512)          2048      ['separable_conv2d_8[0][0]']  \n",
            " chNormalization)                                                                                 \n",
            "                                                                                                  \n",
            " activation_9 (Activation)   (None, 11, 11, 512)          0         ['batch_normalization_9[0][0]'\n",
            "                                                                    ]                             \n",
            "                                                                                                  \n",
            " separable_conv2d_9 (Separa  (None, 11, 11, 512)          266752    ['activation_9[0][0]']        \n",
            " bleConv2D)                                                                                       \n",
            "                                                                                                  \n",
            " max_pooling2d_7 (MaxPoolin  (None, 6, 6, 512)            0         ['separable_conv2d_9[0][0]']  \n",
            " g2D)                                                                                             \n",
            "                                                                                                  \n",
            " conv2d_20 (Conv2D)          (None, 6, 6, 512)            131072    ['add_8[0][0]']               \n",
            "                                                                                                  \n",
            " add_9 (Add)                 (None, 6, 6, 512)            0         ['max_pooling2d_7[0][0]',     \n",
            "                                                                     'conv2d_20[0][0]']           \n",
            "                                                                                                  \n",
            " global_average_pooling2d_1  (None, 512)                  0         ['add_9[0][0]']               \n",
            "  (GlobalAveragePooling2D)                                                                        \n",
            "                                                                                                  \n",
            " dropout (Dropout)           (None, 512)                  0         ['global_average_pooling2d_1[0\n",
            "                                                                    ][0]']                        \n",
            "                                                                                                  \n",
            " dense_1 (Dense)             (None, 1)                    513       ['dropout[0][0]']             \n",
            "                                                                                                  \n",
            "==================================================================================================\n",
            "Total params: 721857 (2.75 MB)\n",
            "Trainable params: 718849 (2.74 MB)\n",
            "Non-trainable params: 3008 (11.75 KB)\n",
            "__________________________________________________________________________________________________\n"
          ]
        }
      ]
    },
    {
      "cell_type": "code",
      "source": [
        "model.compile(loss=\"binary_crossentropy\",\n",
        "              optimizer=\"rmsprop\",\n",
        "              metrics=[\"accuracy\"])\n",
        "\n",
        "callbacks = [\n",
        "    keras.callbacks.ModelCheckpoint(\n",
        "    filepath=\"xception_like_convnet.keras\",\n",
        "    save_best_only=True,\n",
        "    monitor=\"val_loss\")\n",
        "]"
      ],
      "metadata": {
        "id": "uvYuq8MHgEOq"
      },
      "execution_count": 36,
      "outputs": []
    },
    {
      "cell_type": "code",
      "source": [
        "history = model.fit(\n",
        "    train_dataset,\n",
        "    epochs=100,\n",
        "    validation_data=validation_dataset,\n",
        "    callbacks=callbacks)"
      ],
      "metadata": {
        "colab": {
          "base_uri": "https://localhost:8080/"
        },
        "id": "c7GYPTgIoCD7",
        "outputId": "aa346160-7331-428d-8b4b-128374824697"
      },
      "execution_count": 41,
      "outputs": [
        {
          "output_type": "stream",
          "name": "stdout",
          "text": [
            "Epoch 1/100\n",
            "63/63 [==============================] - 10s 144ms/step - loss: 0.0445 - accuracy: 0.9825 - val_loss: 0.6721 - val_accuracy: 0.8720\n",
            "Epoch 2/100\n",
            "63/63 [==============================] - 10s 155ms/step - loss: 0.0547 - accuracy: 0.9795 - val_loss: 0.5363 - val_accuracy: 0.8890\n",
            "Epoch 3/100\n",
            "63/63 [==============================] - 9s 140ms/step - loss: 0.0531 - accuracy: 0.9825 - val_loss: 0.2977 - val_accuracy: 0.9230\n",
            "Epoch 4/100\n",
            "63/63 [==============================] - 10s 155ms/step - loss: 0.0509 - accuracy: 0.9825 - val_loss: 1.8429 - val_accuracy: 0.7120\n",
            "Epoch 5/100\n",
            "63/63 [==============================] - 9s 134ms/step - loss: 0.0460 - accuracy: 0.9800 - val_loss: 0.3758 - val_accuracy: 0.9090\n",
            "Epoch 6/100\n",
            "63/63 [==============================] - 10s 150ms/step - loss: 0.0396 - accuracy: 0.9860 - val_loss: 0.3223 - val_accuracy: 0.9200\n",
            "Epoch 7/100\n",
            "63/63 [==============================] - 9s 136ms/step - loss: 0.0480 - accuracy: 0.9835 - val_loss: 0.6514 - val_accuracy: 0.8740\n",
            "Epoch 8/100\n",
            "63/63 [==============================] - 10s 145ms/step - loss: 0.0490 - accuracy: 0.9815 - val_loss: 0.3900 - val_accuracy: 0.9050\n",
            "Epoch 9/100\n",
            "63/63 [==============================] - 10s 149ms/step - loss: 0.0423 - accuracy: 0.9855 - val_loss: 0.8472 - val_accuracy: 0.8340\n",
            "Epoch 10/100\n",
            "63/63 [==============================] - 9s 144ms/step - loss: 0.0624 - accuracy: 0.9795 - val_loss: 0.3939 - val_accuracy: 0.9070\n",
            "Epoch 11/100\n",
            "63/63 [==============================] - 10s 153ms/step - loss: 0.0419 - accuracy: 0.9825 - val_loss: 0.3727 - val_accuracy: 0.9240\n",
            "Epoch 12/100\n",
            "63/63 [==============================] - 9s 138ms/step - loss: 0.0642 - accuracy: 0.9770 - val_loss: 0.5447 - val_accuracy: 0.8870\n",
            "Epoch 13/100\n",
            "63/63 [==============================] - 10s 152ms/step - loss: 0.0408 - accuracy: 0.9850 - val_loss: 0.7349 - val_accuracy: 0.8610\n",
            "Epoch 14/100\n",
            "63/63 [==============================] - 10s 158ms/step - loss: 0.0639 - accuracy: 0.9785 - val_loss: 0.3343 - val_accuracy: 0.9120\n",
            "Epoch 15/100\n",
            "63/63 [==============================] - 10s 147ms/step - loss: 0.0652 - accuracy: 0.9760 - val_loss: 0.2937 - val_accuracy: 0.9070\n",
            "Epoch 16/100\n",
            "63/63 [==============================] - 10s 161ms/step - loss: 0.0583 - accuracy: 0.9795 - val_loss: 0.2768 - val_accuracy: 0.9170\n",
            "Epoch 17/100\n",
            "63/63 [==============================] - 10s 150ms/step - loss: 0.0318 - accuracy: 0.9885 - val_loss: 0.5316 - val_accuracy: 0.8760\n",
            "Epoch 18/100\n",
            "63/63 [==============================] - 9s 138ms/step - loss: 0.0415 - accuracy: 0.9860 - val_loss: 0.4182 - val_accuracy: 0.9000\n",
            "Epoch 19/100\n",
            "63/63 [==============================] - 10s 144ms/step - loss: 0.0542 - accuracy: 0.9805 - val_loss: 0.3449 - val_accuracy: 0.9100\n",
            "Epoch 20/100\n",
            "63/63 [==============================] - 10s 156ms/step - loss: 0.0528 - accuracy: 0.9825 - val_loss: 0.4017 - val_accuracy: 0.9250\n",
            "Epoch 21/100\n",
            "63/63 [==============================] - 9s 139ms/step - loss: 0.0532 - accuracy: 0.9795 - val_loss: 0.3264 - val_accuracy: 0.9080\n",
            "Epoch 22/100\n",
            "63/63 [==============================] - 10s 156ms/step - loss: 0.0502 - accuracy: 0.9840 - val_loss: 0.4825 - val_accuracy: 0.8770\n",
            "Epoch 23/100\n",
            "63/63 [==============================] - 9s 139ms/step - loss: 0.0404 - accuracy: 0.9870 - val_loss: 0.5123 - val_accuracy: 0.8850\n",
            "Epoch 24/100\n",
            "63/63 [==============================] - 11s 171ms/step - loss: 0.0383 - accuracy: 0.9875 - val_loss: 0.4088 - val_accuracy: 0.9110\n",
            "Epoch 25/100\n",
            "63/63 [==============================] - 11s 161ms/step - loss: 0.0482 - accuracy: 0.9835 - val_loss: 0.5603 - val_accuracy: 0.8680\n",
            "Epoch 26/100\n",
            "63/63 [==============================] - 10s 154ms/step - loss: 0.0515 - accuracy: 0.9820 - val_loss: 0.4147 - val_accuracy: 0.9100\n",
            "Epoch 27/100\n",
            "63/63 [==============================] - 9s 142ms/step - loss: 0.0473 - accuracy: 0.9800 - val_loss: 0.2767 - val_accuracy: 0.9140\n",
            "Epoch 28/100\n",
            "63/63 [==============================] - 10s 146ms/step - loss: 0.0603 - accuracy: 0.9790 - val_loss: 0.3486 - val_accuracy: 0.9020\n",
            "Epoch 29/100\n",
            "63/63 [==============================] - 10s 150ms/step - loss: 0.0475 - accuracy: 0.9845 - val_loss: 0.3441 - val_accuracy: 0.9200\n",
            "Epoch 30/100\n",
            "63/63 [==============================] - 10s 144ms/step - loss: 0.0452 - accuracy: 0.9855 - val_loss: 2.2220 - val_accuracy: 0.6580\n",
            "Epoch 31/100\n",
            "63/63 [==============================] - 10s 162ms/step - loss: 0.0405 - accuracy: 0.9860 - val_loss: 0.3986 - val_accuracy: 0.9190\n",
            "Epoch 32/100\n",
            "63/63 [==============================] - 9s 140ms/step - loss: 0.0549 - accuracy: 0.9835 - val_loss: 0.4136 - val_accuracy: 0.9060\n",
            "Epoch 33/100\n",
            "63/63 [==============================] - 10s 158ms/step - loss: 0.0422 - accuracy: 0.9860 - val_loss: 0.4002 - val_accuracy: 0.8870\n",
            "Epoch 34/100\n",
            "63/63 [==============================] - 9s 138ms/step - loss: 0.0548 - accuracy: 0.9820 - val_loss: 0.3103 - val_accuracy: 0.9080\n",
            "Epoch 35/100\n",
            "63/63 [==============================] - 10s 148ms/step - loss: 0.0408 - accuracy: 0.9855 - val_loss: 0.3582 - val_accuracy: 0.9200\n",
            "Epoch 36/100\n",
            "63/63 [==============================] - 10s 154ms/step - loss: 0.0384 - accuracy: 0.9835 - val_loss: 0.4535 - val_accuracy: 0.8880\n",
            "Epoch 37/100\n",
            "63/63 [==============================] - 10s 144ms/step - loss: 0.0406 - accuracy: 0.9870 - val_loss: 0.3524 - val_accuracy: 0.9120\n",
            "Epoch 38/100\n",
            "63/63 [==============================] - 11s 166ms/step - loss: 0.0440 - accuracy: 0.9835 - val_loss: 0.6946 - val_accuracy: 0.8770\n",
            "Epoch 39/100\n",
            "63/63 [==============================] - 10s 148ms/step - loss: 0.0375 - accuracy: 0.9865 - val_loss: 0.3497 - val_accuracy: 0.9090\n",
            "Epoch 40/100\n",
            "63/63 [==============================] - 10s 149ms/step - loss: 0.0421 - accuracy: 0.9865 - val_loss: 0.4698 - val_accuracy: 0.8820\n",
            "Epoch 41/100\n",
            "63/63 [==============================] - 10s 145ms/step - loss: 0.0396 - accuracy: 0.9875 - val_loss: 0.7238 - val_accuracy: 0.8530\n",
            "Epoch 42/100\n",
            "63/63 [==============================] - 10s 163ms/step - loss: 0.0343 - accuracy: 0.9905 - val_loss: 0.4663 - val_accuracy: 0.8700\n",
            "Epoch 43/100\n",
            "63/63 [==============================] - 10s 151ms/step - loss: 0.0351 - accuracy: 0.9860 - val_loss: 0.4311 - val_accuracy: 0.8980\n",
            "Epoch 44/100\n",
            "63/63 [==============================] - 9s 137ms/step - loss: 0.0320 - accuracy: 0.9860 - val_loss: 0.4214 - val_accuracy: 0.9080\n",
            "Epoch 45/100\n",
            "63/63 [==============================] - 10s 149ms/step - loss: 0.0498 - accuracy: 0.9835 - val_loss: 0.3649 - val_accuracy: 0.9220\n",
            "Epoch 46/100\n",
            "63/63 [==============================] - 10s 162ms/step - loss: 0.0371 - accuracy: 0.9850 - val_loss: 0.5660 - val_accuracy: 0.9040\n",
            "Epoch 47/100\n",
            "63/63 [==============================] - 10s 161ms/step - loss: 0.0373 - accuracy: 0.9870 - val_loss: 0.4122 - val_accuracy: 0.9080\n",
            "Epoch 48/100\n",
            "63/63 [==============================] - 9s 139ms/step - loss: 0.0431 - accuracy: 0.9855 - val_loss: 0.5602 - val_accuracy: 0.8980\n",
            "Epoch 49/100\n",
            "63/63 [==============================] - 10s 155ms/step - loss: 0.0528 - accuracy: 0.9850 - val_loss: 0.3880 - val_accuracy: 0.9140\n",
            "Epoch 50/100\n",
            "63/63 [==============================] - 9s 137ms/step - loss: 0.0392 - accuracy: 0.9845 - val_loss: 0.5443 - val_accuracy: 0.8730\n",
            "Epoch 51/100\n",
            "63/63 [==============================] - 10s 148ms/step - loss: 0.0384 - accuracy: 0.9845 - val_loss: 0.5373 - val_accuracy: 0.8780\n",
            "Epoch 52/100\n",
            "63/63 [==============================] - 10s 152ms/step - loss: 0.0300 - accuracy: 0.9890 - val_loss: 0.4538 - val_accuracy: 0.9220\n",
            "Epoch 53/100\n",
            "63/63 [==============================] - 9s 141ms/step - loss: 0.0511 - accuracy: 0.9815 - val_loss: 0.4843 - val_accuracy: 0.9010\n",
            "Epoch 54/100\n",
            "63/63 [==============================] - 11s 164ms/step - loss: 0.0355 - accuracy: 0.9875 - val_loss: 0.3358 - val_accuracy: 0.9300\n",
            "Epoch 55/100\n",
            "63/63 [==============================] - 9s 147ms/step - loss: 0.0380 - accuracy: 0.9870 - val_loss: 0.7349 - val_accuracy: 0.8790\n",
            "Epoch 56/100\n",
            "63/63 [==============================] - 10s 158ms/step - loss: 0.0623 - accuracy: 0.9820 - val_loss: 0.5410 - val_accuracy: 0.8920\n",
            "Epoch 57/100\n",
            "63/63 [==============================] - 10s 144ms/step - loss: 0.0460 - accuracy: 0.9885 - val_loss: 0.4973 - val_accuracy: 0.8920\n",
            "Epoch 58/100\n",
            "63/63 [==============================] - 10s 162ms/step - loss: 0.0396 - accuracy: 0.9835 - val_loss: 1.1551 - val_accuracy: 0.8270\n",
            "Epoch 59/100\n",
            "63/63 [==============================] - 9s 139ms/step - loss: 0.0437 - accuracy: 0.9865 - val_loss: 0.4166 - val_accuracy: 0.9130\n",
            "Epoch 60/100\n",
            "63/63 [==============================] - 10s 157ms/step - loss: 0.0306 - accuracy: 0.9865 - val_loss: 0.5361 - val_accuracy: 0.8880\n",
            "Epoch 61/100\n",
            "63/63 [==============================] - 9s 139ms/step - loss: 0.0483 - accuracy: 0.9840 - val_loss: 0.4273 - val_accuracy: 0.9080\n",
            "Epoch 62/100\n",
            "63/63 [==============================] - 10s 147ms/step - loss: 0.0410 - accuracy: 0.9860 - val_loss: 0.5129 - val_accuracy: 0.8810\n",
            "Epoch 63/100\n",
            "63/63 [==============================] - 10s 151ms/step - loss: 0.0345 - accuracy: 0.9885 - val_loss: 0.5440 - val_accuracy: 0.8870\n",
            "Epoch 64/100\n",
            "63/63 [==============================] - 9s 142ms/step - loss: 0.0317 - accuracy: 0.9915 - val_loss: 0.3901 - val_accuracy: 0.9270\n",
            "Epoch 65/100\n",
            "63/63 [==============================] - 10s 158ms/step - loss: 0.0594 - accuracy: 0.9795 - val_loss: 0.3017 - val_accuracy: 0.9210\n",
            "Epoch 66/100\n",
            "63/63 [==============================] - 9s 138ms/step - loss: 0.0431 - accuracy: 0.9830 - val_loss: 0.4523 - val_accuracy: 0.8920\n",
            "Epoch 67/100\n",
            "63/63 [==============================] - 10s 150ms/step - loss: 0.0339 - accuracy: 0.9860 - val_loss: 0.3050 - val_accuracy: 0.9340\n",
            "Epoch 68/100\n",
            "63/63 [==============================] - 9s 138ms/step - loss: 0.0355 - accuracy: 0.9870 - val_loss: 0.3431 - val_accuracy: 0.9290\n",
            "Epoch 69/100\n",
            "63/63 [==============================] - 11s 171ms/step - loss: 0.0379 - accuracy: 0.9870 - val_loss: 0.5096 - val_accuracy: 0.9010\n",
            "Epoch 70/100\n",
            "63/63 [==============================] - 9s 137ms/step - loss: 0.0561 - accuracy: 0.9825 - val_loss: 0.3676 - val_accuracy: 0.9100\n",
            "Epoch 71/100\n",
            "63/63 [==============================] - 10s 147ms/step - loss: 0.0497 - accuracy: 0.9850 - val_loss: 0.4419 - val_accuracy: 0.8910\n",
            "Epoch 72/100\n",
            "63/63 [==============================] - 9s 138ms/step - loss: 0.0384 - accuracy: 0.9875 - val_loss: 0.4476 - val_accuracy: 0.9010\n",
            "Epoch 73/100\n",
            "63/63 [==============================] - 9s 143ms/step - loss: 0.0427 - accuracy: 0.9855 - val_loss: 0.3637 - val_accuracy: 0.9130\n",
            "Epoch 74/100\n",
            "63/63 [==============================] - 10s 164ms/step - loss: 0.0350 - accuracy: 0.9865 - val_loss: 0.6929 - val_accuracy: 0.8700\n",
            "Epoch 75/100\n",
            "63/63 [==============================] - 10s 149ms/step - loss: 0.0457 - accuracy: 0.9870 - val_loss: 0.4309 - val_accuracy: 0.8890\n",
            "Epoch 76/100\n",
            "63/63 [==============================] - 10s 159ms/step - loss: 0.0446 - accuracy: 0.9855 - val_loss: 0.4594 - val_accuracy: 0.8910\n",
            "Epoch 77/100\n",
            "63/63 [==============================] - 10s 145ms/step - loss: 0.0311 - accuracy: 0.9900 - val_loss: 0.3954 - val_accuracy: 0.9150\n",
            "Epoch 78/100\n",
            "63/63 [==============================] - 10s 157ms/step - loss: 0.0264 - accuracy: 0.9905 - val_loss: 0.6988 - val_accuracy: 0.8790\n",
            "Epoch 79/100\n",
            "63/63 [==============================] - 9s 139ms/step - loss: 0.0486 - accuracy: 0.9860 - val_loss: 0.4822 - val_accuracy: 0.9040\n",
            "Epoch 80/100\n",
            "63/63 [==============================] - 10s 150ms/step - loss: 0.0435 - accuracy: 0.9880 - val_loss: 0.6092 - val_accuracy: 0.8850\n",
            "Epoch 81/100\n",
            "63/63 [==============================] - 9s 138ms/step - loss: 0.0415 - accuracy: 0.9870 - val_loss: 0.3870 - val_accuracy: 0.9180\n",
            "Epoch 82/100\n",
            "63/63 [==============================] - 10s 148ms/step - loss: 0.0237 - accuracy: 0.9915 - val_loss: 0.4777 - val_accuracy: 0.9020\n",
            "Epoch 83/100\n",
            "63/63 [==============================] - 10s 159ms/step - loss: 0.0437 - accuracy: 0.9860 - val_loss: 0.5138 - val_accuracy: 0.8910\n",
            "Epoch 84/100\n",
            "63/63 [==============================] - 11s 164ms/step - loss: 0.0393 - accuracy: 0.9860 - val_loss: 0.4250 - val_accuracy: 0.9080\n",
            "Epoch 85/100\n",
            "63/63 [==============================] - 10s 148ms/step - loss: 0.0348 - accuracy: 0.9875 - val_loss: 0.3861 - val_accuracy: 0.8910\n",
            "Epoch 86/100\n",
            "63/63 [==============================] - 10s 155ms/step - loss: 0.0446 - accuracy: 0.9875 - val_loss: 0.4661 - val_accuracy: 0.8970\n",
            "Epoch 87/100\n",
            "63/63 [==============================] - 9s 138ms/step - loss: 0.0349 - accuracy: 0.9875 - val_loss: 1.2633 - val_accuracy: 0.8290\n",
            "Epoch 88/100\n",
            "63/63 [==============================] - 10s 148ms/step - loss: 0.0343 - accuracy: 0.9875 - val_loss: 0.7398 - val_accuracy: 0.8750\n",
            "Epoch 89/100\n",
            "63/63 [==============================] - 10s 160ms/step - loss: 0.0444 - accuracy: 0.9845 - val_loss: 0.4727 - val_accuracy: 0.8980\n",
            "Epoch 90/100\n",
            "63/63 [==============================] - 10s 145ms/step - loss: 0.0401 - accuracy: 0.9890 - val_loss: 0.3813 - val_accuracy: 0.9120\n",
            "Epoch 91/100\n",
            "63/63 [==============================] - 10s 156ms/step - loss: 0.0335 - accuracy: 0.9850 - val_loss: 0.5287 - val_accuracy: 0.9040\n",
            "Epoch 92/100\n",
            "63/63 [==============================] - 10s 150ms/step - loss: 0.0428 - accuracy: 0.9875 - val_loss: 0.6694 - val_accuracy: 0.8700\n",
            "Epoch 93/100\n",
            "63/63 [==============================] - 10s 160ms/step - loss: 0.0514 - accuracy: 0.9800 - val_loss: 1.0031 - val_accuracy: 0.8370\n",
            "Epoch 94/100\n",
            "63/63 [==============================] - 10s 145ms/step - loss: 0.0382 - accuracy: 0.9880 - val_loss: 0.6984 - val_accuracy: 0.8680\n",
            "Epoch 95/100\n",
            "63/63 [==============================] - 10s 162ms/step - loss: 0.0403 - accuracy: 0.9860 - val_loss: 0.5034 - val_accuracy: 0.9110\n",
            "Epoch 96/100\n",
            "63/63 [==============================] - 10s 154ms/step - loss: 0.0319 - accuracy: 0.9910 - val_loss: 0.5060 - val_accuracy: 0.8910\n",
            "Epoch 97/100\n",
            "63/63 [==============================] - 9s 145ms/step - loss: 0.0337 - accuracy: 0.9895 - val_loss: 0.4494 - val_accuracy: 0.9030\n",
            "Epoch 98/100\n",
            "63/63 [==============================] - 10s 150ms/step - loss: 0.0411 - accuracy: 0.9865 - val_loss: 0.4386 - val_accuracy: 0.9180\n",
            "Epoch 99/100\n",
            "63/63 [==============================] - 10s 160ms/step - loss: 0.0409 - accuracy: 0.9830 - val_loss: 0.6454 - val_accuracy: 0.8610\n",
            "Epoch 100/100\n",
            "63/63 [==============================] - 10s 151ms/step - loss: 0.0218 - accuracy: 0.9930 - val_loss: 0.3477 - val_accuracy: 0.9230\n"
          ]
        }
      ]
    },
    {
      "cell_type": "code",
      "source": [
        "def plot_results(history):\n",
        "    accuracy = history.history[\"accuracy\"]\n",
        "    val_accuracy = history.history[\"val_accuracy\"]\n",
        "    loss = history.history[\"loss\"]\n",
        "    val_loss = history.history[\"val_loss\"]\n",
        "    epochs = range(1, len(accuracy) + 1)\n",
        "    plt.plot(epochs, accuracy, \"bo\", label=\"Training accuracy\")\n",
        "    plt.plot(epochs, val_accuracy, \"b\", label=\"Validation accuracy\")\n",
        "    plt.title(\"Training and validation accuracy\")\n",
        "    plt.legend()\n",
        "    plt.figure()\n",
        "    plt.plot(epochs, loss, \"bo\", label=\"Training loss\")\n",
        "    plt.plot(epochs, val_loss, \"b\", label=\"Validation loss\")\n",
        "    plt.title(\"Training and validation loss\")\n",
        "    plt.legend()\n",
        "    plt.show()"
      ],
      "metadata": {
        "id": "E6iXumaWzpQ4"
      },
      "execution_count": 42,
      "outputs": []
    },
    {
      "cell_type": "code",
      "source": [
        "plot_results(history)"
      ],
      "metadata": {
        "colab": {
          "base_uri": "https://localhost:8080/",
          "height": 887
        },
        "id": "zE2neFCXzqPv",
        "outputId": "fb5ebcb8-2bc4-4c81-ab24-b75c8f0e24db"
      },
      "execution_count": 43,
      "outputs": [
        {
          "output_type": "display_data",
          "data": {
            "text/plain": [
              "<Figure size 640x480 with 1 Axes>"
            ],
            "image/png": "[encoded data removed]"
          },
          "metadata": {}
        },
        {
          "output_type": "display_data",
          "data": {
            "text/plain": [
              "<Figure size 640x480 with 1 Axes>"
            ],
            "image/png": "[encoded data removed]"
          },
          "metadata": {}
        }
      ]
    },
    {
      "cell_type": "markdown",
      "source": [
        "We can compare the accuracy on the test set with the model in the notebook [*Deep Learning for Computer Vision*](computer_vision.ipynb) with data augmentation that has 991041 parameters and had an accuracy of 84.5%"
      ],
      "metadata": {
        "id": "B8ZHd1iF-1CH"
      }
    },
    {
      "cell_type": "code",
      "source": [
        "test_model = keras.models.load_model(\"xception_like_convnet.keras\")\n",
        "test_loss, test_acc = test_model.evaluate(test_dataset)\n",
        "print(f\"Test accuracy: {test_acc:.3f}\")"
      ],
      "metadata": {
        "colab": {
          "base_uri": "https://localhost:8080/"
        },
        "id": "Nms60keezupZ",
        "outputId": "31183ccb-67ba-43a6-fc1b-d0660607b183"
      },
      "execution_count": 44,
      "outputs": [
        {
          "output_type": "stream",
          "name": "stdout",
          "text": [
            "63/63 [==============================] - 3s 36ms/step - loss: 0.4026 - accuracy: 0.9020\n",
            "Test accuracy: 0.902\n"
          ]
        }
      ]
    },
    {
      "cell_type": "code",
      "source": [],
      "metadata": {
        "id": "d9HJXoPa0SPS"
      },
      "execution_count": null,
      "outputs": []
    }
  ]
}