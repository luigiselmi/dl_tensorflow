{
  "nbformat": 4,
  "nbformat_minor": 0,
  "metadata": {
    "colab": {
      "provenance": [],
      "authorship_tag": "ABX9TyOTQ9lXUpMZCQaK8meglXcV",
      "include_colab_link": true
    },
    "kernelspec": {
      "name": "python3",
      "display_name": "Python 3"
    },
    "language_info": {
      "name": "python"
    }
  },
  "cells": [
    {
      "cell_type": "markdown",
      "metadata": {
        "id": "view-in-github",
        "colab_type": "text"
      },
      "source": [
        "<a href=\"https://colab.research.google.com/github/luigiselmi/dl_tensorflow/blob/main/keras_api.ipynb\" target=\"_parent\"><img src=\"https://colab.research.google.com/assets/colab-badge.svg\" alt=\"Open In Colab\"/></a>"
      ]
    },
    {
      "cell_type": "markdown",
      "source": [
        "# Keras APIs\n",
        "With Keras a model can be built as a\n",
        "\n",
        "* sequence of layers\n",
        "* graph of layers\n",
        "* from scratch\n",
        "\n",
        "Every model has a mathematical representation based on matrix multiplication and matrix functions. We can use the data structure and functions provided by Keras to create sequential or graph-like models. We can also subclass the Keras components to create new ones but in this case we will not be able to use most of the Keras APIs."
      ],
      "metadata": {
        "id": "joMXld_pa9zu"
      }
    },
    {
      "cell_type": "code",
      "execution_count": 57,
      "metadata": {
        "id": "b3PmN7eCXKve"
      },
      "outputs": [],
      "source": [
        "import numpy as np\n",
        "from tensorflow import keras\n",
        "from tensorflow.keras import layers"
      ]
    },
    {
      "cell_type": "markdown",
      "source": [
        "## Sequential model"
      ],
      "metadata": {
        "id": "ClVhT07gpJ-l"
      }
    },
    {
      "cell_type": "code",
      "source": [
        "model = keras.Sequential(name=\"my_example_model\")\n",
        "model.add(layers.Dense(64, activation=\"relu\", name=\"my_first_layer\"))\n",
        "model.add(layers.Dense(10, activation=\"softmax\", name=\"my_last_layer\"))"
      ],
      "metadata": {
        "id": "5erm9fXkbTvR"
      },
      "execution_count": 46,
      "outputs": []
    },
    {
      "cell_type": "markdown",
      "source": [
        "### Model initialization and number of layer's parameters\n",
        "In order to build a model we have to provide the batch size and the size (shape) of the examples that will be used as input. If we are dealing with images the dimensions are: height, width, and channels. The input tensor will be: (Batch size, Height, Width, Channels). The number of parameters to be trained depend on the input shape and the number of units to which we have to add the bias. For instance: if the input shape S is 3 (three numerical values),the number of units U is 64, and each unit has a bias B, the number of parameters P of the layer will be\n",
        "\n",
        "P = S * U + B\n",
        "\n",
        "For our example of inputs of shape 3, a layer with 64 units each with a bias we have\n",
        "\n",
        "P = 3 * 64 + 64 = 256\n",
        "\n",
        "In order to initialize a model, i.e. initialize the weights of the network, the batch size is not needed, what is needed is the size of input and that of the network (number of units per layer)."
      ],
      "metadata": {
        "id": "ej7LDDeFdpJL"
      }
    },
    {
      "cell_type": "code",
      "source": [
        "batch_size = None\n",
        "model.build(input_shape=(batch_size, 3))\n",
        "model.summary()"
      ],
      "metadata": {
        "colab": {
          "base_uri": "https://localhost:8080/"
        },
        "id": "tvK0W5mUbUo-",
        "outputId": "71effa69-c91c-48d8-c265-e656981132c0"
      },
      "execution_count": 48,
      "outputs": [
        {
          "output_type": "stream",
          "name": "stdout",
          "text": [
            "Model: \"my_example_model\"\n",
            "_________________________________________________________________\n",
            " Layer (type)                Output Shape              Param #   \n",
            "=================================================================\n",
            " my_first_layer (Dense)      (None, 64)                256       \n",
            "                                                                 \n",
            " my_last_layer (Dense)       (None, 10)                650       \n",
            "                                                                 \n",
            "=================================================================\n",
            "Total params: 906 (3.54 KB)\n",
            "Trainable params: 906 (3.54 KB)\n",
            "Non-trainable params: 0 (0.00 Byte)\n",
            "_________________________________________________________________\n"
          ]
        }
      ]
    },
    {
      "cell_type": "markdown",
      "source": [
        "## Functional models\n",
        "Beyond the sequential model we can build non-sequential models like directed acyclic graphs (DAG) by linking layers. We can see the previous sequential model built using the functional APIs that will allow us to create more complex networks."
      ],
      "metadata": {
        "id": "3x__XR1MjFE0"
      }
    },
    {
      "cell_type": "code",
      "source": [
        "input_shape = 3\n",
        "inputs = keras.Input(shape=(input_shape,), name=\"my_input\")\n",
        "features = layers.Dense(64, activation=\"relu\", name=\"features\")(inputs)\n",
        "outputs = layers.Dense(10, activation=\"softmax\", name=\"outputs\")(features)\n",
        "model = keras.Model(inputs=inputs, outputs=outputs)"
      ],
      "metadata": {
        "id": "T33oprHZbwll"
      },
      "execution_count": 51,
      "outputs": []
    },
    {
      "cell_type": "code",
      "source": [
        "model.summary()"
      ],
      "metadata": {
        "colab": {
          "base_uri": "https://localhost:8080/"
        },
        "id": "X6-A4Nd_eqym",
        "outputId": "6a3452e9-d424-4a7a-9e86-1b7de91d0d39"
      },
      "execution_count": 52,
      "outputs": [
        {
          "output_type": "stream",
          "name": "stdout",
          "text": [
            "Model: \"model_4\"\n",
            "_________________________________________________________________\n",
            " Layer (type)                Output Shape              Param #   \n",
            "=================================================================\n",
            " my_input (InputLayer)       [(None, 3)]               0         \n",
            "                                                                 \n",
            " features (Dense)            (None, 64)                256       \n",
            "                                                                 \n",
            " outputs (Dense)             (None, 10)                650       \n",
            "                                                                 \n",
            "=================================================================\n",
            "Total params: 906 (3.54 KB)\n",
            "Trainable params: 906 (3.54 KB)\n",
            "Non-trainable params: 0 (0.00 Byte)\n",
            "_________________________________________________________________\n"
          ]
        }
      ]
    },
    {
      "cell_type": "markdown",
      "source": [
        "### Multi-input, multi-output models\n",
        "As a simple example of a non-sequential model, We build a network with three different inputs, and two outputs."
      ],
      "metadata": {
        "id": "0QnNAIKem3li"
      }
    },
    {
      "cell_type": "code",
      "source": [
        "vocabulary_size = 10000\n",
        "num_tags = 100\n",
        "num_departments = 4"
      ],
      "metadata": {
        "id": "eWm8HEfNjMqE"
      },
      "execution_count": 53,
      "outputs": []
    },
    {
      "cell_type": "code",
      "source": [
        "title = keras.Input(shape=(vocabulary_size,), name=\"title\")\n",
        "text_body = keras.Input(shape=(vocabulary_size,), name=\"text_body\")\n",
        "tags = keras.Input(shape=(num_tags,), name=\"tags\")\n",
        "\n",
        "features = layers.Concatenate()([title, text_body, tags])\n",
        "features = layers.Dense(64, activation=\"relu\")(features)\n"
      ],
      "metadata": {
        "id": "k38BbydMnGXw"
      },
      "execution_count": 54,
      "outputs": []
    },
    {
      "cell_type": "code",
      "source": [
        "priority = layers.Dense(1, activation=\"sigmoid\", name=\"priority\")(features)\n",
        "department = layers.Dense(num_departments, activation=\"softmax\", name=\"department\")(features)"
      ],
      "metadata": {
        "id": "ngKg66vBnHOR"
      },
      "execution_count": 55,
      "outputs": []
    },
    {
      "cell_type": "code",
      "source": [
        "model = keras.Model(inputs=[title, text_body, tags], outputs=[priority, department])"
      ],
      "metadata": {
        "id": "gj1SgTlKnNkT"
      },
      "execution_count": 56,
      "outputs": []
    },
    {
      "cell_type": "markdown",
      "source": [
        "We can use synthetic data for the input"
      ],
      "metadata": {
        "id": "AeHjkZM2SQis"
      }
    },
    {
      "cell_type": "code",
      "source": [
        "num_samples = 1280\n",
        "title_data = np.random.randint(0, 2, size=(num_samples, vocabulary_size))\n",
        "text_body_data = np.random.randint(0, 2, size=(num_samples, vocabulary_size))\n",
        "tags_data = np.random.randint(0, 2, size=(num_samples, num_tags))"
      ],
      "metadata": {
        "id": "4p06HJdkn0QF"
      },
      "execution_count": 59,
      "outputs": []
    },
    {
      "cell_type": "markdown",
      "source": [
        "and for the output (target)"
      ],
      "metadata": {
        "id": "M_-2EN5fSq4N"
      }
    },
    {
      "cell_type": "code",
      "source": [
        "priority_data = np.random.random(size=(num_samples, 1))\n",
        "department_data = np.random.randint(0, 2, size=(num_samples, num_departments))"
      ],
      "metadata": {
        "id": "0iVMOFI4Sb6f"
      },
      "execution_count": 60,
      "outputs": []
    },
    {
      "cell_type": "code",
      "source": [
        "model.compile(optimizer=\"rmsprop\", loss=[\"mean_squared_error\", \"categorical_crossentropy\"], metrics=[[\"mean_absolute_error\"], [\"accuracy\"]])\n",
        "model.fit([title_data, text_body_data, tags_data], [priority_data, department_data], epochs=1)\n",
        "model.evaluate([title_data, text_body_data, tags_data], [priority_data, department_data])\n",
        "priority_preds, department_preds = model.predict([title_data, text_body_data, tags_data])"
      ],
      "metadata": {
        "colab": {
          "base_uri": "https://localhost:8080/"
        },
        "id": "w2EvQGj_SuXG",
        "outputId": "3c9de70e-626f-408b-c3d8-8d52ab62f1b5"
      },
      "execution_count": 61,
      "outputs": [
        {
          "output_type": "stream",
          "name": "stdout",
          "text": [
            "40/40 [==============================] - 2s 19ms/step - loss: 33.9451 - priority_loss: 0.3286 - department_loss: 33.6165 - priority_mean_absolute_error: 0.4983 - department_accuracy: 0.3063\n",
            "40/40 [==============================] - 1s 8ms/step - loss: 16.4139 - priority_loss: 0.3341 - department_loss: 16.0798 - priority_mean_absolute_error: 0.5037 - department_accuracy: 0.1516\n",
            "40/40 [==============================] - 0s 7ms/step\n"
          ]
        }
      ]
    },
    {
      "cell_type": "markdown",
      "source": [
        "We can plot the network topology"
      ],
      "metadata": {
        "id": "GjxXU1U1W8xv"
      }
    },
    {
      "cell_type": "code",
      "source": [
        "keras.utils.plot_model(model, \"ticket_classifier.png\")"
      ],
      "metadata": {
        "colab": {
          "base_uri": "https://localhost:8080/",
          "height": 369
        },
        "id": "PpmcWFDqTAjN",
        "outputId": "30d5de6e-cea5-4615-b103-c5e181fa76fb"
      },
      "execution_count": 62,
      "outputs": [
        {
          "output_type": "execute_result",
          "data": {
            "image/png": "[encoded data removed]",
            "text/plain": [
              "<IPython.core.display.Image object>"
            ]
          },
          "metadata": {},
          "execution_count": 62
        }
      ]
    },
    {
      "cell_type": "markdown",
      "source": [
        "## Model subclassing\n",
        "We can build models by subclassing the Keras data structures"
      ],
      "metadata": {
        "id": "R-Qg-m2Gaj5F"
      }
    },
    {
      "cell_type": "code",
      "source": [
        "class CustomerTicketModel(keras.Model):\n",
        "\n",
        "    def __init__(self, num_departments):\n",
        "        super().__init__()\n",
        "        self.concat_layer = layers.Concatenate()\n",
        "        self.mixing_layer = layers.Dense(64, activation=\"relu\")\n",
        "        self.priority_scorer = layers.Dense(1, activation=\"sigmoid\")\n",
        "        self.department_classifier = layers.Dense(\n",
        "            num_departments, activation=\"softmax\")\n",
        "\n",
        "    def call(self, inputs):\n",
        "        title = inputs[\"title\"]\n",
        "        text_body = inputs[\"text_body\"]\n",
        "        tags = inputs[\"tags\"]\n",
        "\n",
        "        features = self.concat_layer([title, text_body, tags])\n",
        "        features = self.mixing_layer(features)\n",
        "        priority = self.priority_scorer(features)\n",
        "        department = self.department_classifier(features)\n",
        "        return priority, department"
      ],
      "metadata": {
        "id": "vDC1y_qnW0uX"
      },
      "execution_count": 63,
      "outputs": []
    },
    {
      "cell_type": "code",
      "source": [
        "model.compile(optimizer=\"rmsprop\",\n",
        "              loss=[\"mean_squared_error\", \"categorical_crossentropy\"],\n",
        "              metrics=[[\"mean_absolute_error\"], [\"accuracy\"]])\n",
        "\n",
        "model.fit({\"title\": title_data,\n",
        "           \"text_body\": text_body_data,\n",
        "           \"tags\": tags_data},\n",
        "           [priority_data, department_data],\n",
        "           epochs=1)\n",
        "\n",
        "model.evaluate({\"title\": title_data,\n",
        "                \"text_body\": text_body_data,\n",
        "                \"tags\": tags_data},\n",
        "                [priority_data, department_data])\n",
        "\n",
        "priority_preds, department_preds = model.predict({\"title\": title_data,\n",
        "                                                  \"text_body\": text_body_data,\n",
        "                                                  \"tags\": tags_data})"
      ],
      "metadata": {
        "colab": {
          "base_uri": "https://localhost:8080/"
        },
        "id": "Ap5v4vKxb51d",
        "outputId": "ec6958b5-0f11-4701-84ae-f4ae5b92ad6e"
      },
      "execution_count": 66,
      "outputs": [
        {
          "output_type": "stream",
          "name": "stdout",
          "text": [
            "40/40 [==============================] - 1s 19ms/step - loss: 31.2671 - output_1_loss: 0.3279 - output_2_loss: 30.9392 - output_1_mean_absolute_error: 0.4969 - output_2_accuracy: 0.2742\n",
            "40/40 [==============================] - 1s 9ms/step - loss: 36.1543 - output_1_loss: 0.3268 - output_2_loss: 35.8276 - output_1_mean_absolute_error: 0.4963 - output_2_accuracy: 0.1336\n",
            "40/40 [==============================] - 0s 8ms/step\n"
          ]
        }
      ]
    },
    {
      "cell_type": "code",
      "source": [],
      "metadata": {
        "id": "yT6iGLe2dA9n"
      },
      "execution_count": null,
      "outputs": []
    }
  ]
}