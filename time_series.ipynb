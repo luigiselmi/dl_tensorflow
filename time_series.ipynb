{
  "nbformat": 4,
  "nbformat_minor": 0,
  "metadata": {
    "colab": {
      "provenance": [],
      "gpuType": "T4",
      "authorship_tag": "ABX9TyOLxLO/qNiPXcpr8IG7JdM9",
      "include_colab_link": true
    },
    "kernelspec": {
      "name": "python3",
      "display_name": "Python 3"
    },
    "language_info": {
      "name": "python"
    },
    "accelerator": "GPU"
  },
  "cells": [
    {
      "cell_type": "markdown",
      "metadata": {
        "id": "view-in-github",
        "colab_type": "text"
      },
      "source": [
        "<a href=\"https://colab.research.google.com/github/luigiselmi/dl_tensorflow/blob/main/time_series.ipynb\" target=\"_parent\"><img src=\"https://colab.research.google.com/assets/colab-badge.svg\" alt=\"Open In Colab\"/></a>"
      ]
    },
    {
      "cell_type": "markdown",
      "source": [
        "# Deep Learning for Time Series\n",
        "A time series is a sequence of observations taken at regular time intervals. They can be used for tasks such as anomaly detection and classification but the most common use is forecasting. In this notebook we will use a time series from a [weather station](https://www.bgc-jena.mpg.de/wetter/) in Jena, Germany. The weather data has been collected since 1770 but we will use a smaller dataset collected between 2009 and 2016 every 10 minutes."
      ],
      "metadata": {
        "id": "nDe63MbJyxFa"
      }
    },
    {
      "cell_type": "markdown",
      "source": [
        "The version of Tensorflow used in the examples in the book by Chollet is [version 2.6](https://github.com/fchollet/deep-learning-with-python-notebooks/blob/master/README.md). Since that is not available in Colab we use version 2.8 replacing the one available by default (2.17)  "
      ],
      "metadata": {
        "id": "Aod5T0bTGfYd"
      }
    },
    {
      "cell_type": "code",
      "source": [
        "!pip install tensorflow==2.8"
      ],
      "metadata": {
        "id": "hNbjd9GkDxyL",
        "outputId": "23f03ea7-d2aa-44dc-81ed-8bfde1fb08f6",
        "colab": {
          "base_uri": "https://localhost:8080/"
        }
      },
      "execution_count": 1,
      "outputs": [
        {
          "output_type": "stream",
          "name": "stdout",
          "text": [
            "Collecting tensorflow==2.8\n",
            "  Downloading tensorflow-2.8.0-cp310-cp310-manylinux2010_x86_64.whl.metadata (2.9 kB)\n",
            "Requirement already satisfied: absl-py>=0.4.0 in /usr/local/lib/python3.10/dist-packages (from tensorflow==2.8) (1.4.0)\n",
            "Requirement already satisfied: astunparse>=1.6.0 in /usr/local/lib/python3.10/dist-packages (from tensorflow==2.8) (1.6.3)\n",
            "Requirement already satisfied: flatbuffers>=1.12 in /usr/local/lib/python3.10/dist-packages (from tensorflow==2.8) (24.3.25)\n",
            "Requirement already satisfied: gast>=0.2.1 in /usr/local/lib/python3.10/dist-packages (from tensorflow==2.8) (0.6.0)\n",
            "Requirement already satisfied: google-pasta>=0.1.1 in /usr/local/lib/python3.10/dist-packages (from tensorflow==2.8) (0.2.0)\n",
            "Requirement already satisfied: h5py>=2.9.0 in /usr/local/lib/python3.10/dist-packages (from tensorflow==2.8) (3.11.0)\n",
            "Collecting keras-preprocessing>=1.1.1 (from tensorflow==2.8)\n",
            "  Downloading Keras_Preprocessing-1.1.2-py2.py3-none-any.whl.metadata (1.9 kB)\n",
            "Requirement already satisfied: libclang>=9.0.1 in /usr/local/lib/python3.10/dist-packages (from tensorflow==2.8) (18.1.1)\n",
            "Requirement already satisfied: numpy>=1.20 in /usr/local/lib/python3.10/dist-packages (from tensorflow==2.8) (1.26.4)\n",
            "Requirement already satisfied: opt-einsum>=2.3.2 in /usr/local/lib/python3.10/dist-packages (from tensorflow==2.8) (3.4.0)\n",
            "Requirement already satisfied: protobuf>=3.9.2 in /usr/local/lib/python3.10/dist-packages (from tensorflow==2.8) (3.20.3)\n",
            "Requirement already satisfied: setuptools in /usr/local/lib/python3.10/dist-packages (from tensorflow==2.8) (75.1.0)\n",
            "Requirement already satisfied: six>=1.12.0 in /usr/local/lib/python3.10/dist-packages (from tensorflow==2.8) (1.16.0)\n",
            "Requirement already satisfied: termcolor>=1.1.0 in /usr/local/lib/python3.10/dist-packages (from tensorflow==2.8) (2.5.0)\n",
            "Requirement already satisfied: typing-extensions>=3.6.6 in /usr/local/lib/python3.10/dist-packages (from tensorflow==2.8) (4.12.2)\n",
            "Requirement already satisfied: wrapt>=1.11.0 in /usr/local/lib/python3.10/dist-packages (from tensorflow==2.8) (1.16.0)\n",
            "Collecting tensorboard<2.9,>=2.8 (from tensorflow==2.8)\n",
            "  Downloading tensorboard-2.8.0-py3-none-any.whl.metadata (1.9 kB)\n",
            "Collecting tf-estimator-nightly==2.8.0.dev2021122109 (from tensorflow==2.8)\n",
            "  Downloading tf_estimator_nightly-2.8.0.dev2021122109-py2.py3-none-any.whl.metadata (1.2 kB)\n",
            "Collecting keras<2.9,>=2.8.0rc0 (from tensorflow==2.8)\n",
            "  Downloading keras-2.8.0-py2.py3-none-any.whl.metadata (1.3 kB)\n",
            "Requirement already satisfied: tensorflow-io-gcs-filesystem>=0.23.1 in /usr/local/lib/python3.10/dist-packages (from tensorflow==2.8) (0.37.1)\n",
            "Requirement already satisfied: grpcio<2.0,>=1.24.3 in /usr/local/lib/python3.10/dist-packages (from tensorflow==2.8) (1.64.1)\n",
            "Requirement already satisfied: wheel<1.0,>=0.23.0 in /usr/local/lib/python3.10/dist-packages (from astunparse>=1.6.0->tensorflow==2.8) (0.44.0)\n",
            "Requirement already satisfied: google-auth<3,>=1.6.3 in /usr/local/lib/python3.10/dist-packages (from tensorboard<2.9,>=2.8->tensorflow==2.8) (2.27.0)\n",
            "Collecting google-auth-oauthlib<0.5,>=0.4.1 (from tensorboard<2.9,>=2.8->tensorflow==2.8)\n",
            "  Downloading google_auth_oauthlib-0.4.6-py2.py3-none-any.whl.metadata (2.7 kB)\n",
            "Requirement already satisfied: markdown>=2.6.8 in /usr/local/lib/python3.10/dist-packages (from tensorboard<2.9,>=2.8->tensorflow==2.8) (3.7)\n",
            "Requirement already satisfied: requests<3,>=2.21.0 in /usr/local/lib/python3.10/dist-packages (from tensorboard<2.9,>=2.8->tensorflow==2.8) (2.32.3)\n",
            "Collecting tensorboard-data-server<0.7.0,>=0.6.0 (from tensorboard<2.9,>=2.8->tensorflow==2.8)\n",
            "  Downloading tensorboard_data_server-0.6.1-py3-none-manylinux2010_x86_64.whl.metadata (1.1 kB)\n",
            "Collecting tensorboard-plugin-wit>=1.6.0 (from tensorboard<2.9,>=2.8->tensorflow==2.8)\n",
            "  Downloading tensorboard_plugin_wit-1.8.1-py3-none-any.whl.metadata (873 bytes)\n",
            "Requirement already satisfied: werkzeug>=0.11.15 in /usr/local/lib/python3.10/dist-packages (from tensorboard<2.9,>=2.8->tensorflow==2.8) (3.0.4)\n",
            "Requirement already satisfied: cachetools<6.0,>=2.0.0 in /usr/local/lib/python3.10/dist-packages (from google-auth<3,>=1.6.3->tensorboard<2.9,>=2.8->tensorflow==2.8) (5.5.0)\n",
            "Requirement already satisfied: pyasn1-modules>=0.2.1 in /usr/local/lib/python3.10/dist-packages (from google-auth<3,>=1.6.3->tensorboard<2.9,>=2.8->tensorflow==2.8) (0.4.1)\n",
            "Requirement already satisfied: rsa<5,>=3.1.4 in /usr/local/lib/python3.10/dist-packages (from google-auth<3,>=1.6.3->tensorboard<2.9,>=2.8->tensorflow==2.8) (4.9)\n",
            "Requirement already satisfied: requests-oauthlib>=0.7.0 in /usr/local/lib/python3.10/dist-packages (from google-auth-oauthlib<0.5,>=0.4.1->tensorboard<2.9,>=2.8->tensorflow==2.8) (1.3.1)\n",
            "Requirement already satisfied: charset-normalizer<4,>=2 in /usr/local/lib/python3.10/dist-packages (from requests<3,>=2.21.0->tensorboard<2.9,>=2.8->tensorflow==2.8) (3.4.0)\n",
            "Requirement already satisfied: idna<4,>=2.5 in /usr/local/lib/python3.10/dist-packages (from requests<3,>=2.21.0->tensorboard<2.9,>=2.8->tensorflow==2.8) (3.10)\n",
            "Requirement already satisfied: urllib3<3,>=1.21.1 in /usr/local/lib/python3.10/dist-packages (from requests<3,>=2.21.0->tensorboard<2.9,>=2.8->tensorflow==2.8) (2.2.3)\n",
            "Requirement already satisfied: certifi>=2017.4.17 in /usr/local/lib/python3.10/dist-packages (from requests<3,>=2.21.0->tensorboard<2.9,>=2.8->tensorflow==2.8) (2024.8.30)\n",
            "Requirement already satisfied: MarkupSafe>=2.1.1 in /usr/local/lib/python3.10/dist-packages (from werkzeug>=0.11.15->tensorboard<2.9,>=2.8->tensorflow==2.8) (3.0.2)\n",
            "Requirement already satisfied: pyasn1<0.7.0,>=0.4.6 in /usr/local/lib/python3.10/dist-packages (from pyasn1-modules>=0.2.1->google-auth<3,>=1.6.3->tensorboard<2.9,>=2.8->tensorflow==2.8) (0.6.1)\n",
            "Requirement already satisfied: oauthlib>=3.0.0 in /usr/local/lib/python3.10/dist-packages (from requests-oauthlib>=0.7.0->google-auth-oauthlib<0.5,>=0.4.1->tensorboard<2.9,>=2.8->tensorflow==2.8) (3.2.2)\n",
            "Downloading tensorflow-2.8.0-cp310-cp310-manylinux2010_x86_64.whl (497.6 MB)\n",
            "\u001b[2K   \u001b[90m━━━━━━━━━━━━━━━━━━━━━━━━━━━━━━━━━━━━━━━━\u001b[0m \u001b[32m497.6/497.6 MB\u001b[0m \u001b[31m2.9 MB/s\u001b[0m eta \u001b[36m0:00:00\u001b[0m\n",
            "\u001b[?25hDownloading tf_estimator_nightly-2.8.0.dev2021122109-py2.py3-none-any.whl (462 kB)\n",
            "\u001b[2K   \u001b[90m━━━━━━━━━━━━━━━━━━━━━━━━━━━━━━━━━━━━━━━━\u001b[0m \u001b[32m462.5/462.5 kB\u001b[0m \u001b[31m7.7 MB/s\u001b[0m eta \u001b[36m0:00:00\u001b[0m\n",
            "\u001b[?25hDownloading keras-2.8.0-py2.py3-none-any.whl (1.4 MB)\n",
            "\u001b[2K   \u001b[90m━━━━━━━━━━━━━━━━━━━━━━━━━━━━━━━━━━━━━━━━\u001b[0m \u001b[32m1.4/1.4 MB\u001b[0m \u001b[31m37.8 MB/s\u001b[0m eta \u001b[36m0:00:00\u001b[0m\n",
            "\u001b[?25hDownloading Keras_Preprocessing-1.1.2-py2.py3-none-any.whl (42 kB)\n",
            "\u001b[2K   \u001b[90m━━━━━━━━━━━━━━━━━━━━━━━━━━━━━━━━━━━━━━━━\u001b[0m \u001b[32m42.6/42.6 kB\u001b[0m \u001b[31m2.6 MB/s\u001b[0m eta \u001b[36m0:00:00\u001b[0m\n",
            "\u001b[?25hDownloading tensorboard-2.8.0-py3-none-any.whl (5.8 MB)\n",
            "\u001b[2K   \u001b[90m━━━━━━━━━━━━━━━━━━━━━━━━━━━━━━━━━━━━━━━━\u001b[0m \u001b[32m5.8/5.8 MB\u001b[0m \u001b[31m21.6 MB/s\u001b[0m eta \u001b[36m0:00:00\u001b[0m\n",
            "\u001b[?25hDownloading google_auth_oauthlib-0.4.6-py2.py3-none-any.whl (18 kB)\n",
            "Downloading tensorboard_data_server-0.6.1-py3-none-manylinux2010_x86_64.whl (4.9 MB)\n",
            "\u001b[2K   \u001b[90m━━━━━━━━━━━━━━━━━━━━━━━━━━━━━━━━━━━━━━━━\u001b[0m \u001b[32m4.9/4.9 MB\u001b[0m \u001b[31m46.1 MB/s\u001b[0m eta \u001b[36m0:00:00\u001b[0m\n",
            "\u001b[?25hDownloading tensorboard_plugin_wit-1.8.1-py3-none-any.whl (781 kB)\n",
            "\u001b[2K   \u001b[90m━━━━━━━━━━━━━━━━━━━━━━━━━━━━━━━━━━━━━━━━\u001b[0m \u001b[32m781.3/781.3 kB\u001b[0m \u001b[31m21.6 MB/s\u001b[0m eta \u001b[36m0:00:00\u001b[0m\n",
            "\u001b[?25hInstalling collected packages: tf-estimator-nightly, tensorboard-plugin-wit, keras, tensorboard-data-server, keras-preprocessing, google-auth-oauthlib, tensorboard, tensorflow\n",
            "  Attempting uninstall: keras\n",
            "    Found existing installation: keras 3.4.1\n",
            "    Uninstalling keras-3.4.1:\n",
            "      Successfully uninstalled keras-3.4.1\n",
            "  Attempting uninstall: tensorboard-data-server\n",
            "    Found existing installation: tensorboard-data-server 0.7.2\n",
            "    Uninstalling tensorboard-data-server-0.7.2:\n",
            "      Successfully uninstalled tensorboard-data-server-0.7.2\n",
            "  Attempting uninstall: google-auth-oauthlib\n",
            "    Found existing installation: google-auth-oauthlib 1.2.1\n",
            "    Uninstalling google-auth-oauthlib-1.2.1:\n",
            "      Successfully uninstalled google-auth-oauthlib-1.2.1\n",
            "  Attempting uninstall: tensorboard\n",
            "    Found existing installation: tensorboard 2.17.0\n",
            "    Uninstalling tensorboard-2.17.0:\n",
            "      Successfully uninstalled tensorboard-2.17.0\n",
            "  Attempting uninstall: tensorflow\n",
            "    Found existing installation: tensorflow 2.17.0\n",
            "    Uninstalling tensorflow-2.17.0:\n",
            "      Successfully uninstalled tensorflow-2.17.0\n",
            "\u001b[31mERROR: pip's dependency resolver does not currently take into account all the packages that are installed. This behaviour is the source of the following dependency conflicts.\n",
            "pandas-gbq 0.23.2 requires google-auth-oauthlib>=0.7.0, but you have google-auth-oauthlib 0.4.6 which is incompatible.\n",
            "tf-keras 2.17.0 requires tensorflow<2.18,>=2.17, but you have tensorflow 2.8.0 which is incompatible.\u001b[0m\u001b[31m\n",
            "\u001b[0mSuccessfully installed google-auth-oauthlib-0.4.6 keras-2.8.0 keras-preprocessing-1.1.2 tensorboard-2.8.0 tensorboard-data-server-0.6.1 tensorboard-plugin-wit-1.8.1 tensorflow-2.8.0 tf-estimator-nightly-2.8.0.dev2021122109\n"
          ]
        }
      ]
    },
    {
      "cell_type": "code",
      "execution_count": 2,
      "metadata": {
        "colab": {
          "base_uri": "https://localhost:8080/"
        },
        "id": "ZRCz3OGKys8l",
        "outputId": "c732b03c-76f7-4498-9888-9f36d33a10dc"
      },
      "outputs": [
        {
          "output_type": "stream",
          "name": "stdout",
          "text": [
            "--2024-10-26 13:11:49--  https://s3.amazonaws.com/keras-datasets/jena_climate_2009_2016.csv.zip\n",
            "Resolving s3.amazonaws.com (s3.amazonaws.com)... 3.5.31.225, 16.182.104.200, 52.217.102.110, ...\n",
            "Connecting to s3.amazonaws.com (s3.amazonaws.com)|3.5.31.225|:443... connected.\n",
            "HTTP request sent, awaiting response... 200 OK\n",
            "Length: 13565642 (13M) [application/zip]\n",
            "Saving to: ‘jena_climate_2009_2016.csv.zip’\n",
            "\n",
            "jena_climate_2009_2 100%[===================>]  12.94M  4.42MB/s    in 2.9s    \n",
            "\n",
            "2024-10-26 13:11:52 (4.42 MB/s) - ‘jena_climate_2009_2016.csv.zip’ saved [13565642/13565642]\n",
            "\n",
            "Archive:  jena_climate_2009_2016.csv.zip\n",
            "  inflating: jena_climate_2009_2016.csv  \n",
            "  inflating: __MACOSX/._jena_climate_2009_2016.csv  \n"
          ]
        }
      ],
      "source": [
        "!wget https://s3.amazonaws.com/keras-datasets/jena_climate_2009_2016.csv.zip\n",
        "!unzip jena_climate_2009_2016.csv.zip"
      ]
    },
    {
      "cell_type": "code",
      "source": [
        "import os\n",
        "import numpy as np\n",
        "from matplotlib import pyplot as plt\n",
        "import tensorflow as tf\n",
        "import keras\n",
        "from tensorflow import keras\n",
        "from keras import layers\n",
        "from platform import python_version\n",
        "print('Python version: {}'.format(python_version()))\n",
        "print('Tensorflow version: {}'.format(tf.__version__))\n",
        "print('Keras version: {}'.format(keras.__version__))"
      ],
      "metadata": {
        "id": "pNAnc6y74i5o",
        "outputId": "72788735-4426-4ea6-de7b-c356f7781aac",
        "colab": {
          "base_uri": "https://localhost:8080/"
        }
      },
      "execution_count": 3,
      "outputs": [
        {
          "output_type": "stream",
          "name": "stdout",
          "text": [
            "Python version: 3.10.12\n",
            "Tensorflow version: 2.8.0\n",
            "Keras version: 2.8.0\n"
          ]
        }
      ]
    },
    {
      "cell_type": "code",
      "source": [
        "fname = os.path.join(\"jena_climate_2009_2016.csv\")\n",
        "with open(fname) as f:\n",
        "    data = f.read()"
      ],
      "metadata": {
        "id": "FVSjjGs72J7E"
      },
      "execution_count": 4,
      "outputs": []
    },
    {
      "cell_type": "markdown",
      "source": [
        "The dataset contains 420451 records of pressure, air temperature, humidity, and other meteorological variables."
      ],
      "metadata": {
        "id": "38nNqXic3j9v"
      }
    },
    {
      "cell_type": "code",
      "source": [
        "lines = data.split(\"\\n\")\n",
        "header = lines[0].split(\",\")\n",
        "record_0 = lines[1].split(\",\")\n",
        "lines = lines[1:]\n",
        "print(header)\n",
        "print(record_0)\n",
        "print('Number of records: {:d}'.format(len(lines)))"
      ],
      "metadata": {
        "colab": {
          "base_uri": "https://localhost:8080/"
        },
        "id": "6f3H-JWY2Zhd",
        "outputId": "e38e2763-174b-4f18-a56d-c4c6100eb6b0"
      },
      "execution_count": 9,
      "outputs": [
        {
          "output_type": "stream",
          "name": "stdout",
          "text": [
            "['\"Date Time\"', '\"p (mbar)\"', '\"T (degC)\"', '\"Tpot (K)\"', '\"Tdew (degC)\"', '\"rh (%)\"', '\"VPmax (mbar)\"', '\"VPact (mbar)\"', '\"VPdef (mbar)\"', '\"sh (g/kg)\"', '\"H2OC (mmol/mol)\"', '\"rho (g/m**3)\"', '\"wv (m/s)\"', '\"max. wv (m/s)\"', '\"wd (deg)\"']\n",
            "['01.01.2009 00:10:00', '996.52', '-8.02', '265.40', '-8.90', '93.30', '3.33', '3.11', '0.22', '1.94', '3.12', '1307.75', '1.03', '1.75', '152.30']\n",
            "Number of records: 420451\n"
          ]
        }
      ]
    },
    {
      "cell_type": "markdown",
      "source": [
        "We create two NumPy arrays, one for the temperature values and one for the rest. The temperature values will be used as the target values of the forecasting task while the other parameters will be used as features to learn the function that links the parameters to the temperature\n",
        "\n",
        "$$T = f(pressure, humidity, wind,..)$$\n",
        "\n",
        "The model does not use the past values of temperature for the forecasts. This will probably reduce the skill of the model."
      ],
      "metadata": {
        "id": "ZXrG18YK3MnK"
      }
    },
    {
      "cell_type": "code",
      "source": [
        "temperature = np.zeros((len(lines),))\n",
        "raw_data = np.zeros((len(lines), len(header) - 1))\n",
        "for i, line in enumerate(lines):\n",
        "    values = [float(x) for x in line.split(\",\")[1:]]\n",
        "    temperature[i] = values[1]\n",
        "    raw_data[i, :] = values[:]"
      ],
      "metadata": {
        "id": "jdzDMv3a2evF"
      },
      "execution_count": 10,
      "outputs": []
    },
    {
      "cell_type": "code",
      "source": [
        "plt.plot(range(len(temperature)), temperature)"
      ],
      "metadata": {
        "colab": {
          "base_uri": "https://localhost:8080/",
          "height": 451
        },
        "id": "4YgyYvI-3AEO",
        "outputId": "0e366911-ca8b-483b-836c-f8eb67f5c553"
      },
      "execution_count": 11,
      "outputs": [
        {
          "output_type": "execute_result",
          "data": {
            "text/plain": [
              "[<matplotlib.lines.Line2D at 0x7814a9974df0>]"
            ]
          },
          "metadata": {},
          "execution_count": 11
        },
        {
          "output_type": "display_data",
          "data": {
            "text/plain": [
              "<Figure size 640x480 with 1 Axes>"
            ],
            "image/png": "[encoded data removed]"
          },
          "metadata": {}
        }
      ]
    },
    {
      "cell_type": "markdown",
      "source": [
        "We plot a smaller sample of the first 10 days. Since the data is collected every 10 minutes, there are 24 * 6 * 10 = 1440 data points"
      ],
      "metadata": {
        "id": "wIlhaHs159M1"
      }
    },
    {
      "cell_type": "code",
      "source": [
        "plt.plot(range(1440), temperature[:1440])"
      ],
      "metadata": {
        "colab": {
          "base_uri": "https://localhost:8080/",
          "height": 447
        },
        "id": "dMOa39wX4aur",
        "outputId": "e5b637d3-d378-4053-c5f9-42f4cc95ba41"
      },
      "execution_count": 12,
      "outputs": [
        {
          "output_type": "execute_result",
          "data": {
            "text/plain": [
              "[<matplotlib.lines.Line2D at 0x7814b4fdd360>]"
            ]
          },
          "metadata": {},
          "execution_count": 12
        },
        {
          "output_type": "display_data",
          "data": {
            "text/plain": [
              "<Figure size 640x480 with 1 Axes>"
            ],
            "image/png": "[encoded data removed]"
          },
          "metadata": {}
        }
      ]
    },
    {
      "cell_type": "markdown",
      "source": [
        "## The forecasting task\n",
        "We want to know wheter we can make a forecast of the temperature for the next 24 hours (lead time) given the records in the previous 5 days sampled every hour. We will use the first 50% of the data for training, the following 25% for validation and the last 25% for testing.    "
      ],
      "metadata": {
        "id": "5WkSbNkq8lKf"
      }
    },
    {
      "cell_type": "code",
      "source": [
        "num_train_samples = int(0.5 * len(raw_data))\n",
        "num_val_samples = int(0.25 * len(raw_data))\n",
        "num_test_samples = len(raw_data) - num_train_samples - num_val_samples\n",
        "print(\"num_train_samples:\", num_train_samples)\n",
        "print(\"num_val_samples:\", num_val_samples)\n",
        "print(\"num_test_samples:\", num_test_samples)"
      ],
      "metadata": {
        "colab": {
          "base_uri": "https://localhost:8080/"
        },
        "id": "i3mxhD9u57FT",
        "outputId": "51ebc35e-dccc-46c9-8dd1-9c2af1544519"
      },
      "execution_count": 13,
      "outputs": [
        {
          "output_type": "stream",
          "name": "stdout",
          "text": [
            "num_train_samples: 210225\n",
            "num_val_samples: 105112\n",
            "num_test_samples: 105114\n"
          ]
        }
      ]
    },
    {
      "cell_type": "markdown",
      "source": [
        "### Data preparation\n",
        "In order to train a model for time series forecasting we have to sample our dataset, the observations. For example we want to use one observation every 6 since we assume the sequence is highly correlated. So we set the sampling rate to 6, that is one sample per hour. Then we have to decide the length of the sequences for the training. For instance we may assume that 5 days of observations is enough to make a forecast for the next 24 hours. Therefore we set the length of the sequences to 5 x 24 = 120 observations. Finally we set the delay to extract the target sequence to be the same as the lead time we want our model to be able to forecast. So for each sequence extracted from the time series we can extract the target sequence just using a delay of the same length as the lead time. One last value we have to set is the number of sequences in the batch. In this example we set the number of sequences in the batch to 256."
      ],
      "metadata": {
        "id": "1dpx366FDxat"
      }
    },
    {
      "cell_type": "markdown",
      "source": [
        "Since the range of values of the variables is different we normalize the data by subtracting the mean and dividing by the standard deviation"
      ],
      "metadata": {
        "id": "mshD_J6p_H5m"
      }
    },
    {
      "cell_type": "code",
      "source": [
        "mean = raw_data[:num_train_samples].mean(axis=0)\n",
        "raw_data -= mean\n",
        "std = raw_data[:num_train_samples].std(axis=0)\n",
        "raw_data /= std"
      ],
      "metadata": {
        "id": "iJ9kMfFX73b5"
      },
      "execution_count": 15,
      "outputs": []
    },
    {
      "cell_type": "code",
      "source": [
        "sampling_rate = 6\n",
        "sequence_length = 120\n",
        "delay = sampling_rate * (sequence_length + 24 - 1)\n",
        "batch_size = 256\n",
        "delay"
      ],
      "metadata": {
        "id": "8vub5Y_K_YEA",
        "colab": {
          "base_uri": "https://localhost:8080/"
        },
        "outputId": "27c1409f-56c0-42c0-e710-d5d6edf45a76"
      },
      "execution_count": 16,
      "outputs": [
        {
          "output_type": "execute_result",
          "data": {
            "text/plain": [
              "858"
            ]
          },
          "metadata": {},
          "execution_count": 16
        }
      ]
    },
    {
      "cell_type": "markdown",
      "source": [
        "We use a utility function from keras to create the training and validation set and the test set."
      ],
      "metadata": {
        "id": "9EMnugQEInLu"
      }
    },
    {
      "cell_type": "code",
      "source": [
        "train_dataset = keras.utils.timeseries_dataset_from_array(\n",
        "                                                        raw_data[:-delay],\n",
        "                                                        targets=temperature[delay:],\n",
        "                                                        sampling_rate=sampling_rate,\n",
        "                                                        sequence_length=sequence_length,\n",
        "                                                        shuffle=True,\n",
        "                                                        batch_size=batch_size,\n",
        "                                                        start_index=0,\n",
        "                                                        end_index=num_train_samples)\n",
        "\n",
        "val_dataset = keras.utils.timeseries_dataset_from_array(\n",
        "                                                        raw_data[:-delay],\n",
        "                                                        targets=temperature[delay:],\n",
        "                                                        sampling_rate=sampling_rate,\n",
        "                                                        sequence_length=sequence_length,\n",
        "                                                        shuffle=True,\n",
        "                                                        batch_size=batch_size,\n",
        "                                                        start_index=num_train_samples,\n",
        "                                                        end_index=num_train_samples + num_val_samples)\n",
        "\n",
        "test_dataset = keras.utils.timeseries_dataset_from_array(\n",
        "                                                        raw_data[:-delay],\n",
        "                                                        targets=temperature[delay:],\n",
        "                                                        sampling_rate=sampling_rate,\n",
        "                                                        sequence_length=sequence_length,\n",
        "                                                        shuffle=True,\n",
        "                                                        batch_size=batch_size,\n",
        "                                                        start_index=num_train_samples + num_val_samples)"
      ],
      "metadata": {
        "id": "iTvngdpyIPbD"
      },
      "execution_count": 17,
      "outputs": []
    },
    {
      "cell_type": "markdown",
      "source": [
        "Our datasets are tuples (samples, targets) of input sequences. Each tuple contains 120 data points and a target delayed temperature value. As said, the inputs are variables such as pressure, wind speed, humidity, and other meteorological variables. The sequences in each dataset are shuffled, that is their position in the dataset is random but the observations in each sequence are kept in the same order."
      ],
      "metadata": {
        "id": "ElWf4noCaBeQ"
      }
    },
    {
      "cell_type": "code",
      "source": [
        "for samples, targets in train_dataset:\n",
        "    print(\"samples shape:\", samples.shape)\n",
        "    print(\"targets shape:\", targets.shape)\n",
        "    break"
      ],
      "metadata": {
        "colab": {
          "base_uri": "https://localhost:8080/"
        },
        "id": "vky92H4mJPsC",
        "outputId": "cfe2dbc8-e8bf-471a-b6bd-d88ade922847"
      },
      "execution_count": 18,
      "outputs": [
        {
          "output_type": "stream",
          "name": "stdout",
          "text": [
            "samples shape: (256, 120, 14)\n",
            "targets shape: (256,)\n"
          ]
        }
      ]
    },
    {
      "cell_type": "markdown",
      "source": [
        "So in the train dataset we have a batch of 256 sample sequences of lenght 120 for each of the 14 variables that will be used to infer the temperature. The target of each sample sequence in the batch is one temperature value."
      ],
      "metadata": {
        "id": "YCodY7ze54V_"
      }
    },
    {
      "cell_type": "markdown",
      "source": [
        "## The baseline\n",
        "Before building our forecasting model we may want to build a simpler common-sense model, a baseline, to compare its skill against it. We assume our baseline model to always forecast the last temperature values for the next 24 hours. We can compute the mean absolute error (MAE) as the absolute difference between such predictions and the observations. For the predictions we take the temperature value, i.e. column 1, of the last observation, i.e. the set of variables such as pressure, temperature, etc, of each sample sequence."
      ],
      "metadata": {
        "id": "SJRJ5uECkDZR"
      }
    },
    {
      "cell_type": "code",
      "source": [
        "def evaluate_naive_method(dataset):\n",
        "    total_abs_err = 0.\n",
        "    samples_seen = 0\n",
        "    for samples, targets in dataset:\n",
        "        # Check if the batch size is 0\n",
        "        if samples.shape[0] == 0:\n",
        "            print(\"Warning: Batch size is 0. Skipping this batch.\")\n",
        "            continue  # Skip this batch and move to the next one\n",
        "        preds = samples[:, -1, 1] * std[1] + mean[1] # inversion of the normalized temperature value from the last observation of a sequence in the batch\n",
        "        total_abs_err += np.sum(np.abs(preds - targets))\n",
        "        samples_seen += samples.shape[0]\n",
        "    return total_abs_err / samples_seen"
      ],
      "metadata": {
        "id": "m17zieF2loBf"
      },
      "execution_count": 19,
      "outputs": []
    },
    {
      "cell_type": "code",
      "source": [
        "print(f\"Validation MAE: {evaluate_naive_method(val_dataset):.2f}\")\n",
        "print(f\"Test MAE: {evaluate_naive_method(test_dataset):.2f}\")"
      ],
      "metadata": {
        "colab": {
          "base_uri": "https://localhost:8080/"
        },
        "id": "n-y_78Dklzcg",
        "outputId": "4f4dd0c1-ab42-4665-9d93-04bf18d68702"
      },
      "execution_count": 21,
      "outputs": [
        {
          "output_type": "stream",
          "name": "stdout",
          "text": [
            "Validation MAE: 10.28\n",
            "Test MAE: 10.40\n"
          ]
        }
      ]
    },
    {
      "cell_type": "markdown",
      "source": [
        "## A simple shallow neural network model\n",
        "Before building a deep neural network we build another simple model based of a shallow fully connected neural network. Since this model does not have memory we have to provide the network complete, as far as we know, examples of sequences, that is, each sequence is a data point. The input is a sequence of 120 observations of 14 variables. The hidden layer has 16 units. Each one of 120 x 14 = 1680 units of the input layer is connected to each of the 16 units of the hidden layer for a total of 1680 x 16 = 26880 weights to which we have to add the 16 weights for the connections of the units of the hidden layer to the single unit of the output layer for a total number of 26896 weights. We flatten the input data to compute the weights in the fully connected layer but this operation destroys the time order."
      ],
      "metadata": {
        "id": "DYAI0WueopIO"
      }
    },
    {
      "cell_type": "code",
      "source": [
        "inputs = keras.Input(shape=(sequence_length, raw_data.shape[-1]))\n",
        "x = layers.Flatten()(inputs)\n",
        "x = layers.Dense(16, activation=\"relu\")(x)\n",
        "outputs = layers.Dense(1)(x)\n",
        "model = keras.Model(inputs, outputs)\n",
        "model.summary()"
      ],
      "metadata": {
        "id": "g09xZY-sl5Kv",
        "colab": {
          "base_uri": "https://localhost:8080/"
        },
        "outputId": "146f4e54-0aeb-47a6-b349-e7dfcb4f4753"
      },
      "execution_count": 22,
      "outputs": [
        {
          "output_type": "stream",
          "name": "stdout",
          "text": [
            "Model: \"model\"\n",
            "_________________________________________________________________\n",
            " Layer (type)                Output Shape              Param #   \n",
            "=================================================================\n",
            " input_1 (InputLayer)        [(None, 120, 14)]         0         \n",
            "                                                                 \n",
            " flatten (Flatten)           (None, 1680)              0         \n",
            "                                                                 \n",
            " dense (Dense)               (None, 16)                26896     \n",
            "                                                                 \n",
            " dense_1 (Dense)             (None, 1)                 17        \n",
            "                                                                 \n",
            "=================================================================\n",
            "Total params: 26,913\n",
            "Trainable params: 26,913\n",
            "Non-trainable params: 0\n",
            "_________________________________________________________________\n"
          ]
        }
      ]
    },
    {
      "cell_type": "code",
      "source": [
        "callbacks = [\n",
        "             keras.callbacks.ModelCheckpoint(\"jena_dense.keras\",\n",
        "             save_best_only=True)\n",
        "]\n",
        "\n",
        "model.compile(optimizer=\"rmsprop\", loss=\"mse\", metrics=[\"mae\"])"
      ],
      "metadata": {
        "id": "v-l9BNkjpH2j"
      },
      "execution_count": 23,
      "outputs": []
    },
    {
      "cell_type": "code",
      "source": [
        "history = model.fit(train_dataset,\n",
        "                    epochs=10,\n",
        "                    validation_data=val_dataset,\n",
        "                    callbacks=callbacks)"
      ],
      "metadata": {
        "id": "wBwOv1XWB4Wx",
        "outputId": "499880ad-9cc7-4aef-f907-eca502be7b3b",
        "colab": {
          "base_uri": "https://localhost:8080/"
        }
      },
      "execution_count": 24,
      "outputs": [
        {
          "output_type": "stream",
          "name": "stdout",
          "text": [
            "Epoch 1/10\n",
            "819/819 [==============================] - 49s 59ms/step - loss: 12.6312 - mae: 2.7603 - val_loss: 12.8101 - val_mae: 2.8343\n",
            "Epoch 2/10\n",
            "819/819 [==============================] - 45s 54ms/step - loss: 9.2049 - mae: 2.3887 - val_loss: 12.5923 - val_mae: 2.7962\n",
            "Epoch 3/10\n",
            "819/819 [==============================] - 45s 54ms/step - loss: 8.3628 - mae: 2.2798 - val_loss: 12.1648 - val_mae: 2.7695\n",
            "Epoch 4/10\n",
            "819/819 [==============================] - 45s 54ms/step - loss: 7.8821 - mae: 2.2160 - val_loss: 10.6914 - val_mae: 2.5813\n",
            "Epoch 5/10\n",
            "819/819 [==============================] - 44s 54ms/step - loss: 7.4808 - mae: 2.1611 - val_loss: 10.5341 - val_mae: 2.5585\n",
            "Epoch 6/10\n",
            "819/819 [==============================] - 44s 53ms/step - loss: 7.2590 - mae: 2.1282 - val_loss: 11.4812 - val_mae: 2.6764\n",
            "Epoch 7/10\n",
            "819/819 [==============================] - 43s 52ms/step - loss: 7.0650 - mae: 2.1010 - val_loss: 12.3680 - val_mae: 2.7669\n",
            "Epoch 8/10\n",
            "819/819 [==============================] - 45s 55ms/step - loss: 6.8908 - mae: 2.0758 - val_loss: 11.3225 - val_mae: 2.6626\n",
            "Epoch 9/10\n",
            "819/819 [==============================] - 44s 53ms/step - loss: 6.7598 - mae: 2.0557 - val_loss: 11.0760 - val_mae: 2.6241\n",
            "Epoch 10/10\n",
            "819/819 [==============================] - 45s 55ms/step - loss: 6.6570 - mae: 2.0390 - val_loss: 12.1618 - val_mae: 2.7771\n"
          ]
        }
      ]
    },
    {
      "cell_type": "markdown",
      "source": [
        "We assess the performance of the shallow neural network model on the test set. We achieve a MAE of 2.70, similar to that achieved by the common-sense baseline model."
      ],
      "metadata": {
        "id": "fVcmfffCsLxH"
      }
    },
    {
      "cell_type": "code",
      "source": [
        "model = keras.models.load_model(\"jena_dense.keras\")\n",
        "print(f\"Test MAE: {model.evaluate(test_dataset)[1]:.2f}\")"
      ],
      "metadata": {
        "colab": {
          "base_uri": "https://localhost:8080/"
        },
        "id": "W2JdYWRapSTB",
        "outputId": "fe508d88-1f00-4db0-878e-9220571ad561"
      },
      "execution_count": 25,
      "outputs": [
        {
          "output_type": "stream",
          "name": "stdout",
          "text": [
            "405/405 [==============================] - 15s 35ms/step - loss: 11.4055 - mae: 2.6605\n",
            "Test MAE: 2.66\n"
          ]
        }
      ]
    },
    {
      "cell_type": "code",
      "source": [
        "def plot_mae(history):\n",
        "    loss = history.history[\"mae\"]\n",
        "    val_loss = history.history[\"val_mae\"]\n",
        "    epochs = range(1, len(loss) + 1)\n",
        "    plt.figure()\n",
        "    plt.plot(epochs, loss, \"bo\", label=\"Training MAE\")\n",
        "    plt.plot(epochs, val_loss, \"b\", label=\"Validation MAE\")\n",
        "    plt.title(\"Training and validation MAE\")\n",
        "    plt.legend()\n",
        "    plt.show()"
      ],
      "metadata": {
        "id": "bxcCAcCusF12"
      },
      "execution_count": 26,
      "outputs": []
    },
    {
      "cell_type": "code",
      "source": [
        "plot_mae(history)"
      ],
      "metadata": {
        "id": "6UHp0n36SLjc",
        "outputId": "8a9f2f37-cec7-4f44-f126-ca384764a907",
        "colab": {
          "base_uri": "https://localhost:8080/",
          "height": 452
        }
      },
      "execution_count": null,
      "outputs": [
        {
          "output_type": "display_data",
          "data": {
            "text/plain": [
              "<Figure size 640x480 with 1 Axes>"
            ],
            "image/png": "[encoded data removed]"
          },
          "metadata": {}
        }
      ]
    },
    {
      "cell_type": "markdown",
      "source": [
        "## A 1D convolutional model\n",
        "The shallow neural network did not achieve a better result than the common-sense baseline so we try another model slightly more complex than the shallow model: a one dimensional convolution. It works like the 2D convolution but only in one dimension. As for a 2D filter learnt by a convolution model the output of a 1D filter should not depend on the location on the sequence and be able to extract a pattern wherever it is. We start with a kernel (window) of 24 datapoints for the first layer and then we halve the window. The last layer contains only one unit and outputs a real value for the temperature. We use MaxPooling in the model to reduce the size of the feature maps but this operation destroys the time order information.  "
      ],
      "metadata": {
        "id": "DEbptDZYwPQC"
      }
    },
    {
      "cell_type": "code",
      "source": [
        "inputs = keras.Input(shape=(sequence_length, raw_data.shape[-1]))\n",
        "x = layers.Conv1D(8, 24, activation=\"relu\")(inputs)\n",
        "x = layers.MaxPooling1D(2)(x) # max pooling destroys the time information\n",
        "x = layers.Conv1D(8, 12, activation=\"relu\")(x)\n",
        "x = layers.MaxPooling1D(2)(x)\n",
        "x = layers.Conv1D(8, 6, activation=\"relu\")(x)\n",
        "x = layers.GlobalAveragePooling1D()(x)\n",
        "outputs = layers.Dense(1)(x)\n",
        "model = keras.Model(inputs, outputs)\n",
        "model.summary()"
      ],
      "metadata": {
        "id": "8-f0c1vvs4yi",
        "outputId": "744b09d5-c359-490f-baf7-6021e16afc25",
        "colab": {
          "base_uri": "https://localhost:8080/"
        }
      },
      "execution_count": 27,
      "outputs": [
        {
          "output_type": "stream",
          "name": "stdout",
          "text": [
            "Model: \"model_1\"\n",
            "_________________________________________________________________\n",
            " Layer (type)                Output Shape              Param #   \n",
            "=================================================================\n",
            " input_2 (InputLayer)        [(None, 120, 14)]         0         \n",
            "                                                                 \n",
            " conv1d (Conv1D)             (None, 97, 8)             2696      \n",
            "                                                                 \n",
            " max_pooling1d (MaxPooling1D  (None, 48, 8)            0         \n",
            " )                                                               \n",
            "                                                                 \n",
            " conv1d_1 (Conv1D)           (None, 37, 8)             776       \n",
            "                                                                 \n",
            " max_pooling1d_1 (MaxPooling  (None, 18, 8)            0         \n",
            " 1D)                                                             \n",
            "                                                                 \n",
            " conv1d_2 (Conv1D)           (None, 13, 8)             392       \n",
            "                                                                 \n",
            " global_average_pooling1d (G  (None, 8)                0         \n",
            " lobalAveragePooling1D)                                          \n",
            "                                                                 \n",
            " dense_2 (Dense)             (None, 1)                 9         \n",
            "                                                                 \n",
            "=================================================================\n",
            "Total params: 3,873\n",
            "Trainable params: 3,873\n",
            "Non-trainable params: 0\n",
            "_________________________________________________________________\n"
          ]
        }
      ]
    },
    {
      "cell_type": "code",
      "source": [
        "callbacks = [\n",
        "   keras.callbacks.ModelCheckpoint(\"jena_conv.keras\", save_best_only=True)\n",
        "]\n",
        "\n",
        "model.compile(optimizer=\"rmsprop\", loss=\"mse\", metrics=[\"mae\"])\n",
        "history = model.fit(train_dataset,\n",
        "                    epochs=10,\n",
        "                    validation_data=val_dataset,\n",
        "                    callbacks=callbacks)"
      ],
      "metadata": {
        "colab": {
          "base_uri": "https://localhost:8080/"
        },
        "id": "osvtKpTPyM54",
        "outputId": "66a5bd01-c427-490e-aa52-60df69e9022c"
      },
      "execution_count": 28,
      "outputs": [
        {
          "output_type": "stream",
          "name": "stdout",
          "text": [
            "Epoch 1/10\n",
            "819/819 [==============================] - 80s 97ms/step - loss: 23.6354 - mae: 3.7772 - val_loss: 17.3024 - val_mae: 3.3213\n",
            "Epoch 2/10\n",
            "819/819 [==============================] - 79s 96ms/step - loss: 15.6116 - mae: 3.1493 - val_loss: 17.2355 - val_mae: 3.2678\n",
            "Epoch 3/10\n",
            "819/819 [==============================] - 78s 95ms/step - loss: 14.5212 - mae: 3.0359 - val_loss: 15.2365 - val_mae: 3.0691\n",
            "Epoch 4/10\n",
            "819/819 [==============================] - 79s 96ms/step - loss: 13.6991 - mae: 2.9468 - val_loss: 14.6319 - val_mae: 3.0290\n",
            "Epoch 5/10\n",
            "819/819 [==============================] - 82s 100ms/step - loss: 13.0474 - mae: 2.8720 - val_loss: 16.4798 - val_mae: 3.2070\n",
            "Epoch 6/10\n",
            "819/819 [==============================] - 79s 96ms/step - loss: 12.5547 - mae: 2.8133 - val_loss: 15.3667 - val_mae: 3.1000\n",
            "Epoch 7/10\n",
            "819/819 [==============================] - 78s 95ms/step - loss: 12.1823 - mae: 2.7668 - val_loss: 15.1855 - val_mae: 3.0746\n",
            "Epoch 8/10\n",
            "819/819 [==============================] - 78s 94ms/step - loss: 11.8669 - mae: 2.7290 - val_loss: 15.8043 - val_mae: 3.1531\n",
            "Epoch 9/10\n",
            "819/819 [==============================] - 78s 95ms/step - loss: 11.6095 - mae: 2.7005 - val_loss: 15.3116 - val_mae: 3.0905\n",
            "Epoch 10/10\n",
            "819/819 [==============================] - 79s 96ms/step - loss: 11.3263 - mae: 2.6644 - val_loss: 15.1233 - val_mae: 3.0544\n"
          ]
        }
      ]
    },
    {
      "cell_type": "markdown",
      "source": [
        "The performance of the 1D convolution model  on the test set with a MAE of 3.11 is even worse than the shallow model."
      ],
      "metadata": {
        "id": "xihB8jea3Ofc"
      }
    },
    {
      "cell_type": "code",
      "source": [
        "model = keras.models.load_model(\"jena_conv.keras\")\n",
        "print(f\"Test MAE: {model.evaluate(test_dataset)[1]:.2f}\")"
      ],
      "metadata": {
        "colab": {
          "base_uri": "https://localhost:8080/"
        },
        "id": "tSAT_KD0zCSY",
        "outputId": "9feafe80-04e6-48b1-917c-6e7b4a9a1da1"
      },
      "execution_count": 29,
      "outputs": [
        {
          "output_type": "stream",
          "name": "stdout",
          "text": [
            "405/405 [==============================] - 18s 43ms/step - loss: 16.6123 - mae: 3.2484\n",
            "Test MAE: 3.25\n"
          ]
        }
      ]
    },
    {
      "cell_type": "markdown",
      "source": [
        "## A simple LSTM-based model\n",
        "We have seen two machine learning models that do not do better than the common-sense baseline model. That does not mean that a machine learning approach, and in particular those based on neural networks, cannot be used to deal with time series. The recurrent neural networks is a family of models specifically built to deal with time series."
      ],
      "metadata": {
        "id": "PJOF6zzo5kY0"
      }
    },
    {
      "cell_type": "code",
      "source": [
        "inputs = keras.Input(shape=(sequence_length, raw_data.shape[-1]))\n",
        "x = layers.LSTM(16)(inputs)\n",
        "outputs = layers.Dense(1)(x)\n",
        "model = keras.Model(inputs, outputs)\n",
        "model.summary()"
      ],
      "metadata": {
        "id": "WNNQ5rUk3DYS",
        "outputId": "a8fbde4c-4f31-4633-a4d3-201fe15ea12f",
        "colab": {
          "base_uri": "https://localhost:8080/"
        }
      },
      "execution_count": 30,
      "outputs": [
        {
          "output_type": "stream",
          "name": "stdout",
          "text": [
            "Model: \"model_2\"\n",
            "_________________________________________________________________\n",
            " Layer (type)                Output Shape              Param #   \n",
            "=================================================================\n",
            " input_3 (InputLayer)        [(None, 120, 14)]         0         \n",
            "                                                                 \n",
            " lstm (LSTM)                 (None, 16)                1984      \n",
            "                                                                 \n",
            " dense_3 (Dense)             (None, 1)                 17        \n",
            "                                                                 \n",
            "=================================================================\n",
            "Total params: 2,001\n",
            "Trainable params: 2,001\n",
            "Non-trainable params: 0\n",
            "_________________________________________________________________\n"
          ]
        }
      ]
    },
    {
      "cell_type": "code",
      "source": [
        "callbacks = [\n",
        "    keras.callbacks.ModelCheckpoint(\"jena_lstm.keras\", save_best_only=True)\n",
        "]\n",
        "model.compile(optimizer=\"rmsprop\", loss=\"mse\", metrics=[\"mae\"])"
      ],
      "metadata": {
        "id": "rtrjyRzi73ZV"
      },
      "execution_count": 31,
      "outputs": []
    },
    {
      "cell_type": "code",
      "source": [
        "history = model.fit(train_dataset,\n",
        "                    epochs=10,\n",
        "                    validation_data=val_dataset,\n",
        "                    callbacks=callbacks)"
      ],
      "metadata": {
        "colab": {
          "base_uri": "https://localhost:8080/"
        },
        "id": "ejb1QVXa8Arj",
        "outputId": "350551de-dd1e-4759-9a52-d5d33060d98b"
      },
      "execution_count": 32,
      "outputs": [
        {
          "output_type": "stream",
          "name": "stdout",
          "text": [
            "Epoch 1/10\n",
            "819/819 [==============================] - 98s 118ms/step - loss: 45.3728 - mae: 4.9047 - val_loss: 13.4198 - val_mae: 2.7891\n",
            "Epoch 2/10\n",
            "819/819 [==============================] - 102s 124ms/step - loss: 11.2873 - mae: 2.6037 - val_loss: 9.8907 - val_mae: 2.4488\n",
            "Epoch 3/10\n",
            "819/819 [==============================] - 98s 120ms/step - loss: 9.9239 - mae: 2.4497 - val_loss: 9.6058 - val_mae: 2.4094\n",
            "Epoch 4/10\n",
            "819/819 [==============================] - 100s 121ms/step - loss: 9.4289 - mae: 2.3847 - val_loss: 9.7754 - val_mae: 2.4412\n",
            "Epoch 5/10\n",
            "819/819 [==============================] - 111s 135ms/step - loss: 9.1109 - mae: 2.3430 - val_loss: 9.8172 - val_mae: 2.4524\n",
            "Epoch 6/10\n",
            "819/819 [==============================] - 107s 130ms/step - loss: 8.8788 - mae: 2.3117 - val_loss: 9.9999 - val_mae: 2.4692\n",
            "Epoch 7/10\n",
            "819/819 [==============================] - 116s 141ms/step - loss: 8.6538 - mae: 2.2830 - val_loss: 9.9767 - val_mae: 2.4691\n",
            "Epoch 8/10\n",
            "819/819 [==============================] - 105s 128ms/step - loss: 8.4312 - mae: 2.2580 - val_loss: 10.0966 - val_mae: 2.4764\n",
            "Epoch 9/10\n",
            "819/819 [==============================] - 103s 126ms/step - loss: 8.2151 - mae: 2.2305 - val_loss: 10.2404 - val_mae: 2.5108\n",
            "Epoch 10/10\n",
            "819/819 [==============================] - 104s 127ms/step - loss: 8.0345 - mae: 2.2075 - val_loss: 10.2767 - val_mae: 2.4894\n"
          ]
        }
      ]
    },
    {
      "cell_type": "markdown",
      "source": [
        "This time the model's performance is better than the baseline. It achieves a MAE of 2.60 against the 2.62 of the baseline, a little improvement but still an improvement. The reason why a recurrent model achieves a better result than the fully connected and convolutional model is that these two models do not have memory. No information is kept about the state of the system being modeled after an input sequence has been processed. So the reasons why the fully connected and the convolutional model do not work when dealing with time series is twofold. The first reason is that they process a sequence of data points as one single array of values without paying attention to the temporal order, and the second reason is that they do not have memory."
      ],
      "metadata": {
        "id": "Py1ZP97xBeNS"
      }
    },
    {
      "cell_type": "code",
      "source": [
        "model = keras.models.load_model(\"jena_lstm.keras\")\n",
        "print(f\"Test MAE: {model.evaluate(test_dataset)[1]:.2f}\")"
      ],
      "metadata": {
        "colab": {
          "base_uri": "https://localhost:8080/"
        },
        "id": "l0yol_zR8J2D",
        "outputId": "9d90b6cf-9f5c-4d1f-917d-a57953b120b5"
      },
      "execution_count": 33,
      "outputs": [
        {
          "output_type": "stream",
          "name": "stdout",
          "text": [
            "405/405 [==============================] - 24s 57ms/step - loss: 11.2326 - mae: 2.6242\n",
            "Test MAE: 2.62\n"
          ]
        }
      ]
    },
    {
      "cell_type": "code",
      "source": [
        "plot_mae(history)"
      ],
      "metadata": {
        "colab": {
          "base_uri": "https://localhost:8080/",
          "height": 452
        },
        "id": "ElgLdmnaSXYd",
        "outputId": "ef36b492-882a-4e14-d773-ee027ca8469c"
      },
      "execution_count": 34,
      "outputs": [
        {
          "output_type": "display_data",
          "data": {
            "text/plain": [
              "<Figure size 640x480 with 1 Axes>"
            ],
            "image/png": "[encoded data removed]"
          },
          "metadata": {}
        }
      ]
    },
    {
      "cell_type": "markdown",
      "source": [
        "## Recurrent neural networks\n",
        "The LSTM model that achieved a result better than the baseline is part of the recurrent neural network family of models. These models are based on a recurrent connection that keeps the information about the state of the network simply by adding the output of the previous input to the next input to produce the output.\n",
        "\n",
        "![recurrent connection](https://github.com/luigiselmi/dl_tensorflow/blob/main/images/recurrent_connection.jpg?raw=1)\n",
        "\n",
        "Each sequence in a batch is processed recursively and not as one single data point. We can specify the length of a sequence or we can just process any sequence independently of its length. Like in any neural network seen so far, the output will depend on some weights that will be optimized in order to minimize the loss. There are several ways to implement such recurrence and that is the reason why there exist many recurrent networks. An LSTM recurrent network can manage long sequences avoiding the *vanishing gradient* problem during training."
      ],
      "metadata": {
        "id": "hiabX2tQIOg5"
      }
    },
    {
      "cell_type": "markdown",
      "source": [
        "### Recurrent dropout to fight overfitting\n",
        "If we look at the loss and validation plot of our LSTM model we can see that the validation and the training loss diverge just after few epoch. This is a sign of overfitting. Keras implements a dropout layer that is specific for recurrent networks but the idea is the same as for the fully connected layers: reducing the number of parameters. In order to train the next model it is recommended to switch to a GPU runtime."
      ],
      "metadata": {
        "id": "zJvVn_QkTuKB"
      }
    },
    {
      "cell_type": "code",
      "source": [
        "inputs = keras.Input(shape=(sequence_length, raw_data.shape[-1]))\n",
        "x = layers.LSTM(32, recurrent_dropout=0.25)(inputs)\n",
        "x = layers.Dropout(0.5)(x)\n",
        "outputs = layers.Dense(1)(x)\n",
        "model = keras.Model(inputs, outputs)\n",
        "model.summary()"
      ],
      "metadata": {
        "id": "gahXXufFVtTS",
        "colab": {
          "base_uri": "https://localhost:8080/"
        },
        "outputId": "8c293456-c067-4d8f-d846-7986a4708c00"
      },
      "execution_count": 36,
      "outputs": [
        {
          "output_type": "stream",
          "name": "stdout",
          "text": [
            "Model: \"model_4\"\n",
            "_________________________________________________________________\n",
            " Layer (type)                Output Shape              Param #   \n",
            "=================================================================\n",
            " input_5 (InputLayer)        [(None, 120, 14)]         0         \n",
            "                                                                 \n",
            " lstm_2 (LSTM)               (None, 32)                6016      \n",
            "                                                                 \n",
            " dropout_1 (Dropout)         (None, 32)                0         \n",
            "                                                                 \n",
            " dense_5 (Dense)             (None, 1)                 33        \n",
            "                                                                 \n",
            "=================================================================\n",
            "Total params: 6,049\n",
            "Trainable params: 6,049\n",
            "Non-trainable params: 0\n",
            "_________________________________________________________________\n"
          ]
        }
      ]
    },
    {
      "cell_type": "code",
      "source": [
        "callbacks = [\n",
        "    keras.callbacks.ModelCheckpoint(\"jena_lstm_dropout.keras\", save_best_only=True)\n",
        "]\n",
        "model.compile(optimizer=\"rmsprop\", loss=\"mse\", metrics=[\"mae\"])"
      ],
      "metadata": {
        "id": "4kuyapybVx_k"
      },
      "execution_count": 37,
      "outputs": []
    },
    {
      "cell_type": "markdown",
      "source": [
        "The LSTM layer with dropout takes a long time to run 50 epochs, even on a GPU runtime, so we do not run the model. The MAE on the test data should achieve a value close to 2.45 °C, so below the baseline."
      ],
      "metadata": {
        "id": "PGhYl7GnRXzk"
      }
    },
    {
      "cell_type": "code",
      "source": [
        "history = model.fit(train_dataset,\n",
        "                    epochs=50,\n",
        "                    validation_data=val_dataset,\n",
        "                    callbacks=callbacks)"
      ],
      "metadata": {
        "id": "ayPY4VGRV5SM",
        "colab": {
          "base_uri": "https://localhost:8080/"
        },
        "outputId": "ac3911bf-1f7d-47b6-a825-cbfe7aa45985"
      },
      "execution_count": 39,
      "outputs": [
        {
          "output_type": "stream",
          "name": "stdout",
          "text": [
            "Epoch 1/50\n",
            "819/819 [==============================] - 206s 249ms/step - loss: 28.0439 - mae: 3.8999 - val_loss: 9.6677 - val_mae: 2.4070\n",
            "Epoch 2/50\n",
            "819/819 [==============================] - 198s 241ms/step - loss: 14.6507 - mae: 2.9684 - val_loss: 9.3512 - val_mae: 2.3772\n",
            "Epoch 3/50\n",
            "819/819 [==============================] - 199s 243ms/step - loss: 13.7628 - mae: 2.8747 - val_loss: 9.1459 - val_mae: 2.3512\n",
            "Epoch 4/50\n",
            "819/819 [==============================] - 202s 245ms/step - loss: 13.0797 - mae: 2.8065 - val_loss: 9.0915 - val_mae: 2.3407\n",
            "Epoch 5/50\n",
            "819/819 [==============================] - 198s 242ms/step - loss: 12.5847 - mae: 2.7523 - val_loss: 8.9675 - val_mae: 2.3308\n",
            "Epoch 6/50\n",
            "819/819 [==============================] - 200s 244ms/step - loss: 12.2907 - mae: 2.7204 - val_loss: 9.3654 - val_mae: 2.3896\n",
            "Epoch 7/50\n",
            "819/819 [==============================] - 194s 237ms/step - loss: 11.9370 - mae: 2.6809 - val_loss: 9.0504 - val_mae: 2.3276\n",
            "Epoch 8/50\n",
            "819/819 [==============================] - 199s 242ms/step - loss: 11.6354 - mae: 2.6463 - val_loss: 8.9047 - val_mae: 2.3188\n",
            "Epoch 9/50\n",
            "819/819 [==============================] - 197s 241ms/step - loss: 11.4715 - mae: 2.6283 - val_loss: 9.0043 - val_mae: 2.3268\n",
            "Epoch 10/50\n",
            "819/819 [==============================] - 199s 243ms/step - loss: 11.2272 - mae: 2.5979 - val_loss: 9.3073 - val_mae: 2.3726\n",
            "Epoch 11/50\n",
            "819/819 [==============================] - 202s 247ms/step - loss: 11.0736 - mae: 2.5786 - val_loss: 9.2151 - val_mae: 2.3534\n",
            "Epoch 12/50\n",
            "819/819 [==============================] - 204s 249ms/step - loss: 10.8167 - mae: 2.5519 - val_loss: 9.4736 - val_mae: 2.3896\n",
            "Epoch 13/50\n",
            "819/819 [==============================] - 202s 246ms/step - loss: 10.7104 - mae: 2.5388 - val_loss: 9.4687 - val_mae: 2.3918\n",
            "Epoch 14/50\n",
            "819/819 [==============================] - 202s 246ms/step - loss: 10.6827 - mae: 2.5315 - val_loss: 9.5377 - val_mae: 2.3941\n",
            "Epoch 15/50\n",
            "819/819 [==============================] - 203s 247ms/step - loss: 10.4673 - mae: 2.5108 - val_loss: 9.5148 - val_mae: 2.3912\n",
            "Epoch 16/50\n",
            "819/819 [==============================] - 198s 242ms/step - loss: 10.2861 - mae: 2.4865 - val_loss: 9.4675 - val_mae: 2.3900\n",
            "Epoch 17/50\n",
            "819/819 [==============================] - 202s 246ms/step - loss: 10.2318 - mae: 2.4804 - val_loss: 9.5647 - val_mae: 2.3968\n",
            "Epoch 18/50\n",
            "819/819 [==============================] - 200s 244ms/step - loss: 10.0991 - mae: 2.4638 - val_loss: 9.6926 - val_mae: 2.4163\n",
            "Epoch 19/50\n",
            "819/819 [==============================] - 200s 245ms/step - loss: 10.0270 - mae: 2.4550 - val_loss: 9.5136 - val_mae: 2.3959\n",
            "Epoch 20/50\n",
            "819/819 [==============================] - 195s 238ms/step - loss: 9.8966 - mae: 2.4378 - val_loss: 9.5483 - val_mae: 2.4071\n",
            "Epoch 21/50\n",
            "819/819 [==============================] - 198s 241ms/step - loss: 9.8570 - mae: 2.4327 - val_loss: 9.9587 - val_mae: 2.4520\n",
            "Epoch 22/50\n",
            "819/819 [==============================] - 193s 235ms/step - loss: 9.7644 - mae: 2.4210 - val_loss: 9.6808 - val_mae: 2.4086\n",
            "Epoch 23/50\n",
            "819/819 [==============================] - 190s 231ms/step - loss: 9.7028 - mae: 2.4128 - val_loss: 10.4792 - val_mae: 2.5009\n",
            "Epoch 24/50\n",
            "819/819 [==============================] - 195s 238ms/step - loss: 9.6161 - mae: 2.4018 - val_loss: 9.8529 - val_mae: 2.4441\n",
            "Epoch 25/50\n",
            "819/819 [==============================] - 194s 236ms/step - loss: 9.5443 - mae: 2.3915 - val_loss: 9.8548 - val_mae: 2.4513\n",
            "Epoch 26/50\n",
            "819/819 [==============================] - 193s 236ms/step - loss: 9.5229 - mae: 2.3859 - val_loss: 9.9412 - val_mae: 2.4599\n",
            "Epoch 27/50\n",
            "819/819 [==============================] - 197s 240ms/step - loss: 9.4257 - mae: 2.3758 - val_loss: 10.0719 - val_mae: 2.4799\n",
            "Epoch 28/50\n",
            "819/819 [==============================] - 195s 238ms/step - loss: 9.3889 - mae: 2.3739 - val_loss: 10.1230 - val_mae: 2.4935\n",
            "Epoch 29/50\n",
            "819/819 [==============================] - 193s 235ms/step - loss: 9.3976 - mae: 2.3697 - val_loss: 9.9660 - val_mae: 2.4802\n",
            "Epoch 30/50\n",
            "819/819 [==============================] - 188s 229ms/step - loss: 9.3187 - mae: 2.3641 - val_loss: 10.2620 - val_mae: 2.5150\n",
            "Epoch 31/50\n",
            "819/819 [==============================] - 191s 233ms/step - loss: 9.2436 - mae: 2.3546 - val_loss: 10.0724 - val_mae: 2.4952\n",
            "Epoch 32/50\n",
            "819/819 [==============================] - 191s 233ms/step - loss: 9.1617 - mae: 2.3424 - val_loss: 10.5174 - val_mae: 2.5379\n",
            "Epoch 33/50\n",
            "819/819 [==============================] - 193s 235ms/step - loss: 9.1931 - mae: 2.3450 - val_loss: 10.4716 - val_mae: 2.5342\n",
            "Epoch 34/50\n",
            "819/819 [==============================] - 190s 232ms/step - loss: 9.1167 - mae: 2.3350 - val_loss: 11.2851 - val_mae: 2.6236\n",
            "Epoch 35/50\n",
            "819/819 [==============================] - 184s 224ms/step - loss: 9.0518 - mae: 2.3256 - val_loss: 10.8852 - val_mae: 2.5918\n",
            "Epoch 36/50\n",
            "819/819 [==============================] - 186s 227ms/step - loss: 9.0435 - mae: 2.3289 - val_loss: 10.6524 - val_mae: 2.5614\n",
            "Epoch 37/50\n",
            "819/819 [==============================] - 190s 232ms/step - loss: 9.0115 - mae: 2.3209 - val_loss: 10.8315 - val_mae: 2.5890\n",
            "Epoch 38/50\n",
            "819/819 [==============================] - 191s 233ms/step - loss: 8.9970 - mae: 2.3227 - val_loss: 10.7871 - val_mae: 2.5750\n",
            "Epoch 39/50\n",
            "819/819 [==============================] - 192s 235ms/step - loss: 8.9102 - mae: 2.3094 - val_loss: 10.6277 - val_mae: 2.5686\n",
            "Epoch 40/50\n",
            "819/819 [==============================] - 190s 232ms/step - loss: 8.9114 - mae: 2.3084 - val_loss: 10.9131 - val_mae: 2.5853\n",
            "Epoch 41/50\n",
            "819/819 [==============================] - 190s 232ms/step - loss: 8.8504 - mae: 2.3026 - val_loss: 10.3818 - val_mae: 2.5361\n",
            "Epoch 42/50\n",
            "819/819 [==============================] - 189s 230ms/step - loss: 8.8278 - mae: 2.3002 - val_loss: 10.9648 - val_mae: 2.5939\n",
            "Epoch 43/50\n",
            "819/819 [==============================] - 186s 226ms/step - loss: 8.7743 - mae: 2.2923 - val_loss: 10.9658 - val_mae: 2.5897\n",
            "Epoch 44/50\n",
            "819/819 [==============================] - 187s 228ms/step - loss: 8.7845 - mae: 2.2925 - val_loss: 10.8147 - val_mae: 2.5732\n",
            "Epoch 45/50\n",
            "819/819 [==============================] - 191s 233ms/step - loss: 8.7436 - mae: 2.2873 - val_loss: 10.8288 - val_mae: 2.5794\n",
            "Epoch 46/50\n",
            "819/819 [==============================] - 191s 234ms/step - loss: 8.7375 - mae: 2.2864 - val_loss: 10.8562 - val_mae: 2.5886\n",
            "Epoch 47/50\n",
            "819/819 [==============================] - 187s 229ms/step - loss: 8.6597 - mae: 2.2786 - val_loss: 11.3754 - val_mae: 2.6380\n",
            "Epoch 48/50\n",
            "819/819 [==============================] - 188s 229ms/step - loss: 8.6324 - mae: 2.2739 - val_loss: 10.7599 - val_mae: 2.5623\n",
            "Epoch 49/50\n",
            "819/819 [==============================] - 190s 232ms/step - loss: 8.6213 - mae: 2.2731 - val_loss: 11.2261 - val_mae: 2.6263\n",
            "Epoch 50/50\n",
            "819/819 [==============================] - 185s 225ms/step - loss: 8.5838 - mae: 2.2662 - val_loss: 10.7705 - val_mae: 2.5720\n"
          ]
        }
      ]
    },
    {
      "cell_type": "code",
      "source": [
        "model = keras.models.load_model(\"jena_lstm_dropout.keras\")\n",
        "print(f\"Test MAE: {model.evaluate(test_dataset)[1]:.2f}\")"
      ],
      "metadata": {
        "colab": {
          "base_uri": "https://localhost:8080/"
        },
        "id": "01UfwLHvy2EF",
        "outputId": "68ed96e8-a2e8-4407-d726-781425774e25"
      },
      "execution_count": 40,
      "outputs": [
        {
          "output_type": "stream",
          "name": "stdout",
          "text": [
            "405/405 [==============================] - 30s 72ms/step - loss: 10.1724 - mae: 2.5171\n",
            "Test MAE: 2.52\n"
          ]
        }
      ]
    },
    {
      "cell_type": "code",
      "source": [
        "plot_mae(history)"
      ],
      "metadata": {
        "colab": {
          "base_uri": "https://localhost:8080/",
          "height": 452
        },
        "id": "dU5fk2pWzHvi",
        "outputId": "c8a8772e-77ce-4bb8-e1a0-a225dc64dc0a"
      },
      "execution_count": 41,
      "outputs": [
        {
          "output_type": "display_data",
          "data": {
            "text/plain": [
              "<Figure size 640x480 with 1 Axes>"
            ],
            "image/png": "[encoded data removed]"
          },
          "metadata": {}
        }
      ]
    },
    {
      "cell_type": "markdown",
      "source": [
        "## Stacking recurrent layers\n",
        "When there is no overfitting we can try to achieve a better result, that is a lower error, by increasing the capacity of the network. We can do that by adding more units to each layer or by adding more layers. We will use a GRU recurrent layer, a slightly simplified version of a LSTM."
      ],
      "metadata": {
        "id": "0wrI7vIZA1Ee"
      }
    },
    {
      "cell_type": "code",
      "source": [
        "inputs = keras.Input(shape=(sequence_length, raw_data.shape[-1]))\n",
        "x = layers.GRU(32, recurrent_dropout=0.5, return_sequences=True)(inputs)\n",
        "x = layers.GRU(32, recurrent_dropout=0.5)(x)\n",
        "x = layers.Dropout(0.5)(x)\n",
        "outputs = layers.Dense(1)(x)\n",
        "model = keras.Model(inputs, outputs)"
      ],
      "metadata": {
        "colab": {
          "base_uri": "https://localhost:8080/"
        },
        "id": "10TtLpFSTlom",
        "outputId": "69650507-b085-4349-f2c3-3ad3fdd41ba1"
      },
      "execution_count": null,
      "outputs": [
        {
          "output_type": "stream",
          "name": "stderr",
          "text": [
            "WARNING:tensorflow:Layer gru will not use cuDNN kernels since it doesn't meet the criteria. It will use a generic GPU kernel as fallback when running on GPU.\n",
            "WARNING:tensorflow:Layer gru_1 will not use cuDNN kernels since it doesn't meet the criteria. It will use a generic GPU kernel as fallback when running on GPU.\n"
          ]
        }
      ]
    },
    {
      "cell_type": "markdown",
      "source": [
        "We can choose among several options to save the weights during training. This may be useful for long training time in order to not loose the data in Colab in case a session is stopped."
      ],
      "metadata": {
        "id": "7A2mu146v5bz"
      }
    },
    {
      "cell_type": "code",
      "source": [
        "#callbacks = keras.callbacks.ModelCheckpoint(filepath=\"jena_stacked_gru_dropout.keras\",\n",
        "#                                                 save_weights_only=True,\n",
        "#                                                 verbose=1)\n",
        "\n",
        "# Create a callback that saves the model's weights every 5 epochs\n",
        "callbacks = keras.callbacks.ModelCheckpoint(\n",
        "    filepath=\"jena_stacked_gru_dropout.keras\",\n",
        "    verbose=1,\n",
        "    save_weights_only=True,\n",
        "    save_freq=1)\n",
        "\n",
        "\n",
        "#callbacks = [\n",
        "#    keras.callbacks.ModelCheckpoint(\"jena_stacked_gru_dropout.keras\", save_best_only=True)\n",
        "#]\n",
        "\n",
        "model.compile(optimizer=\"rmsprop\", loss=\"mse\", metrics=[\"mae\"])"
      ],
      "metadata": {
        "id": "Z6QXjq2YTvzY"
      },
      "execution_count": null,
      "outputs": []
    },
    {
      "cell_type": "code",
      "source": [
        "history = model.fit(train_dataset,\n",
        "                    epochs=35, #50,\n",
        "                    validation_data=val_dataset,\n",
        "                    callbacks=callbacks)"
      ],
      "metadata": {
        "colab": {
          "base_uri": "https://localhost:8080/"
        },
        "id": "XGmVvqNfT-NQ",
        "outputId": "911b46c1-267b-4751-e71b-9c2a9e2440ff"
      },
      "execution_count": null,
      "outputs": [
        {
          "output_type": "stream",
          "name": "stdout",
          "text": [
            "Epoch 1/35\n",
            "\n",
            "Epoch 1: saving model to jena_stacked_gru_dropout.keras\n",
            "  1/819 [..............................] - ETA: 1:05:24 - loss: 13.0128 - mae: 2.8713\n",
            "Epoch 1: saving model to jena_stacked_gru_dropout.keras\n",
            "  2/819 [..............................] - ETA: 8:00 - loss: 13.3855 - mae: 2.8784   \n",
            "Epoch 1: saving model to jena_stacked_gru_dropout.keras\n",
            "  3/819 [..............................] - ETA: 8:38 - loss: 13.5439 - mae: 2.8760\n",
            "Epoch 1: saving model to jena_stacked_gru_dropout.keras\n",
            "  4/819 [..............................] - ETA: 11:04 - loss: 13.2286 - mae: 2.8363\n",
            "Epoch 1: saving model to jena_stacked_gru_dropout.keras\n",
            "  5/819 [..............................] - ETA: 12:29 - loss: 13.2931 - mae: 2.8321\n",
            "Epoch 1: saving model to jena_stacked_gru_dropout.keras\n",
            "  6/819 [..............................] - ETA: 12:41 - loss: 13.5093 - mae: 2.8453\n",
            "Epoch 1: saving model to jena_stacked_gru_dropout.keras\n",
            "  7/819 [..............................] - ETA: 11:54 - loss: 13.5322 - mae: 2.8570\n",
            "Epoch 1: saving model to jena_stacked_gru_dropout.keras\n",
            "  8/819 [..............................] - ETA: 11:23 - loss: 13.4081 - mae: 2.8522\n",
            "Epoch 1: saving model to jena_stacked_gru_dropout.keras\n",
            "  9/819 [..............................] - ETA: 11:07 - loss: 13.5411 - mae: 2.8615\n",
            "Epoch 1: saving model to jena_stacked_gru_dropout.keras\n",
            " 10/819 [..............................] - ETA: 10:49 - loss: 13.3444 - mae: 2.8263\n",
            "Epoch 1: saving model to jena_stacked_gru_dropout.keras\n",
            " 11/819 [..............................] - ETA: 10:36 - loss: 13.4560 - mae: 2.8350\n",
            "Epoch 1: saving model to jena_stacked_gru_dropout.keras\n",
            " 12/819 [..............................] - ETA: 10:24 - loss: 13.3982 - mae: 2.8328\n",
            "Epoch 1: saving model to jena_stacked_gru_dropout.keras\n",
            " 13/819 [..............................] - ETA: 10:12 - loss: 13.2924 - mae: 2.8204\n",
            "Epoch 1: saving model to jena_stacked_gru_dropout.keras\n",
            " 14/819 [..............................] - ETA: 10:03 - loss: 13.3620 - mae: 2.8297\n",
            "Epoch 1: saving model to jena_stacked_gru_dropout.keras\n",
            " 15/819 [..............................] - ETA: 9:55 - loss: 13.1767 - mae: 2.8020 \n",
            "Epoch 1: saving model to jena_stacked_gru_dropout.keras\n",
            " 16/819 [..............................] - ETA: 9:46 - loss: 13.0921 - mae: 2.7888\n",
            "Epoch 1: saving model to jena_stacked_gru_dropout.keras\n",
            " 17/819 [..............................] - ETA: 9:43 - loss: 13.2234 - mae: 2.7926\n",
            "Epoch 1: saving model to jena_stacked_gru_dropout.keras\n",
            " 18/819 [..............................] - ETA: 9:38 - loss: 13.2512 - mae: 2.7962\n",
            "Epoch 1: saving model to jena_stacked_gru_dropout.keras\n",
            " 19/819 [..............................] - ETA: 9:34 - loss: 13.2959 - mae: 2.8058\n",
            "Epoch 1: saving model to jena_stacked_gru_dropout.keras\n",
            " 20/819 [..............................] - ETA: 9:30 - loss: 13.3148 - mae: 2.8119\n",
            "Epoch 1: saving model to jena_stacked_gru_dropout.keras\n",
            " 21/819 [..............................] - ETA: 9:26 - loss: 13.3786 - mae: 2.8165\n",
            "Epoch 1: saving model to jena_stacked_gru_dropout.keras\n",
            " 22/819 [..............................] - ETA: 9:34 - loss: 13.3747 - mae: 2.8180\n",
            "Epoch 1: saving model to jena_stacked_gru_dropout.keras\n",
            " 23/819 [..............................] - ETA: 9:43 - loss: 13.4061 - mae: 2.8242\n",
            "Epoch 1: saving model to jena_stacked_gru_dropout.keras\n",
            " 24/819 [..............................] - ETA: 9:57 - loss: 13.4469 - mae: 2.8329\n",
            "Epoch 1: saving model to jena_stacked_gru_dropout.keras\n",
            " 25/819 [..............................] - ETA: 9:50 - loss: 13.4860 - mae: 2.8368\n",
            "Epoch 1: saving model to jena_stacked_gru_dropout.keras\n",
            " 26/819 [..............................] - ETA: 9:43 - loss: 13.5039 - mae: 2.8406\n",
            "Epoch 1: saving model to jena_stacked_gru_dropout.keras\n",
            " 27/819 [..............................] - ETA: 9:37 - loss: 13.4111 - mae: 2.8299\n",
            "Epoch 1: saving model to jena_stacked_gru_dropout.keras\n",
            " 28/819 [>.............................] - ETA: 9:31 - loss: 13.4341 - mae: 2.8303\n",
            "Epoch 1: saving model to jena_stacked_gru_dropout.keras\n",
            " 29/819 [>.............................] - ETA: 9:26 - loss: 13.4410 - mae: 2.8325\n",
            "Epoch 1: saving model to jena_stacked_gru_dropout.keras\n",
            " 30/819 [>.............................] - ETA: 9:21 - loss: 13.3915 - mae: 2.8297\n",
            "Epoch 1: saving model to jena_stacked_gru_dropout.keras\n",
            " 31/819 [>.............................] - ETA: 9:16 - loss: 13.3422 - mae: 2.8269\n",
            "Epoch 1: saving model to jena_stacked_gru_dropout.keras\n",
            " 32/819 [>.............................] - ETA: 9:12 - loss: 13.2866 - mae: 2.8210\n",
            "Epoch 1: saving model to jena_stacked_gru_dropout.keras\n",
            " 33/819 [>.............................] - ETA: 9:08 - loss: 13.3069 - mae: 2.8216\n",
            "Epoch 1: saving model to jena_stacked_gru_dropout.keras\n",
            " 34/819 [>.............................] - ETA: 9:05 - loss: 13.2422 - mae: 2.8180\n",
            "Epoch 1: saving model to jena_stacked_gru_dropout.keras\n",
            " 35/819 [>.............................] - ETA: 9:01 - loss: 13.2656 - mae: 2.8191\n",
            "Epoch 1: saving model to jena_stacked_gru_dropout.keras\n",
            " 36/819 [>.............................] - ETA: 8:59 - loss: 13.2443 - mae: 2.8183\n",
            "Epoch 1: saving model to jena_stacked_gru_dropout.keras\n",
            " 37/819 [>.............................] - ETA: 8:56 - loss: 13.2637 - mae: 2.8208\n",
            "Epoch 1: saving model to jena_stacked_gru_dropout.keras\n",
            " 38/819 [>.............................] - ETA: 8:52 - loss: 13.2950 - mae: 2.8227\n",
            "Epoch 1: saving model to jena_stacked_gru_dropout.keras\n",
            " 39/819 [>.............................] - ETA: 8:49 - loss: 13.2666 - mae: 2.8226\n",
            "Epoch 1: saving model to jena_stacked_gru_dropout.keras\n",
            " 40/819 [>.............................] - ETA: 8:46 - loss: 13.2473 - mae: 2.8219\n",
            "Epoch 1: saving model to jena_stacked_gru_dropout.keras\n",
            " 41/819 [>.............................] - ETA: 8:44 - loss: 13.1892 - mae: 2.8173\n",
            "Epoch 1: saving model to jena_stacked_gru_dropout.keras\n",
            " 42/819 [>.............................] - ETA: 8:46 - loss: 13.2030 - mae: 2.8193\n",
            "Epoch 1: saving model to jena_stacked_gru_dropout.keras\n",
            " 43/819 [>.............................] - ETA: 8:48 - loss: 13.1716 - mae: 2.8160\n",
            "Epoch 1: saving model to jena_stacked_gru_dropout.keras\n",
            " 44/819 [>.............................] - ETA: 8:54 - loss: 13.1625 - mae: 2.8127\n",
            "Epoch 1: saving model to jena_stacked_gru_dropout.keras\n",
            " 45/819 [>.............................] - ETA: 8:57 - loss: 13.1234 - mae: 2.8095\n",
            "Epoch 1: saving model to jena_stacked_gru_dropout.keras\n",
            " 46/819 [>.............................] - ETA: 8:54 - loss: 13.1000 - mae: 2.8068\n",
            "Epoch 1: saving model to jena_stacked_gru_dropout.keras\n",
            " 47/819 [>.............................] - ETA: 8:50 - loss: 13.0752 - mae: 2.8063\n",
            "Epoch 1: saving model to jena_stacked_gru_dropout.keras\n",
            " 48/819 [>.............................] - ETA: 8:48 - loss: 13.0925 - mae: 2.8093\n",
            "Epoch 1: saving model to jena_stacked_gru_dropout.keras\n",
            " 49/819 [>.............................] - ETA: 8:45 - loss: 13.0643 - mae: 2.8068\n",
            "Epoch 1: saving model to jena_stacked_gru_dropout.keras\n",
            " 50/819 [>.............................] - ETA: 8:42 - loss: 13.1024 - mae: 2.8110\n",
            "Epoch 1: saving model to jena_stacked_gru_dropout.keras\n",
            " 51/819 [>.............................] - ETA: 8:39 - loss: 13.1037 - mae: 2.8105\n",
            "Epoch 1: saving model to jena_stacked_gru_dropout.keras\n",
            " 52/819 [>.............................] - ETA: 8:37 - loss: 13.0977 - mae: 2.8108\n",
            "Epoch 1: saving model to jena_stacked_gru_dropout.keras\n",
            " 53/819 [>.............................] - ETA: 8:35 - loss: 13.0871 - mae: 2.8090\n",
            "Epoch 1: saving model to jena_stacked_gru_dropout.keras\n",
            " 54/819 [>.............................] - ETA: 8:33 - loss: 13.0878 - mae: 2.8111\n",
            "Epoch 1: saving model to jena_stacked_gru_dropout.keras\n",
            " 55/819 [=>............................] - ETA: 8:31 - loss: 13.0625 - mae: 2.8102\n",
            "Epoch 1: saving model to jena_stacked_gru_dropout.keras\n",
            " 56/819 [=>............................] - ETA: 8:29 - loss: 13.0973 - mae: 2.8141\n",
            "Epoch 1: saving model to jena_stacked_gru_dropout.keras\n",
            " 57/819 [=>............................] - ETA: 8:28 - loss: 13.1040 - mae: 2.8142\n",
            "Epoch 1: saving model to jena_stacked_gru_dropout.keras\n",
            " 58/819 [=>............................] - ETA: 8:25 - loss: 13.1090 - mae: 2.8170\n",
            "Epoch 1: saving model to jena_stacked_gru_dropout.keras\n",
            " 59/819 [=>............................] - ETA: 8:24 - loss: 13.0689 - mae: 2.8117\n",
            "Epoch 1: saving model to jena_stacked_gru_dropout.keras\n",
            " 60/819 [=>............................] - ETA: 8:21 - loss: 13.0281 - mae: 2.8077\n",
            "Epoch 1: saving model to jena_stacked_gru_dropout.keras\n",
            " 61/819 [=>............................] - ETA: 8:20 - loss: 13.0275 - mae: 2.8075\n",
            "Epoch 1: saving model to jena_stacked_gru_dropout.keras\n",
            " 62/819 [=>............................] - ETA: 8:18 - loss: 12.9934 - mae: 2.8047\n",
            "Epoch 1: saving model to jena_stacked_gru_dropout.keras\n",
            " 63/819 [=>............................] - ETA: 8:21 - loss: 12.9792 - mae: 2.8033\n",
            "Epoch 1: saving model to jena_stacked_gru_dropout.keras\n",
            " 64/819 [=>............................] - ETA: 8:24 - loss: 12.9686 - mae: 2.8027\n",
            "Epoch 1: saving model to jena_stacked_gru_dropout.keras\n",
            " 65/819 [=>............................] - ETA: 8:30 - loss: 13.0177 - mae: 2.8071\n",
            "Epoch 1: saving model to jena_stacked_gru_dropout.keras\n",
            " 66/819 [=>............................] - ETA: 8:27 - loss: 12.9990 - mae: 2.8054\n",
            "Epoch 1: saving model to jena_stacked_gru_dropout.keras\n",
            " 67/819 [=>............................] - ETA: 8:26 - loss: 12.9952 - mae: 2.8042\n",
            "Epoch 1: saving model to jena_stacked_gru_dropout.keras\n",
            " 68/819 [=>............................] - ETA: 8:24 - loss: 13.0039 - mae: 2.8058\n",
            "Epoch 1: saving model to jena_stacked_gru_dropout.keras\n",
            " 69/819 [=>............................] - ETA: 8:22 - loss: 12.9885 - mae: 2.8033\n",
            "Epoch 1: saving model to jena_stacked_gru_dropout.keras\n",
            " 70/819 [=>............................] - ETA: 8:20 - loss: 12.9788 - mae: 2.8024\n",
            "Epoch 1: saving model to jena_stacked_gru_dropout.keras\n",
            " 71/819 [=>............................] - ETA: 8:18 - loss: 12.9664 - mae: 2.8008\n",
            "Epoch 1: saving model to jena_stacked_gru_dropout.keras\n",
            " 72/819 [=>............................] - ETA: 8:17 - loss: 12.9898 - mae: 2.8041\n",
            "Epoch 1: saving model to jena_stacked_gru_dropout.keras\n",
            " 73/819 [=>............................] - ETA: 8:16 - loss: 12.9586 - mae: 2.8010\n",
            "Epoch 1: saving model to jena_stacked_gru_dropout.keras\n",
            " 74/819 [=>............................] - ETA: 8:14 - loss: 12.9231 - mae: 2.7968\n",
            "Epoch 1: saving model to jena_stacked_gru_dropout.keras\n",
            " 75/819 [=>............................] - ETA: 8:13 - loss: 12.9222 - mae: 2.7974\n",
            "Epoch 1: saving model to jena_stacked_gru_dropout.keras\n",
            " 76/819 [=>............................] - ETA: 8:12 - loss: 12.8982 - mae: 2.7954\n",
            "Epoch 1: saving model to jena_stacked_gru_dropout.keras\n",
            " 77/819 [=>............................] - ETA: 8:10 - loss: 12.8975 - mae: 2.7954\n",
            "Epoch 1: saving model to jena_stacked_gru_dropout.keras\n",
            " 78/819 [=>............................] - ETA: 8:08 - loss: 12.9039 - mae: 2.7958\n",
            "Epoch 1: saving model to jena_stacked_gru_dropout.keras\n",
            " 79/819 [=>............................] - ETA: 8:07 - loss: 12.8768 - mae: 2.7943\n",
            "Epoch 1: saving model to jena_stacked_gru_dropout.keras\n",
            " 80/819 [=>............................] - ETA: 8:06 - loss: 12.8779 - mae: 2.7944\n",
            "Epoch 1: saving model to jena_stacked_gru_dropout.keras\n",
            " 81/819 [=>............................] - ETA: 8:04 - loss: 12.8588 - mae: 2.7915\n",
            "Epoch 1: saving model to jena_stacked_gru_dropout.keras\n",
            " 82/819 [==>...........................] - ETA: 8:02 - loss: 12.8730 - mae: 2.7937\n",
            "Epoch 1: saving model to jena_stacked_gru_dropout.keras\n",
            " 83/819 [==>...........................] - ETA: 8:03 - loss: 12.8849 - mae: 2.7949\n",
            "Epoch 1: saving model to jena_stacked_gru_dropout.keras\n",
            " 84/819 [==>...........................] - ETA: 8:05 - loss: 12.8755 - mae: 2.7944\n",
            "Epoch 1: saving model to jena_stacked_gru_dropout.keras\n",
            " 85/819 [==>...........................] - ETA: 8:09 - loss: 12.8790 - mae: 2.7953\n",
            "Epoch 1: saving model to jena_stacked_gru_dropout.keras\n",
            " 86/819 [==>...........................] - ETA: 8:08 - loss: 12.8573 - mae: 2.7932\n",
            "Epoch 1: saving model to jena_stacked_gru_dropout.keras\n",
            " 87/819 [==>...........................] - ETA: 8:07 - loss: 12.8735 - mae: 2.7939\n",
            "Epoch 1: saving model to jena_stacked_gru_dropout.keras\n",
            " 88/819 [==>...........................] - ETA: 8:05 - loss: 12.8842 - mae: 2.7952\n",
            "Epoch 1: saving model to jena_stacked_gru_dropout.keras\n",
            " 89/819 [==>...........................] - ETA: 8:04 - loss: 12.8576 - mae: 2.7922\n",
            "Epoch 1: saving model to jena_stacked_gru_dropout.keras\n",
            " 90/819 [==>...........................] - ETA: 8:03 - loss: 12.8292 - mae: 2.7886\n",
            "Epoch 1: saving model to jena_stacked_gru_dropout.keras\n",
            " 91/819 [==>...........................] - ETA: 8:02 - loss: 12.8493 - mae: 2.7899\n",
            "Epoch 1: saving model to jena_stacked_gru_dropout.keras\n",
            " 92/819 [==>...........................] - ETA: 8:00 - loss: 12.8431 - mae: 2.7894\n",
            "Epoch 1: saving model to jena_stacked_gru_dropout.keras\n",
            " 93/819 [==>...........................] - ETA: 7:59 - loss: 12.8443 - mae: 2.7896\n",
            "Epoch 1: saving model to jena_stacked_gru_dropout.keras\n",
            " 94/819 [==>...........................] - ETA: 7:57 - loss: 12.8724 - mae: 2.7915\n",
            "Epoch 1: saving model to jena_stacked_gru_dropout.keras\n",
            " 95/819 [==>...........................] - ETA: 7:56 - loss: 12.8598 - mae: 2.7895\n",
            "Epoch 1: saving model to jena_stacked_gru_dropout.keras\n",
            " 96/819 [==>...........................] - ETA: 7:55 - loss: 12.8884 - mae: 2.7921\n",
            "Epoch 1: saving model to jena_stacked_gru_dropout.keras\n",
            " 97/819 [==>...........................] - ETA: 7:53 - loss: 12.8742 - mae: 2.7913\n",
            "Epoch 1: saving model to jena_stacked_gru_dropout.keras\n",
            " 98/819 [==>...........................] - ETA: 7:52 - loss: 12.8764 - mae: 2.7918\n",
            "Epoch 1: saving model to jena_stacked_gru_dropout.keras\n",
            " 99/819 [==>...........................] - ETA: 7:50 - loss: 12.8644 - mae: 2.7904\n",
            "Epoch 1: saving model to jena_stacked_gru_dropout.keras\n",
            "100/819 [==>...........................] - ETA: 7:49 - loss: 12.8639 - mae: 2.7912\n",
            "Epoch 1: saving model to jena_stacked_gru_dropout.keras\n",
            "101/819 [==>...........................] - ETA: 7:48 - loss: 12.8628 - mae: 2.7908\n",
            "Epoch 1: saving model to jena_stacked_gru_dropout.keras\n",
            "102/819 [==>...........................] - ETA: 7:47 - loss: 12.8560 - mae: 2.7903\n",
            "Epoch 1: saving model to jena_stacked_gru_dropout.keras\n",
            "103/819 [==>...........................] - ETA: 7:46 - loss: 12.8563 - mae: 2.7912\n",
            "Epoch 1: saving model to jena_stacked_gru_dropout.keras\n",
            "104/819 [==>...........................] - ETA: 7:48 - loss: 12.8543 - mae: 2.7902\n",
            "Epoch 1: saving model to jena_stacked_gru_dropout.keras\n",
            "105/819 [==>...........................] - ETA: 7:50 - loss: 12.8579 - mae: 2.7912\n",
            "Epoch 1: saving model to jena_stacked_gru_dropout.keras\n",
            "106/819 [==>...........................] - ETA: 7:51 - loss: 12.8801 - mae: 2.7933\n",
            "Epoch 1: saving model to jena_stacked_gru_dropout.keras\n",
            "107/819 [==>...........................] - ETA: 7:50 - loss: 12.8666 - mae: 2.7910\n",
            "Epoch 1: saving model to jena_stacked_gru_dropout.keras\n",
            "108/819 [==>...........................] - ETA: 7:49 - loss: 12.8729 - mae: 2.7916\n",
            "Epoch 1: saving model to jena_stacked_gru_dropout.keras\n",
            "109/819 [==>...........................] - ETA: 7:47 - loss: 12.8807 - mae: 2.7925\n",
            "Epoch 1: saving model to jena_stacked_gru_dropout.keras\n",
            "110/819 [===>..........................] - ETA: 7:46 - loss: 12.8755 - mae: 2.7925\n",
            "Epoch 1: saving model to jena_stacked_gru_dropout.keras\n",
            "111/819 [===>..........................] - ETA: 7:45 - loss: 12.8718 - mae: 2.7920\n",
            "Epoch 1: saving model to jena_stacked_gru_dropout.keras\n",
            "112/819 [===>..........................] - ETA: 7:44 - loss: 12.8618 - mae: 2.7909\n",
            "Epoch 1: saving model to jena_stacked_gru_dropout.keras\n",
            "113/819 [===>..........................] - ETA: 7:43 - loss: 12.8416 - mae: 2.7887\n",
            "Epoch 1: saving model to jena_stacked_gru_dropout.keras\n",
            "114/819 [===>..........................] - ETA: 7:42 - loss: 12.8289 - mae: 2.7874\n",
            "Epoch 1: saving model to jena_stacked_gru_dropout.keras\n",
            "115/819 [===>..........................] - ETA: 7:42 - loss: 12.8067 - mae: 2.7845\n",
            "Epoch 1: saving model to jena_stacked_gru_dropout.keras\n",
            "116/819 [===>..........................] - ETA: 7:41 - loss: 12.8072 - mae: 2.7840\n",
            "Epoch 1: saving model to jena_stacked_gru_dropout.keras\n",
            "117/819 [===>..........................] - ETA: 7:40 - loss: 12.7993 - mae: 2.7833\n",
            "Epoch 1: saving model to jena_stacked_gru_dropout.keras\n",
            "118/819 [===>..........................] - ETA: 7:39 - loss: 12.8228 - mae: 2.7856\n",
            "Epoch 1: saving model to jena_stacked_gru_dropout.keras\n",
            "119/819 [===>..........................] - ETA: 7:38 - loss: 12.8294 - mae: 2.7863\n",
            "Epoch 1: saving model to jena_stacked_gru_dropout.keras\n",
            "120/819 [===>..........................] - ETA: 7:37 - loss: 12.8333 - mae: 2.7867\n",
            "Epoch 1: saving model to jena_stacked_gru_dropout.keras\n",
            "121/819 [===>..........................] - ETA: 7:36 - loss: 12.8231 - mae: 2.7862\n",
            "Epoch 1: saving model to jena_stacked_gru_dropout.keras\n",
            "122/819 [===>..........................] - ETA: 7:34 - loss: 12.8233 - mae: 2.7862\n",
            "Epoch 1: saving model to jena_stacked_gru_dropout.keras\n",
            "123/819 [===>..........................] - ETA: 7:35 - loss: 12.8196 - mae: 2.7859\n",
            "Epoch 1: saving model to jena_stacked_gru_dropout.keras\n",
            "124/819 [===>..........................] - ETA: 7:36 - loss: 12.8235 - mae: 2.7863\n",
            "Epoch 1: saving model to jena_stacked_gru_dropout.keras\n",
            "125/819 [===>..........................] - ETA: 7:38 - loss: 12.8243 - mae: 2.7865\n",
            "Epoch 1: saving model to jena_stacked_gru_dropout.keras\n",
            "126/819 [===>..........................] - ETA: 7:38 - loss: 12.8256 - mae: 2.7867\n",
            "Epoch 1: saving model to jena_stacked_gru_dropout.keras\n",
            "127/819 [===>..........................] - ETA: 7:37 - loss: 12.8082 - mae: 2.7849\n",
            "Epoch 1: saving model to jena_stacked_gru_dropout.keras\n",
            "128/819 [===>..........................] - ETA: 7:37 - loss: 12.8025 - mae: 2.7839\n",
            "Epoch 1: saving model to jena_stacked_gru_dropout.keras\n",
            "129/819 [===>..........................] - ETA: 7:36 - loss: 12.8020 - mae: 2.7844\n",
            "Epoch 1: saving model to jena_stacked_gru_dropout.keras\n",
            "130/819 [===>..........................] - ETA: 7:34 - loss: 12.8050 - mae: 2.7847\n",
            "Epoch 1: saving model to jena_stacked_gru_dropout.keras\n",
            "131/819 [===>..........................] - ETA: 7:33 - loss: 12.7976 - mae: 2.7840\n",
            "Epoch 1: saving model to jena_stacked_gru_dropout.keras\n",
            "132/819 [===>..........................] - ETA: 7:32 - loss: 12.8042 - mae: 2.7846\n",
            "Epoch 1: saving model to jena_stacked_gru_dropout.keras\n",
            "133/819 [===>..........................] - ETA: 7:31 - loss: 12.7960 - mae: 2.7834\n",
            "Epoch 1: saving model to jena_stacked_gru_dropout.keras\n",
            "134/819 [===>..........................] - ETA: 7:30 - loss: 12.8107 - mae: 2.7853\n",
            "Epoch 1: saving model to jena_stacked_gru_dropout.keras\n",
            "135/819 [===>..........................] - ETA: 7:29 - loss: 12.8172 - mae: 2.7859\n",
            "Epoch 1: saving model to jena_stacked_gru_dropout.keras\n",
            "136/819 [===>..........................] - ETA: 7:28 - loss: 12.8233 - mae: 2.7868\n",
            "Epoch 1: saving model to jena_stacked_gru_dropout.keras\n",
            "137/819 [====>.........................] - ETA: 7:27 - loss: 12.8080 - mae: 2.7846\n",
            "Epoch 1: saving model to jena_stacked_gru_dropout.keras\n",
            "138/819 [====>.........................] - ETA: 7:26 - loss: 12.8201 - mae: 2.7854\n",
            "Epoch 1: saving model to jena_stacked_gru_dropout.keras\n",
            "139/819 [====>.........................] - ETA: 7:25 - loss: 12.8254 - mae: 2.7856\n",
            "Epoch 1: saving model to jena_stacked_gru_dropout.keras\n",
            "140/819 [====>.........................] - ETA: 7:24 - loss: 12.8164 - mae: 2.7842\n",
            "Epoch 1: saving model to jena_stacked_gru_dropout.keras\n",
            "141/819 [====>.........................] - ETA: 7:23 - loss: 12.8051 - mae: 2.7833\n",
            "Epoch 1: saving model to jena_stacked_gru_dropout.keras\n",
            "142/819 [====>.........................] - ETA: 7:22 - loss: 12.8128 - mae: 2.7844\n",
            "Epoch 1: saving model to jena_stacked_gru_dropout.keras\n",
            "143/819 [====>.........................] - ETA: 7:22 - loss: 12.8257 - mae: 2.7854\n",
            "Epoch 1: saving model to jena_stacked_gru_dropout.keras\n",
            "144/819 [====>.........................] - ETA: 7:23 - loss: 12.8109 - mae: 2.7836\n",
            "Epoch 1: saving model to jena_stacked_gru_dropout.keras\n",
            "145/819 [====>.........................] - ETA: 7:25 - loss: 12.8029 - mae: 2.7829\n",
            "Epoch 1: saving model to jena_stacked_gru_dropout.keras\n",
            "146/819 [====>.........................] - ETA: 7:24 - loss: 12.8051 - mae: 2.7837\n",
            "Epoch 1: saving model to jena_stacked_gru_dropout.keras\n",
            "147/819 [====>.........................] - ETA: 7:23 - loss: 12.7930 - mae: 2.7831\n",
            "Epoch 1: saving model to jena_stacked_gru_dropout.keras\n",
            "148/819 [====>.........................] - ETA: 7:22 - loss: 12.7910 - mae: 2.7836\n",
            "Epoch 1: saving model to jena_stacked_gru_dropout.keras\n",
            "149/819 [====>.........................] - ETA: 7:21 - loss: 12.8112 - mae: 2.7846\n",
            "Epoch 1: saving model to jena_stacked_gru_dropout.keras\n",
            "150/819 [====>.........................] - ETA: 7:20 - loss: 12.7930 - mae: 2.7822\n",
            "Epoch 1: saving model to jena_stacked_gru_dropout.keras\n",
            "151/819 [====>.........................] - ETA: 7:19 - loss: 12.7917 - mae: 2.7821\n",
            "Epoch 1: saving model to jena_stacked_gru_dropout.keras\n",
            "152/819 [====>.........................] - ETA: 7:18 - loss: 12.7815 - mae: 2.7812\n",
            "Epoch 1: saving model to jena_stacked_gru_dropout.keras\n",
            "153/819 [====>.........................] - ETA: 7:17 - loss: 12.7891 - mae: 2.7823\n",
            "Epoch 1: saving model to jena_stacked_gru_dropout.keras\n",
            "154/819 [====>.........................] - ETA: 7:16 - loss: 12.7961 - mae: 2.7831\n",
            "Epoch 1: saving model to jena_stacked_gru_dropout.keras\n",
            "155/819 [====>.........................] - ETA: 7:15 - loss: 12.7946 - mae: 2.7827\n",
            "Epoch 1: saving model to jena_stacked_gru_dropout.keras\n",
            "156/819 [====>.........................] - ETA: 7:14 - loss: 12.7803 - mae: 2.7813\n",
            "Epoch 1: saving model to jena_stacked_gru_dropout.keras\n",
            "157/819 [====>.........................] - ETA: 7:13 - loss: 12.7717 - mae: 2.7805\n",
            "Epoch 1: saving model to jena_stacked_gru_dropout.keras\n",
            "158/819 [====>.........................] - ETA: 7:12 - loss: 12.7778 - mae: 2.7815\n",
            "Epoch 1: saving model to jena_stacked_gru_dropout.keras\n",
            "159/819 [====>.........................] - ETA: 7:11 - loss: 12.7945 - mae: 2.7831\n",
            "Epoch 1: saving model to jena_stacked_gru_dropout.keras\n",
            "160/819 [====>.........................] - ETA: 7:10 - loss: 12.7981 - mae: 2.7831\n",
            "Epoch 1: saving model to jena_stacked_gru_dropout.keras\n",
            "161/819 [====>.........................] - ETA: 7:09 - loss: 12.8177 - mae: 2.7846\n",
            "Epoch 1: saving model to jena_stacked_gru_dropout.keras\n",
            "162/819 [====>.........................] - ETA: 7:08 - loss: 12.8027 - mae: 2.7828\n",
            "Epoch 1: saving model to jena_stacked_gru_dropout.keras\n",
            "163/819 [====>.........................] - ETA: 7:08 - loss: 12.8042 - mae: 2.7827\n",
            "Epoch 1: saving model to jena_stacked_gru_dropout.keras\n",
            "164/819 [=====>........................] - ETA: 7:10 - loss: 12.7956 - mae: 2.7819\n",
            "Epoch 1: saving model to jena_stacked_gru_dropout.keras\n",
            "165/819 [=====>........................] - ETA: 7:11 - loss: 12.7915 - mae: 2.7816\n",
            "Epoch 1: saving model to jena_stacked_gru_dropout.keras\n",
            "166/819 [=====>........................] - ETA: 7:11 - loss: 12.7781 - mae: 2.7801\n",
            "Epoch 1: saving model to jena_stacked_gru_dropout.keras\n",
            "167/819 [=====>........................] - ETA: 7:10 - loss: 12.7779 - mae: 2.7794\n",
            "Epoch 1: saving model to jena_stacked_gru_dropout.keras\n",
            "168/819 [=====>........................] - ETA: 7:09 - loss: 12.7936 - mae: 2.7809\n",
            "Epoch 1: saving model to jena_stacked_gru_dropout.keras\n",
            "169/819 [=====>........................] - ETA: 7:08 - loss: 12.7879 - mae: 2.7802\n",
            "Epoch 1: saving model to jena_stacked_gru_dropout.keras\n",
            "170/819 [=====>........................] - ETA: 7:07 - loss: 12.7896 - mae: 2.7801\n",
            "Epoch 1: saving model to jena_stacked_gru_dropout.keras\n",
            "171/819 [=====>........................] - ETA: 7:06 - loss: 12.7856 - mae: 2.7797\n",
            "Epoch 1: saving model to jena_stacked_gru_dropout.keras\n",
            "172/819 [=====>........................] - ETA: 7:05 - loss: 12.7853 - mae: 2.7797\n",
            "Epoch 1: saving model to jena_stacked_gru_dropout.keras\n",
            "173/819 [=====>........................] - ETA: 7:04 - loss: 12.7768 - mae: 2.7791\n",
            "Epoch 1: saving model to jena_stacked_gru_dropout.keras\n",
            "174/819 [=====>........................] - ETA: 7:03 - loss: 12.7932 - mae: 2.7802\n",
            "Epoch 1: saving model to jena_stacked_gru_dropout.keras\n",
            "175/819 [=====>........................] - ETA: 7:02 - loss: 12.7893 - mae: 2.7799\n",
            "Epoch 1: saving model to jena_stacked_gru_dropout.keras\n",
            "176/819 [=====>........................] - ETA: 7:01 - loss: 12.7794 - mae: 2.7793\n",
            "Epoch 1: saving model to jena_stacked_gru_dropout.keras\n",
            "177/819 [=====>........................] - ETA: 7:00 - loss: 12.7796 - mae: 2.7801\n",
            "Epoch 1: saving model to jena_stacked_gru_dropout.keras\n",
            "178/819 [=====>........................] - ETA: 6:59 - loss: 12.7891 - mae: 2.7809\n",
            "Epoch 1: saving model to jena_stacked_gru_dropout.keras\n",
            "179/819 [=====>........................] - ETA: 6:58 - loss: 12.7912 - mae: 2.7802\n",
            "Epoch 1: saving model to jena_stacked_gru_dropout.keras\n",
            "180/819 [=====>........................] - ETA: 6:57 - loss: 12.7975 - mae: 2.7810\n",
            "Epoch 1: saving model to jena_stacked_gru_dropout.keras\n",
            "181/819 [=====>........................] - ETA: 6:56 - loss: 12.7877 - mae: 2.7799\n",
            "Epoch 1: saving model to jena_stacked_gru_dropout.keras\n",
            "182/819 [=====>........................] - ETA: 6:55 - loss: 12.7751 - mae: 2.7782\n",
            "Epoch 1: saving model to jena_stacked_gru_dropout.keras\n",
            "183/819 [=====>........................] - ETA: 6:54 - loss: 12.7724 - mae: 2.7776\n",
            "Epoch 1: saving model to jena_stacked_gru_dropout.keras\n",
            "184/819 [=====>........................] - ETA: 6:55 - loss: 12.7763 - mae: 2.7778\n",
            "Epoch 1: saving model to jena_stacked_gru_dropout.keras\n",
            "185/819 [=====>........................] - ETA: 6:56 - loss: 12.7622 - mae: 2.7761\n",
            "Epoch 1: saving model to jena_stacked_gru_dropout.keras\n",
            "186/819 [=====>........................] - ETA: 6:56 - loss: 12.7565 - mae: 2.7752\n",
            "Epoch 1: saving model to jena_stacked_gru_dropout.keras\n",
            "187/819 [=====>........................] - ETA: 6:55 - loss: 12.7492 - mae: 2.7745\n",
            "Epoch 1: saving model to jena_stacked_gru_dropout.keras\n",
            "188/819 [=====>........................] - ETA: 6:55 - loss: 12.7452 - mae: 2.7739\n",
            "Epoch 1: saving model to jena_stacked_gru_dropout.keras\n",
            "189/819 [=====>........................] - ETA: 6:53 - loss: 12.7485 - mae: 2.7741\n",
            "Epoch 1: saving model to jena_stacked_gru_dropout.keras\n",
            "190/819 [=====>........................] - ETA: 6:53 - loss: 12.7339 - mae: 2.7723\n",
            "Epoch 1: saving model to jena_stacked_gru_dropout.keras\n",
            "191/819 [=====>........................] - ETA: 6:52 - loss: 12.7347 - mae: 2.7723\n",
            "Epoch 1: saving model to jena_stacked_gru_dropout.keras\n",
            "192/819 [======>.......................] - ETA: 6:51 - loss: 12.7427 - mae: 2.7729\n",
            "Epoch 1: saving model to jena_stacked_gru_dropout.keras\n",
            "193/819 [======>.......................] - ETA: 6:50 - loss: 12.7332 - mae: 2.7721\n",
            "Epoch 1: saving model to jena_stacked_gru_dropout.keras\n",
            "194/819 [======>.......................] - ETA: 6:49 - loss: 12.7435 - mae: 2.7731\n",
            "Epoch 1: saving model to jena_stacked_gru_dropout.keras\n",
            "195/819 [======>.......................] - ETA: 6:48 - loss: 12.7516 - mae: 2.7742\n",
            "Epoch 1: saving model to jena_stacked_gru_dropout.keras\n",
            "196/819 [======>.......................] - ETA: 6:47 - loss: 12.7494 - mae: 2.7738\n",
            "Epoch 1: saving model to jena_stacked_gru_dropout.keras\n",
            "197/819 [======>.......................] - ETA: 6:46 - loss: 12.7496 - mae: 2.7735\n",
            "Epoch 1: saving model to jena_stacked_gru_dropout.keras\n",
            "198/819 [======>.......................] - ETA: 6:45 - loss: 12.7473 - mae: 2.7733\n",
            "Epoch 1: saving model to jena_stacked_gru_dropout.keras\n",
            "199/819 [======>.......................] - ETA: 6:44 - loss: 12.7461 - mae: 2.7735\n",
            "Epoch 1: saving model to jena_stacked_gru_dropout.keras\n",
            "200/819 [======>.......................] - ETA: 6:43 - loss: 12.7510 - mae: 2.7737\n",
            "Epoch 1: saving model to jena_stacked_gru_dropout.keras\n",
            "201/819 [======>.......................] - ETA: 6:43 - loss: 12.7560 - mae: 2.7745\n",
            "Epoch 1: saving model to jena_stacked_gru_dropout.keras\n",
            "202/819 [======>.......................] - ETA: 6:42 - loss: 12.7614 - mae: 2.7752\n",
            "Epoch 1: saving model to jena_stacked_gru_dropout.keras\n",
            "203/819 [======>.......................] - ETA: 6:41 - loss: 12.7634 - mae: 2.7754\n",
            "Epoch 1: saving model to jena_stacked_gru_dropout.keras\n",
            "204/819 [======>.......................] - ETA: 6:42 - loss: 12.7638 - mae: 2.7753\n",
            "Epoch 1: saving model to jena_stacked_gru_dropout.keras\n",
            "205/819 [======>.......................] - ETA: 6:43 - loss: 12.7722 - mae: 2.7767\n",
            "Epoch 1: saving model to jena_stacked_gru_dropout.keras\n",
            "206/819 [======>.......................] - ETA: 6:43 - loss: 12.7765 - mae: 2.7771\n",
            "Epoch 1: saving model to jena_stacked_gru_dropout.keras\n",
            "207/819 [======>.......................] - ETA: 6:42 - loss: 12.7669 - mae: 2.7766\n",
            "Epoch 1: saving model to jena_stacked_gru_dropout.keras\n",
            "208/819 [======>.......................] - ETA: 6:41 - loss: 12.7692 - mae: 2.7769\n",
            "Epoch 1: saving model to jena_stacked_gru_dropout.keras\n",
            "209/819 [======>.......................] - ETA: 6:40 - loss: 12.7601 - mae: 2.7756\n",
            "Epoch 1: saving model to jena_stacked_gru_dropout.keras\n",
            "210/819 [======>.......................] - ETA: 6:39 - loss: 12.7722 - mae: 2.7773\n",
            "Epoch 1: saving model to jena_stacked_gru_dropout.keras\n",
            "211/819 [======>.......................] - ETA: 6:38 - loss: 12.7849 - mae: 2.7783\n",
            "Epoch 1: saving model to jena_stacked_gru_dropout.keras\n",
            "212/819 [======>.......................] - ETA: 6:37 - loss: 12.7917 - mae: 2.7794\n",
            "Epoch 1: saving model to jena_stacked_gru_dropout.keras\n",
            "213/819 [======>.......................] - ETA: 6:36 - loss: 12.7923 - mae: 2.7794\n",
            "Epoch 1: saving model to jena_stacked_gru_dropout.keras\n",
            "214/819 [======>.......................] - ETA: 6:36 - loss: 12.7805 - mae: 2.7779\n",
            "Epoch 1: saving model to jena_stacked_gru_dropout.keras\n",
            "215/819 [======>.......................] - ETA: 6:35 - loss: 12.7755 - mae: 2.7775\n",
            "Epoch 1: saving model to jena_stacked_gru_dropout.keras\n",
            "216/819 [======>.......................] - ETA: 6:34 - loss: 12.7734 - mae: 2.7771\n",
            "Epoch 1: saving model to jena_stacked_gru_dropout.keras\n",
            "217/819 [======>.......................] - ETA: 6:33 - loss: 12.7676 - mae: 2.7767\n",
            "Epoch 1: saving model to jena_stacked_gru_dropout.keras\n",
            "218/819 [======>.......................] - ETA: 6:32 - loss: 12.7622 - mae: 2.7763\n",
            "Epoch 1: saving model to jena_stacked_gru_dropout.keras\n",
            "219/819 [=======>......................] - ETA: 6:31 - loss: 12.7582 - mae: 2.7748\n",
            "Epoch 1: saving model to jena_stacked_gru_dropout.keras\n",
            "220/819 [=======>......................] - ETA: 6:30 - loss: 12.7508 - mae: 2.7738\n",
            "Epoch 1: saving model to jena_stacked_gru_dropout.keras\n",
            "221/819 [=======>......................] - ETA: 6:30 - loss: 12.7532 - mae: 2.7741\n",
            "Epoch 1: saving model to jena_stacked_gru_dropout.keras\n",
            "222/819 [=======>......................] - ETA: 6:29 - loss: 12.7563 - mae: 2.7746\n",
            "Epoch 1: saving model to jena_stacked_gru_dropout.keras\n",
            "223/819 [=======>......................] - ETA: 6:28 - loss: 12.7579 - mae: 2.7748\n",
            "Epoch 1: saving model to jena_stacked_gru_dropout.keras\n",
            "224/819 [=======>......................] - ETA: 6:29 - loss: 12.7517 - mae: 2.7738\n",
            "Epoch 1: saving model to jena_stacked_gru_dropout.keras\n",
            "225/819 [=======>......................] - ETA: 6:30 - loss: 12.7477 - mae: 2.7733\n",
            "Epoch 1: saving model to jena_stacked_gru_dropout.keras\n",
            "226/819 [=======>......................] - ETA: 6:29 - loss: 12.7444 - mae: 2.7730\n",
            "Epoch 1: saving model to jena_stacked_gru_dropout.keras\n",
            "227/819 [=======>......................] - ETA: 6:29 - loss: 12.7284 - mae: 2.7711\n",
            "Epoch 1: saving model to jena_stacked_gru_dropout.keras\n",
            "228/819 [=======>......................] - ETA: 6:28 - loss: 12.7305 - mae: 2.7717\n",
            "Epoch 1: saving model to jena_stacked_gru_dropout.keras\n",
            "229/819 [=======>......................] - ETA: 6:27 - loss: 12.7234 - mae: 2.7708\n",
            "Epoch 1: saving model to jena_stacked_gru_dropout.keras\n",
            "230/819 [=======>......................] - ETA: 6:26 - loss: 12.7319 - mae: 2.7718\n",
            "Epoch 1: saving model to jena_stacked_gru_dropout.keras\n",
            "231/819 [=======>......................] - ETA: 6:25 - loss: 12.7234 - mae: 2.7706\n",
            "Epoch 1: saving model to jena_stacked_gru_dropout.keras\n",
            "232/819 [=======>......................] - ETA: 6:24 - loss: 12.7297 - mae: 2.7712\n",
            "Epoch 1: saving model to jena_stacked_gru_dropout.keras\n",
            "233/819 [=======>......................] - ETA: 6:23 - loss: 12.7301 - mae: 2.7713\n",
            "Epoch 1: saving model to jena_stacked_gru_dropout.keras\n",
            "234/819 [=======>......................] - ETA: 6:23 - loss: 12.7311 - mae: 2.7711\n",
            "Epoch 1: saving model to jena_stacked_gru_dropout.keras\n",
            "235/819 [=======>......................] - ETA: 6:22 - loss: 12.7307 - mae: 2.7707\n",
            "Epoch 1: saving model to jena_stacked_gru_dropout.keras\n",
            "236/819 [=======>......................] - ETA: 6:21 - loss: 12.7258 - mae: 2.7704\n",
            "Epoch 1: saving model to jena_stacked_gru_dropout.keras\n",
            "237/819 [=======>......................] - ETA: 6:20 - loss: 12.7244 - mae: 2.7700\n",
            "Epoch 1: saving model to jena_stacked_gru_dropout.keras\n",
            "238/819 [=======>......................] - ETA: 6:19 - loss: 12.7311 - mae: 2.7709\n",
            "Epoch 1: saving model to jena_stacked_gru_dropout.keras\n",
            "239/819 [=======>......................] - ETA: 6:18 - loss: 12.7225 - mae: 2.7700\n",
            "Epoch 1: saving model to jena_stacked_gru_dropout.keras\n",
            "240/819 [=======>......................] - ETA: 6:18 - loss: 12.7172 - mae: 2.7698\n",
            "Epoch 1: saving model to jena_stacked_gru_dropout.keras\n",
            "241/819 [=======>......................] - ETA: 6:17 - loss: 12.7105 - mae: 2.7694\n",
            "Epoch 1: saving model to jena_stacked_gru_dropout.keras\n",
            "242/819 [=======>......................] - ETA: 6:16 - loss: 12.7076 - mae: 2.7695\n",
            "Epoch 1: saving model to jena_stacked_gru_dropout.keras\n",
            "243/819 [=======>......................] - ETA: 6:16 - loss: 12.7061 - mae: 2.7692\n",
            "Epoch 1: saving model to jena_stacked_gru_dropout.keras\n",
            "244/819 [=======>......................] - ETA: 6:16 - loss: 12.7038 - mae: 2.7691\n",
            "Epoch 1: saving model to jena_stacked_gru_dropout.keras\n",
            "245/819 [=======>......................] - ETA: 6:17 - loss: 12.6951 - mae: 2.7682\n",
            "Epoch 1: saving model to jena_stacked_gru_dropout.keras\n",
            "246/819 [========>.....................] - ETA: 6:17 - loss: 12.6975 - mae: 2.7687\n",
            "Epoch 1: saving model to jena_stacked_gru_dropout.keras\n",
            "247/819 [========>.....................] - ETA: 6:18 - loss: 12.6985 - mae: 2.7687\n",
            "Epoch 1: saving model to jena_stacked_gru_dropout.keras\n",
            "248/819 [========>.....................] - ETA: 6:17 - loss: 12.7074 - mae: 2.7694\n",
            "Epoch 1: saving model to jena_stacked_gru_dropout.keras\n",
            "249/819 [========>.....................] - ETA: 6:17 - loss: 12.7168 - mae: 2.7706\n",
            "Epoch 1: saving model to jena_stacked_gru_dropout.keras\n",
            "250/819 [========>.....................] - ETA: 6:16 - loss: 12.7124 - mae: 2.7700\n",
            "Epoch 1: saving model to jena_stacked_gru_dropout.keras\n",
            "251/819 [========>.....................] - ETA: 6:15 - loss: 12.7214 - mae: 2.7703\n",
            "Epoch 1: saving model to jena_stacked_gru_dropout.keras\n",
            "252/819 [========>.....................] - ETA: 6:14 - loss: 12.7204 - mae: 2.7701\n",
            "Epoch 1: saving model to jena_stacked_gru_dropout.keras\n",
            "253/819 [========>.....................] - ETA: 6:13 - loss: 12.7246 - mae: 2.7702\n",
            "Epoch 1: saving model to jena_stacked_gru_dropout.keras\n",
            "254/819 [========>.....................] - ETA: 6:13 - loss: 12.7270 - mae: 2.7704\n",
            "Epoch 1: saving model to jena_stacked_gru_dropout.keras\n",
            "255/819 [========>.....................] - ETA: 6:12 - loss: 12.7258 - mae: 2.7706\n",
            "Epoch 1: saving model to jena_stacked_gru_dropout.keras\n",
            "256/819 [========>.....................] - ETA: 6:11 - loss: 12.7387 - mae: 2.7724\n",
            "Epoch 1: saving model to jena_stacked_gru_dropout.keras\n",
            "257/819 [========>.....................] - ETA: 6:10 - loss: 12.7249 - mae: 2.7710\n",
            "Epoch 1: saving model to jena_stacked_gru_dropout.keras\n",
            "258/819 [========>.....................] - ETA: 6:09 - loss: 12.7117 - mae: 2.7696\n",
            "Epoch 1: saving model to jena_stacked_gru_dropout.keras\n",
            "259/819 [========>.....................] - ETA: 6:09 - loss: 12.7198 - mae: 2.7705\n",
            "Epoch 1: saving model to jena_stacked_gru_dropout.keras\n",
            "260/819 [========>.....................] - ETA: 6:08 - loss: 12.7197 - mae: 2.7704\n",
            "Epoch 1: saving model to jena_stacked_gru_dropout.keras\n",
            "261/819 [========>.....................] - ETA: 6:07 - loss: 12.7225 - mae: 2.7705\n",
            "Epoch 1: saving model to jena_stacked_gru_dropout.keras\n",
            "262/819 [========>.....................] - ETA: 6:06 - loss: 12.7264 - mae: 2.7709\n",
            "Epoch 1: saving model to jena_stacked_gru_dropout.keras\n",
            "263/819 [========>.....................] - ETA: 6:06 - loss: 12.7231 - mae: 2.7704\n",
            "Epoch 1: saving model to jena_stacked_gru_dropout.keras\n",
            "264/819 [========>.....................] - ETA: 6:06 - loss: 12.7224 - mae: 2.7700\n",
            "Epoch 1: saving model to jena_stacked_gru_dropout.keras\n",
            "265/819 [========>.....................] - ETA: 6:06 - loss: 12.7193 - mae: 2.7697\n",
            "Epoch 1: saving model to jena_stacked_gru_dropout.keras\n",
            "266/819 [========>.....................] - ETA: 6:06 - loss: 12.7213 - mae: 2.7703\n",
            "Epoch 1: saving model to jena_stacked_gru_dropout.keras\n",
            "267/819 [========>.....................] - ETA: 6:05 - loss: 12.7253 - mae: 2.7706\n",
            "Epoch 1: saving model to jena_stacked_gru_dropout.keras\n",
            "268/819 [========>.....................] - ETA: 6:04 - loss: 12.7334 - mae: 2.7714\n",
            "Epoch 1: saving model to jena_stacked_gru_dropout.keras\n",
            "269/819 [========>.....................] - ETA: 6:04 - loss: 12.7259 - mae: 2.7707\n",
            "Epoch 1: saving model to jena_stacked_gru_dropout.keras\n",
            "270/819 [========>.....................] - ETA: 6:03 - loss: 12.7198 - mae: 2.7703\n",
            "Epoch 1: saving model to jena_stacked_gru_dropout.keras\n",
            "271/819 [========>.....................] - ETA: 6:02 - loss: 12.7158 - mae: 2.7698\n",
            "Epoch 1: saving model to jena_stacked_gru_dropout.keras\n",
            "272/819 [========>.....................] - ETA: 6:01 - loss: 12.7140 - mae: 2.7693\n",
            "Epoch 1: saving model to jena_stacked_gru_dropout.keras\n",
            "273/819 [=========>....................] - ETA: 6:00 - loss: 12.7169 - mae: 2.7693\n",
            "Epoch 1: saving model to jena_stacked_gru_dropout.keras\n",
            "274/819 [=========>....................] - ETA: 5:59 - loss: 12.7118 - mae: 2.7688\n",
            "Epoch 1: saving model to jena_stacked_gru_dropout.keras\n",
            "275/819 [=========>....................] - ETA: 5:59 - loss: 12.7192 - mae: 2.7693\n",
            "Epoch 1: saving model to jena_stacked_gru_dropout.keras\n",
            "276/819 [=========>....................] - ETA: 5:58 - loss: 12.7176 - mae: 2.7692\n",
            "Epoch 1: saving model to jena_stacked_gru_dropout.keras\n",
            "277/819 [=========>....................] - ETA: 5:57 - loss: 12.7160 - mae: 2.7691\n",
            "Epoch 1: saving model to jena_stacked_gru_dropout.keras\n",
            "278/819 [=========>....................] - ETA: 5:56 - loss: 12.7199 - mae: 2.7695\n",
            "Epoch 1: saving model to jena_stacked_gru_dropout.keras\n",
            "279/819 [=========>....................] - ETA: 5:56 - loss: 12.7165 - mae: 2.7693\n",
            "Epoch 1: saving model to jena_stacked_gru_dropout.keras\n",
            "280/819 [=========>....................] - ETA: 5:55 - loss: 12.7136 - mae: 2.7686\n",
            "Epoch 1: saving model to jena_stacked_gru_dropout.keras\n",
            "281/819 [=========>....................] - ETA: 5:54 - loss: 12.7166 - mae: 2.7689\n",
            "Epoch 1: saving model to jena_stacked_gru_dropout.keras\n",
            "282/819 [=========>....................] - ETA: 5:55 - loss: 12.7142 - mae: 2.7688\n",
            "Epoch 1: saving model to jena_stacked_gru_dropout.keras\n",
            "283/819 [=========>....................] - ETA: 5:55 - loss: 12.7116 - mae: 2.7684\n",
            "Epoch 1: saving model to jena_stacked_gru_dropout.keras\n",
            "284/819 [=========>....................] - ETA: 5:55 - loss: 12.7109 - mae: 2.7680\n",
            "Epoch 1: saving model to jena_stacked_gru_dropout.keras\n",
            "285/819 [=========>....................] - ETA: 5:55 - loss: 12.7071 - mae: 2.7677\n",
            "Epoch 1: saving model to jena_stacked_gru_dropout.keras\n",
            "286/819 [=========>....................] - ETA: 5:54 - loss: 12.7153 - mae: 2.7685\n",
            "Epoch 1: saving model to jena_stacked_gru_dropout.keras\n",
            "287/819 [=========>....................] - ETA: 5:53 - loss: 12.7228 - mae: 2.7690\n",
            "Epoch 1: saving model to jena_stacked_gru_dropout.keras\n",
            "288/819 [=========>....................] - ETA: 5:52 - loss: 12.7177 - mae: 2.7684\n",
            "Epoch 1: saving model to jena_stacked_gru_dropout.keras\n",
            "289/819 [=========>....................] - ETA: 5:51 - loss: 12.7146 - mae: 2.7683\n",
            "Epoch 1: saving model to jena_stacked_gru_dropout.keras\n",
            "290/819 [=========>....................] - ETA: 5:51 - loss: 12.7112 - mae: 2.7677\n",
            "Epoch 1: saving model to jena_stacked_gru_dropout.keras\n",
            "291/819 [=========>....................] - ETA: 5:50 - loss: 12.7130 - mae: 2.7679\n",
            "Epoch 1: saving model to jena_stacked_gru_dropout.keras\n",
            "292/819 [=========>....................] - ETA: 5:49 - loss: 12.7069 - mae: 2.7676\n",
            "Epoch 1: saving model to jena_stacked_gru_dropout.keras\n",
            "293/819 [=========>....................] - ETA: 5:48 - loss: 12.7099 - mae: 2.7677\n",
            "Epoch 1: saving model to jena_stacked_gru_dropout.keras\n",
            "294/819 [=========>....................] - ETA: 5:48 - loss: 12.7097 - mae: 2.7677\n",
            "Epoch 1: saving model to jena_stacked_gru_dropout.keras\n",
            "295/819 [=========>....................] - ETA: 5:47 - loss: 12.7106 - mae: 2.7678\n",
            "Epoch 1: saving model to jena_stacked_gru_dropout.keras\n",
            "296/819 [=========>....................] - ETA: 5:46 - loss: 12.7189 - mae: 2.7687\n",
            "Epoch 1: saving model to jena_stacked_gru_dropout.keras\n",
            "297/819 [=========>....................] - ETA: 5:45 - loss: 12.7156 - mae: 2.7683\n",
            "Epoch 1: saving model to jena_stacked_gru_dropout.keras\n",
            "298/819 [=========>....................] - ETA: 5:44 - loss: 12.7119 - mae: 2.7680\n",
            "Epoch 1: saving model to jena_stacked_gru_dropout.keras\n",
            "299/819 [=========>....................] - ETA: 5:44 - loss: 12.7119 - mae: 2.7679\n",
            "Epoch 1: saving model to jena_stacked_gru_dropout.keras\n",
            "300/819 [=========>....................] - ETA: 5:43 - loss: 12.7116 - mae: 2.7681\n",
            "Epoch 1: saving model to jena_stacked_gru_dropout.keras\n",
            "301/819 [==========>...................] - ETA: 5:42 - loss: 12.7126 - mae: 2.7685\n",
            "Epoch 1: saving model to jena_stacked_gru_dropout.keras\n",
            "302/819 [==========>...................] - ETA: 5:42 - loss: 12.7147 - mae: 2.7685\n",
            "Epoch 1: saving model to jena_stacked_gru_dropout.keras\n",
            "303/819 [==========>...................] - ETA: 5:42 - loss: 12.7087 - mae: 2.7678\n",
            "Epoch 1: saving model to jena_stacked_gru_dropout.keras\n",
            "304/819 [==========>...................] - ETA: 5:42 - loss: 12.7080 - mae: 2.7677\n",
            "Epoch 1: saving model to jena_stacked_gru_dropout.keras\n",
            "305/819 [==========>...................] - ETA: 5:41 - loss: 12.7063 - mae: 2.7675\n",
            "Epoch 1: saving model to jena_stacked_gru_dropout.keras\n",
            "306/819 [==========>...................] - ETA: 5:40 - loss: 12.7079 - mae: 2.7677\n",
            "Epoch 1: saving model to jena_stacked_gru_dropout.keras\n",
            "307/819 [==========>...................] - ETA: 5:40 - loss: 12.7020 - mae: 2.7673\n",
            "Epoch 1: saving model to jena_stacked_gru_dropout.keras\n",
            "308/819 [==========>...................] - ETA: 5:39 - loss: 12.7042 - mae: 2.7674\n",
            "Epoch 1: saving model to jena_stacked_gru_dropout.keras\n",
            "309/819 [==========>...................] - ETA: 5:38 - loss: 12.7058 - mae: 2.7675\n",
            "Epoch 1: saving model to jena_stacked_gru_dropout.keras\n",
            "310/819 [==========>...................] - ETA: 5:37 - loss: 12.7118 - mae: 2.7685\n",
            "Epoch 1: saving model to jena_stacked_gru_dropout.keras\n",
            "311/819 [==========>...................] - ETA: 5:36 - loss: 12.7124 - mae: 2.7682\n",
            "Epoch 1: saving model to jena_stacked_gru_dropout.keras\n",
            "312/819 [==========>...................] - ETA: 5:36 - loss: 12.7116 - mae: 2.7682\n",
            "Epoch 1: saving model to jena_stacked_gru_dropout.keras\n",
            "313/819 [==========>...................] - ETA: 5:35 - loss: 12.7129 - mae: 2.7684\n",
            "Epoch 1: saving model to jena_stacked_gru_dropout.keras\n",
            "314/819 [==========>...................] - ETA: 5:34 - loss: 12.7176 - mae: 2.7689\n",
            "Epoch 1: saving model to jena_stacked_gru_dropout.keras\n",
            "315/819 [==========>...................] - ETA: 5:33 - loss: 12.7188 - mae: 2.7690\n",
            "Epoch 1: saving model to jena_stacked_gru_dropout.keras\n",
            "316/819 [==========>...................] - ETA: 5:33 - loss: 12.7201 - mae: 2.7690\n",
            "Epoch 1: saving model to jena_stacked_gru_dropout.keras\n",
            "317/819 [==========>...................] - ETA: 5:32 - loss: 12.7210 - mae: 2.7692\n",
            "Epoch 1: saving model to jena_stacked_gru_dropout.keras\n",
            "318/819 [==========>...................] - ETA: 5:31 - loss: 12.7194 - mae: 2.7689\n",
            "Epoch 1: saving model to jena_stacked_gru_dropout.keras\n",
            "319/819 [==========>...................] - ETA: 5:30 - loss: 12.7183 - mae: 2.7688\n",
            "Epoch 1: saving model to jena_stacked_gru_dropout.keras\n",
            "320/819 [==========>...................] - ETA: 5:30 - loss: 12.7188 - mae: 2.7685\n",
            "Epoch 1: saving model to jena_stacked_gru_dropout.keras\n",
            "321/819 [==========>...................] - ETA: 5:29 - loss: 12.7224 - mae: 2.7688\n",
            "Epoch 1: saving model to jena_stacked_gru_dropout.keras\n",
            "322/819 [==========>...................] - ETA: 5:29 - loss: 12.7194 - mae: 2.7686\n",
            "Epoch 1: saving model to jena_stacked_gru_dropout.keras\n",
            "323/819 [==========>...................] - ETA: 5:29 - loss: 12.7136 - mae: 2.7680\n",
            "Epoch 1: saving model to jena_stacked_gru_dropout.keras\n",
            "324/819 [==========>...................] - ETA: 5:28 - loss: 12.7168 - mae: 2.7683\n",
            "Epoch 1: saving model to jena_stacked_gru_dropout.keras\n",
            "325/819 [==========>...................] - ETA: 5:28 - loss: 12.7164 - mae: 2.7679\n",
            "Epoch 1: saving model to jena_stacked_gru_dropout.keras\n",
            "326/819 [==========>...................] - ETA: 5:27 - loss: 12.7124 - mae: 2.7678\n",
            "Epoch 1: saving model to jena_stacked_gru_dropout.keras\n",
            "327/819 [==========>...................] - ETA: 5:26 - loss: 12.7075 - mae: 2.7670\n",
            "Epoch 1: saving model to jena_stacked_gru_dropout.keras\n",
            "328/819 [===========>..................] - ETA: 5:25 - loss: 12.7078 - mae: 2.7670\n",
            "Epoch 1: saving model to jena_stacked_gru_dropout.keras\n",
            "329/819 [===========>..................] - ETA: 5:25 - loss: 12.7082 - mae: 2.7668\n",
            "Epoch 1: saving model to jena_stacked_gru_dropout.keras\n",
            "330/819 [===========>..................] - ETA: 5:24 - loss: 12.7057 - mae: 2.7664\n",
            "Epoch 1: saving model to jena_stacked_gru_dropout.keras\n",
            "331/819 [===========>..................] - ETA: 5:23 - loss: 12.7036 - mae: 2.7665\n",
            "Epoch 1: saving model to jena_stacked_gru_dropout.keras\n",
            "332/819 [===========>..................] - ETA: 5:22 - loss: 12.7044 - mae: 2.7668\n",
            "Epoch 1: saving model to jena_stacked_gru_dropout.keras\n",
            "333/819 [===========>..................] - ETA: 5:22 - loss: 12.7079 - mae: 2.7673\n",
            "Epoch 1: saving model to jena_stacked_gru_dropout.keras\n",
            "334/819 [===========>..................] - ETA: 5:21 - loss: 12.7080 - mae: 2.7674\n",
            "Epoch 1: saving model to jena_stacked_gru_dropout.keras\n",
            "335/819 [===========>..................] - ETA: 5:20 - loss: 12.7158 - mae: 2.7681\n",
            "Epoch 1: saving model to jena_stacked_gru_dropout.keras\n",
            "336/819 [===========>..................] - ETA: 5:19 - loss: 12.7176 - mae: 2.7680\n",
            "Epoch 1: saving model to jena_stacked_gru_dropout.keras\n",
            "337/819 [===========>..................] - ETA: 5:18 - loss: 12.7148 - mae: 2.7678\n",
            "Epoch 1: saving model to jena_stacked_gru_dropout.keras\n",
            "338/819 [===========>..................] - ETA: 5:18 - loss: 12.7159 - mae: 2.7680\n",
            "Epoch 1: saving model to jena_stacked_gru_dropout.keras\n",
            "339/819 [===========>..................] - ETA: 5:17 - loss: 12.7098 - mae: 2.7675\n",
            "Epoch 1: saving model to jena_stacked_gru_dropout.keras\n",
            "340/819 [===========>..................] - ETA: 5:16 - loss: 12.7156 - mae: 2.7679\n",
            "Epoch 1: saving model to jena_stacked_gru_dropout.keras\n",
            "341/819 [===========>..................] - ETA: 5:16 - loss: 12.7157 - mae: 2.7677\n",
            "Epoch 1: saving model to jena_stacked_gru_dropout.keras\n",
            "342/819 [===========>..................] - ETA: 5:16 - loss: 12.7179 - mae: 2.7681\n",
            "Epoch 1: saving model to jena_stacked_gru_dropout.keras\n",
            "343/819 [===========>..................] - ETA: 5:16 - loss: 12.7186 - mae: 2.7681\n",
            "Epoch 1: saving model to jena_stacked_gru_dropout.keras\n",
            "344/819 [===========>..................] - ETA: 5:15 - loss: 12.7159 - mae: 2.7678\n",
            "Epoch 1: saving model to jena_stacked_gru_dropout.keras\n",
            "345/819 [===========>..................] - ETA: 5:15 - loss: 12.7132 - mae: 2.7676\n",
            "Epoch 1: saving model to jena_stacked_gru_dropout.keras\n",
            "346/819 [===========>..................] - ETA: 5:14 - loss: 12.7085 - mae: 2.7672\n",
            "Epoch 1: saving model to jena_stacked_gru_dropout.keras\n",
            "347/819 [===========>..................] - ETA: 5:13 - loss: 12.7024 - mae: 2.7667\n",
            "Epoch 1: saving model to jena_stacked_gru_dropout.keras\n",
            "348/819 [===========>..................] - ETA: 5:12 - loss: 12.6952 - mae: 2.7660\n",
            "Epoch 1: saving model to jena_stacked_gru_dropout.keras\n",
            "349/819 [===========>..................] - ETA: 5:12 - loss: 12.6961 - mae: 2.7663\n",
            "Epoch 1: saving model to jena_stacked_gru_dropout.keras\n",
            "350/819 [===========>..................] - ETA: 5:11 - loss: 12.7013 - mae: 2.7666\n",
            "Epoch 1: saving model to jena_stacked_gru_dropout.keras\n",
            "351/819 [===========>..................] - ETA: 5:10 - loss: 12.7007 - mae: 2.7667\n",
            "Epoch 1: saving model to jena_stacked_gru_dropout.keras\n",
            "352/819 [===========>..................] - ETA: 5:09 - loss: 12.6997 - mae: 2.7668\n",
            "Epoch 1: saving model to jena_stacked_gru_dropout.keras\n",
            "353/819 [===========>..................] - ETA: 5:09 - loss: 12.6943 - mae: 2.7661\n",
            "Epoch 1: saving model to jena_stacked_gru_dropout.keras\n",
            "354/819 [===========>..................] - ETA: 5:08 - loss: 12.6941 - mae: 2.7659\n",
            "Epoch 1: saving model to jena_stacked_gru_dropout.keras\n",
            "355/819 [============>.................] - ETA: 5:07 - loss: 12.7002 - mae: 2.7665\n",
            "Epoch 1: saving model to jena_stacked_gru_dropout.keras\n",
            "356/819 [============>.................] - ETA: 5:06 - loss: 12.7059 - mae: 2.7669\n",
            "Epoch 1: saving model to jena_stacked_gru_dropout.keras\n",
            "357/819 [============>.................] - ETA: 5:06 - loss: 12.7051 - mae: 2.7669\n",
            "Epoch 1: saving model to jena_stacked_gru_dropout.keras\n",
            "358/819 [============>.................] - ETA: 5:05 - loss: 12.7077 - mae: 2.7670\n",
            "Epoch 1: saving model to jena_stacked_gru_dropout.keras\n",
            "359/819 [============>.................] - ETA: 5:04 - loss: 12.7044 - mae: 2.7665\n",
            "Epoch 1: saving model to jena_stacked_gru_dropout.keras\n",
            "360/819 [============>.................] - ETA: 5:03 - loss: 12.7060 - mae: 2.7666\n",
            "Epoch 1: saving model to jena_stacked_gru_dropout.keras\n",
            "361/819 [============>.................] - ETA: 5:03 - loss: 12.7122 - mae: 2.7673\n",
            "Epoch 1: saving model to jena_stacked_gru_dropout.keras\n",
            "362/819 [============>.................] - ETA: 5:03 - loss: 12.7114 - mae: 2.7672\n",
            "Epoch 1: saving model to jena_stacked_gru_dropout.keras\n",
            "363/819 [============>.................] - ETA: 5:03 - loss: 12.7179 - mae: 2.7678\n",
            "Epoch 1: saving model to jena_stacked_gru_dropout.keras\n",
            "364/819 [============>.................] - ETA: 5:02 - loss: 12.7157 - mae: 2.7675\n",
            "Epoch 1: saving model to jena_stacked_gru_dropout.keras\n",
            "365/819 [============>.................] - ETA: 5:01 - loss: 12.7124 - mae: 2.7671\n",
            "Epoch 1: saving model to jena_stacked_gru_dropout.keras\n",
            "366/819 [============>.................] - ETA: 5:01 - loss: 12.7089 - mae: 2.7666\n",
            "Epoch 1: saving model to jena_stacked_gru_dropout.keras\n",
            "367/819 [============>.................] - ETA: 5:00 - loss: 12.7070 - mae: 2.7661\n",
            "Epoch 1: saving model to jena_stacked_gru_dropout.keras\n",
            "368/819 [============>.................] - ETA: 4:59 - loss: 12.7124 - mae: 2.7664\n",
            "Epoch 1: saving model to jena_stacked_gru_dropout.keras\n",
            "369/819 [============>.................] - ETA: 4:58 - loss: 12.7111 - mae: 2.7661\n",
            "Epoch 1: saving model to jena_stacked_gru_dropout.keras\n",
            "370/819 [============>.................] - ETA: 4:58 - loss: 12.7080 - mae: 2.7654\n",
            "Epoch 1: saving model to jena_stacked_gru_dropout.keras\n",
            "371/819 [============>.................] - ETA: 4:57 - loss: 12.7091 - mae: 2.7656\n",
            "Epoch 1: saving model to jena_stacked_gru_dropout.keras\n",
            "372/819 [============>.................] - ETA: 4:56 - loss: 12.7086 - mae: 2.7656\n",
            "Epoch 1: saving model to jena_stacked_gru_dropout.keras\n",
            "373/819 [============>.................] - ETA: 4:55 - loss: 12.7053 - mae: 2.7653\n",
            "Epoch 1: saving model to jena_stacked_gru_dropout.keras\n",
            "374/819 [============>.................] - ETA: 4:55 - loss: 12.7055 - mae: 2.7654\n",
            "Epoch 1: saving model to jena_stacked_gru_dropout.keras\n",
            "375/819 [============>.................] - ETA: 4:54 - loss: 12.7037 - mae: 2.7651\n",
            "Epoch 1: saving model to jena_stacked_gru_dropout.keras\n",
            "376/819 [============>.................] - ETA: 4:53 - loss: 12.6988 - mae: 2.7646\n",
            "Epoch 1: saving model to jena_stacked_gru_dropout.keras\n",
            "377/819 [============>.................] - ETA: 4:52 - loss: 12.7011 - mae: 2.7646\n",
            "Epoch 1: saving model to jena_stacked_gru_dropout.keras\n",
            "378/819 [============>.................] - ETA: 4:52 - loss: 12.7037 - mae: 2.7647\n",
            "Epoch 1: saving model to jena_stacked_gru_dropout.keras\n",
            "379/819 [============>.................] - ETA: 4:51 - loss: 12.6964 - mae: 2.7640\n",
            "Epoch 1: saving model to jena_stacked_gru_dropout.keras\n",
            "380/819 [============>.................] - ETA: 4:50 - loss: 12.6949 - mae: 2.7638\n",
            "Epoch 1: saving model to jena_stacked_gru_dropout.keras\n",
            "381/819 [============>.................] - ETA: 4:50 - loss: 12.6963 - mae: 2.7638\n",
            "Epoch 1: saving model to jena_stacked_gru_dropout.keras\n",
            "382/819 [============>.................] - ETA: 4:50 - loss: 12.6928 - mae: 2.7635\n",
            "Epoch 1: saving model to jena_stacked_gru_dropout.keras\n",
            "383/819 [=============>................] - ETA: 4:50 - loss: 12.6930 - mae: 2.7636\n",
            "Epoch 1: saving model to jena_stacked_gru_dropout.keras\n",
            "384/819 [=============>................] - ETA: 4:49 - loss: 12.6924 - mae: 2.7633\n",
            "Epoch 1: saving model to jena_stacked_gru_dropout.keras\n",
            "385/819 [=============>................] - ETA: 4:48 - loss: 12.6985 - mae: 2.7641\n",
            "Epoch 1: saving model to jena_stacked_gru_dropout.keras\n",
            "386/819 [=============>................] - ETA: 4:47 - loss: 12.6995 - mae: 2.7641\n",
            "Epoch 1: saving model to jena_stacked_gru_dropout.keras\n",
            "387/819 [=============>................] - ETA: 4:47 - loss: 12.7044 - mae: 2.7645\n",
            "Epoch 1: saving model to jena_stacked_gru_dropout.keras\n",
            "388/819 [=============>................] - ETA: 4:46 - loss: 12.7030 - mae: 2.7644\n",
            "Epoch 1: saving model to jena_stacked_gru_dropout.keras\n",
            "389/819 [=============>................] - ETA: 4:45 - loss: 12.7015 - mae: 2.7646\n",
            "Epoch 1: saving model to jena_stacked_gru_dropout.keras\n",
            "390/819 [=============>................] - ETA: 4:44 - loss: 12.7013 - mae: 2.7648\n",
            "Epoch 1: saving model to jena_stacked_gru_dropout.keras\n",
            "391/819 [=============>................] - ETA: 4:44 - loss: 12.7041 - mae: 2.7650\n",
            "Epoch 1: saving model to jena_stacked_gru_dropout.keras\n",
            "392/819 [=============>................] - ETA: 4:43 - loss: 12.7017 - mae: 2.7646\n",
            "Epoch 1: saving model to jena_stacked_gru_dropout.keras\n",
            "393/819 [=============>................] - ETA: 4:42 - loss: 12.7016 - mae: 2.7648\n",
            "Epoch 1: saving model to jena_stacked_gru_dropout.keras\n",
            "394/819 [=============>................] - ETA: 4:41 - loss: 12.7048 - mae: 2.7654\n",
            "Epoch 1: saving model to jena_stacked_gru_dropout.keras\n",
            "395/819 [=============>................] - ETA: 4:41 - loss: 12.7071 - mae: 2.7658\n",
            "Epoch 1: saving model to jena_stacked_gru_dropout.keras\n",
            "396/819 [=============>................] - ETA: 4:40 - loss: 12.7095 - mae: 2.7660\n",
            "Epoch 1: saving model to jena_stacked_gru_dropout.keras\n",
            "397/819 [=============>................] - ETA: 4:39 - loss: 12.7105 - mae: 2.7659\n",
            "Epoch 1: saving model to jena_stacked_gru_dropout.keras\n",
            "398/819 [=============>................] - ETA: 4:38 - loss: 12.7079 - mae: 2.7657\n",
            "Epoch 1: saving model to jena_stacked_gru_dropout.keras\n",
            "399/819 [=============>................] - ETA: 4:38 - loss: 12.7024 - mae: 2.7652\n",
            "Epoch 1: saving model to jena_stacked_gru_dropout.keras\n",
            "400/819 [=============>................] - ETA: 4:37 - loss: 12.7006 - mae: 2.7650\n",
            "Epoch 1: saving model to jena_stacked_gru_dropout.keras\n",
            "401/819 [=============>................] - ETA: 4:37 - loss: 12.6976 - mae: 2.7647\n",
            "Epoch 1: saving model to jena_stacked_gru_dropout.keras\n",
            "402/819 [=============>................] - ETA: 4:37 - loss: 12.6937 - mae: 2.7642\n",
            "Epoch 1: saving model to jena_stacked_gru_dropout.keras\n",
            "403/819 [=============>................] - ETA: 4:36 - loss: 12.6912 - mae: 2.7638\n",
            "Epoch 1: saving model to jena_stacked_gru_dropout.keras\n",
            "404/819 [=============>................] - ETA: 4:35 - loss: 12.6975 - mae: 2.7646\n",
            "Epoch 1: saving model to jena_stacked_gru_dropout.keras\n",
            "405/819 [=============>................] - ETA: 4:35 - loss: 12.6968 - mae: 2.7642\n",
            "Epoch 1: saving model to jena_stacked_gru_dropout.keras\n",
            "406/819 [=============>................] - ETA: 4:34 - loss: 12.6992 - mae: 2.7645\n",
            "Epoch 1: saving model to jena_stacked_gru_dropout.keras\n",
            "407/819 [=============>................] - ETA: 4:33 - loss: 12.6962 - mae: 2.7642\n",
            "Epoch 1: saving model to jena_stacked_gru_dropout.keras\n",
            "408/819 [=============>................] - ETA: 4:32 - loss: 12.6930 - mae: 2.7639\n",
            "Epoch 1: saving model to jena_stacked_gru_dropout.keras\n",
            "409/819 [=============>................] - ETA: 4:32 - loss: 12.6934 - mae: 2.7638\n",
            "Epoch 1: saving model to jena_stacked_gru_dropout.keras\n",
            "410/819 [==============>...............] - ETA: 4:31 - loss: 12.6952 - mae: 2.7644\n",
            "Epoch 1: saving model to jena_stacked_gru_dropout.keras\n",
            "411/819 [==============>...............] - ETA: 4:30 - loss: 12.6889 - mae: 2.7636\n",
            "Epoch 1: saving model to jena_stacked_gru_dropout.keras\n",
            "412/819 [==============>...............] - ETA: 4:29 - loss: 12.6900 - mae: 2.7638\n",
            "Epoch 1: saving model to jena_stacked_gru_dropout.keras\n",
            "413/819 [==============>...............] - ETA: 4:29 - loss: 12.6865 - mae: 2.7634\n",
            "Epoch 1: saving model to jena_stacked_gru_dropout.keras\n",
            "414/819 [==============>...............] - ETA: 4:28 - loss: 12.6817 - mae: 2.7630\n",
            "Epoch 1: saving model to jena_stacked_gru_dropout.keras\n",
            "415/819 [==============>...............] - ETA: 4:27 - loss: 12.6807 - mae: 2.7629\n",
            "Epoch 1: saving model to jena_stacked_gru_dropout.keras\n",
            "416/819 [==============>...............] - ETA: 4:26 - loss: 12.6830 - mae: 2.7636\n",
            "Epoch 1: saving model to jena_stacked_gru_dropout.keras\n",
            "417/819 [==============>...............] - ETA: 4:26 - loss: 12.6845 - mae: 2.7637\n",
            "Epoch 1: saving model to jena_stacked_gru_dropout.keras\n",
            "418/819 [==============>...............] - ETA: 4:25 - loss: 12.6979 - mae: 2.7647\n",
            "Epoch 1: saving model to jena_stacked_gru_dropout.keras\n",
            "419/819 [==============>...............] - ETA: 4:24 - loss: 12.6978 - mae: 2.7647\n",
            "Epoch 1: saving model to jena_stacked_gru_dropout.keras\n",
            "420/819 [==============>...............] - ETA: 4:24 - loss: 12.6999 - mae: 2.7647\n",
            "Epoch 1: saving model to jena_stacked_gru_dropout.keras\n",
            "421/819 [==============>...............] - ETA: 4:23 - loss: 12.7033 - mae: 2.7652\n",
            "Epoch 1: saving model to jena_stacked_gru_dropout.keras\n",
            "422/819 [==============>...............] - ETA: 4:23 - loss: 12.7067 - mae: 2.7656\n",
            "Epoch 1: saving model to jena_stacked_gru_dropout.keras\n",
            "423/819 [==============>...............] - ETA: 4:23 - loss: 12.7067 - mae: 2.7657\n",
            "Epoch 1: saving model to jena_stacked_gru_dropout.keras\n",
            "424/819 [==============>...............] - ETA: 4:22 - loss: 12.6993 - mae: 2.7650\n",
            "Epoch 1: saving model to jena_stacked_gru_dropout.keras\n",
            "425/819 [==============>...............] - ETA: 4:21 - loss: 12.6984 - mae: 2.7648\n",
            "Epoch 1: saving model to jena_stacked_gru_dropout.keras\n",
            "426/819 [==============>...............] - ETA: 4:20 - loss: 12.6971 - mae: 2.7645\n",
            "Epoch 1: saving model to jena_stacked_gru_dropout.keras\n",
            "427/819 [==============>...............] - ETA: 4:20 - loss: 12.7002 - mae: 2.7649\n",
            "Epoch 1: saving model to jena_stacked_gru_dropout.keras\n",
            "428/819 [==============>...............] - ETA: 4:19 - loss: 12.6931 - mae: 2.7642\n",
            "Epoch 1: saving model to jena_stacked_gru_dropout.keras\n",
            "429/819 [==============>...............] - ETA: 4:18 - loss: 12.6911 - mae: 2.7638\n",
            "Epoch 1: saving model to jena_stacked_gru_dropout.keras\n",
            "430/819 [==============>...............] - ETA: 4:17 - loss: 12.6903 - mae: 2.7639\n",
            "Epoch 1: saving model to jena_stacked_gru_dropout.keras\n",
            "431/819 [==============>...............] - ETA: 4:17 - loss: 12.6928 - mae: 2.7642\n",
            "Epoch 1: saving model to jena_stacked_gru_dropout.keras\n",
            "432/819 [==============>...............] - ETA: 4:16 - loss: 12.6946 - mae: 2.7643\n",
            "Epoch 1: saving model to jena_stacked_gru_dropout.keras\n",
            "433/819 [==============>...............] - ETA: 4:15 - loss: 12.6923 - mae: 2.7640\n",
            "Epoch 1: saving model to jena_stacked_gru_dropout.keras\n",
            "434/819 [==============>...............] - ETA: 4:14 - loss: 12.6922 - mae: 2.7640\n",
            "Epoch 1: saving model to jena_stacked_gru_dropout.keras\n",
            "435/819 [==============>...............] - ETA: 4:14 - loss: 12.6928 - mae: 2.7641\n",
            "Epoch 1: saving model to jena_stacked_gru_dropout.keras\n",
            "436/819 [==============>...............] - ETA: 4:13 - loss: 12.6887 - mae: 2.7639\n",
            "Epoch 1: saving model to jena_stacked_gru_dropout.keras\n",
            "437/819 [===============>..............] - ETA: 4:12 - loss: 12.6904 - mae: 2.7642\n",
            "Epoch 1: saving model to jena_stacked_gru_dropout.keras\n",
            "438/819 [===============>..............] - ETA: 4:11 - loss: 12.6875 - mae: 2.7639\n",
            "Epoch 1: saving model to jena_stacked_gru_dropout.keras\n",
            "439/819 [===============>..............] - ETA: 4:11 - loss: 12.6850 - mae: 2.7635\n",
            "Epoch 1: saving model to jena_stacked_gru_dropout.keras\n",
            "440/819 [===============>..............] - ETA: 4:10 - loss: 12.6829 - mae: 2.7634\n",
            "Epoch 1: saving model to jena_stacked_gru_dropout.keras\n",
            "441/819 [===============>..............] - ETA: 4:10 - loss: 12.6807 - mae: 2.7631\n",
            "Epoch 1: saving model to jena_stacked_gru_dropout.keras\n",
            "442/819 [===============>..............] - ETA: 4:09 - loss: 12.6805 - mae: 2.7631\n",
            "Epoch 1: saving model to jena_stacked_gru_dropout.keras\n",
            "443/819 [===============>..............] - ETA: 4:09 - loss: 12.6857 - mae: 2.7636\n",
            "Epoch 1: saving model to jena_stacked_gru_dropout.keras\n",
            "444/819 [===============>..............] - ETA: 4:08 - loss: 12.6860 - mae: 2.7632\n",
            "Epoch 1: saving model to jena_stacked_gru_dropout.keras\n",
            "445/819 [===============>..............] - ETA: 4:07 - loss: 12.6859 - mae: 2.7632\n",
            "Epoch 1: saving model to jena_stacked_gru_dropout.keras\n",
            "446/819 [===============>..............] - ETA: 4:07 - loss: 12.6923 - mae: 2.7638\n",
            "Epoch 1: saving model to jena_stacked_gru_dropout.keras\n",
            "447/819 [===============>..............] - ETA: 4:06 - loss: 12.6908 - mae: 2.7637\n",
            "Epoch 1: saving model to jena_stacked_gru_dropout.keras\n",
            "448/819 [===============>..............] - ETA: 4:05 - loss: 12.6908 - mae: 2.7637\n",
            "Epoch 1: saving model to jena_stacked_gru_dropout.keras\n",
            "449/819 [===============>..............] - ETA: 4:04 - loss: 12.6944 - mae: 2.7642\n",
            "Epoch 1: saving model to jena_stacked_gru_dropout.keras\n",
            "450/819 [===============>..............] - ETA: 4:04 - loss: 12.6978 - mae: 2.7647\n",
            "Epoch 1: saving model to jena_stacked_gru_dropout.keras\n",
            "451/819 [===============>..............] - ETA: 4:03 - loss: 12.7022 - mae: 2.7650\n",
            "Epoch 1: saving model to jena_stacked_gru_dropout.keras\n",
            "452/819 [===============>..............] - ETA: 4:02 - loss: 12.7014 - mae: 2.7648\n",
            "Epoch 1: saving model to jena_stacked_gru_dropout.keras\n",
            "453/819 [===============>..............] - ETA: 4:02 - loss: 12.7029 - mae: 2.7647\n",
            "Epoch 1: saving model to jena_stacked_gru_dropout.keras\n",
            "454/819 [===============>..............] - ETA: 4:01 - loss: 12.7033 - mae: 2.7647\n",
            "Epoch 1: saving model to jena_stacked_gru_dropout.keras\n",
            "455/819 [===============>..............] - ETA: 4:00 - loss: 12.7023 - mae: 2.7645\n",
            "Epoch 1: saving model to jena_stacked_gru_dropout.keras\n",
            "456/819 [===============>..............] - ETA: 3:59 - loss: 12.7052 - mae: 2.7647\n",
            "Epoch 1: saving model to jena_stacked_gru_dropout.keras\n",
            "457/819 [===============>..............] - ETA: 3:59 - loss: 12.7050 - mae: 2.7647\n",
            "Epoch 1: saving model to jena_stacked_gru_dropout.keras\n",
            "458/819 [===============>..............] - ETA: 3:58 - loss: 12.7048 - mae: 2.7648\n",
            "Epoch 1: saving model to jena_stacked_gru_dropout.keras\n",
            "459/819 [===============>..............] - ETA: 3:57 - loss: 12.7093 - mae: 2.7653\n",
            "Epoch 1: saving model to jena_stacked_gru_dropout.keras\n",
            "460/819 [===============>..............] - ETA: 3:56 - loss: 12.7048 - mae: 2.7649\n",
            "Epoch 1: saving model to jena_stacked_gru_dropout.keras\n",
            "461/819 [===============>..............] - ETA: 3:56 - loss: 12.7040 - mae: 2.7648\n",
            "Epoch 1: saving model to jena_stacked_gru_dropout.keras\n",
            "462/819 [===============>..............] - ETA: 3:56 - loss: 12.7099 - mae: 2.7654\n",
            "Epoch 1: saving model to jena_stacked_gru_dropout.keras\n",
            "463/819 [===============>..............] - ETA: 3:55 - loss: 12.7112 - mae: 2.7654\n",
            "Epoch 1: saving model to jena_stacked_gru_dropout.keras\n",
            "464/819 [===============>..............] - ETA: 3:55 - loss: 12.7112 - mae: 2.7654\n",
            "Epoch 1: saving model to jena_stacked_gru_dropout.keras\n",
            "465/819 [================>.............] - ETA: 3:54 - loss: 12.7070 - mae: 2.7650\n",
            "Epoch 1: saving model to jena_stacked_gru_dropout.keras\n",
            "466/819 [================>.............] - ETA: 3:53 - loss: 12.7025 - mae: 2.7644\n",
            "Epoch 1: saving model to jena_stacked_gru_dropout.keras\n",
            "467/819 [================>.............] - ETA: 3:52 - loss: 12.7046 - mae: 2.7647\n",
            "Epoch 1: saving model to jena_stacked_gru_dropout.keras\n",
            "468/819 [================>.............] - ETA: 3:52 - loss: 12.7058 - mae: 2.7648\n",
            "Epoch 1: saving model to jena_stacked_gru_dropout.keras\n",
            "469/819 [================>.............] - ETA: 3:51 - loss: 12.7070 - mae: 2.7649\n",
            "Epoch 1: saving model to jena_stacked_gru_dropout.keras\n",
            "470/819 [================>.............] - ETA: 3:50 - loss: 12.7070 - mae: 2.7650\n",
            "Epoch 1: saving model to jena_stacked_gru_dropout.keras\n",
            "471/819 [================>.............] - ETA: 3:50 - loss: 12.7035 - mae: 2.7647\n",
            "Epoch 1: saving model to jena_stacked_gru_dropout.keras\n",
            "472/819 [================>.............] - ETA: 3:49 - loss: 12.7031 - mae: 2.7645\n",
            "Epoch 1: saving model to jena_stacked_gru_dropout.keras\n",
            "473/819 [================>.............] - ETA: 3:48 - loss: 12.6977 - mae: 2.7638\n",
            "Epoch 1: saving model to jena_stacked_gru_dropout.keras\n",
            "474/819 [================>.............] - ETA: 3:47 - loss: 12.7006 - mae: 2.7638\n",
            "Epoch 1: saving model to jena_stacked_gru_dropout.keras\n",
            "475/819 [================>.............] - ETA: 3:47 - loss: 12.7022 - mae: 2.7640\n",
            "Epoch 1: saving model to jena_stacked_gru_dropout.keras\n",
            "476/819 [================>.............] - ETA: 3:46 - loss: 12.7041 - mae: 2.7642\n",
            "Epoch 1: saving model to jena_stacked_gru_dropout.keras\n",
            "477/819 [================>.............] - ETA: 3:45 - loss: 12.7049 - mae: 2.7642\n",
            "Epoch 1: saving model to jena_stacked_gru_dropout.keras\n",
            "478/819 [================>.............] - ETA: 3:45 - loss: 12.7054 - mae: 2.7645\n",
            "Epoch 1: saving model to jena_stacked_gru_dropout.keras\n",
            "479/819 [================>.............] - ETA: 3:44 - loss: 12.7046 - mae: 2.7645\n",
            "Epoch 1: saving model to jena_stacked_gru_dropout.keras\n",
            "480/819 [================>.............] - ETA: 3:43 - loss: 12.7027 - mae: 2.7640\n",
            "Epoch 1: saving model to jena_stacked_gru_dropout.keras\n",
            "481/819 [================>.............] - ETA: 3:43 - loss: 12.7012 - mae: 2.7638\n",
            "Epoch 1: saving model to jena_stacked_gru_dropout.keras\n",
            "482/819 [================>.............] - ETA: 3:42 - loss: 12.6997 - mae: 2.7637\n",
            "Epoch 1: saving model to jena_stacked_gru_dropout.keras\n",
            "483/819 [================>.............] - ETA: 3:42 - loss: 12.6977 - mae: 2.7634\n",
            "Epoch 1: saving model to jena_stacked_gru_dropout.keras\n",
            "484/819 [================>.............] - ETA: 3:41 - loss: 12.6978 - mae: 2.7634\n",
            "Epoch 1: saving model to jena_stacked_gru_dropout.keras\n",
            "485/819 [================>.............] - ETA: 3:40 - loss: 12.6949 - mae: 2.7631\n",
            "Epoch 1: saving model to jena_stacked_gru_dropout.keras\n",
            "486/819 [================>.............] - ETA: 3:40 - loss: 12.6956 - mae: 2.7632\n",
            "Epoch 1: saving model to jena_stacked_gru_dropout.keras\n",
            "487/819 [================>.............] - ETA: 3:39 - loss: 12.6984 - mae: 2.7633\n",
            "Epoch 1: saving model to jena_stacked_gru_dropout.keras\n",
            "488/819 [================>.............] - ETA: 3:38 - loss: 12.7004 - mae: 2.7633\n",
            "Epoch 1: saving model to jena_stacked_gru_dropout.keras\n",
            "489/819 [================>.............] - ETA: 3:38 - loss: 12.7033 - mae: 2.7636\n",
            "Epoch 1: saving model to jena_stacked_gru_dropout.keras\n",
            "490/819 [================>.............] - ETA: 3:37 - loss: 12.7053 - mae: 2.7638\n",
            "Epoch 1: saving model to jena_stacked_gru_dropout.keras\n",
            "491/819 [================>.............] - ETA: 3:36 - loss: 12.7041 - mae: 2.7637\n",
            "Epoch 1: saving model to jena_stacked_gru_dropout.keras\n",
            "492/819 [=================>............] - ETA: 3:36 - loss: 12.7016 - mae: 2.7635\n",
            "Epoch 1: saving model to jena_stacked_gru_dropout.keras\n",
            "493/819 [=================>............] - ETA: 3:35 - loss: 12.7019 - mae: 2.7635\n",
            "Epoch 1: saving model to jena_stacked_gru_dropout.keras\n",
            "494/819 [=================>............] - ETA: 3:34 - loss: 12.6976 - mae: 2.7631\n",
            "Epoch 1: saving model to jena_stacked_gru_dropout.keras\n",
            "495/819 [=================>............] - ETA: 3:33 - loss: 12.6987 - mae: 2.7633\n",
            "Epoch 1: saving model to jena_stacked_gru_dropout.keras\n",
            "496/819 [=================>............] - ETA: 3:33 - loss: 12.6981 - mae: 2.7632\n",
            "Epoch 1: saving model to jena_stacked_gru_dropout.keras\n",
            "497/819 [=================>............] - ETA: 3:32 - loss: 12.6998 - mae: 2.7634\n",
            "Epoch 1: saving model to jena_stacked_gru_dropout.keras\n",
            "498/819 [=================>............] - ETA: 3:31 - loss: 12.7009 - mae: 2.7635\n",
            "Epoch 1: saving model to jena_stacked_gru_dropout.keras\n",
            "499/819 [=================>............] - ETA: 3:31 - loss: 12.7021 - mae: 2.7635\n",
            "Epoch 1: saving model to jena_stacked_gru_dropout.keras\n",
            "500/819 [=================>............] - ETA: 3:30 - loss: 12.7014 - mae: 2.7633\n",
            "Epoch 1: saving model to jena_stacked_gru_dropout.keras\n",
            "501/819 [=================>............] - ETA: 3:29 - loss: 12.7035 - mae: 2.7637\n",
            "Epoch 1: saving model to jena_stacked_gru_dropout.keras\n",
            "502/819 [=================>............] - ETA: 3:29 - loss: 12.7027 - mae: 2.7635\n",
            "Epoch 1: saving model to jena_stacked_gru_dropout.keras\n",
            "503/819 [=================>............] - ETA: 3:29 - loss: 12.7041 - mae: 2.7635\n",
            "Epoch 1: saving model to jena_stacked_gru_dropout.keras\n",
            "504/819 [=================>............] - ETA: 3:28 - loss: 12.7043 - mae: 2.7635\n",
            "Epoch 1: saving model to jena_stacked_gru_dropout.keras\n",
            "505/819 [=================>............] - ETA: 3:27 - loss: 12.7026 - mae: 2.7635\n",
            "Epoch 1: saving model to jena_stacked_gru_dropout.keras\n",
            "506/819 [=================>............] - ETA: 3:26 - loss: 12.7059 - mae: 2.7638\n",
            "Epoch 1: saving model to jena_stacked_gru_dropout.keras\n",
            "507/819 [=================>............] - ETA: 3:26 - loss: 12.7037 - mae: 2.7633\n",
            "Epoch 1: saving model to jena_stacked_gru_dropout.keras\n",
            "508/819 [=================>............] - ETA: 3:25 - loss: 12.7024 - mae: 2.7632\n",
            "Epoch 1: saving model to jena_stacked_gru_dropout.keras\n",
            "509/819 [=================>............] - ETA: 3:24 - loss: 12.6996 - mae: 2.7629\n",
            "Epoch 1: saving model to jena_stacked_gru_dropout.keras\n",
            "510/819 [=================>............] - ETA: 3:24 - loss: 12.7027 - mae: 2.7632\n",
            "Epoch 1: saving model to jena_stacked_gru_dropout.keras\n",
            "511/819 [=================>............] - ETA: 3:23 - loss: 12.7062 - mae: 2.7637\n",
            "Epoch 1: saving model to jena_stacked_gru_dropout.keras\n",
            "512/819 [=================>............] - ETA: 3:22 - loss: 12.7062 - mae: 2.7638\n",
            "Epoch 1: saving model to jena_stacked_gru_dropout.keras\n",
            "513/819 [=================>............] - ETA: 3:21 - loss: 12.7013 - mae: 2.7631\n",
            "Epoch 1: saving model to jena_stacked_gru_dropout.keras\n",
            "514/819 [=================>............] - ETA: 3:21 - loss: 12.6980 - mae: 2.7627\n",
            "Epoch 1: saving model to jena_stacked_gru_dropout.keras\n",
            "515/819 [=================>............] - ETA: 3:20 - loss: 12.6968 - mae: 2.7625\n",
            "Epoch 1: saving model to jena_stacked_gru_dropout.keras\n",
            "516/819 [=================>............] - ETA: 3:19 - loss: 12.7002 - mae: 2.7629\n",
            "Epoch 1: saving model to jena_stacked_gru_dropout.keras\n",
            "517/819 [=================>............] - ETA: 3:19 - loss: 12.7019 - mae: 2.7630\n",
            "Epoch 1: saving model to jena_stacked_gru_dropout.keras\n",
            "518/819 [=================>............] - ETA: 3:18 - loss: 12.7013 - mae: 2.7631\n",
            "Epoch 1: saving model to jena_stacked_gru_dropout.keras\n",
            "519/819 [==================>...........] - ETA: 3:17 - loss: 12.7002 - mae: 2.7630\n",
            "Epoch 1: saving model to jena_stacked_gru_dropout.keras\n",
            "520/819 [==================>...........] - ETA: 3:17 - loss: 12.6957 - mae: 2.7625\n",
            "Epoch 1: saving model to jena_stacked_gru_dropout.keras\n",
            "521/819 [==================>...........] - ETA: 3:16 - loss: 12.6954 - mae: 2.7624\n",
            "Epoch 1: saving model to jena_stacked_gru_dropout.keras\n",
            "522/819 [==================>...........] - ETA: 3:16 - loss: 12.6958 - mae: 2.7623\n",
            "Epoch 1: saving model to jena_stacked_gru_dropout.keras\n",
            "523/819 [==================>...........] - ETA: 3:15 - loss: 12.6959 - mae: 2.7622\n",
            "Epoch 1: saving model to jena_stacked_gru_dropout.keras\n",
            "524/819 [==================>...........] - ETA: 3:15 - loss: 12.6917 - mae: 2.7617\n",
            "Epoch 1: saving model to jena_stacked_gru_dropout.keras\n",
            "525/819 [==================>...........] - ETA: 3:14 - loss: 12.6911 - mae: 2.7617\n",
            "Epoch 1: saving model to jena_stacked_gru_dropout.keras\n",
            "526/819 [==================>...........] - ETA: 3:13 - loss: 12.6923 - mae: 2.7619\n",
            "Epoch 1: saving model to jena_stacked_gru_dropout.keras\n",
            "527/819 [==================>...........] - ETA: 3:12 - loss: 12.6890 - mae: 2.7617\n",
            "Epoch 1: saving model to jena_stacked_gru_dropout.keras\n",
            "528/819 [==================>...........] - ETA: 3:12 - loss: 12.6858 - mae: 2.7612\n",
            "Epoch 1: saving model to jena_stacked_gru_dropout.keras\n",
            "529/819 [==================>...........] - ETA: 3:11 - loss: 12.6857 - mae: 2.7613\n",
            "Epoch 1: saving model to jena_stacked_gru_dropout.keras\n",
            "530/819 [==================>...........] - ETA: 3:10 - loss: 12.6916 - mae: 2.7620\n",
            "Epoch 1: saving model to jena_stacked_gru_dropout.keras\n",
            "531/819 [==================>...........] - ETA: 3:10 - loss: 12.6916 - mae: 2.7620\n",
            "Epoch 1: saving model to jena_stacked_gru_dropout.keras\n",
            "532/819 [==================>...........] - ETA: 3:09 - loss: 12.6878 - mae: 2.7617\n",
            "Epoch 1: saving model to jena_stacked_gru_dropout.keras\n",
            "533/819 [==================>...........] - ETA: 3:08 - loss: 12.6849 - mae: 2.7614\n",
            "Epoch 1: saving model to jena_stacked_gru_dropout.keras\n",
            "534/819 [==================>...........] - ETA: 3:08 - loss: 12.6840 - mae: 2.7614\n",
            "Epoch 1: saving model to jena_stacked_gru_dropout.keras\n",
            "535/819 [==================>...........] - ETA: 3:08 - loss: 12.6843 - mae: 2.7614\n",
            "Epoch 1: saving model to jena_stacked_gru_dropout.keras\n",
            "536/819 [==================>...........] - ETA: 3:07 - loss: 12.6848 - mae: 2.7614\n",
            "Epoch 1: saving model to jena_stacked_gru_dropout.keras\n",
            "537/819 [==================>...........] - ETA: 3:06 - loss: 12.6896 - mae: 2.7617\n",
            "Epoch 1: saving model to jena_stacked_gru_dropout.keras\n",
            "538/819 [==================>...........] - ETA: 3:06 - loss: 12.6879 - mae: 2.7616\n",
            "Epoch 1: saving model to jena_stacked_gru_dropout.keras\n",
            "539/819 [==================>...........] - ETA: 3:05 - loss: 12.6885 - mae: 2.7615\n",
            "Epoch 1: saving model to jena_stacked_gru_dropout.keras\n",
            "540/819 [==================>...........] - ETA: 3:05 - loss: 12.6896 - mae: 2.7616\n",
            "Epoch 1: saving model to jena_stacked_gru_dropout.keras\n",
            "541/819 [==================>...........] - ETA: 3:04 - loss: 12.6882 - mae: 2.7614\n",
            "Epoch 1: saving model to jena_stacked_gru_dropout.keras\n",
            "542/819 [==================>...........] - ETA: 3:03 - loss: 12.6862 - mae: 2.7611\n",
            "Epoch 1: saving model to jena_stacked_gru_dropout.keras\n",
            "543/819 [==================>...........] - ETA: 3:03 - loss: 12.6859 - mae: 2.7610\n",
            "Epoch 1: saving model to jena_stacked_gru_dropout.keras\n",
            "544/819 [==================>...........] - ETA: 3:02 - loss: 12.6880 - mae: 2.7612\n",
            "Epoch 1: saving model to jena_stacked_gru_dropout.keras\n",
            "545/819 [==================>...........] - ETA: 3:01 - loss: 12.6876 - mae: 2.7613\n",
            "Epoch 1: saving model to jena_stacked_gru_dropout.keras\n",
            "546/819 [===================>..........] - ETA: 3:01 - loss: 12.6863 - mae: 2.7611\n",
            "Epoch 1: saving model to jena_stacked_gru_dropout.keras\n",
            "547/819 [===================>..........] - ETA: 3:00 - loss: 12.6824 - mae: 2.7608\n",
            "Epoch 1: saving model to jena_stacked_gru_dropout.keras\n",
            "548/819 [===================>..........] - ETA: 2:59 - loss: 12.6840 - mae: 2.7610\n",
            "Epoch 1: saving model to jena_stacked_gru_dropout.keras\n",
            "549/819 [===================>..........] - ETA: 2:59 - loss: 12.6894 - mae: 2.7616\n",
            "Epoch 1: saving model to jena_stacked_gru_dropout.keras\n",
            "550/819 [===================>..........] - ETA: 2:58 - loss: 12.6920 - mae: 2.7618\n",
            "Epoch 1: saving model to jena_stacked_gru_dropout.keras\n",
            "551/819 [===================>..........] - ETA: 2:57 - loss: 12.6908 - mae: 2.7617\n",
            "Epoch 1: saving model to jena_stacked_gru_dropout.keras\n",
            "552/819 [===================>..........] - ETA: 2:56 - loss: 12.6902 - mae: 2.7616\n",
            "Epoch 1: saving model to jena_stacked_gru_dropout.keras\n",
            "553/819 [===================>..........] - ETA: 2:56 - loss: 12.6865 - mae: 2.7610\n",
            "Epoch 1: saving model to jena_stacked_gru_dropout.keras\n",
            "554/819 [===================>..........] - ETA: 2:55 - loss: 12.6889 - mae: 2.7613\n",
            "Epoch 1: saving model to jena_stacked_gru_dropout.keras\n",
            "555/819 [===================>..........] - ETA: 2:54 - loss: 12.6906 - mae: 2.7615\n",
            "Epoch 1: saving model to jena_stacked_gru_dropout.keras\n",
            "556/819 [===================>..........] - ETA: 2:54 - loss: 12.6887 - mae: 2.7613\n",
            "Epoch 1: saving model to jena_stacked_gru_dropout.keras\n",
            "557/819 [===================>..........] - ETA: 2:53 - loss: 12.6920 - mae: 2.7616\n",
            "Epoch 1: saving model to jena_stacked_gru_dropout.keras\n",
            "558/819 [===================>..........] - ETA: 2:52 - loss: 12.6909 - mae: 2.7614\n",
            "Epoch 1: saving model to jena_stacked_gru_dropout.keras\n",
            "559/819 [===================>..........] - ETA: 2:52 - loss: 12.6928 - mae: 2.7616\n",
            "Epoch 1: saving model to jena_stacked_gru_dropout.keras\n",
            "560/819 [===================>..........] - ETA: 2:51 - loss: 12.6921 - mae: 2.7616\n",
            "Epoch 1: saving model to jena_stacked_gru_dropout.keras\n",
            "561/819 [===================>..........] - ETA: 2:51 - loss: 12.6930 - mae: 2.7616\n",
            "Epoch 1: saving model to jena_stacked_gru_dropout.keras\n",
            "562/819 [===================>..........] - ETA: 2:50 - loss: 12.6981 - mae: 2.7622\n",
            "Epoch 1: saving model to jena_stacked_gru_dropout.keras\n",
            "563/819 [===================>..........] - ETA: 2:49 - loss: 12.6985 - mae: 2.7622\n",
            "Epoch 1: saving model to jena_stacked_gru_dropout.keras\n",
            "564/819 [===================>..........] - ETA: 2:49 - loss: 12.7016 - mae: 2.7626\n",
            "Epoch 1: saving model to jena_stacked_gru_dropout.keras\n",
            "565/819 [===================>..........] - ETA: 2:48 - loss: 12.6994 - mae: 2.7622\n",
            "Epoch 1: saving model to jena_stacked_gru_dropout.keras\n",
            "566/819 [===================>..........] - ETA: 2:47 - loss: 12.7005 - mae: 2.7622\n",
            "Epoch 1: saving model to jena_stacked_gru_dropout.keras\n",
            "567/819 [===================>..........] - ETA: 2:47 - loss: 12.7023 - mae: 2.7624\n",
            "Epoch 1: saving model to jena_stacked_gru_dropout.keras\n",
            "568/819 [===================>..........] - ETA: 2:46 - loss: 12.7033 - mae: 2.7625\n",
            "Epoch 1: saving model to jena_stacked_gru_dropout.keras\n",
            "569/819 [===================>..........] - ETA: 2:45 - loss: 12.7044 - mae: 2.7626\n",
            "Epoch 1: saving model to jena_stacked_gru_dropout.keras\n",
            "570/819 [===================>..........] - ETA: 2:44 - loss: 12.7048 - mae: 2.7625\n",
            "Epoch 1: saving model to jena_stacked_gru_dropout.keras\n",
            "571/819 [===================>..........] - ETA: 2:44 - loss: 12.7011 - mae: 2.7622\n",
            "Epoch 1: saving model to jena_stacked_gru_dropout.keras\n",
            "572/819 [===================>..........] - ETA: 2:43 - loss: 12.6967 - mae: 2.7618\n",
            "Epoch 1: saving model to jena_stacked_gru_dropout.keras\n",
            "573/819 [===================>..........] - ETA: 2:42 - loss: 12.6986 - mae: 2.7617\n",
            "Epoch 1: saving model to jena_stacked_gru_dropout.keras\n",
            "574/819 [====================>.........] - ETA: 2:42 - loss: 12.7011 - mae: 2.7622\n",
            "Epoch 1: saving model to jena_stacked_gru_dropout.keras\n",
            "575/819 [====================>.........] - ETA: 2:41 - loss: 12.7032 - mae: 2.7626\n",
            "Epoch 1: saving model to jena_stacked_gru_dropout.keras\n",
            "576/819 [====================>.........] - ETA: 2:40 - loss: 12.7025 - mae: 2.7624\n",
            "Epoch 1: saving model to jena_stacked_gru_dropout.keras\n",
            "577/819 [====================>.........] - ETA: 2:40 - loss: 12.7041 - mae: 2.7627\n",
            "Epoch 1: saving model to jena_stacked_gru_dropout.keras\n",
            "578/819 [====================>.........] - ETA: 2:39 - loss: 12.7099 - mae: 2.7634\n",
            "Epoch 1: saving model to jena_stacked_gru_dropout.keras\n",
            "579/819 [====================>.........] - ETA: 2:39 - loss: 12.7146 - mae: 2.7637\n",
            "Epoch 1: saving model to jena_stacked_gru_dropout.keras\n",
            "580/819 [====================>.........] - ETA: 2:38 - loss: 12.7146 - mae: 2.7639\n",
            "Epoch 1: saving model to jena_stacked_gru_dropout.keras\n",
            "581/819 [====================>.........] - ETA: 2:37 - loss: 12.7166 - mae: 2.7642\n",
            "Epoch 1: saving model to jena_stacked_gru_dropout.keras\n",
            "582/819 [====================>.........] - ETA: 2:37 - loss: 12.7183 - mae: 2.7644\n",
            "Epoch 1: saving model to jena_stacked_gru_dropout.keras\n",
            "583/819 [====================>.........] - ETA: 2:36 - loss: 12.7179 - mae: 2.7645\n",
            "Epoch 1: saving model to jena_stacked_gru_dropout.keras\n",
            "584/819 [====================>.........] - ETA: 2:35 - loss: 12.7219 - mae: 2.7649\n",
            "Epoch 1: saving model to jena_stacked_gru_dropout.keras\n",
            "585/819 [====================>.........] - ETA: 2:35 - loss: 12.7225 - mae: 2.7652\n",
            "Epoch 1: saving model to jena_stacked_gru_dropout.keras\n",
            "586/819 [====================>.........] - ETA: 2:34 - loss: 12.7230 - mae: 2.7652\n",
            "Epoch 1: saving model to jena_stacked_gru_dropout.keras\n",
            "587/819 [====================>.........] - ETA: 2:33 - loss: 12.7213 - mae: 2.7649\n",
            "Epoch 1: saving model to jena_stacked_gru_dropout.keras\n",
            "588/819 [====================>.........] - ETA: 2:33 - loss: 12.7213 - mae: 2.7648\n",
            "Epoch 1: saving model to jena_stacked_gru_dropout.keras\n",
            "589/819 [====================>.........] - ETA: 2:32 - loss: 12.7235 - mae: 2.7650\n",
            "Epoch 1: saving model to jena_stacked_gru_dropout.keras\n",
            "590/819 [====================>.........] - ETA: 2:31 - loss: 12.7235 - mae: 2.7649\n",
            "Epoch 1: saving model to jena_stacked_gru_dropout.keras\n",
            "591/819 [====================>.........] - ETA: 2:30 - loss: 12.7210 - mae: 2.7647\n",
            "Epoch 1: saving model to jena_stacked_gru_dropout.keras\n",
            "592/819 [====================>.........] - ETA: 2:30 - loss: 12.7168 - mae: 2.7642\n",
            "Epoch 1: saving model to jena_stacked_gru_dropout.keras\n",
            "593/819 [====================>.........] - ETA: 2:29 - loss: 12.7155 - mae: 2.7640\n",
            "Epoch 1: saving model to jena_stacked_gru_dropout.keras\n",
            "594/819 [====================>.........] - ETA: 2:28 - loss: 12.7144 - mae: 2.7639\n",
            "Epoch 1: saving model to jena_stacked_gru_dropout.keras\n",
            "595/819 [====================>.........] - ETA: 2:28 - loss: 12.7125 - mae: 2.7637\n",
            "Epoch 1: saving model to jena_stacked_gru_dropout.keras\n",
            "596/819 [====================>.........] - ETA: 2:27 - loss: 12.7124 - mae: 2.7638\n",
            "Epoch 1: saving model to jena_stacked_gru_dropout.keras\n",
            "597/819 [====================>.........] - ETA: 2:26 - loss: 12.7092 - mae: 2.7633\n",
            "Epoch 1: saving model to jena_stacked_gru_dropout.keras\n",
            "598/819 [====================>.........] - ETA: 2:26 - loss: 12.7080 - mae: 2.7632\n",
            "Epoch 1: saving model to jena_stacked_gru_dropout.keras\n",
            "599/819 [====================>.........] - ETA: 2:25 - loss: 12.7112 - mae: 2.7635\n",
            "Epoch 1: saving model to jena_stacked_gru_dropout.keras\n",
            "600/819 [====================>.........] - ETA: 2:25 - loss: 12.7120 - mae: 2.7636\n",
            "Epoch 1: saving model to jena_stacked_gru_dropout.keras\n",
            "601/819 [=====================>........] - ETA: 2:24 - loss: 12.7089 - mae: 2.7634\n",
            "Epoch 1: saving model to jena_stacked_gru_dropout.keras\n",
            "602/819 [=====================>........] - ETA: 2:23 - loss: 12.7080 - mae: 2.7633\n",
            "Epoch 1: saving model to jena_stacked_gru_dropout.keras\n",
            "603/819 [=====================>........] - ETA: 2:23 - loss: 12.7063 - mae: 2.7632\n",
            "Epoch 1: saving model to jena_stacked_gru_dropout.keras\n",
            "604/819 [=====================>........] - ETA: 2:22 - loss: 12.7097 - mae: 2.7635\n",
            "Epoch 1: saving model to jena_stacked_gru_dropout.keras\n",
            "605/819 [=====================>........] - ETA: 2:21 - loss: 12.7109 - mae: 2.7636\n",
            "Epoch 1: saving model to jena_stacked_gru_dropout.keras\n",
            "606/819 [=====================>........] - ETA: 2:21 - loss: 12.7130 - mae: 2.7638\n",
            "Epoch 1: saving model to jena_stacked_gru_dropout.keras\n",
            "607/819 [=====================>........] - ETA: 2:20 - loss: 12.7133 - mae: 2.7639\n",
            "Epoch 1: saving model to jena_stacked_gru_dropout.keras\n",
            "608/819 [=====================>........] - ETA: 2:19 - loss: 12.7164 - mae: 2.7640\n",
            "Epoch 1: saving model to jena_stacked_gru_dropout.keras\n",
            "609/819 [=====================>........] - ETA: 2:19 - loss: 12.7161 - mae: 2.7639\n",
            "Epoch 1: saving model to jena_stacked_gru_dropout.keras\n",
            "610/819 [=====================>........] - ETA: 2:18 - loss: 12.7137 - mae: 2.7638\n",
            "Epoch 1: saving model to jena_stacked_gru_dropout.keras\n",
            "611/819 [=====================>........] - ETA: 2:17 - loss: 12.7122 - mae: 2.7637\n",
            "Epoch 1: saving model to jena_stacked_gru_dropout.keras\n",
            "612/819 [=====================>........] - ETA: 2:16 - loss: 12.7132 - mae: 2.7639\n",
            "Epoch 1: saving model to jena_stacked_gru_dropout.keras\n",
            "613/819 [=====================>........] - ETA: 2:16 - loss: 12.7123 - mae: 2.7638\n",
            "Epoch 1: saving model to jena_stacked_gru_dropout.keras\n",
            "614/819 [=====================>........] - ETA: 2:15 - loss: 12.7170 - mae: 2.7644\n",
            "Epoch 1: saving model to jena_stacked_gru_dropout.keras\n",
            "615/819 [=====================>........] - ETA: 2:14 - loss: 12.7138 - mae: 2.7640\n",
            "Epoch 1: saving model to jena_stacked_gru_dropout.keras\n",
            "616/819 [=====================>........] - ETA: 2:14 - loss: 12.7105 - mae: 2.7637\n",
            "Epoch 1: saving model to jena_stacked_gru_dropout.keras\n",
            "617/819 [=====================>........] - ETA: 2:13 - loss: 12.7122 - mae: 2.7637\n",
            "Epoch 1: saving model to jena_stacked_gru_dropout.keras\n",
            "618/819 [=====================>........] - ETA: 2:12 - loss: 12.7147 - mae: 2.7639\n",
            "Epoch 1: saving model to jena_stacked_gru_dropout.keras\n",
            "619/819 [=====================>........] - ETA: 2:12 - loss: 12.7137 - mae: 2.7639\n",
            "Epoch 1: saving model to jena_stacked_gru_dropout.keras\n",
            "620/819 [=====================>........] - ETA: 2:11 - loss: 12.7140 - mae: 2.7640\n",
            "Epoch 1: saving model to jena_stacked_gru_dropout.keras\n",
            "621/819 [=====================>........] - ETA: 2:11 - loss: 12.7113 - mae: 2.7637\n",
            "Epoch 1: saving model to jena_stacked_gru_dropout.keras\n",
            "622/819 [=====================>........] - ETA: 2:10 - loss: 12.7093 - mae: 2.7636\n",
            "Epoch 1: saving model to jena_stacked_gru_dropout.keras\n",
            "623/819 [=====================>........] - ETA: 2:09 - loss: 12.7084 - mae: 2.7636\n",
            "Epoch 1: saving model to jena_stacked_gru_dropout.keras\n",
            "624/819 [=====================>........] - ETA: 2:09 - loss: 12.7073 - mae: 2.7635\n",
            "Epoch 1: saving model to jena_stacked_gru_dropout.keras\n",
            "625/819 [=====================>........] - ETA: 2:08 - loss: 12.7082 - mae: 2.7634\n",
            "Epoch 1: saving model to jena_stacked_gru_dropout.keras\n",
            "626/819 [=====================>........] - ETA: 2:07 - loss: 12.7087 - mae: 2.7633\n",
            "Epoch 1: saving model to jena_stacked_gru_dropout.keras\n",
            "627/819 [=====================>........] - ETA: 2:07 - loss: 12.7091 - mae: 2.7633\n",
            "Epoch 1: saving model to jena_stacked_gru_dropout.keras\n",
            "628/819 [======================>.......] - ETA: 2:06 - loss: 12.7093 - mae: 2.7632\n",
            "Epoch 1: saving model to jena_stacked_gru_dropout.keras\n",
            "629/819 [======================>.......] - ETA: 2:05 - loss: 12.7095 - mae: 2.7633"
          ]
        }
      ]
    },
    {
      "cell_type": "code",
      "source": [
        "model.load_weights(\"jena_stacked_gru_dropout.keras\")\n",
        "print(f\"Test MAE: {model.evaluate(test_dataset)[1]:.2f}\")"
      ],
      "metadata": {
        "id": "ZBTjG9-7u9eU",
        "outputId": "b8ea1728-ef12-4a4c-f01e-d7a541feb957",
        "colab": {
          "base_uri": "https://localhost:8080/"
        }
      },
      "execution_count": null,
      "outputs": [
        {
          "output_type": "stream",
          "name": "stdout",
          "text": [
            "405/405 [==============================] - 41s 100ms/step - loss: 9.9885 - mae: 2.4678\n",
            "Test MAE: 2.47\n"
          ]
        }
      ]
    },
    {
      "cell_type": "code",
      "source": [
        "model.summary()"
      ],
      "metadata": {
        "id": "vPQCuTRrw3wv",
        "outputId": "2509c0f5-df2b-413b-9fd1-507ba7ed2006",
        "colab": {
          "base_uri": "https://localhost:8080/"
        }
      },
      "execution_count": null,
      "outputs": [
        {
          "output_type": "stream",
          "name": "stdout",
          "text": [
            "Model: \"model_1\"\n",
            "_________________________________________________________________\n",
            " Layer (type)                Output Shape              Param #   \n",
            "=================================================================\n",
            " input_2 (InputLayer)        [(None, 120, 14)]         0         \n",
            "                                                                 \n",
            " gru (GRU)                   (None, 120, 32)           4608      \n",
            "                                                                 \n",
            " gru_1 (GRU)                 (None, 32)                6336      \n",
            "                                                                 \n",
            " dropout_1 (Dropout)         (None, 32)                0         \n",
            "                                                                 \n",
            " dense_1 (Dense)             (None, 1)                 33        \n",
            "                                                                 \n",
            "=================================================================\n",
            "Total params: 10977 (42.88 KB)\n",
            "Trainable params: 10977 (42.88 KB)\n",
            "Non-trainable params: 0 (0.00 Byte)\n",
            "_________________________________________________________________\n"
          ]
        }
      ]
    },
    {
      "cell_type": "markdown",
      "source": [
        "## Bidirectional RNNs\n",
        "We can use two recurrent layers to process the data in two direction instead of the same one. This technique allows the extraction of patterns that may be overlooked when looking only in one direction. This technique can be used in natural language processing (NLP) where the order of words in a sentence is not relevant. The technique cannot be used when it is known that the latest data provide better information to forecast the future, as in the case of the temperature."
      ],
      "metadata": {
        "id": "XPOdoEAYU4CA"
      }
    },
    {
      "cell_type": "code",
      "source": [
        "inputs = keras.Input(shape=(sequence_length, raw_data.shape[-1]))\n",
        "x = layers.Bidirectional(layers.LSTM(16))(inputs)\n",
        "outputs = layers.Dense(1)(x)\n",
        "model = keras.Model(inputs, outputs)\n",
        "model.compile(optimizer=\"rmsprop\", loss=\"mse\", metrics=[\"mae\"])\n",
        "history = model.fit(train_dataset, epochs=10, validation_data=val_dataset)"
      ],
      "metadata": {
        "id": "mVYRw_GkULp0"
      },
      "execution_count": null,
      "outputs": []
    }
  ]
}