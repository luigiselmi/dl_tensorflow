{
  "nbformat": 4,
  "nbformat_minor": 0,
  "metadata": {
    "colab": {
      "provenance": [],
      "gpuType": "T4",
      "authorship_tag": "ABX9TyP+mi6wyuJ+P62pSCMFkLzu",
      "include_colab_link": true
    },
    "kernelspec": {
      "name": "python3",
      "display_name": "Python 3"
    },
    "language_info": {
      "name": "python"
    },
    "accelerator": "GPU"
  },
  "cells": [
    {
      "cell_type": "markdown",
      "metadata": {
        "id": "view-in-github",
        "colab_type": "text"
      },
      "source": [
        "<a href=\"https://colab.research.google.com/github/luigiselmi/dl_tensorflow/blob/main/time_series.ipynb\" target=\"_parent\"><img src=\"https://colab.research.google.com/assets/colab-badge.svg\" alt=\"Open In Colab\"/></a>"
      ]
    },
    {
      "cell_type": "markdown",
      "source": [
        "# Deep Learning for Time Series\n",
        "A time series is a sequence of observations taken at regular time intervals. They can be used for tasks such as anomaly detection and classification but the most common use is forecasting. In this notebook we will use a time series from a [weather station](https://www.bgc-jena.mpg.de/wetter/) in Jena, Germany. The weather data has been collected since 1770 but we will use a smaller dataset collected between 2009 and 2016 every 10 minutes."
      ],
      "metadata": {
        "id": "nDe63MbJyxFa"
      }
    },
    {
      "cell_type": "code",
      "execution_count": null,
      "metadata": {
        "colab": {
          "base_uri": "https://localhost:8080/"
        },
        "id": "ZRCz3OGKys8l",
        "outputId": "8888891f-98a9-4351-dcf4-d0db3ceede37"
      },
      "outputs": [
        {
          "output_type": "stream",
          "name": "stdout",
          "text": [
            "--2024-06-26 16:22:56--  https://s3.amazonaws.com/keras-datasets/jena_climate_2009_2016.csv.zip\n",
            "Resolving s3.amazonaws.com (s3.amazonaws.com)... 52.216.9.141, 52.217.124.240, 54.231.228.216, ...\n",
            "Connecting to s3.amazonaws.com (s3.amazonaws.com)|52.216.9.141|:443... connected.\n",
            "HTTP request sent, awaiting response... 200 OK\n",
            "Length: 13565642 (13M) [application/zip]\n",
            "Saving to: ‘jena_climate_2009_2016.csv.zip’\n",
            "\n",
            "jena_climate_2009_2 100%[===================>]  12.94M  63.0MB/s    in 0.2s    \n",
            "\n",
            "2024-06-26 16:22:56 (63.0 MB/s) - ‘jena_climate_2009_2016.csv.zip’ saved [13565642/13565642]\n",
            "\n",
            "Archive:  jena_climate_2009_2016.csv.zip\n",
            "  inflating: jena_climate_2009_2016.csv  \n",
            "  inflating: __MACOSX/._jena_climate_2009_2016.csv  \n"
          ]
        }
      ],
      "source": [
        "!wget https://s3.amazonaws.com/keras-datasets/jena_climate_2009_2016.csv.zip\n",
        "!unzip jena_climate_2009_2016.csv.zip"
      ]
    },
    {
      "cell_type": "code",
      "source": [
        "import os\n",
        "import numpy as np\n",
        "from matplotlib import pyplot as plt\n",
        "#import matplotlib.pyplot as plt\n",
        "from tensorflow import keras\n",
        "from tensorflow.keras import layers"
      ],
      "metadata": {
        "id": "pNAnc6y74i5o"
      },
      "execution_count": 1,
      "outputs": []
    },
    {
      "cell_type": "code",
      "source": [
        "fname = os.path.join(\"jena_climate_2009_2016.csv\")\n",
        "with open(fname) as f:\n",
        "    data = f.read()"
      ],
      "metadata": {
        "id": "FVSjjGs72J7E"
      },
      "execution_count": 2,
      "outputs": []
    },
    {
      "cell_type": "markdown",
      "source": [
        "The dataset contains 420451 records of pressure, air temperature, humidity, and other meteorological variables."
      ],
      "metadata": {
        "id": "38nNqXic3j9v"
      }
    },
    {
      "cell_type": "code",
      "source": [
        "lines = data.split(\"\\n\")\n",
        "header = lines[0].split(\",\")\n",
        "record_0 = lines[1].split(\",\")\n",
        "lines = lines[1:]\n",
        "print(header)\n",
        "print(record_0)\n",
        "print(len(lines))"
      ],
      "metadata": {
        "colab": {
          "base_uri": "https://localhost:8080/"
        },
        "id": "6f3H-JWY2Zhd",
        "outputId": "07a66a29-e76a-445a-ee4c-30a47a841074"
      },
      "execution_count": 5,
      "outputs": [
        {
          "output_type": "stream",
          "name": "stdout",
          "text": [
            "['\"Date Time\"', '\"p (mbar)\"', '\"T (degC)\"', '\"Tpot (K)\"', '\"Tdew (degC)\"', '\"rh (%)\"', '\"VPmax (mbar)\"', '\"VPact (mbar)\"', '\"VPdef (mbar)\"', '\"sh (g/kg)\"', '\"H2OC (mmol/mol)\"', '\"rho (g/m**3)\"', '\"wv (m/s)\"', '\"max. wv (m/s)\"', '\"wd (deg)\"']\n",
            "['01.01.2009 00:10:00', '996.52', '-8.02', '265.40', '-8.90', '93.30', '3.33', '3.11', '0.22', '1.94', '3.12', '1307.75', '1.03', '1.75', '152.30']\n",
            "420451\n"
          ]
        }
      ]
    },
    {
      "cell_type": "markdown",
      "source": [
        "We create two NumPy arrays, one for the temperature values and one for the rest. The temperature values will be used as the target values of the forecasting task while the other parameters will be used as features to learn the function that links the parameters to the temperature\n",
        "\n",
        "$$T = f(pressure, humidity, wind,..)$$\n",
        "\n",
        "The model does not use the past values of temperature for the forecasts. This will probably reduce the skill of the model."
      ],
      "metadata": {
        "id": "ZXrG18YK3MnK"
      }
    },
    {
      "cell_type": "code",
      "source": [
        "temperature = np.zeros((len(lines),))\n",
        "raw_data = np.zeros((len(lines), len(header) - 1))\n",
        "for i, line in enumerate(lines):\n",
        "    values = [float(x) for x in line.split(\",\")[1:]]\n",
        "    temperature[i] = values[1]\n",
        "    raw_data[i, :] = values[:]"
      ],
      "metadata": {
        "id": "jdzDMv3a2evF"
      },
      "execution_count": 4,
      "outputs": []
    },
    {
      "cell_type": "code",
      "source": [
        "plt.plot(range(len(temperature)), temperature)"
      ],
      "metadata": {
        "colab": {
          "base_uri": "https://localhost:8080/",
          "height": 451
        },
        "id": "4YgyYvI-3AEO",
        "outputId": "64eb3fbb-bf4c-4403-d04a-f13c4d2a9af5"
      },
      "execution_count": 6,
      "outputs": [
        {
          "output_type": "execute_result",
          "data": {
            "text/plain": [
              "[<matplotlib.lines.Line2D at 0x7cd175acdff0>]"
            ]
          },
          "metadata": {},
          "execution_count": 6
        },
        {
          "output_type": "display_data",
          "data": {
            "text/plain": [
              "<Figure size 640x480 with 1 Axes>"
            ],
            "image/png": "[encoded data removed]"
          },
          "metadata": {}
        }
      ]
    },
    {
      "cell_type": "markdown",
      "source": [
        "We plot a smaller sample of the first 10 days. Since the data is collected every 10 minutes, there are 24 * 6 * 10 = 1440 data points"
      ],
      "metadata": {
        "id": "wIlhaHs159M1"
      }
    },
    {
      "cell_type": "code",
      "source": [
        "plt.plot(range(1440), temperature[:1440])"
      ],
      "metadata": {
        "colab": {
          "base_uri": "https://localhost:8080/",
          "height": 447
        },
        "id": "dMOa39wX4aur",
        "outputId": "f833c2da-1051-4c4e-b0ae-06489755e762"
      },
      "execution_count": 7,
      "outputs": [
        {
          "output_type": "execute_result",
          "data": {
            "text/plain": [
              "[<matplotlib.lines.Line2D at 0x7cd16f029690>]"
            ]
          },
          "metadata": {},
          "execution_count": 7
        },
        {
          "output_type": "display_data",
          "data": {
            "text/plain": [
              "<Figure size 640x480 with 1 Axes>"
            ],
            "image/png": "[encoded data removed]"
          },
          "metadata": {}
        }
      ]
    },
    {
      "cell_type": "markdown",
      "source": [
        "## The forecasting task\n",
        "We want to know wheter we can make a forecast of the temperature for the next 24 hours (lead time) given the records in the previous 5 days sampled every hour. We will use the first 50% of the data for training, the following 25% for validation and the last 25% for testing.    "
      ],
      "metadata": {
        "id": "5WkSbNkq8lKf"
      }
    },
    {
      "cell_type": "code",
      "source": [
        "num_train_samples = int(0.5 * len(raw_data))\n",
        "num_val_samples = int(0.25 * len(raw_data))\n",
        "num_test_samples = len(raw_data) - num_train_samples - num_val_samples\n",
        "print(\"num_train_samples:\", num_train_samples)\n",
        "print(\"num_val_samples:\", num_val_samples)\n",
        "print(\"num_test_samples:\", num_test_samples)"
      ],
      "metadata": {
        "colab": {
          "base_uri": "https://localhost:8080/"
        },
        "id": "i3mxhD9u57FT",
        "outputId": "ad0bb072-fa89-400d-87bc-d2ed0a9d4414"
      },
      "execution_count": 8,
      "outputs": [
        {
          "output_type": "stream",
          "name": "stdout",
          "text": [
            "num_train_samples: 210225\n",
            "num_val_samples: 105112\n",
            "num_test_samples: 105114\n"
          ]
        }
      ]
    },
    {
      "cell_type": "markdown",
      "source": [
        "Since the range of values of the variables is different we normalize the data by subtracting the mean and dividing by the standard deviation"
      ],
      "metadata": {
        "id": "mshD_J6p_H5m"
      }
    },
    {
      "cell_type": "code",
      "source": [
        "mean = raw_data[:num_train_samples].mean(axis=0)\n",
        "raw_data -= mean\n",
        "std = raw_data[:num_train_samples].std(axis=0)\n",
        "raw_data /= std"
      ],
      "metadata": {
        "id": "iJ9kMfFX73b5"
      },
      "execution_count": 9,
      "outputs": []
    },
    {
      "cell_type": "markdown",
      "source": [
        "### Data preparation\n",
        "In order to train a model for time series forecasting we have to sample our dataset, the observations. For example we want to use one observation every 6 since we assume the sequence is highly correlated. So we set the sampling rate to 6. Then we have to decide the length of the sequences for the training. For instance we may assume that 5 days of observations is enough to make a forecast for the next 24 hours. Therefore we set the length of the sequences to 5 x 24 = 120 observations. Finally we set the delay to extract the target sequence to be the same as the lead time we want our model to be able to forecast. So for each sequence extracted from the time series we can extract the target sequence just using a delay of the same length as the lead time. One last value we have to set is the number of sequences in a batch.  "
      ],
      "metadata": {
        "id": "1dpx366FDxat"
      }
    },
    {
      "cell_type": "code",
      "source": [
        "sampling_rate = 6\n",
        "sequence_length = 120\n",
        "delay = sampling_rate * (sequence_length + 24 - 1)\n",
        "batch_size = 256"
      ],
      "metadata": {
        "id": "8vub5Y_K_YEA"
      },
      "execution_count": 10,
      "outputs": []
    },
    {
      "cell_type": "markdown",
      "source": [
        "We use a function utility from keras to create the training and validation set and the test set."
      ],
      "metadata": {
        "id": "9EMnugQEInLu"
      }
    },
    {
      "cell_type": "code",
      "source": [
        "train_dataset = keras.utils.timeseries_dataset_from_array(\n",
        "                                                        raw_data[:-delay],\n",
        "                                                        targets=temperature[delay:],\n",
        "                                                        sampling_rate=sampling_rate,\n",
        "                                                        sequence_length=sequence_length,\n",
        "                                                        shuffle=True,\n",
        "                                                        batch_size=batch_size,\n",
        "                                                        start_index=0,\n",
        "                                                        end_index=num_train_samples)\n",
        "\n",
        "val_dataset = keras.utils.timeseries_dataset_from_array(\n",
        "                                                        raw_data[:-delay],\n",
        "                                                        targets=temperature[delay:],\n",
        "                                                        sampling_rate=sampling_rate,\n",
        "                                                        sequence_length=sequence_length,\n",
        "                                                        shuffle=True,\n",
        "                                                        batch_size=batch_size,\n",
        "                                                        start_index=num_train_samples,\n",
        "                                                        end_index=num_train_samples + num_val_samples)\n",
        "\n",
        "test_dataset = keras.utils.timeseries_dataset_from_array(\n",
        "                                                        raw_data[:-delay],\n",
        "                                                        targets=temperature[delay:],\n",
        "                                                        sampling_rate=sampling_rate,\n",
        "                                                        sequence_length=sequence_length,\n",
        "                                                        shuffle=True,\n",
        "                                                        batch_size=batch_size,\n",
        "                                                        start_index=num_train_samples + num_val_samples)"
      ],
      "metadata": {
        "id": "iTvngdpyIPbD"
      },
      "execution_count": 11,
      "outputs": []
    },
    {
      "cell_type": "markdown",
      "source": [
        "Our datasets are tuples of an input sequence of 120 data points and a target delayed temperature value. As said, the inputs are variables such as pressure, wind speed, humidity, and other meteorological variables. The sequences in each dataset are shuffled, that is their position in the dataset is random but the observations in each sequence are kept in the same order."
      ],
      "metadata": {
        "id": "ElWf4noCaBeQ"
      }
    },
    {
      "cell_type": "code",
      "source": [
        "for samples, targets in train_dataset:\n",
        "    print(\"samples shape:\", samples.shape)\n",
        "    print(\"targets shape:\", targets.shape)\n",
        "    break"
      ],
      "metadata": {
        "colab": {
          "base_uri": "https://localhost:8080/"
        },
        "id": "vky92H4mJPsC",
        "outputId": "59b8ccca-d3ba-47fe-8744-f88bd3af5108"
      },
      "execution_count": 12,
      "outputs": [
        {
          "output_type": "stream",
          "name": "stdout",
          "text": [
            "samples shape: (256, 120, 14)\n",
            "targets shape: (256,)\n"
          ]
        }
      ]
    },
    {
      "cell_type": "markdown",
      "source": [
        "## The baseline\n",
        "Before building our forecasting model we may want to build a simpler common-sense model, a baseline, to compare its skill against it. We assume our baseline model to always forecast the last temperature values for the next 24 hours. We can compute the mean absolute error (MAE) as the absolute difference between such predictions and the observations.  "
      ],
      "metadata": {
        "id": "SJRJ5uECkDZR"
      }
    },
    {
      "cell_type": "code",
      "source": [
        "def evaluate_naive_method(dataset):\n",
        "    total_abs_err = 0.\n",
        "    samples_seen = 0\n",
        "    for samples, targets in dataset:\n",
        "        preds = samples[:, -1, 1] * std[1] + mean[1] # invertion of the normalized data\n",
        "        total_abs_err += np.sum(np.abs(preds - targets))\n",
        "        samples_seen += samples.shape[0]\n",
        "    return total_abs_err / samples_seen"
      ],
      "metadata": {
        "id": "m17zieF2loBf"
      },
      "execution_count": null,
      "outputs": []
    },
    {
      "cell_type": "code",
      "source": [
        "print(f\"Validation MAE: {evaluate_naive_method(val_dataset):.2f}\")\n",
        "print(f\"Test MAE: {evaluate_naive_method(test_dataset):.2f}\")"
      ],
      "metadata": {
        "colab": {
          "base_uri": "https://localhost:8080/"
        },
        "id": "n-y_78Dklzcg",
        "outputId": "be15caa0-a14b-4f66-d386-9596ab8da31d"
      },
      "execution_count": null,
      "outputs": [
        {
          "output_type": "stream",
          "name": "stdout",
          "text": [
            "Validation MAE: 2.44\n",
            "Test MAE: 2.62\n"
          ]
        }
      ]
    },
    {
      "cell_type": "markdown",
      "source": [
        "## A simple shallow neural network model\n",
        "Before building a deep neural network we build another simple model based of a shallow neural network. We flatten the input data to compute the weights in the fully connected layer but this operation destroys the time order."
      ],
      "metadata": {
        "id": "DYAI0WueopIO"
      }
    },
    {
      "cell_type": "code",
      "source": [
        "inputs = keras.Input(shape=(sequence_length, raw_data.shape[-1]))\n",
        "x = layers.Flatten()(inputs)\n",
        "x = layers.Dense(16, activation=\"relu\")(x)\n",
        "outputs = layers.Dense(1)(x)\n",
        "model = keras.Model(inputs, outputs)"
      ],
      "metadata": {
        "id": "g09xZY-sl5Kv"
      },
      "execution_count": null,
      "outputs": []
    },
    {
      "cell_type": "code",
      "source": [
        "callbacks = [\n",
        "             keras.callbacks.ModelCheckpoint(\"jena_dense.keras\",\n",
        "             save_best_only=True)\n",
        "]\n",
        "\n",
        "model.compile(optimizer=\"rmsprop\", loss=\"mse\", metrics=[\"mae\"])\n",
        "history = model.fit(train_dataset,\n",
        "                    epochs=10,\n",
        "                    validation_data=val_dataset,\n",
        "                    callbacks=callbacks)"
      ],
      "metadata": {
        "colab": {
          "base_uri": "https://localhost:8080/"
        },
        "id": "v-l9BNkjpH2j",
        "outputId": "8a25a448-c979-44b7-f40a-40509b76c288"
      },
      "execution_count": null,
      "outputs": [
        {
          "output_type": "stream",
          "name": "stdout",
          "text": [
            "Epoch 1/10\n",
            "819/819 [==============================] - 39s 44ms/step - loss: 14.2943 - mae: 2.8986 - val_loss: 11.2514 - val_mae: 2.6333\n",
            "Epoch 2/10\n",
            "819/819 [==============================] - 36s 44ms/step - loss: 9.3794 - mae: 2.4141 - val_loss: 11.9693 - val_mae: 2.7285\n",
            "Epoch 3/10\n",
            "819/819 [==============================] - 34s 41ms/step - loss: 8.6635 - mae: 2.3247 - val_loss: 10.3698 - val_mae: 2.5424\n",
            "Epoch 4/10\n",
            "819/819 [==============================] - 44s 54ms/step - loss: 8.2291 - mae: 2.2641 - val_loss: 12.6281 - val_mae: 2.8261\n",
            "Epoch 5/10\n",
            "819/819 [==============================] - 35s 42ms/step - loss: 7.8949 - mae: 2.2201 - val_loss: 10.5359 - val_mae: 2.5744\n",
            "Epoch 6/10\n",
            "819/819 [==============================] - 35s 43ms/step - loss: 7.6307 - mae: 2.1827 - val_loss: 11.9893 - val_mae: 2.7387\n",
            "Epoch 7/10\n",
            "819/819 [==============================] - 34s 42ms/step - loss: 7.4301 - mae: 2.1548 - val_loss: 10.9238 - val_mae: 2.6221\n",
            "Epoch 8/10\n",
            "819/819 [==============================] - 45s 55ms/step - loss: 7.2410 - mae: 2.1269 - val_loss: 11.9544 - val_mae: 2.7384\n",
            "Epoch 9/10\n",
            "819/819 [==============================] - 34s 42ms/step - loss: 7.0912 - mae: 2.1038 - val_loss: 11.1707 - val_mae: 2.6550\n",
            "Epoch 10/10\n",
            "819/819 [==============================] - 36s 43ms/step - loss: 6.9607 - mae: 2.0848 - val_loss: 11.8103 - val_mae: 2.7158\n"
          ]
        }
      ]
    },
    {
      "cell_type": "markdown",
      "source": [
        "We assess the performance of the shallow neural network model on the test set. We achieve a MAE of 2.70, similar to that achieved by the common-sense baseline model."
      ],
      "metadata": {
        "id": "fVcmfffCsLxH"
      }
    },
    {
      "cell_type": "code",
      "source": [
        "model = keras.models.load_model(\"jena_dense.keras\")\n",
        "print(f\"Test MAE: {model.evaluate(test_dataset)[1]:.2f}\")"
      ],
      "metadata": {
        "colab": {
          "base_uri": "https://localhost:8080/"
        },
        "id": "W2JdYWRapSTB",
        "outputId": "9b636255-b26a-4fb1-90f8-338b3fc1e2aa"
      },
      "execution_count": null,
      "outputs": [
        {
          "output_type": "stream",
          "name": "stdout",
          "text": [
            "405/405 [==============================] - 20s 48ms/step - loss: 11.7003 - mae: 2.7088\n",
            "Test MAE: 2.71\n"
          ]
        }
      ]
    },
    {
      "cell_type": "code",
      "source": [
        "def plot_mae(history):\n",
        "    loss = history.history[\"mae\"]\n",
        "    val_loss = history.history[\"val_mae\"]\n",
        "    epochs = range(1, len(loss) + 1)\n",
        "    plt.figure()\n",
        "    plt.plot(epochs, loss, \"bo\", label=\"Training MAE\")\n",
        "    plt.plot(epochs, val_loss, \"b\", label=\"Validation MAE\")\n",
        "    plt.title(\"Training and validation MAE\")\n",
        "    plt.legend()\n",
        "    plt.show()"
      ],
      "metadata": {
        "id": "bxcCAcCusF12"
      },
      "execution_count": null,
      "outputs": []
    },
    {
      "cell_type": "code",
      "source": [
        "plot_mae(history)"
      ],
      "metadata": {
        "colab": {
          "base_uri": "https://localhost:8080/",
          "height": 452
        },
        "id": "6UHp0n36SLjc",
        "outputId": "5de28d4b-6369-4694-a32e-e2b48207db68"
      },
      "execution_count": null,
      "outputs": [
        {
          "output_type": "display_data",
          "data": {
            "text/plain": [
              "<Figure size 640x480 with 1 Axes>"
            ],
            "image/png": "[encoded data removed]"
          },
          "metadata": {}
        }
      ]
    },
    {
      "cell_type": "markdown",
      "source": [
        "## A 1D convolutional model\n",
        "The shallow neural network did not achieve a better result than the common-sense baseline so we try another model slightly more comlex than the shallow model: a one dimensional convolution. It works like the 2D convolution but only in one dimension. As for a 2D filter learnt by a convolution model the output of a 1D filter should not depend on the location on the sequence and be able to extract a pattern wherever it is. We start with a kernel (window) of 24 datapoints for the first layer and then we halve the window. The last layer contains only one unit and outputs a real value for the temperature. We use MaxPooling in the model to reduce the size of the feature maps but this operation destroys the time order information.  "
      ],
      "metadata": {
        "id": "DEbptDZYwPQC"
      }
    },
    {
      "cell_type": "code",
      "source": [
        "inputs = keras.Input(shape=(sequence_length, raw_data.shape[-1]))\n",
        "x = layers.Conv1D(8, 24, activation=\"relu\")(inputs)\n",
        "x = layers.MaxPooling1D(2)(x) # max pooling destroys the time information\n",
        "x = layers.Conv1D(8, 12, activation=\"relu\")(x)\n",
        "x = layers.MaxPooling1D(2)(x)\n",
        "x = layers.Conv1D(8, 6, activation=\"relu\")(x)\n",
        "x = layers.GlobalAveragePooling1D()(x)\n",
        "outputs = layers.Dense(1)(x)\n",
        "model = keras.Model(inputs, outputs)"
      ],
      "metadata": {
        "id": "8-f0c1vvs4yi"
      },
      "execution_count": null,
      "outputs": []
    },
    {
      "cell_type": "code",
      "source": [
        "callbacks = [\n",
        "   keras.callbacks.ModelCheckpoint(\"jena_conv.keras\", save_best_only=True)\n",
        "]\n",
        "\n",
        "model.compile(optimizer=\"rmsprop\", loss=\"mse\", metrics=[\"mae\"])\n",
        "history = model.fit(train_dataset,\n",
        "                    epochs=10,\n",
        "                    validation_data=val_dataset,\n",
        "                    callbacks=callbacks)"
      ],
      "metadata": {
        "colab": {
          "base_uri": "https://localhost:8080/"
        },
        "id": "osvtKpTPyM54",
        "outputId": "ef14bf86-c300-45df-c31f-406f2d6d87e4"
      },
      "execution_count": null,
      "outputs": [
        {
          "output_type": "stream",
          "name": "stdout",
          "text": [
            "Epoch 1/10\n",
            "819/819 [==============================] - 41s 47ms/step - loss: 32.6948 - mae: 4.2721 - val_loss: 16.3825 - val_mae: 3.1854\n",
            "Epoch 2/10\n",
            "819/819 [==============================] - 37s 45ms/step - loss: 16.4890 - mae: 3.2322 - val_loss: 20.2606 - val_mae: 3.5541\n",
            "Epoch 3/10\n",
            "819/819 [==============================] - 37s 44ms/step - loss: 14.8998 - mae: 3.0690 - val_loss: 14.9750 - val_mae: 3.0493\n",
            "Epoch 4/10\n",
            "819/819 [==============================] - 46s 56ms/step - loss: 14.1418 - mae: 2.9899 - val_loss: 15.9510 - val_mae: 3.1756\n",
            "Epoch 5/10\n",
            "819/819 [==============================] - 35s 43ms/step - loss: 13.5796 - mae: 2.9267 - val_loss: 15.7458 - val_mae: 3.1321\n",
            "Epoch 6/10\n",
            "819/819 [==============================] - 36s 44ms/step - loss: 13.0997 - mae: 2.8749 - val_loss: 15.1362 - val_mae: 3.0631\n",
            "Epoch 7/10\n",
            "819/819 [==============================] - 36s 43ms/step - loss: 12.7278 - mae: 2.8309 - val_loss: 15.3444 - val_mae: 3.0979\n",
            "Epoch 8/10\n",
            "819/819 [==============================] - 38s 45ms/step - loss: 12.3523 - mae: 2.7925 - val_loss: 17.8955 - val_mae: 3.3345\n",
            "Epoch 9/10\n",
            "819/819 [==============================] - 38s 46ms/step - loss: 12.0423 - mae: 2.7569 - val_loss: 15.7051 - val_mae: 3.1119\n",
            "Epoch 10/10\n",
            "819/819 [==============================] - 46s 56ms/step - loss: 11.7020 - mae: 2.7149 - val_loss: 17.2909 - val_mae: 3.2861\n"
          ]
        }
      ]
    },
    {
      "cell_type": "markdown",
      "source": [
        "The performance of the 1D convolution model  on the test set with a MAE of 3.27 is even worse than the shallow model."
      ],
      "metadata": {
        "id": "xihB8jea3Ofc"
      }
    },
    {
      "cell_type": "code",
      "source": [
        "model = keras.models.load_model(\"jena_conv.keras\")\n",
        "print(f\"Test MAE: {model.evaluate(test_dataset)[1]:.2f}\")"
      ],
      "metadata": {
        "colab": {
          "base_uri": "https://localhost:8080/"
        },
        "id": "tSAT_KD0zCSY",
        "outputId": "8bcf4d14-d2d7-4b26-ad65-d010746301a3"
      },
      "execution_count": null,
      "outputs": [
        {
          "output_type": "stream",
          "name": "stdout",
          "text": [
            "405/405 [==============================] - 13s 31ms/step - loss: 16.9380 - mae: 3.2730\n",
            "Test MAE: 3.27\n"
          ]
        }
      ]
    },
    {
      "cell_type": "markdown",
      "source": [
        "## A simple LSTM-based model\n",
        "We have seen two machine learning models that do not do better than the common-sense baseline model. That does not mean that a machine learning approach, and in particular those based on neural networks, cannot be used to deal with time series. The recurrent neural networks is a family of models specifically built to deal with time series."
      ],
      "metadata": {
        "id": "PJOF6zzo5kY0"
      }
    },
    {
      "cell_type": "code",
      "source": [
        "inputs = keras.Input(shape=(sequence_length, raw_data.shape[-1]))\n",
        "x = layers.LSTM(16)(inputs)\n",
        "outputs = layers.Dense(1)(x)\n",
        "model = keras.Model(inputs, outputs)"
      ],
      "metadata": {
        "id": "WNNQ5rUk3DYS"
      },
      "execution_count": null,
      "outputs": []
    },
    {
      "cell_type": "code",
      "source": [
        "callbacks = [\n",
        "    keras.callbacks.ModelCheckpoint(\"jena_lstm.keras\", save_best_only=True)\n",
        "]\n",
        "model.compile(optimizer=\"rmsprop\", loss=\"mse\", metrics=[\"mae\"])"
      ],
      "metadata": {
        "id": "rtrjyRzi73ZV"
      },
      "execution_count": null,
      "outputs": []
    },
    {
      "cell_type": "code",
      "source": [
        "history = model.fit(train_dataset,\n",
        "                    epochs=10,\n",
        "                    validation_data=val_dataset,\n",
        "                    callbacks=callbacks)"
      ],
      "metadata": {
        "colab": {
          "base_uri": "https://localhost:8080/"
        },
        "id": "ejb1QVXa8Arj",
        "outputId": "f868fc22-7d71-43b4-b008-174e8268179e"
      },
      "execution_count": null,
      "outputs": [
        {
          "output_type": "stream",
          "name": "stdout",
          "text": [
            "Epoch 1/10\n",
            "819/819 [==============================] - 52s 59ms/step - loss: 39.3599 - mae: 4.5635 - val_loss: 12.2199 - val_mae: 2.6685\n",
            "Epoch 2/10\n",
            "819/819 [==============================] - 38s 46ms/step - loss: 10.9466 - mae: 2.5709 - val_loss: 9.8048 - val_mae: 2.4393\n",
            "Epoch 3/10\n",
            "819/819 [==============================] - 37s 45ms/step - loss: 9.7262 - mae: 2.4278 - val_loss: 9.6489 - val_mae: 2.4089\n",
            "Epoch 4/10\n",
            "819/819 [==============================] - 38s 46ms/step - loss: 9.2089 - mae: 2.3591 - val_loss: 9.5964 - val_mae: 2.4095\n",
            "Epoch 5/10\n",
            "819/819 [==============================] - 40s 49ms/step - loss: 8.8479 - mae: 2.3136 - val_loss: 9.2948 - val_mae: 2.3652\n",
            "Epoch 6/10\n",
            "819/819 [==============================] - 40s 48ms/step - loss: 8.5750 - mae: 2.2820 - val_loss: 9.5389 - val_mae: 2.4011\n",
            "Epoch 7/10\n",
            "819/819 [==============================] - 39s 48ms/step - loss: 8.3733 - mae: 2.2570 - val_loss: 9.6826 - val_mae: 2.4112\n",
            "Epoch 8/10\n",
            "819/819 [==============================] - 39s 47ms/step - loss: 8.1953 - mae: 2.2330 - val_loss: 9.6157 - val_mae: 2.4230\n",
            "Epoch 9/10\n",
            "819/819 [==============================] - 39s 47ms/step - loss: 8.0292 - mae: 2.2102 - val_loss: 10.1287 - val_mae: 2.4716\n",
            "Epoch 10/10\n",
            "819/819 [==============================] - 38s 46ms/step - loss: 7.9366 - mae: 2.1979 - val_loss: 10.4391 - val_mae: 2.5024\n"
          ]
        }
      ]
    },
    {
      "cell_type": "markdown",
      "source": [
        "This time the model's performance is better than the baseline. It achieves a MAE of 2.51 against the 2.62 of the baseline. The reason why a recurrent model achieves a better result than the two fully connected and convolutional model is that these two models do not have memory. No information is kept about the state of the system being modeled after an input sequence has been seen. So the reasons why the fully connected and the convolutional model do not work when dealing with time series is twofold. The first reason is that they do not use information about the ordering of the data, and the second reason is that they do not have memory."
      ],
      "metadata": {
        "id": "Py1ZP97xBeNS"
      }
    },
    {
      "cell_type": "code",
      "source": [
        "model = keras.models.load_model(\"jena_lstm.keras\")\n",
        "print(f\"Test MAE: {model.evaluate(test_dataset)[1]:.2f}\")"
      ],
      "metadata": {
        "colab": {
          "base_uri": "https://localhost:8080/"
        },
        "id": "l0yol_zR8J2D",
        "outputId": "7f24b32f-0a00-480e-d6cf-44022a5b5b6a"
      },
      "execution_count": null,
      "outputs": [
        {
          "output_type": "stream",
          "name": "stdout",
          "text": [
            "405/405 [==============================] - 13s 29ms/step - loss: 10.4210 - mae: 2.5394\n",
            "Test MAE: 2.54\n"
          ]
        }
      ]
    },
    {
      "cell_type": "code",
      "source": [
        "plot_mae(history)"
      ],
      "metadata": {
        "colab": {
          "base_uri": "https://localhost:8080/",
          "height": 452
        },
        "id": "ElgLdmnaSXYd",
        "outputId": "f3c7daf0-aeda-4375-eeaa-d0bc25c1b46d"
      },
      "execution_count": null,
      "outputs": [
        {
          "output_type": "display_data",
          "data": {
            "text/plain": [
              "<Figure size 640x480 with 1 Axes>"
            ],
            "image/png": "[encoded data removed]"
          },
          "metadata": {}
        }
      ]
    },
    {
      "cell_type": "markdown",
      "source": [
        "## Recurrent neural networks\n",
        "The LSTM model that achieved a result better than the baseline is part of the recurrent neural network family models. These models are based on a recurrent connection that keeps the information about the state of the network simply by adding the output of the previous input to the input to produce the next output.\n",
        "\n",
        "![recurrent connection](https://github.com/luigiselmi/dl_tensorflow/blob/main/images/recurrent_connection.jpg?raw=1)\n",
        "\n",
        "Each sequence in a batch is processed recursively and not as one single data point. There are several ways to implement such recurrence and that is the reason why there exist many recurrent networks. An LSTM recurrent network can manage long sequences avoiding the *vanishing gradient* problem during training."
      ],
      "metadata": {
        "id": "hiabX2tQIOg5"
      }
    },
    {
      "cell_type": "markdown",
      "source": [
        "### Recurrent dropout to fight overfitting\n",
        "If we look at the loss and validation plot of our LSTM model we can see that the validation and the training loss diverge just after few epoch. This is a sign of overfitting. Keras implements a dropout layer that is specific for recurrent networks but the idea is the same as for the fully connected layers: reducing the number of parameters. In order to train the next model it is recommended to switch to a GPU runtime."
      ],
      "metadata": {
        "id": "zJvVn_QkTuKB"
      }
    },
    {
      "cell_type": "code",
      "source": [
        "inputs = keras.Input(shape=(sequence_length, raw_data.shape[-1]))\n",
        "x = layers.LSTM(32, recurrent_dropout=0.25)(inputs)\n",
        "x = layers.Dropout(0.5)(x)\n",
        "outputs = layers.Dense(1)(x)\n",
        "model = keras.Model(inputs, outputs)"
      ],
      "metadata": {
        "colab": {
          "base_uri": "https://localhost:8080/"
        },
        "id": "gahXXufFVtTS",
        "outputId": "7e23a746-1920-492c-c255-3b77b98fbfea"
      },
      "execution_count": null,
      "outputs": [
        {
          "output_type": "stream",
          "name": "stderr",
          "text": [
            "WARNING:tensorflow:Layer lstm_1 will not use cuDNN kernels since it doesn't meet the criteria. It will use a generic GPU kernel as fallback when running on GPU.\n"
          ]
        }
      ]
    },
    {
      "cell_type": "code",
      "source": [
        "callbacks = [\n",
        "    keras.callbacks.ModelCheckpoint(\"jena_lstm_dropout.keras\", save_best_only=True)\n",
        "]\n",
        "model.compile(optimizer=\"rmsprop\", loss=\"mse\", metrics=[\"mae\"])"
      ],
      "metadata": {
        "id": "4kuyapybVx_k"
      },
      "execution_count": null,
      "outputs": []
    },
    {
      "cell_type": "code",
      "source": [
        "history = model.fit(train_dataset,\n",
        "                    epochs=50,\n",
        "                    validation_data=val_dataset,\n",
        "                    callbacks=callbacks)"
      ],
      "metadata": {
        "colab": {
          "base_uri": "https://localhost:8080/"
        },
        "id": "ayPY4VGRV5SM",
        "outputId": "baa685bf-1412-456f-9995-26d24497568d"
      },
      "execution_count": null,
      "outputs": [
        {
          "output_type": "stream",
          "name": "stdout",
          "text": [
            "Epoch 1/50\n",
            "819/819 [==============================] - 278s 335ms/step - loss: 27.2474 - mae: 3.8458 - val_loss: 9.7146 - val_mae: 2.4225\n",
            "Epoch 2/50\n",
            "819/819 [==============================] - 278s 339ms/step - loss: 14.6275 - mae: 2.9664 - val_loss: 9.2523 - val_mae: 2.3629\n",
            "Epoch 3/50\n",
            "187/819 [=====>........................] - ETA: 3:15 - loss: 14.0334 - mae: 2.9029"
          ]
        }
      ]
    },
    {
      "cell_type": "markdown",
      "source": [],
      "metadata": {
        "id": "0wrI7vIZA1Ee"
      }
    }
  ]
}