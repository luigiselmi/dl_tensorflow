{
 "cells": [
  {
   "cell_type": "markdown",
   "id": "cdd34f72-3895-4620-bea1-f30a6ab7544b",
   "metadata": {},
   "source": [
    "# Deep Learning for text: transformers"
   ]
  },
  {
   "cell_type": "code",
   "execution_count": null,
   "id": "54cd7870-b816-48be-9df8-893ddc2a3c1e",
   "metadata": {},
   "outputs": [],
   "source": [
    "!pip install tensorflow==2.8"
   ]
  },
  {
   "cell_type": "code",
   "execution_count": null,
   "id": "9bfeea5d-a79f-4224-ac53-290b8b9f3609",
   "metadata": {},
   "outputs": [],
   "source": [
    "import tensorflow as tf\n",
    "import keras\n",
    "print('Tensorflow version: {}'.format(tf.__version__))\n",
    "print('Keras version: {}'.format(keras.__version__))"
   ]
  }
 ],
 "metadata": {
  "kernelspec": {
   "display_name": "Python 3 (ipykernel)",
   "language": "python",
   "name": "python3"
  },
  "language_info": {
   "codemirror_mode": {
    "name": "ipython",
    "version": 3
   },
   "file_extension": ".py",
   "mimetype": "text/x-python",
   "name": "python",
   "nbconvert_exporter": "python",
   "pygments_lexer": "ipython3",
   "version": "3.12.5"
  }
 },
 "nbformat": 4,
 "nbformat_minor": 5
}
