{
 "cells": [
  {
   "cell_type": "markdown",
   "id": "d509c04b-98dc-420a-a936-a4bd76057437",
   "metadata": {},
   "source": [
    "# Generative deep learning: deep dream"
   ]
  },
  {
   "cell_type": "code",
   "execution_count": null,
   "id": "db774544-fe7d-44b1-be0c-f28f815a1f2a",
   "metadata": {},
   "outputs": [],
   "source": [
    "!pip install tensorflow==2.8"
   ]
  },
  {
   "cell_type": "code",
   "execution_count": null,
   "id": "ac03f888-3ce7-427f-894d-364a4588e81b",
   "metadata": {},
   "outputs": [],
   "source": [
    "import tensorflow as tf\n",
    "import keras\n",
    "print('Tensorflow version: {}'.format(tf.__version__))\n",
    "print('Keras version: {}'.format(keras.__version__))"
   ]
  }
 ],
 "metadata": {
  "kernelspec": {
   "display_name": "Python 3 (ipykernel)",
   "language": "python",
   "name": "python3"
  },
  "language_info": {
   "codemirror_mode": {
    "name": "ipython",
    "version": 3
   },
   "file_extension": ".py",
   "mimetype": "text/x-python",
   "name": "python",
   "nbconvert_exporter": "python",
   "pygments_lexer": "ipython3",
   "version": "3.12.5"
  }
 },
 "nbformat": 4,
 "nbformat_minor": 5
}
