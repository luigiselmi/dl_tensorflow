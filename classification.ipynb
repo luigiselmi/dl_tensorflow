{
  "nbformat": 4,
  "nbformat_minor": 0,
  "metadata": {
    "colab": {
      "provenance": [],
      "authorship_tag": "ABX9TyPl3IEN5lA3L91IkYjBPaT3",
      "include_colab_link": true
    },
    "kernelspec": {
      "name": "python3",
      "display_name": "Python 3"
    },
    "language_info": {
      "name": "python"
    }
  },
  "cells": [
    {
      "cell_type": "markdown",
      "metadata": {
        "id": "view-in-github",
        "colab_type": "text"
      },
      "source": [
        "<a href=\"https://colab.research.google.com/github/luigiselmi/dl_tensorflow/blob/main/classification.ipynb\" target=\"_parent\"><img src=\"https://colab.research.google.com/assets/colab-badge.svg\" alt=\"Open In Colab\"/></a>"
      ]
    },
    {
      "cell_type": "markdown",
      "source": [
        "# Classification\n",
        "Classification, that is deciding the class membership of a datapoint depending on its attributes, is one of the main application of neural networks. As an example we will build a binary classifier to determine the type of review of movies based on the content: positive or negative. For this exercise we'll use the [IMDB dataset](https://ai.stanford.edu/~amaas/data/sentiment/), a set of 50k reviews divided in 25k for training and 25k for validation. Each dataset, train and validation, is split in 50% positive and 50% negative reviews. Each word in the reviews has been mapped into an integer value so that each review is represented by an array of integers in a vector space. The The dataset can be dowloaded directly through Tensorflow. We will use only the first 10k more frequent words. This allows us represent each review as a vector in a space of dimensionality 10k.\n"
      ],
      "metadata": {
        "id": "xBf3bmJm1php"
      }
    },
    {
      "cell_type": "code",
      "execution_count": 1,
      "metadata": {
        "colab": {
          "base_uri": "https://localhost:8080/"
        },
        "id": "gkp4lnFf1iTa",
        "outputId": "e8843b3e-4364-4f8d-bf41-b556a6f1c5f4"
      },
      "outputs": [
        {
          "output_type": "stream",
          "name": "stdout",
          "text": [
            "Downloading data from https://storage.googleapis.com/tensorflow/tf-keras-datasets/imdb.npz\n",
            "17464789/17464789 [==============================] - 0s 0us/step\n"
          ]
        }
      ],
      "source": [
        "from tensorflow.keras.datasets import imdb\n",
        "(train_data, train_labels), (test_data, test_labels) = imdb.load_data(num_words=10000)"
      ]
    },
    {
      "cell_type": "markdown",
      "source": [
        "Each review is represented as an array of integers from 0 to 9999."
      ],
      "metadata": {
        "id": "mHAC3FyRBEoz"
      }
    },
    {
      "cell_type": "code",
      "source": [
        "print(train_data[0][0:20])"
      ],
      "metadata": {
        "colab": {
          "base_uri": "https://localhost:8080/"
        },
        "id": "zGboMYLo7VyA",
        "outputId": "b6c72220-161e-4f8d-f46b-0e70e145145c"
      },
      "execution_count": 11,
      "outputs": [
        {
          "output_type": "stream",
          "name": "stdout",
          "text": [
            "[1, 14, 22, 16, 43, 530, 973, 1622, 1385, 65, 458, 4468, 66, 3941, 4, 173, 36, 256, 5, 25]\n"
          ]
        }
      ]
    },
    {
      "cell_type": "markdown",
      "source": [
        "We can revert the representation of a review from an array of integers back to a sequence of words using the dictionary"
      ],
      "metadata": {
        "id": "fTUviBUGDTzR"
      }
    },
    {
      "cell_type": "code",
      "source": [
        "word_index = imdb.get_word_index()\n",
        "reverse_word_index = dict([(value, key) for (key, value) in word_index.items()])\n",
        "decoded_review_0 = \" \".join([reverse_word_index.get(i - 3, \"?\") for i in train_data[0]])"
      ],
      "metadata": {
        "id": "rIwKan-JBlRl"
      },
      "execution_count": 18,
      "outputs": []
    },
    {
      "cell_type": "code",
      "source": [
        "len(decoded_review_0.split())"
      ],
      "metadata": {
        "colab": {
          "base_uri": "https://localhost:8080/"
        },
        "id": "pQZ8VEC_Cq3c",
        "outputId": "b4341974-8fdf-4dad-fb47-c11e9c4a25af"
      },
      "execution_count": 19,
      "outputs": [
        {
          "output_type": "execute_result",
          "data": {
            "text/plain": [
              "218"
            ]
          },
          "metadata": {},
          "execution_count": 19
        }
      ]
    },
    {
      "cell_type": "markdown",
      "source": [
        "The lenght of the array depends on the number of words in the review"
      ],
      "metadata": {
        "id": "K8KprFy8Bf4v"
      }
    },
    {
      "cell_type": "code",
      "source": [
        "len(train_data[0])"
      ],
      "metadata": {
        "colab": {
          "base_uri": "https://localhost:8080/"
        },
        "id": "6Tw2ThNSACGZ",
        "outputId": "7b71a2e1-fae0-4d3b-8693-beca1867ae60"
      },
      "execution_count": 12,
      "outputs": [
        {
          "output_type": "execute_result",
          "data": {
            "text/plain": [
              "218"
            ]
          },
          "metadata": {},
          "execution_count": 12
        }
      ]
    },
    {
      "cell_type": "markdown",
      "source": [
        "## Multi-hot encode\n",
        "The network accepts a batch of reviews all of the same size. One way to represent a review is to use the multi-hot encode for which each review is represented by the unique words in the dictionary that have been used at least once. For example if a review is represented by the array [2, 100, 564] we will use a multi-hot representation of dimensionality 10k setting the values at index 2, 100, and 564 to 1 and the rest left to its default value 0. The space of dimensionality 10k is called embedding space. We define a function to multi-hot encode the reviews  "
      ],
      "metadata": {
        "id": "V5wdyh9UE8C8"
      }
    },
    {
      "cell_type": "code",
      "source": [
        "import numpy as np\n",
        "def vectorize_sequences(sequences, dimension=10000):\n",
        "    results = np.zeros((len(sequences), dimension))\n",
        "    for i, sequence in enumerate(sequences):\n",
        "        for j in sequence:\n",
        "            results[i, j] = 1.\n",
        "    return results"
      ],
      "metadata": {
        "id": "QptNwwrYCznE"
      },
      "execution_count": 20,
      "outputs": []
    },
    {
      "cell_type": "code",
      "source": [
        "x_train = vectorize_sequences(train_data)\n",
        "x_test = vectorize_sequences(test_data)\n",
        "x_train.shape, x_test.shape"
      ],
      "metadata": {
        "colab": {
          "base_uri": "https://localhost:8080/"
        },
        "id": "h6cTAqtTKgwF",
        "outputId": "6ee56644-262a-455e-b00a-3ca77fc6538b"
      },
      "execution_count": 22,
      "outputs": [
        {
          "output_type": "execute_result",
          "data": {
            "text/plain": [
              "((25000, 10000), (25000, 10000))"
            ]
          },
          "metadata": {},
          "execution_count": 22
        }
      ]
    },
    {
      "cell_type": "code",
      "source": [
        "y_train = np.asarray(train_labels).astype('float32')\n",
        "y_test = np.asarray(test_labels).astype('float32')\n",
        "y_train.shape, y_test.shape"
      ],
      "metadata": {
        "colab": {
          "base_uri": "https://localhost:8080/"
        },
        "id": "HxtTKGk8KiP7",
        "outputId": "3b443f6c-1201-4631-b74b-29f62eafab08"
      },
      "execution_count": 23,
      "outputs": [
        {
          "output_type": "execute_result",
          "data": {
            "text/plain": [
              "((25000,), (25000,))"
            ]
          },
          "metadata": {},
          "execution_count": 23
        }
      ]
    },
    {
      "cell_type": "markdown",
      "source": [
        "## A binary classifier\n",
        "Learning how to classify an array between two classes can be solved using a stack of fully connected layers whose output will be 1 or 0. The question is how many layers and how many units in each layer. We can start with a network of three layers. The first two layers with 16 units and the [Rectified Linear Unit](https://en.wikipedia.org/wiki/Rectifier_(neural_networks)) (ReLU) activation function, and the last one with only one unit with the [sigmoid](https://en.wikipedia.org/wiki/Sigmoid_function) activation function. The layers with the ReLU activation function implement the function\n",
        "\n",
        "$$o = ReLU(Wx + b)$$\n",
        "\n",
        "where W represents the weights of the layer, that is a matrix of (10000 x 16) elements. The weight matrix W projects a vector from the input space into the representation space of dimensionality 16, much smaller than the input space. The sigmoid function maps an input value into an interval [0, 1] so that it can be interpreted as a probability for 0 or 1."
      ],
      "metadata": {
        "id": "4C9fCBrIP17Z"
      }
    },
    {
      "cell_type": "code",
      "source": [
        "from tensorflow import keras\n",
        "from tensorflow.keras import layers\n",
        "model = keras.Sequential([\n",
        "  layers.Dense(16, activation='relu'),\n",
        "  layers.Dense(16, activation='relu'),\n",
        "  layers.Dense(1, activation='sigmoid')\n",
        "])"
      ],
      "metadata": {
        "id": "ojUget8LPWw5"
      },
      "execution_count": 26,
      "outputs": []
    },
    {
      "cell_type": "markdown",
      "source": [
        "We have to choose the loss function and the optimizer. Since we are dealing with a binary classification we use the [binary crossentropy](https://en.wikipedia.org/wiki/Cross-entropy) loss function. In few words, we want to minimize the distance between the probability distributions of words in the input space and in the target space. For the optimizer we use [RMSprop](https://keras.io/api/optimizers/rmsprop/), similar to gradient descent."
      ],
      "metadata": {
        "id": "1K0b8JnEV50e"
      }
    },
    {
      "cell_type": "code",
      "source": [
        "model.compile(optimizer='rmsprop',\n",
        "              loss='binary_crossentropy',\n",
        "              metrics=['accuracy'])"
      ],
      "metadata": {
        "id": "rCUcvZ5wRL4H"
      },
      "execution_count": 27,
      "outputs": []
    },
    {
      "cell_type": "markdown",
      "source": [
        "We use 10k reviews for validation and the remaining 15k for training"
      ],
      "metadata": {
        "id": "OYK3inSdYvGr"
      }
    },
    {
      "cell_type": "code",
      "source": [
        "x_val = x_train[:10000]\n",
        "partial_x_train = x_train[10000:]\n",
        "y_val = y_train[:10000]\n",
        "partial_y_train = y_train[10000:]"
      ],
      "metadata": {
        "id": "Oej_y7O9YkvT"
      },
      "execution_count": 28,
      "outputs": []
    },
    {
      "cell_type": "markdown",
      "source": [
        "We train the model for 20 epochs"
      ],
      "metadata": {
        "id": "3mEU-ZbJZFne"
      }
    },
    {
      "cell_type": "code",
      "source": [
        "history = model.fit(partial_x_train,\n",
        "                    partial_y_train,\n",
        "                    epochs=20,\n",
        "                    batch_size=512,\n",
        "                    validation_data=(x_val, y_val))"
      ],
      "metadata": {
        "colab": {
          "base_uri": "https://localhost:8080/"
        },
        "id": "cRyASi85Y0MS",
        "outputId": "b54d80d1-e4c8-40b5-f7ca-9ca19434d262"
      },
      "execution_count": 29,
      "outputs": [
        {
          "output_type": "stream",
          "name": "stdout",
          "text": [
            "Epoch 1/20\n",
            "30/30 [==============================] - 7s 208ms/step - loss: 0.5580 - accuracy: 0.7567 - val_loss: 0.4356 - val_accuracy: 0.8577\n",
            "Epoch 2/20\n",
            "30/30 [==============================] - 2s 66ms/step - loss: 0.3576 - accuracy: 0.8902 - val_loss: 0.3328 - val_accuracy: 0.8833\n",
            "Epoch 3/20\n",
            "30/30 [==============================] - 1s 48ms/step - loss: 0.2599 - accuracy: 0.9167 - val_loss: 0.2950 - val_accuracy: 0.8870\n",
            "Epoch 4/20\n",
            "30/30 [==============================] - 2s 81ms/step - loss: 0.2093 - accuracy: 0.9331 - val_loss: 0.2833 - val_accuracy: 0.8866\n",
            "Epoch 5/20\n",
            "30/30 [==============================] - 2s 72ms/step - loss: 0.1759 - accuracy: 0.9420 - val_loss: 0.2923 - val_accuracy: 0.8825\n",
            "Epoch 6/20\n",
            "30/30 [==============================] - 1s 38ms/step - loss: 0.1532 - accuracy: 0.9510 - val_loss: 0.2833 - val_accuracy: 0.8840\n",
            "Epoch 7/20\n",
            "30/30 [==============================] - 1s 45ms/step - loss: 0.1274 - accuracy: 0.9621 - val_loss: 0.2892 - val_accuracy: 0.8870\n",
            "Epoch 8/20\n",
            "30/30 [==============================] - 1s 37ms/step - loss: 0.1122 - accuracy: 0.9657 - val_loss: 0.3076 - val_accuracy: 0.8789\n",
            "Epoch 9/20\n",
            "30/30 [==============================] - 1s 37ms/step - loss: 0.0972 - accuracy: 0.9721 - val_loss: 0.3142 - val_accuracy: 0.8840\n",
            "Epoch 10/20\n",
            "30/30 [==============================] - 2s 55ms/step - loss: 0.0844 - accuracy: 0.9766 - val_loss: 0.3465 - val_accuracy: 0.8735\n",
            "Epoch 11/20\n",
            "30/30 [==============================] - 2s 51ms/step - loss: 0.0716 - accuracy: 0.9821 - val_loss: 0.3427 - val_accuracy: 0.8826\n",
            "Epoch 12/20\n",
            "30/30 [==============================] - 1s 50ms/step - loss: 0.0624 - accuracy: 0.9852 - val_loss: 0.3620 - val_accuracy: 0.8804\n",
            "Epoch 13/20\n",
            "30/30 [==============================] - 2s 65ms/step - loss: 0.0512 - accuracy: 0.9895 - val_loss: 0.4201 - val_accuracy: 0.8664\n",
            "Epoch 14/20\n",
            "30/30 [==============================] - 2s 65ms/step - loss: 0.0451 - accuracy: 0.9903 - val_loss: 0.4113 - val_accuracy: 0.8718\n",
            "Epoch 15/20\n",
            "30/30 [==============================] - 2s 59ms/step - loss: 0.0382 - accuracy: 0.9926 - val_loss: 0.4474 - val_accuracy: 0.8669\n",
            "Epoch 16/20\n",
            "30/30 [==============================] - 1s 44ms/step - loss: 0.0310 - accuracy: 0.9943 - val_loss: 0.4571 - val_accuracy: 0.8723\n",
            "Epoch 17/20\n",
            "30/30 [==============================] - 2s 52ms/step - loss: 0.0266 - accuracy: 0.9961 - val_loss: 0.4608 - val_accuracy: 0.8750\n",
            "Epoch 18/20\n",
            "30/30 [==============================] - 1s 45ms/step - loss: 0.0213 - accuracy: 0.9980 - val_loss: 0.5281 - val_accuracy: 0.8619\n",
            "Epoch 19/20\n",
            "30/30 [==============================] - 1s 37ms/step - loss: 0.0186 - accuracy: 0.9980 - val_loss: 0.5937 - val_accuracy: 0.8559\n",
            "Epoch 20/20\n",
            "30/30 [==============================] - 1s 34ms/step - loss: 0.0154 - accuracy: 0.9990 - val_loss: 0.5288 - val_accuracy: 0.8723\n"
          ]
        }
      ]
    },
    {
      "cell_type": "code",
      "source": [
        "history_dict = history.history\n",
        "history_dict.keys()"
      ],
      "metadata": {
        "colab": {
          "base_uri": "https://localhost:8080/"
        },
        "id": "ncjj7tFqZO_S",
        "outputId": "610183ed-8654-4427-c95a-0c971a150349"
      },
      "execution_count": 30,
      "outputs": [
        {
          "output_type": "execute_result",
          "data": {
            "text/plain": [
              "dict_keys(['loss', 'accuracy', 'val_loss', 'val_accuracy'])"
            ]
          },
          "metadata": {},
          "execution_count": 30
        }
      ]
    },
    {
      "cell_type": "code",
      "source": [
        "import matplotlib.pyplot as plt\n",
        "history_dict = history.history\n",
        "loss_values = history_dict[\"loss\"]\n",
        "val_loss_values = history_dict[\"val_loss\"]\n",
        "epochs = range(1, len(loss_values) + 1)\n",
        "plt.plot(epochs, loss_values, \"bo\", label=\"Training loss\")\n",
        "plt.plot(epochs, val_loss_values, \"b\", label=\"Validation loss\")\n",
        "plt.title(\"Training and validation loss\")\n",
        "plt.xlabel(\"Epochs\")\n",
        "plt.ylabel(\"Loss\")\n",
        "plt.legend()\n",
        "plt.show()"
      ],
      "metadata": {
        "colab": {
          "base_uri": "https://localhost:8080/",
          "height": 472
        },
        "id": "2hsLwhXUZnsx",
        "outputId": "696ccab5-32cc-41cb-a944-8ed29483eb30"
      },
      "execution_count": 31,
      "outputs": [
        {
          "output_type": "display_data",
          "data": {
            "text/plain": [
              "<Figure size 640x480 with 1 Axes>"
            ],
            "image/png": "[encoded data removed]"
          },
          "metadata": {}
        }
      ]
    },
    {
      "cell_type": "code",
      "source": [
        "plt.clf()\n",
        "acc = history_dict[\"accuracy\"]\n",
        "val_acc = history_dict[\"val_accuracy\"]\n",
        "plt.plot(epochs, acc, \"bo\", label=\"Training acc\")\n",
        "plt.plot(epochs, val_acc, \"b\", label=\"Validation acc\")\n",
        "plt.title(\"Training and validation accuracy\")\n",
        "plt.xlabel(\"Epochs\")\n",
        "plt.ylabel(\"Accuracy\")\n",
        "plt.legend()\n",
        "plt.show()"
      ],
      "metadata": {
        "colab": {
          "base_uri": "https://localhost:8080/",
          "height": 472
        },
        "id": "bHTxtyd2akw1",
        "outputId": "2c0ffba9-67f9-406c-b783-376dc79e4524"
      },
      "execution_count": 32,
      "outputs": [
        {
          "output_type": "display_data",
          "data": {
            "text/plain": [
              "<Figure size 640x480 with 1 Axes>"
            ],
            "image/png": "[encoded data removed]"
          },
          "metadata": {}
        }
      ]
    },
    {
      "cell_type": "code",
      "source": [],
      "metadata": {
        "id": "34fBXmFTauMc"
      },
      "execution_count": null,
      "outputs": []
    }
  ]
}